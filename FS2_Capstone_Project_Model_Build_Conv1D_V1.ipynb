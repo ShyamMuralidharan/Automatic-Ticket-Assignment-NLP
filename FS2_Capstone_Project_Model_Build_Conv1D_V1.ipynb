{
 "cells": [
  {
   "cell_type": "markdown",
   "metadata": {
    "colab_type": "text",
    "id": "XOGDnlzvIINi"
   },
   "source": [
    "### Model Building "
   ]
  },
  {
   "cell_type": "code",
   "execution_count": 1,
   "metadata": {
    "colab": {},
    "colab_type": "code",
    "id": "x6viTKPwIINj"
   },
   "outputs": [
    {
     "name": "stderr",
     "output_type": "stream",
     "text": [
      "Using TensorFlow backend.\n"
     ]
    }
   ],
   "source": [
    "# Import all libraries\n",
    "import pandas as pd\n",
    "import numpy as np\n",
    "import matplotlib.pyplot as plt\n",
    "%matplotlib inline\n",
    "from tensorflow.keras.preprocessing.text import Tokenizer\n",
    "from tqdm import tqdm\n",
    "from sklearn.model_selection import train_test_split\n",
    "from tensorflow.keras.preprocessing.sequence import pad_sequences\n",
    "from tensorflow.keras.layers import Conv1D, MaxPooling1D,Layer,Dense, Input, LSTM, Embedding, Dropout, Activation, Flatten, Bidirectional, GlobalMaxPool1D, Add, RepeatVector, TimeDistributed,concatenate\n",
    "from tensorflow.keras.models import Model, Sequential\n",
    "from sklearn.preprocessing import OneHotEncoder\n",
    "from tensorflow.keras.callbacks import EarlyStopping, ReduceLROnPlateau\n",
    "import keras.backend as K\n",
    "from tensorflow.keras.optimizers import Adam \n",
    "from tensorflow.keras import regularizers\n",
    "#from tensorflow.compact.v1.keras.layers import Attention\n",
    "from imblearn.over_sampling import SMOTE\n",
    "from imblearn.under_sampling import NearMiss"
   ]
  },
  {
   "cell_type": "markdown",
   "metadata": {
    "colab": {
     "base_uri": "https://localhost:8080/",
     "height": 34
    },
    "colab_type": "code",
    "id": "LAZDn3XpIbxA",
    "outputId": "80fbc1ff-bd5a-4d8b-8620-dd6241818e3f"
   },
   "source": [
    "from google.colab import drive\n",
    "drive.mount('/content/drive')"
   ]
  },
  {
   "cell_type": "code",
   "execution_count": 2,
   "metadata": {
    "colab": {},
    "colab_type": "code",
    "id": "ONr3hvqNIINo"
   },
   "outputs": [],
   "source": [
    "df = pd.read_excel('processed_trimmed_data.xlsx',sheet_name='Sheet1',encoding=\"utf-8\",dtype=\"str\")"
   ]
  },
  {
   "cell_type": "code",
   "execution_count": 3,
   "metadata": {},
   "outputs": [],
   "source": [
    "df[\"new_group_56\"] = df[\"new_group_55\"].apply(lambda x: \"GRP_0\" if x == \"GRP_8\" else x)\n",
    "df1 = df[df[\"new_group_56\"]!=\"GRP_0\"]\n",
    "#df1 = df[df[\"new_group_56\"]!=\"GRP_9999\"]"
   ]
  },
  {
   "cell_type": "code",
   "execution_count": 4,
   "metadata": {},
   "outputs": [
    {
     "data": {
      "text/plain": [
       "GRP_0       3959\n",
       "GRP_9999    1270\n",
       "GRP_8        661\n",
       "GRP_24       289\n",
       "GRP_12       257\n",
       "GRP_9        252\n",
       "GRP_2        241\n",
       "GRP_19       214\n",
       "GRP_3        200\n",
       "GRP_6        184\n",
       "GRP_13       144\n",
       "GRP_10       139\n",
       "GRP_5        129\n",
       "GRP_14       118\n",
       "GRP_25       116\n",
       "GRP_33       107\n",
       "GRP_4        100\n",
       "Name: new_group_85, dtype: int64"
      ]
     },
     "execution_count": 4,
     "metadata": {},
     "output_type": "execute_result"
    }
   ],
   "source": [
    "df[\"new_group_85\"].value_counts()"
   ]
  },
  {
   "cell_type": "code",
   "execution_count": 44,
   "metadata": {},
   "outputs": [
    {
     "data": {
      "text/plain": [
       "GRP_0       4620\n",
       "GRP_9999    3760\n",
       "Name: new_group_56, dtype: int64"
      ]
     },
     "execution_count": 44,
     "metadata": {},
     "output_type": "execute_result"
    }
   ],
   "source": [
    "df[\"new_group_56\"].value_counts()"
   ]
  },
  {
   "cell_type": "code",
   "execution_count": 6,
   "metadata": {
    "colab": {},
    "colab_type": "code",
    "id": "AOQ8hatjIINq"
   },
   "outputs": [],
   "source": [
    "maxlen_s = 20\n",
    "maxlen_l = 40\n",
    "maxlen_combo = 100\n",
    "embedding_size = 200\n",
    "numword1 = 6000\n",
    "numword2 = 8000\n",
    "numword3 = 13000"
   ]
  },
  {
   "cell_type": "code",
   "execution_count": 7,
   "metadata": {
    "colab": {},
    "colab_type": "code",
    "id": "EJSapq5dIINs"
   },
   "outputs": [],
   "source": [
    "def prepare_token(data,numword):\n",
    "  t = Tokenizer(num_words=numword)\n",
    "  t.fit_on_texts(data)\n",
    "  print(\"Tokenization process...F1.2..\", len(t.word_index)) \n",
    "  return (t)"
   ]
  },
  {
   "cell_type": "code",
   "execution_count": 8,
   "metadata": {
    "colab": {},
    "colab_type": "code",
    "id": "nXb-1tM7aFc3"
   },
   "outputs": [],
   "source": [
    "class attention(Layer):\n",
    "    def __init__(self,**kwargs):\n",
    "        super(attention,self).__init__(**kwargs)\n",
    "\n",
    "    def build(self,input_shape):\n",
    "        self.W=self.add_weight(name=\"att_weight\",shape=(input_shape[-1],1),initializer=\"normal\")\n",
    "        self.b=self.add_weight(name=\"att_bias\",shape=(input_shape[1],1),initializer=\"zeros\")        \n",
    "        super(attention, self).build(input_shape)\n",
    "\n",
    "    def call(self,x):\n",
    "        et=K.squeeze(K.tanh(K.dot(x,self.W)+self.b),axis=-1)\n",
    "        at=K.softmax(et)\n",
    "        at=K.expand_dims(at,axis=-1)\n",
    "        output=x*at\n",
    "        return K.sum(output,axis=1)\n",
    "\n",
    "    def compute_output_shape(self,input_shape):\n",
    "        return (input_shape[0],input_shape[-1])\n",
    "\n",
    "    def get_config(self):\n",
    "        return super(attention,self).get_config()"
   ]
  },
  {
   "cell_type": "code",
   "execution_count": 9,
   "metadata": {},
   "outputs": [],
   "source": [
    "def Glv_model(data,t):\n",
    "  #print(\"Preparing GloVe vector...F1.3 .. token as input\", len(t.word_index))\n",
    "  embeddings = {}  \n",
    "  if len(embeddings)==0:\n",
    "    EMBEDDING_FILE = 'glove.6B.200d.txt'\n",
    "    embeddings = dict()\n",
    "    f = open(EMBEDDING_FILE,encoding='Latin-1')\n",
    "    for line in (f):\n",
    "        values = line.split()\n",
    "        word = values[0]\n",
    "        coefs = np.asarray(values[1:])\n",
    "        embeddings[word] = coefs\n",
    "    f.close()\n",
    "  print(\"Glove being used:\",len(embeddings))\n",
    "  \n",
    "  word_index = t.word_index\n",
    "  print(\"t.word_index shape\", len(t.word_index))  \n",
    "  embedding_matrix = np.zeros((t.num_words, embedding_size))\n",
    "  #print(\"Embedding Matrix Shape : \", embedding_matrix.shape )\n",
    "  for word, i in tqdm(word_index.items()):\n",
    "    if i < t.num_words:\n",
    "        embedding_vector = embeddings.get(word)\n",
    "        if embedding_vector is not None: \n",
    "            embedding_matrix[i] = embedding_vector\n",
    "            #if i < 2 : print(i,embedding_matrix[i])\n",
    "  return(embedding_matrix)"
   ]
  },
  {
   "cell_type": "code",
   "execution_count": 10,
   "metadata": {
    "colab": {
     "base_uri": "https://localhost:8080/",
     "height": 152
    },
    "colab_type": "code",
    "id": "VxoReVmtWtmE",
    "outputId": "9ddc46d2-c624-4ea1-9a1d-b59ea353291e"
   },
   "outputs": [
    {
     "name": "stdout",
     "output_type": "stream",
     "text": [
      "Tokenization process...F1.2.. 5809\n",
      "Tokenization process...F1.2.. 12988\n",
      "Tokenization process...F1.2.. 16808\n"
     ]
    },
    {
     "name": "stderr",
     "output_type": "stream",
     "text": [
      " 19%|█▉        | 1121/5809 [00:00<00:00, 10595.52it/s]"
     ]
    },
    {
     "name": "stdout",
     "output_type": "stream",
     "text": [
      "Glove being used: 399955\n",
      "t.word_index shape 5809\n"
     ]
    },
    {
     "name": "stderr",
     "output_type": "stream",
     "text": [
      "100%|██████████| 5809/5809 [00:00<00:00, 20022.56it/s]\n",
      "  9%|▉         | 1143/12988 [00:00<00:01, 11097.61it/s]"
     ]
    },
    {
     "name": "stdout",
     "output_type": "stream",
     "text": [
      "Glove being used: 399955\n",
      "t.word_index shape 12988\n"
     ]
    },
    {
     "name": "stderr",
     "output_type": "stream",
     "text": [
      "100%|██████████| 12988/12988 [00:00<00:00, 31404.42it/s]\n",
      "  7%|▋         | 1215/16808 [00:00<00:01, 11019.38it/s]"
     ]
    },
    {
     "name": "stdout",
     "output_type": "stream",
     "text": [
      "Glove being used: 399955\n",
      "t.word_index shape 16808\n"
     ]
    },
    {
     "name": "stderr",
     "output_type": "stream",
     "text": [
      "100%|██████████| 16808/16808 [00:00<00:00, 35470.62it/s]\n"
     ]
    }
   ],
   "source": [
    "#Tokenization and Embedding Process\n",
    "\n",
    "t1 = prepare_token(df[\"trimmed_words_short\"],numword1)\n",
    "t2 = prepare_token(df[\"trimmed_words_long\"],numword2)\n",
    "t3 = prepare_token(df[\"Caller\"]+\" \"+df[\"trimmed_words_short\"]+\" \"+df[\"trimmed_words_long\"],numword3)\n",
    "\n",
    "embedding_matrix1 = Glv_model(df[\"trimmed_words_short\"],t1)\n",
    "embedding_matrix2 = Glv_model(df[\"trimmed_words_long\"],t2)\n",
    "embedding_matrix3 = Glv_model(df[\"trimmed_words_short\"]+\" \"+df[\"trimmed_words_long\"],t3)\n",
    "\n"
   ]
  },
  {
   "cell_type": "code",
   "execution_count": 11,
   "metadata": {},
   "outputs": [
    {
     "data": {
      "text/plain": [
       "8380"
      ]
     },
     "execution_count": 11,
     "metadata": {},
     "output_type": "execute_result"
    }
   ],
   "source": [
    "len(df[\"trimmed_words_short\"]+\" \"+df[\"trimmed_words_long\"])"
   ]
  },
  {
   "cell_type": "code",
   "execution_count": 12,
   "metadata": {},
   "outputs": [
    {
     "name": "stdout",
     "output_type": "stream",
     "text": [
      "6000\n",
      "5809\n",
      "8000\n",
      "12988\n",
      "13000\n",
      "16808\n"
     ]
    }
   ],
   "source": [
    "print(t1.num_words)\n",
    "print(len(t1.word_counts))\n",
    "print(t2.num_words)\n",
    "print(len(t2.word_counts))\n",
    "print(t3.num_words)\n",
    "print(len(t3.word_counts))\n",
    "\n"
   ]
  },
  {
   "cell_type": "code",
   "execution_count": 13,
   "metadata": {
    "colab": {
     "base_uri": "https://localhost:8080/",
     "height": 85
    },
    "colab_type": "code",
    "id": "TNplXyXlhW09",
    "outputId": "b3c8fe79-0607-4dbb-a606-52e15dfe781e"
   },
   "outputs": [
    {
     "name": "stdout",
     "output_type": "stream",
     "text": [
      "X_train_s Shape :  (6704, 20)\n",
      "X_train_l Shape :  (6704, 40)\n",
      "X_train_combo Shape :  (6704, 100)\n",
      "y_train Shape :  (6704, 74)\n",
      "Group counts :  74 10 17 33\n"
     ]
    }
   ],
   "source": [
    "oversample = SMOTE()\n",
    "undersample = NearMiss()\n",
    "## Data Preparation\n",
    "X_short_t = t3.texts_to_sequences(df[\"trimmed_words_short\"])\n",
    "X_long_t = t3.texts_to_sequences(df[\"trimmed_words_long\"])\n",
    "X_combo_t = t3.texts_to_sequences(df[\"Caller\"]+\" \"+df[\"trimmed_words_short\"]+\" \"+df[\"trimmed_words_long\"])\n",
    "\n",
    "X_short = pad_sequences(X_short_t, maxlen=maxlen_s, padding = 'post', truncating = 'post')\n",
    "X_long = pad_sequences(X_long_t, maxlen=maxlen_l, padding = 'post', truncating = 'post')\n",
    "X_combo = pad_sequences(X_combo_t,maxlen= maxlen_combo, padding = 'post', truncating='post')\n",
    "\n",
    "X_short_u,y_u = undersample.fit_resample(X_short,df[\"new_group_75\"])\n",
    "X_short_o,y_o = oversample.fit_resample(X_short,df[\"new_group_75\"])\n",
    "\n",
    "onehot_encoder1 = OneHotEncoder(sparse=False)\n",
    "y = onehot_encoder1.fit_transform(np.array(df[\"Assignment group\"]).reshape(len(df[\"Assignment group\"]),1))\n",
    "onehot_encoder2 = OneHotEncoder(sparse=False)\n",
    "y_75 = onehot_encoder2.fit_transform(np.array(df[\"new_group_75\"]).reshape(len(df[\"new_group_75\"]),1))\n",
    "onehot_encoder3 = OneHotEncoder(sparse=False)\n",
    "y_85 = onehot_encoder3.fit_transform(np.array(df[\"new_group_85\"]).reshape(len(df[\"new_group_85\"]),1))\n",
    "onehot_encoder4 = OneHotEncoder(sparse=False)\n",
    "y_95 = onehot_encoder4.fit_transform(np.array(df[\"new_group_95\"]).reshape(len(df[\"new_group_95\"]),1))\n",
    "onehot_encoder5 = OneHotEncoder(sparse=False)\n",
    "y_55 = onehot_encoder5.fit_transform(np.array(df[\"new_group_55\"]).reshape(len(df[\"new_group_55\"]),1))\n",
    "onehot_encoder6 = OneHotEncoder(sparse=False)\n",
    "y_56 = onehot_encoder6.fit_transform(np.array(df[\"new_group_56\"]).reshape(len(df[\"new_group_56\"]),1))\n",
    "\n",
    "\n",
    "Groups = len(df[\"Assignment group\"].value_counts())\n",
    "Groups_75 = len(df[\"new_group_75\"].value_counts())\n",
    "Groups_85 = len(df[\"new_group_85\"].value_counts())\n",
    "Groups_95 = len(df[\"new_group_95\"].value_counts())\n",
    "\n",
    "# Split features into training and validation sets\n",
    "X_train_s, X_val_s, X_train_l,X_val_l,X_train_combo,X_val_combo, y_train, y_val,y_train_75,y_val_75,y_train_85,y_val_85,y_train_95,y_val_95,y_train_55,y_val_55,y_train_56,y_val_56 = train_test_split(X_short,X_long,X_combo,y,y_75,y_85,y_95,y_55,y_56, test_size=0.20, random_state=15)\n",
    "\n",
    "print(\"X_train_s Shape : \",X_train_s.shape)\n",
    "print(\"X_train_l Shape : \",X_train_l.shape)\n",
    "print(\"X_train_combo Shape : \",X_train_combo.shape)\n",
    "\n",
    "print(\"y_train Shape : \",y_train.shape)\n",
    "print(\"Group counts : \",Groups,Groups_75,Groups_85,Groups_95)\n"
   ]
  },
  {
   "cell_type": "code",
   "execution_count": 14,
   "metadata": {},
   "outputs": [],
   "source": [
    "onehot_encoder1 = OneHotEncoder(sparse=False)\n",
    "y_o = onehot_encoder1.fit_transform(np.array(y_o).reshape(len(y_o),1))\n",
    "onehot_encoder2 = OneHotEncoder(sparse=False)\n",
    "y_u = onehot_encoder2.fit_transform(np.array(y_u).reshape(len(y_u),1))"
   ]
  },
  {
   "cell_type": "code",
   "execution_count": 15,
   "metadata": {},
   "outputs": [
    {
     "data": {
      "text/plain": [
       "(array([147,  56,  47,   0,   0,   0,   0,   0,   0,   0,   0,   0,   0,\n",
       "          0,   0,   0,   0,   0,   0,   0]),\n",
       " array([  28,   58, 9289,  848,  544, 1069,   17,  580, 5604,    2,  303,\n",
       "         316,  451,    0,    0,    0,    0,    0,    0,    0,    0,    0,\n",
       "           0,    0,    0,    0,    0,    0,    0,    0,    0,    0,    0,\n",
       "           0,    0,    0,    0,    0,    0,    0]),\n",
       " 'outlook')"
      ]
     },
     "execution_count": 15,
     "metadata": {},
     "output_type": "execute_result"
    }
   ],
   "source": [
    "X_short[2],X_long[1],df[\"trimmed_words_short\"][1]"
   ]
  },
  {
   "cell_type": "code",
   "execution_count": 16,
   "metadata": {},
   "outputs": [
    {
     "data": {
      "text/plain": [
       "GRP_0       4620\n",
       "GRP_9999    3760\n",
       "Name: new_group_56, dtype: int64"
      ]
     },
     "execution_count": 16,
     "metadata": {},
     "output_type": "execute_result"
    }
   ],
   "source": [
    "df[\"new_group_56\"].value_counts()"
   ]
  },
  {
   "cell_type": "code",
   "execution_count": 19,
   "metadata": {
    "colab": {
     "base_uri": "https://localhost:8080/",
     "height": 626
    },
    "colab_type": "code",
    "id": "TSr3Zn2T1dlq",
    "outputId": "194c1ba2-488c-4129-f029-ac93a1f352d4"
   },
   "outputs": [
    {
     "name": "stdout",
     "output_type": "stream",
     "text": [
      "Tensor(\"1.0_Input_Layer_1:0\", shape=(?, 100), dtype=int32)\n",
      "Model: \"model_1\"\n",
      "_________________________________________________________________\n",
      "Layer (type)                 Output Shape              Param #   \n",
      "=================================================================\n",
      "1.0_Input_Layer (InputLayer) [(None, 100)]             0         \n",
      "_________________________________________________________________\n",
      "1.1_Embedding (Embedding)    (None, 100, 200)          2600000   \n",
      "_________________________________________________________________\n",
      "conv1d_1 (Conv1D)            (None, 100, 32)           19232     \n",
      "_________________________________________________________________\n",
      "max_pooling1d_1 (MaxPooling1 (None, 50, 32)            0         \n",
      "_________________________________________________________________\n",
      "1.2_Bidirectional (Bidirecti (None, 50, 256)           164864    \n",
      "_________________________________________________________________\n",
      "1.5_Flatten (Flatten)        (None, 12800)             0         \n",
      "_________________________________________________________________\n",
      "dropout_1 (Dropout)          (None, 12800)             0         \n",
      "_________________________________________________________________\n",
      "3.3_Dense (Dense)            (None, 10)                128010    \n",
      "=================================================================\n",
      "Total params: 2,912,106\n",
      "Trainable params: 2,912,106\n",
      "Non-trainable params: 0\n",
      "_________________________________________________________________\n"
     ]
    }
   ],
   "source": [
    "## Build the Model\n",
    "\n",
    "# Model with Short description..............\n",
    "short_desc_input = Input(shape=(maxlen_combo,), dtype='int32',name = \"1.0_Input_Layer\")\n",
    "print(short_desc_input)\n",
    "embedded_sequences = Embedding(t3.num_words, embedding_size, weights = [embedding_matrix3], trainable = True, name='1.1_Embedding')(short_desc_input)\n",
    "#embedded_sequences = Embedding(t3.num_words, embedding_size, trainable = True, name='1.1_Embedding')(short_desc_input)\n",
    "conv = Conv1D(32,3,activation = \"relu\", padding=\"same\")(embedded_sequences)\n",
    "maxpool = MaxPooling1D(pool_size=2)(conv)\n",
    "short_lstm = Bidirectional(LSTM(128, return_sequences=True, dropout=0.5 ),name = \"1.2_Bidirectional\")(maxpool)\n",
    "short_flatten = Flatten(name=\"1.5_Flatten\")(short_lstm)\n",
    "#description_vector = Dense(254, activation='relu',name = \"3.2_Dense\",\n",
    "#                          kernel_regularizer=regularizers.l1_l2(l1=0.001, l2=0.001))(short_flatten)\n",
    "droupout2 = Dropout(0.5)(short_flatten)\n",
    "preds = Dense(10, activation='sigmoid',name = \"3.3_Dense\")(droupout2)\n",
    "\n",
    "#Final model and compiling.................\n",
    "model = Model(short_desc_input, preds)\n",
    "model.compile(loss='categorical_crossentropy', optimizer=Adam(lr=0.001, beta_1=0.9, beta_2=0.999, decay=0.001), metrics=['acc', 'mse'])\n",
    "#model.compile(loss='categorical_crossentropy',optimizer='rmsprop',metrics=['acc'])\n",
    "model.summary()  \n"
   ]
  },
  {
   "cell_type": "code",
   "execution_count": 20,
   "metadata": {
    "colab": {
     "base_uri": "https://localhost:8080/",
     "height": 865
    },
    "colab_type": "code",
    "id": "T8DSZr4iZLR3",
    "outputId": "2e007391-eecb-44bf-ac15-6021a8831e3f",
    "scrolled": false
   },
   "outputs": [
    {
     "name": "stdout",
     "output_type": "stream",
     "text": [
      "Train on 6704 samples, validate on 1676 samples\n",
      "Epoch 1/50\n",
      "6704/6704 [==============================] - 194s 29ms/sample - loss: 1.1731 - acc: 0.6101 - mean_squared_error: 0.0754 - val_loss: 0.9820 - val_acc: 0.6539 - val_mean_squared_error: 0.0627\n",
      "Epoch 2/50\n",
      "6704/6704 [==============================] - 202s 30ms/sample - loss: 0.8689 - acc: 0.6982 - mean_squared_error: 0.0520 - val_loss: 0.8881 - val_acc: 0.6850 - val_mean_squared_error: 0.0546\n",
      "Epoch 3/50\n",
      "6704/6704 [==============================] - 195s 29ms/sample - loss: 0.7304 - acc: 0.7470 - mean_squared_error: 0.0486 - val_loss: 0.8305 - val_acc: 0.7082 - val_mean_squared_error: 0.0545\n",
      "Epoch 4/50\n",
      "6704/6704 [==============================] - 196s 29ms/sample - loss: 0.6324 - acc: 0.7831 - mean_squared_error: 0.0524 - val_loss: 0.8193 - val_acc: 0.7160 - val_mean_squared_error: 0.0586\n",
      "Epoch 5/50\n",
      "6704/6704 [==============================] - 199s 30ms/sample - loss: 0.5546 - acc: 0.8079 - mean_squared_error: 0.0551 - val_loss: 0.8471 - val_acc: 0.7172 - val_mean_squared_error: 0.0613\n",
      "Epoch 6/50\n",
      "6704/6704 [==============================] - 205s 31ms/sample - loss: 0.5115 - acc: 0.8168 - mean_squared_error: 0.0596 - val_loss: 0.8334 - val_acc: 0.7237 - val_mean_squared_error: 0.0665\n",
      "Epoch 7/50\n",
      "6704/6704 [==============================] - 204s 30ms/sample - loss: 0.4627 - acc: 0.8346 - mean_squared_error: 0.0605 - val_loss: 0.8657 - val_acc: 0.7184 - val_mean_squared_error: 0.0746\n",
      "Epoch 8/50\n",
      "6704/6704 [==============================] - 201s 30ms/sample - loss: 0.4208 - acc: 0.8476 - mean_squared_error: 0.0628 - val_loss: 0.8639 - val_acc: 0.7255 - val_mean_squared_error: 0.0692\n",
      "Epoch 9/50\n",
      "6704/6704 [==============================] - 210s 31ms/sample - loss: 0.4105 - acc: 0.8511 - mean_squared_error: 0.0618 - val_loss: 0.8723 - val_acc: 0.7261 - val_mean_squared_error: 0.0717\n",
      "Epoch 10/50\n",
      "6704/6704 [==============================] - 200s 30ms/sample - loss: 0.4002 - acc: 0.8570 - mean_squared_error: 0.0630 - val_loss: 0.8789 - val_acc: 0.7255 - val_mean_squared_error: 0.0713\n",
      "Epoch 11/50\n",
      "6704/6704 [==============================] - 198s 30ms/sample - loss: 0.4009 - acc: 0.8531 - mean_squared_error: 0.0634 - val_loss: 0.8749 - val_acc: 0.7237 - val_mean_squared_error: 0.0715\n",
      "Epoch 12/50\n",
      "6704/6704 [==============================] - 199s 30ms/sample - loss: 0.4010 - acc: 0.8538 - mean_squared_error: 0.0633 - val_loss: 0.8748 - val_acc: 0.7237 - val_mean_squared_error: 0.0716\n"
     ]
    }
   ],
   "source": [
    "# Run the model....\n",
    "reduce_lr = (ReduceLROnPlateau(monitor='val_acc', factor=0.2,\n",
    "                              patience=1, min_lr=0.00000001))\n",
    "early_stop = (EarlyStopping(monitor='val_acc', patience= 3))\n",
    "\n",
    "history = model.fit(X_train_combo, y_train_75, \n",
    "                    validation_data=[X_val_combo,y_val_75], \n",
    "                    epochs=50, batch_size=4,callbacks= ([reduce_lr,early_stop]), verbose = 1)"
   ]
  },
  {
   "cell_type": "code",
   "execution_count": 46,
   "metadata": {},
   "outputs": [
    {
     "name": "stdout",
     "output_type": "stream",
     "text": [
      "Tensor(\"1.0_Input_Layer_3:0\", shape=(?, 100), dtype=int32)\n",
      "Model: \"model_3\"\n",
      "_________________________________________________________________\n",
      "Layer (type)                 Output Shape              Param #   \n",
      "=================================================================\n",
      "1.0_Input_Layer (InputLayer) [(None, 100)]             0         \n",
      "_________________________________________________________________\n",
      "1.1_Embedding (Embedding)    (None, 100, 200)          2600000   \n",
      "_________________________________________________________________\n",
      "conv1d_3 (Conv1D)            (None, 100, 32)           19232     \n",
      "_________________________________________________________________\n",
      "max_pooling1d_3 (MaxPooling1 (None, 50, 32)            0         \n",
      "_________________________________________________________________\n",
      "1.2_Bidirectional (Bidirecti (None, 50, 256)           164864    \n",
      "_________________________________________________________________\n",
      "1.5_Flatten (Flatten)        (None, 12800)             0         \n",
      "_________________________________________________________________\n",
      "dropout_3 (Dropout)          (None, 12800)             0         \n",
      "_________________________________________________________________\n",
      "3.3_Dense (Dense)            (None, 2)                 25602     \n",
      "=================================================================\n",
      "Total params: 2,809,698\n",
      "Trainable params: 2,809,698\n",
      "Non-trainable params: 0\n",
      "_________________________________________________________________\n",
      "Train on 6704 samples, validate on 1676 samples\n",
      "Epoch 1/50\n",
      "6704/6704 [==============================] - 201s 30ms/sample - loss: 0.5136 - acc: 0.7427 - mean_squared_error: 0.1777 - val_loss: 0.4230 - val_acc: 0.7912 - val_mean_squared_error: 0.1423\n",
      "Epoch 2/50\n",
      "6704/6704 [==============================] - 202s 30ms/sample - loss: 0.3582 - acc: 0.8404 - mean_squared_error: 0.1134 - val_loss: 0.3801 - val_acc: 0.8156 - val_mean_squared_error: 0.1233\n",
      "Epoch 3/50\n",
      "6704/6704 [==============================] - 202s 30ms/sample - loss: 0.2771 - acc: 0.8832 - mean_squared_error: 0.0932 - val_loss: 0.3856 - val_acc: 0.8180 - val_mean_squared_error: 0.1304\n",
      "Epoch 4/50\n",
      "6704/6704 [==============================] - 203s 30ms/sample - loss: 0.2243 - acc: 0.9045 - mean_squared_error: 0.0869 - val_loss: 0.4219 - val_acc: 0.8126 - val_mean_squared_error: 0.1418\n",
      "Epoch 5/50\n",
      "6704/6704 [==============================] - 202s 30ms/sample - loss: 0.1841 - acc: 0.9256 - mean_squared_error: 0.0778 - val_loss: 0.4249 - val_acc: 0.8192 - val_mean_squared_error: 0.1481\n",
      "Epoch 6/50\n",
      "6704/6704 [==============================] - 203s 30ms/sample - loss: 0.1684 - acc: 0.9317 - mean_squared_error: 0.0840 - val_loss: 0.4419 - val_acc: 0.8174 - val_mean_squared_error: 0.1569\n",
      "Epoch 7/50\n",
      "6704/6704 [==============================] - 205s 31ms/sample - loss: 0.1663 - acc: 0.9312 - mean_squared_error: 0.0866 - val_loss: 0.4405 - val_acc: 0.8186 - val_mean_squared_error: 0.1587\n",
      "Epoch 8/50\n",
      "6704/6704 [==============================] - 204s 30ms/sample - loss: 0.1679 - acc: 0.9297 - mean_squared_error: 0.0878 - val_loss: 0.4405 - val_acc: 0.8180 - val_mean_squared_error: 0.1588\n"
     ]
    }
   ],
   "source": [
    "##Run the model.... with 56% classification we did \n",
    "## Build the Model\n",
    "\n",
    "# Model with Short description..............\n",
    "short_desc_input = Input(shape=(maxlen_combo,), dtype='int32',name = \"1.0_Input_Layer\")\n",
    "print(short_desc_input)\n",
    "embedded_sequences = Embedding(t3.num_words, embedding_size, weights = [embedding_matrix3], trainable = True, name='1.1_Embedding')(short_desc_input)\n",
    "#embedded_sequences = Embedding(t3.num_words, embedding_size, trainable = True, name='1.1_Embedding')(short_desc_input)\n",
    "conv = Conv1D(32,3,activation = \"relu\", padding=\"same\")(embedded_sequences)\n",
    "maxpool = MaxPooling1D(pool_size=2)(conv)\n",
    "short_lstm = Bidirectional(LSTM(128, return_sequences=True, dropout=0.5 ),name = \"1.2_Bidirectional\")(maxpool)\n",
    "short_flatten = Flatten(name=\"1.5_Flatten\")(short_lstm)\n",
    "#description_vector = Dense(254, activation='relu',name = \"3.2_Dense\",\n",
    "#                          kernel_regularizer=regularizers.l1_l2(l1=0.001, l2=0.001))(short_flatten)\n",
    "droupout2 = Dropout(0.5)(short_flatten)\n",
    "preds = Dense(2, activation='sigmoid',name = \"3.3_Dense\")(droupout2)\n",
    "\n",
    "#Final model and compiling.................\n",
    "model = Model(short_desc_input, preds)\n",
    "model.compile(loss='categorical_crossentropy', optimizer=Adam(lr=0.001, beta_1=0.9, beta_2=0.999, decay=0.001), metrics=['acc', 'mse'])\n",
    "#model.compile(loss='categorical_crossentropy',optimizer='rmsprop',metrics=['acc'])\n",
    "model.summary() \n",
    "\n",
    "# Run the model.... with 56% classification we did \n",
    "reduce_lr = (ReduceLROnPlateau(monitor='val_acc', factor=0.2,\n",
    "                              patience=1, min_lr=0.00000001))\n",
    "early_stop = (EarlyStopping(monitor='val_acc', patience= 3))\n",
    "\n",
    "history3 = model.fit(X_train_combo, y_train_56, \n",
    "                    validation_data=[X_val_combo,y_val_56], \n",
    "                    epochs=50, batch_size=4,callbacks= ([reduce_lr,early_stop]), verbose = 1)"
   ]
  },
  {
   "cell_type": "code",
   "execution_count": 47,
   "metadata": {},
   "outputs": [
    {
     "data": {
      "image/png": "[encoded data removed]",
      "text/plain": [
       "<Figure size 1080x432 with 3 Axes>"
      ]
     },
     "metadata": {
      "needs_background": "light"
     },
     "output_type": "display_data"
    }
   ],
   "source": [
    "fig = plt.figure(figsize = (15, 6))\n",
    "plt.subplot(1, 3, 1)\n",
    "plt.plot(history3.history['acc'], label='Train Acc')\n",
    "plt.plot(history3.history['val_acc'], label='Validation Acc')\n",
    "#print(\"\\n Data set : \"+D+\" & \"+T+\";  No of Output Groups: \"+str(Groups)+\" ; GloVe vector used : \"+glv+\"; Attention :\"+attention1)\n",
    "plt.title(\"Accuracy\")\n",
    "plt.legend()\n",
    "plt.grid()\n",
    "\n",
    "plt.subplot(1, 3, 2)\n",
    "plt.plot(history3.history['loss'], label='Train loss')\n",
    "plt.plot(history3.history['val_loss'], label='Validation loss')\n",
    "plt.title(\"Loss\")\n",
    "plt.legend()\n",
    "plt.grid()\n",
    "\n",
    "plt.subplot(1, 3, 3)\n",
    "plt.plot(history3.history['lr'], label='Learninig Rate')\n",
    "plt.title(\"Learning Rate\")\n",
    "plt.legend()\n",
    "plt.grid()\n",
    "\n",
    "\n",
    "plt.show()"
   ]
  },
  {
   "cell_type": "code",
   "execution_count": 48,
   "metadata": {},
   "outputs": [
    {
     "name": "stdout",
     "output_type": "stream",
     "text": [
      "Tensor(\"1.0_Input_Layer_4:0\", shape=(?, 100), dtype=int32)\n",
      "Model: \"model_4\"\n",
      "_________________________________________________________________\n",
      "Layer (type)                 Output Shape              Param #   \n",
      "=================================================================\n",
      "1.0_Input_Layer (InputLayer) [(None, 100)]             0         \n",
      "_________________________________________________________________\n",
      "1.1_Embedding (Embedding)    (None, 100, 200)          2600000   \n",
      "_________________________________________________________________\n",
      "conv1d_4 (Conv1D)            (None, 100, 32)           19232     \n",
      "_________________________________________________________________\n",
      "max_pooling1d_4 (MaxPooling1 (None, 50, 32)            0         \n",
      "_________________________________________________________________\n",
      "1.2_Bidirectional (Bidirecti (None, 50, 256)           164864    \n",
      "_________________________________________________________________\n",
      "1.5_Flatten (Flatten)        (None, 12800)             0         \n",
      "_________________________________________________________________\n",
      "dropout_4 (Dropout)          (None, 12800)             0         \n",
      "_________________________________________________________________\n",
      "3.3_Dense (Dense)            (None, 2)                 25602     \n",
      "=================================================================\n",
      "Total params: 2,809,698\n",
      "Trainable params: 209,698\n",
      "Non-trainable params: 2,600,000\n",
      "_________________________________________________________________\n",
      "Train on 6704 samples, validate on 1676 samples\n",
      "Epoch 1/50\n",
      "6704/6704 [==============================] - 196s 29ms/sample - loss: 0.5419 - acc: 0.7127 - mean_squared_error: 0.1881 - val_loss: 0.4584 - val_acc: 0.7643 - val_mean_squared_error: 0.1541\n",
      "Epoch 2/50\n",
      "6704/6704 [==============================] - 195s 29ms/sample - loss: 0.4568 - acc: 0.7773 - mean_squared_error: 0.1511 - val_loss: 0.4372 - val_acc: 0.7739 - val_mean_squared_error: 0.1460\n",
      "Epoch 3/50\n",
      "6704/6704 [==============================] - 196s 29ms/sample - loss: 0.4208 - acc: 0.7976 - mean_squared_error: 0.1384 - val_loss: 0.4261 - val_acc: 0.7774 - val_mean_squared_error: 0.1417\n",
      "Epoch 4/50\n",
      "6704/6704 [==============================] - 196s 29ms/sample - loss: 0.3975 - acc: 0.8077 - mean_squared_error: 0.1324 - val_loss: 0.4302 - val_acc: 0.7792 - val_mean_squared_error: 0.1442\n",
      "Epoch 5/50\n",
      "6704/6704 [==============================] - 197s 29ms/sample - loss: 0.3755 - acc: 0.8225 - mean_squared_error: 0.1292 - val_loss: 0.4380 - val_acc: 0.7757 - val_mean_squared_error: 0.1500\n",
      "Epoch 6/50\n",
      "6704/6704 [==============================] - 198s 29ms/sample - loss: 0.3552 - acc: 0.8382 - mean_squared_error: 0.1257 - val_loss: 0.4338 - val_acc: 0.7780 - val_mean_squared_error: 0.1491\n",
      "Epoch 7/50\n",
      "6704/6704 [==============================] - 199s 30ms/sample - loss: 0.3533 - acc: 0.8374 - mean_squared_error: 0.1268 - val_loss: 0.4332 - val_acc: 0.7810 - val_mean_squared_error: 0.1493\n",
      "Epoch 8/50\n",
      "6704/6704 [==============================] - 200s 30ms/sample - loss: 0.3487 - acc: 0.8408 - mean_squared_error: 0.1264 - val_loss: 0.4334 - val_acc: 0.7810 - val_mean_squared_error: 0.1495\n",
      "Epoch 9/50\n",
      "6704/6704 [==============================] - 195s 29ms/sample - loss: 0.3543 - acc: 0.8326 - mean_squared_error: 0.1275 - val_loss: 0.4333 - val_acc: 0.7810 - val_mean_squared_error: 0.1495\n",
      "Epoch 10/50\n",
      "6704/6704 [==============================] - 203s 30ms/sample - loss: 0.3487 - acc: 0.8368 - mean_squared_error: 0.1257 - val_loss: 0.4333 - val_acc: 0.7810 - val_mean_squared_error: 0.1495\n"
     ]
    },
    {
     "data": {
      "image/png": "[encoded data removed]",
      "text/plain": [
       "<Figure size 1080x432 with 3 Axes>"
      ]
     },
     "metadata": {
      "needs_background": "light"
     },
     "output_type": "display_data"
    }
   ],
   "source": [
    "##Run the model.... with 56% classification we did with trainable = Fase\n",
    "## Build the Model\n",
    "\n",
    "# Model with Short description..............\n",
    "short_desc_input = Input(shape=(maxlen_combo,), dtype='int32',name = \"1.0_Input_Layer\")\n",
    "print(short_desc_input)\n",
    "embedded_sequences = Embedding(t3.num_words, embedding_size, weights = [embedding_matrix3], trainable = False, name='1.1_Embedding')(short_desc_input)\n",
    "#embedded_sequences = Embedding(t3.num_words, embedding_size, trainable = True, name='1.1_Embedding')(short_desc_input)\n",
    "conv = Conv1D(32,3,activation = \"relu\", padding=\"same\")(embedded_sequences)\n",
    "maxpool = MaxPooling1D(pool_size=2)(conv)\n",
    "short_lstm = Bidirectional(LSTM(128, return_sequences=True, dropout=0.5 ),name = \"1.2_Bidirectional\")(maxpool)\n",
    "short_flatten = Flatten(name=\"1.5_Flatten\")(short_lstm)\n",
    "#description_vector = Dense(254, activation='relu',name = \"3.2_Dense\",\n",
    "#                          kernel_regularizer=regularizers.l1_l2(l1=0.001, l2=0.001))(short_flatten)\n",
    "droupout2 = Dropout(0.5)(short_flatten)\n",
    "preds = Dense(2, activation='sigmoid',name = \"3.3_Dense\")(droupout2)\n",
    "\n",
    "#Final model and compiling.................\n",
    "model = Model(short_desc_input, preds)\n",
    "model.compile(loss='categorical_crossentropy', optimizer=Adam(lr=0.001, beta_1=0.9, beta_2=0.999, decay=0.001), metrics=['acc', 'mse'])\n",
    "#model.compile(loss='categorical_crossentropy',optimizer='rmsprop',metrics=['acc'])\n",
    "model.summary() \n",
    "\n",
    "# Run the model.... with 56% classification we did \n",
    "reduce_lr = (ReduceLROnPlateau(monitor='val_acc', factor=0.2,\n",
    "                              patience=1, min_lr=0.00000001))\n",
    "early_stop = (EarlyStopping(monitor='val_acc', patience= 3))\n",
    "\n",
    "history3 = model.fit(X_train_combo, y_train_56, \n",
    "                    validation_data=[X_val_combo,y_val_56], \n",
    "                    epochs=50, batch_size=4,callbacks= ([reduce_lr,early_stop]), verbose = 1)\n",
    "\n",
    "fig = plt.figure(figsize = (15, 6))\n",
    "plt.subplot(1, 3, 1)\n",
    "plt.plot(history3.history['acc'], label='Train Acc')\n",
    "plt.plot(history3.history['val_acc'], label='Validation Acc')\n",
    "#print(\"\\n Data set : \"+D+\" & \"+T+\";  No of Output Groups: \"+str(Groups)+\" ; GloVe vector used : \"+glv+\"; Attention :\"+attention1)\n",
    "plt.title(\"Accuracy\")\n",
    "plt.legend()\n",
    "plt.grid()\n",
    "\n",
    "plt.subplot(1, 3, 2)\n",
    "plt.plot(history3.history['loss'], label='Train loss')\n",
    "plt.plot(history3.history['val_loss'], label='Validation loss')\n",
    "plt.title(\"Loss\")\n",
    "plt.legend()\n",
    "plt.grid()\n",
    "\n",
    "plt.subplot(1, 3, 3)\n",
    "plt.plot(history3.history['lr'], label='Learninig Rate')\n",
    "plt.title(\"Learning Rate\")\n",
    "plt.legend()\n",
    "plt.grid()\n",
    "\n",
    "\n",
    "plt.show()"
   ]
  },
  {
   "cell_type": "code",
   "execution_count": 49,
   "metadata": {},
   "outputs": [
    {
     "name": "stdout",
     "output_type": "stream",
     "text": [
      "[[684 148]\n",
      " [219 625]]\n",
      "              precision    recall  f1-score   support\n",
      "\n",
      "           0       0.76      0.82      0.79       832\n",
      "           1       0.81      0.74      0.77       844\n",
      "\n",
      "    accuracy                           0.78      1676\n",
      "   macro avg       0.78      0.78      0.78      1676\n",
      "weighted avg       0.78      0.78      0.78      1676\n",
      "\n"
     ]
    }
   ],
   "source": [
    "y_pred = model.predict(X_val_combo)\n",
    "a = np.argmax(y_pred,axis = 1)\n",
    "b = np.argmax(y_val_56,axis = 1)\n",
    "print(confusion_matrix(a,b))\n",
    "print(classification_report(a,b))"
   ]
  },
  {
   "cell_type": "code",
   "execution_count": 29,
   "metadata": {},
   "outputs": [
    {
     "name": "stdout",
     "output_type": "stream",
     "text": [
      "Tensor(\"1.0_Input_Layer_2:0\", shape=(?, 100), dtype=int32)\n",
      "Model: \"model_2\"\n",
      "_________________________________________________________________\n",
      "Layer (type)                 Output Shape              Param #   \n",
      "=================================================================\n",
      "1.0_Input_Layer (InputLayer) [(None, 100)]             0         \n",
      "_________________________________________________________________\n",
      "1.1_Embedding (Embedding)    (None, 100, 200)          2600000   \n",
      "_________________________________________________________________\n",
      "conv1d_2 (Conv1D)            (None, 100, 32)           19232     \n",
      "_________________________________________________________________\n",
      "max_pooling1d_2 (MaxPooling1 (None, 50, 32)            0         \n",
      "_________________________________________________________________\n",
      "1.2_Bidirectional (Bidirecti (None, 50, 256)           164864    \n",
      "_________________________________________________________________\n",
      "1.5_Flatten (Flatten)        (None, 12800)             0         \n",
      "_________________________________________________________________\n",
      "dropout_2 (Dropout)          (None, 12800)             0         \n",
      "_________________________________________________________________\n",
      "3.3_Dense (Dense)            (None, 10)                128010    \n",
      "=================================================================\n",
      "Total params: 2,912,106\n",
      "Trainable params: 312,106\n",
      "Non-trainable params: 2,600,000\n",
      "_________________________________________________________________\n"
     ]
    }
   ],
   "source": [
    "## Build the Model with the Trainable Parameter False\n",
    "\n",
    "# Model with Short description..............\n",
    "short_desc_input = Input(shape=(maxlen_combo,), dtype='int32',name = \"1.0_Input_Layer\")\n",
    "print(short_desc_input)\n",
    "embedded_sequences = Embedding(t3.num_words, embedding_size, weights = [embedding_matrix3], trainable = False, name='1.1_Embedding')(short_desc_input)\n",
    "#embedded_sequences = Embedding(t3.num_words, embedding_size, trainable = True, name='1.1_Embedding')(short_desc_input)\n",
    "conv = Conv1D(32,3,activation = \"relu\", padding=\"same\")(embedded_sequences)\n",
    "maxpool = MaxPooling1D(pool_size=2)(conv)\n",
    "short_lstm = Bidirectional(LSTM(128, return_sequences=True, dropout=0.5 ),name = \"1.2_Bidirectional\")(maxpool)\n",
    "short_flatten = Flatten(name=\"1.5_Flatten\")(short_lstm)\n",
    "#description_vector = Dense(254, activation='relu',name = \"3.2_Dense\",\n",
    "#                          kernel_regularizer=regularizers.l1_l2(l1=0.001, l2=0.001))(short_flatten)\n",
    "droupout2 = Dropout(0.5)(short_flatten)\n",
    "preds = Dense(10, activation='sigmoid',name = \"3.3_Dense\")(droupout2)\n",
    "\n",
    "#Final model and compiling.................\n",
    "model1 = Model(short_desc_input, preds)\n",
    "model1.compile(loss='categorical_crossentropy', optimizer=Adam(lr=0.001, beta_1=0.9, beta_2=0.999, decay=0.001), metrics=['acc', 'mse'])\n",
    "#model.compile(loss='categorical_crossentropy',optimizer='rmsprop',metrics=['acc'])\n",
    "model1.summary()  \n"
   ]
  },
  {
   "cell_type": "code",
   "execution_count": 30,
   "metadata": {},
   "outputs": [
    {
     "name": "stdout",
     "output_type": "stream",
     "text": [
      "Train on 6704 samples, validate on 1676 samples\n",
      "Epoch 1/50\n",
      "6704/6704 [==============================] - 196s 29ms/sample - loss: 1.1944 - acc: 0.5961 - mean_squared_error: 0.0690 - val_loss: 1.0019 - val_acc: 0.6665 - val_mean_squared_error: 0.0575\n",
      "Epoch 2/50\n",
      "6704/6704 [==============================] - 194s 29ms/sample - loss: 0.9727 - acc: 0.6608 - mean_squared_error: 0.0562 - val_loss: 0.9382 - val_acc: 0.6671 - val_mean_squared_error: 0.0585\n",
      "Epoch 3/50\n",
      "6704/6704 [==============================] - 196s 29ms/sample - loss: 0.8896 - acc: 0.6854 - mean_squared_error: 0.0535 - val_loss: 0.8992 - val_acc: 0.6856 - val_mean_squared_error: 0.0600\n",
      "Epoch 4/50\n",
      "6704/6704 [==============================] - 195s 29ms/sample - loss: 0.8476 - acc: 0.6939 - mean_squared_error: 0.0548 - val_loss: 0.8822 - val_acc: 0.6939 - val_mean_squared_error: 0.0575\n",
      "Epoch 5/50\n",
      "6704/6704 [==============================] - 196s 29ms/sample - loss: 0.8150 - acc: 0.7103 - mean_squared_error: 0.0548 - val_loss: 0.8821 - val_acc: 0.6993 - val_mean_squared_error: 0.0578\n",
      "Epoch 6/50\n",
      "6704/6704 [==============================] - 197s 29ms/sample - loss: 0.7907 - acc: 0.7200 - mean_squared_error: 0.0561 - val_loss: 0.8732 - val_acc: 0.6975 - val_mean_squared_error: 0.0583\n",
      "Epoch 7/50\n",
      "6704/6704 [==============================] - 201s 30ms/sample - loss: 0.7631 - acc: 0.7188 - mean_squared_error: 0.0555 - val_loss: 0.8685 - val_acc: 0.6987 - val_mean_squared_error: 0.0586\n",
      "Epoch 8/50\n",
      "6704/6704 [==============================] - 202s 30ms/sample - loss: 0.7518 - acc: 0.7290 - mean_squared_error: 0.0559 - val_loss: 0.8694 - val_acc: 0.6981 - val_mean_squared_error: 0.0588\n"
     ]
    }
   ],
   "source": [
    "# Run the model....\n",
    "reduce_lr = (ReduceLROnPlateau(monitor='val_acc', factor=0.2,\n",
    "                              patience=1, min_lr=0.00000001))\n",
    "early_stop = (EarlyStopping(monitor='val_acc', patience= 3))\n",
    "\n",
    "history1 = model1.fit(X_train_combo, y_train_75, \n",
    "                    validation_data=[X_val_combo,y_val_75], \n",
    "                    epochs=50, batch_size=4,callbacks= ([reduce_lr,early_stop]), verbose = 1)"
   ]
  },
  {
   "cell_type": "code",
   "execution_count": 36,
   "metadata": {},
   "outputs": [],
   "source": [
    "y_pred = model1.predict(X_val_combo)"
   ]
  },
  {
   "cell_type": "code",
   "execution_count": 37,
   "metadata": {},
   "outputs": [],
   "source": [
    "a = np.argmax(y_pred,axis = 1)\n",
    "b = np.argmax(y_val_75,axis = 1)"
   ]
  },
  {
   "cell_type": "code",
   "execution_count": 38,
   "metadata": {},
   "outputs": [],
   "source": [
    "from sklearn.metrics import * "
   ]
  },
  {
   "cell_type": "code",
   "execution_count": 39,
   "metadata": {},
   "outputs": [
    {
     "name": "stdout",
     "output_type": "stream",
     "text": [
      "[[715  14  23  20   8  26   0   1   4 106]\n",
      " [  0  23   0   2   1   0   0   2   0  16]\n",
      " [  1   0   4   0   0   3   0   0   0   0]\n",
      " [  0   0   0  13   0   0   0   0   0   7]\n",
      " [  1   1   2   0  28   3   0   1   0   4]\n",
      " [  4   0   2   0   0   5   0   0   0   1]\n",
      " [  0   0   0   0   0   0   1   0   0   0]\n",
      " [  0   1   0   0   0   0  32 120  36  46]\n",
      " [  0   0   0   0   0   0   0   0   0   0]\n",
      " [ 51  10  12  21   9  11   9   7   8 261]]\n"
     ]
    }
   ],
   "source": [
    "print(confusion_matrix(a,b))"
   ]
  },
  {
   "cell_type": "code",
   "execution_count": 40,
   "metadata": {},
   "outputs": [
    {
     "name": "stdout",
     "output_type": "stream",
     "text": [
      "              precision    recall  f1-score   support\n",
      "\n",
      "           0       0.93      0.78      0.85       917\n",
      "           1       0.47      0.52      0.49        44\n",
      "           2       0.09      0.50      0.16         8\n",
      "           3       0.23      0.65      0.34        20\n",
      "           4       0.61      0.70      0.65        40\n",
      "           5       0.10      0.42      0.17        12\n",
      "           6       0.02      1.00      0.05         1\n",
      "           7       0.92      0.51      0.66       235\n",
      "           8       0.00      0.00      0.00         0\n",
      "           9       0.59      0.65      0.62       399\n",
      "\n",
      "    accuracy                           0.70      1676\n",
      "   macro avg       0.40      0.57      0.40      1676\n",
      "weighted avg       0.81      0.70      0.74      1676\n",
      "\n"
     ]
    },
    {
     "name": "stderr",
     "output_type": "stream",
     "text": [
      "C:\\Users\\deppr\\.conda\\envs\\gpu_v2\\lib\\site-packages\\sklearn\\metrics\\_classification.py:1221: UndefinedMetricWarning: Recall and F-score are ill-defined and being set to 0.0 in labels with no true samples. Use `zero_division` parameter to control this behavior.\n",
      "  _warn_prf(average, modifier, msg_start, len(result))\n"
     ]
    }
   ],
   "source": [
    "print(classification_report(a,b))"
   ]
  },
  {
   "cell_type": "code",
   "execution_count": 41,
   "metadata": {},
   "outputs": [
    {
     "data": {
      "text/plain": [
       "[array(['GRP_0', 'GRP_12', 'GRP_19', 'GRP_2', 'GRP_24', 'GRP_3', 'GRP_6',\n",
       "        'GRP_8', 'GRP_9', 'GRP_9999'], dtype=object)]"
      ]
     },
     "execution_count": 41,
     "metadata": {},
     "output_type": "execute_result"
    }
   ],
   "source": [
    "onehot_encoder2.categories_"
   ]
  },
  {
   "cell_type": "code",
   "execution_count": 42,
   "metadata": {
    "colab": {},
    "colab_type": "code",
    "id": "x_wu8MN1IIN1"
   },
   "outputs": [
    {
     "data": {
      "image/png": "[encoded data removed]",
      "text/plain": [
       "<Figure size 1080x432 with 3 Axes>"
      ]
     },
     "metadata": {
      "needs_background": "light"
     },
     "output_type": "display_data"
    }
   ],
   "source": [
    "fig = plt.figure(figsize = (15, 6))\n",
    "plt.subplot(1, 3, 1)\n",
    "plt.plot(history.history['acc'], label='Train Acc')\n",
    "plt.plot(history.history['val_acc'], label='Validation Acc')\n",
    "#print(\"\\n Data set : \"+D+\" & \"+T+\";  No of Output Groups: \"+str(Groups)+\" ; GloVe vector used : \"+glv+\"; Attention :\"+attention1)\n",
    "plt.title(\"Accuracy\")\n",
    "plt.legend()\n",
    "plt.grid()\n",
    "\n",
    "plt.subplot(1, 3, 2)\n",
    "plt.plot(history.history['loss'], label='Train loss')\n",
    "plt.plot(history.history['val_loss'], label='Validation loss')\n",
    "plt.title(\"Loss\")\n",
    "plt.legend()\n",
    "plt.grid()\n",
    "\n",
    "plt.subplot(1, 3, 3)\n",
    "plt.plot(history.history['lr'], label='Learninig Rate')\n",
    "plt.title(\"Learning Rate\")\n",
    "plt.legend()\n",
    "plt.grid()\n",
    "\n",
    "\n",
    "plt.show()"
   ]
  }
 ],
 "metadata": {
  "accelerator": "GPU",
  "colab": {
   "collapsed_sections": [],
   "name": "Capstone_Project_Model_Build_V8.ipynb",
   "provenance": []
  },
  "kernelspec": {
   "display_name": "Python 3",
   "language": "python",
   "name": "python3"
  },
  "language_info": {
   "codemirror_mode": {
    "name": "ipython",
    "version": 3
   },
   "file_extension": ".py",
   "mimetype": "text/x-python",
   "name": "python",
   "nbconvert_exporter": "python",
   "pygments_lexer": "ipython3",
   "version": "3.7.6"
  }
 },
 "nbformat": 4,
 "nbformat_minor": 1
}
