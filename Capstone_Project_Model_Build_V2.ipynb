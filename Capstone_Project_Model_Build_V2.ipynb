{
  "nbformat": 4,
  "nbformat_minor": 0,
  "metadata": {
    "accelerator": "GPU",
    "colab": {
      "name": "Capstone_Project_Model_Build_V2.ipynb",
      "provenance": [],
      "include_colab_link": true
    },
    "kernelspec": {
      "display_name": "Python 3",
      "language": "python",
      "name": "python3"
    },
    "language_info": {
      "codemirror_mode": {
        "name": "ipython",
        "version": 3
      },
      "file_extension": ".py",
      "mimetype": "text/x-python",
      "name": "python",
      "nbconvert_exporter": "python",
      "pygments_lexer": "ipython3",
      "version": "3.7.6"
    }
  },
  "cells": [
    {
      "cell_type": "markdown",
      "metadata": {
        "id": "view-in-github",
        "colab_type": "text"
      },
      "source": [
        "<a href=\"https://colab.research.google.com/github/ShyamMuralidharan/Automatic-Ticket-Assignment-NLP/blob/Model-Build/Capstone_Project_Model_Build_V2.ipynb\" target=\"_parent\"><img src=\"https://colab.research.google.com/assets/colab-badge.svg\" alt=\"Open In Colab\"/></a>"
      ]
    },
    {
      "cell_type": "code",
      "metadata": {
        "id": "srLhoeQHM6db",
        "colab_type": "code",
        "outputId": "08a94445-db39-49ad-fb5d-4d978be557f1",
        "colab": {
          "base_uri": "https://localhost:8080/",
          "height": 52
        }
      },
      "source": [
        "# Import all libraries\n",
        "import pandas as pd\n",
        "import numpy as np\n",
        "import matplotlib.pyplot as plt\n",
        "%matplotlib inline\n",
        "import seaborn as sns\n",
        "import re\n",
        "from tensorflow.keras.preprocessing.text import Tokenizer\n",
        "from nltk.corpus import stopwords \n",
        "import nltk\n",
        "nltk.download('stopwords')\n",
        "stop_words = set(stopwords.words(\"english\")) "
      ],
      "execution_count": 196,
      "outputs": [
        {
          "output_type": "stream",
          "text": [
            "[nltk_data] Downloading package stopwords to /root/nltk_data...\n",
            "[nltk_data]   Package stopwords is already up-to-date!\n"
          ],
          "name": "stdout"
        }
      ]
    },
    {
      "cell_type": "code",
      "metadata": {
        "id": "WoqCGfPjc894",
        "colab_type": "code",
        "colab": {}
      },
      "source": [
        "from sklearn.model_selection import train_test_split\n",
        "%tensorflow_version 2.x\n",
        "import tensorflow\n",
        "tensorflow.__version__\n",
        "from tensorflow import keras\n",
        "from keras.layers import InputLayer\n",
        "from tensorflow.python.keras.layers import Dense, GRU,Embedding,LSTM, Input, Dropout, Activation, Flatten, Bidirectional, GlobalMaxPool1D,TimeDistributed\n",
        "from tensorflow.python.keras.layers import Dropout\n",
        "from keras.preprocessing.sequence import pad_sequences\n",
        "from tensorflow.keras.models import Model, Sequential\n",
        "from sklearn.preprocessing import LabelEncoder\n",
        "from sklearn.preprocessing import OneHotEncoder\n",
        "\n"
      ],
      "execution_count": 0,
      "outputs": []
    },
    {
      "cell_type": "code",
      "metadata": {
        "id": "gWqJqTK9NgxJ",
        "colab_type": "code",
        "outputId": "60424bba-3e60-4c9b-af9e-da1059d8dea8",
        "colab": {
          "base_uri": "https://localhost:8080/",
          "height": 35
        }
      },
      "source": [
        "from google.colab import drive\n",
        "drive.mount('/content/drive')"
      ],
      "execution_count": 198,
      "outputs": [
        {
          "output_type": "stream",
          "text": [
            "Mounted at /content/drive\n"
          ],
          "name": "stdout"
        }
      ]
    },
    {
      "cell_type": "code",
      "metadata": {
        "colab_type": "code",
        "id": "5YBuEG6nuxjz",
        "outputId": "c46c6fdc-bf2c-420e-8278-d7a943b8adbf",
        "colab": {
          "base_uri": "https://localhost:8080/",
          "height": 35
        }
      },
      "source": [
        "#### Use when running through google collab\n",
        "from google.colab import drive\n",
        "drive.mount('/drive', force_remount=True)"
      ],
      "execution_count": 199,
      "outputs": [
        {
          "output_type": "stream",
          "text": [
            "Mounted at /drive\n"
          ],
          "name": "stdout"
        }
      ]
    },
    {
      "cell_type": "code",
      "metadata": {
        "colab_type": "code",
        "id": "lsP4yarwv_L4",
        "colab": {}
      },
      "source": [
        "# Please note that this Dataset has 4 more extra columns to identify the language and transilate to English\n",
        "# Tried this transilation in Python using googletrans API but there is limitation on the numbers of calls, hence \n",
        "# googl sheets was used \n",
        "df = pd.read_excel(r'/drive/My Drive/Python Files/Capstone Project/processed_trimmed_data.xlsx',sheet_name='Sheet1',encoding=\"utf-8\",dtype=\"str\")"
      ],
      "execution_count": 0,
      "outputs": []
    },
    {
      "cell_type": "code",
      "metadata": {
        "id": "7fjCoO7BvY_W",
        "colab_type": "code",
        "outputId": "edc37c57-e94f-4997-9083-43ec713b84f9",
        "colab": {
          "base_uri": "https://localhost:8080/",
          "height": 243
        }
      },
      "source": [
        "df.info()"
      ],
      "execution_count": 201,
      "outputs": [
        {
          "output_type": "stream",
          "text": [
            "<class 'pandas.core.frame.DataFrame'>\n",
            "RangeIndex: 8379 entries, 0 to 8378\n",
            "Data columns (total 6 columns):\n",
            " #   Column               Non-Null Count  Dtype \n",
            "---  ------               --------------  ----- \n",
            " 0   trimmed_words_short  8374 non-null   object\n",
            " 1   trimmed_words_long   8313 non-null   object\n",
            " 2   Assignment group     8379 non-null   object\n",
            " 3   new_group_75         8379 non-null   object\n",
            " 4   new_group_85         8379 non-null   object\n",
            " 5   new_group_95         8379 non-null   object\n",
            "dtypes: object(6)\n",
            "memory usage: 392.9+ KB\n"
          ],
          "name": "stdout"
        }
      ]
    },
    {
      "cell_type": "code",
      "metadata": {
        "id": "S4L0RP2SM6dq",
        "colab_type": "code",
        "outputId": "2b14a934-9560-4c30-e514-a367f9182f93",
        "colab": {
          "base_uri": "https://localhost:8080/",
          "height": 139
        }
      },
      "source": [
        "df.dtypes"
      ],
      "execution_count": 202,
      "outputs": [
        {
          "output_type": "execute_result",
          "data": {
            "text/plain": [
              "trimmed_words_short    object\n",
              "trimmed_words_long     object\n",
              "Assignment group       object\n",
              "new_group_75           object\n",
              "new_group_85           object\n",
              "new_group_95           object\n",
              "dtype: object"
            ]
          },
          "metadata": {
            "tags": []
          },
          "execution_count": 202
        }
      ]
    },
    {
      "cell_type": "code",
      "metadata": {
        "id": "xyXPmxJEm4db",
        "colab_type": "code",
        "outputId": "48c62363-33e4-49e0-e2e6-fd4508e03591",
        "colab": {
          "base_uri": "https://localhost:8080/",
          "height": 202
        }
      },
      "source": [
        "df.head()"
      ],
      "execution_count": 203,
      "outputs": [
        {
          "output_type": "execute_result",
          "data": {
            "text/html": [
              "<div>\n",
              "<style scoped>\n",
              "    .dataframe tbody tr th:only-of-type {\n",
              "        vertical-align: middle;\n",
              "    }\n",
              "\n",
              "    .dataframe tbody tr th {\n",
              "        vertical-align: top;\n",
              "    }\n",
              "\n",
              "    .dataframe thead th {\n",
              "        text-align: right;\n",
              "    }\n",
              "</style>\n",
              "<table border=\"1\" class=\"dataframe\">\n",
              "  <thead>\n",
              "    <tr style=\"text-align: right;\">\n",
              "      <th></th>\n",
              "      <th>trimmed_words_short</th>\n",
              "      <th>trimmed_words_long</th>\n",
              "      <th>Assignment group</th>\n",
              "      <th>new_group_75</th>\n",
              "      <th>new_group_85</th>\n",
              "      <th>new_group_95</th>\n",
              "    </tr>\n",
              "  </thead>\n",
              "  <tbody>\n",
              "    <tr>\n",
              "      <th>0</th>\n",
              "      <td>login issue</td>\n",
              "      <td>verified user detailsemployee manager name che...</td>\n",
              "      <td>GRP_0</td>\n",
              "      <td>GRP_0</td>\n",
              "      <td>GRP_0</td>\n",
              "      <td>GRP_0</td>\n",
              "    </tr>\n",
              "    <tr>\n",
              "      <th>1</th>\n",
              "      <td>outlook</td>\n",
              "      <td>hello team meetingsskype meetings etc appearin...</td>\n",
              "      <td>GRP_0</td>\n",
              "      <td>GRP_0</td>\n",
              "      <td>GRP_0</td>\n",
              "      <td>GRP_0</td>\n",
              "    </tr>\n",
              "    <tr>\n",
              "      <th>2</th>\n",
              "      <td>cant log vpn</td>\n",
              "      <td>hi cannot log vpn best</td>\n",
              "      <td>GRP_0</td>\n",
              "      <td>GRP_0</td>\n",
              "      <td>GRP_0</td>\n",
              "      <td>GRP_0</td>\n",
              "    </tr>\n",
              "    <tr>\n",
              "      <th>3</th>\n",
              "      <td>unable access hrtool page</td>\n",
              "      <td>unable access hrtool page</td>\n",
              "      <td>GRP_0</td>\n",
              "      <td>GRP_0</td>\n",
              "      <td>GRP_0</td>\n",
              "      <td>GRP_0</td>\n",
              "    </tr>\n",
              "    <tr>\n",
              "      <th>4</th>\n",
              "      <td>skype error</td>\n",
              "      <td>skype error</td>\n",
              "      <td>GRP_0</td>\n",
              "      <td>GRP_0</td>\n",
              "      <td>GRP_0</td>\n",
              "      <td>GRP_0</td>\n",
              "    </tr>\n",
              "  </tbody>\n",
              "</table>\n",
              "</div>"
            ],
            "text/plain": [
              "         trimmed_words_short  ... new_group_95\n",
              "0                login issue  ...        GRP_0\n",
              "1                    outlook  ...        GRP_0\n",
              "2               cant log vpn  ...        GRP_0\n",
              "3  unable access hrtool page  ...        GRP_0\n",
              "4                skype error  ...        GRP_0\n",
              "\n",
              "[5 rows x 6 columns]"
            ]
          },
          "metadata": {
            "tags": []
          },
          "execution_count": 203
        }
      ]
    },
    {
      "cell_type": "code",
      "metadata": {
        "id": "CdTDzCZXM6dt",
        "colab_type": "code",
        "outputId": "653ce5c7-af20-4332-d22d-36e5b6fe126e",
        "colab": {
          "base_uri": "https://localhost:8080/",
          "height": 171
        }
      },
      "source": [
        "df.describe()"
      ],
      "execution_count": 204,
      "outputs": [
        {
          "output_type": "execute_result",
          "data": {
            "text/html": [
              "<div>\n",
              "<style scoped>\n",
              "    .dataframe tbody tr th:only-of-type {\n",
              "        vertical-align: middle;\n",
              "    }\n",
              "\n",
              "    .dataframe tbody tr th {\n",
              "        vertical-align: top;\n",
              "    }\n",
              "\n",
              "    .dataframe thead th {\n",
              "        text-align: right;\n",
              "    }\n",
              "</style>\n",
              "<table border=\"1\" class=\"dataframe\">\n",
              "  <thead>\n",
              "    <tr style=\"text-align: right;\">\n",
              "      <th></th>\n",
              "      <th>trimmed_words_short</th>\n",
              "      <th>trimmed_words_long</th>\n",
              "      <th>Assignment group</th>\n",
              "      <th>new_group_75</th>\n",
              "      <th>new_group_85</th>\n",
              "      <th>new_group_95</th>\n",
              "    </tr>\n",
              "  </thead>\n",
              "  <tbody>\n",
              "    <tr>\n",
              "      <th>count</th>\n",
              "      <td>8374</td>\n",
              "      <td>8313</td>\n",
              "      <td>8379</td>\n",
              "      <td>8379</td>\n",
              "      <td>8379</td>\n",
              "      <td>8379</td>\n",
              "    </tr>\n",
              "    <tr>\n",
              "      <th>unique</th>\n",
              "      <td>6097</td>\n",
              "      <td>6499</td>\n",
              "      <td>74</td>\n",
              "      <td>10</td>\n",
              "      <td>18</td>\n",
              "      <td>34</td>\n",
              "    </tr>\n",
              "    <tr>\n",
              "      <th>top</th>\n",
              "      <td>job job failed jobscheduler</td>\n",
              "      <td>job job failed jobscheduler</td>\n",
              "      <td>GRP_0</td>\n",
              "      <td>GRP_0</td>\n",
              "      <td>GRP_0</td>\n",
              "      <td>GRP_0</td>\n",
              "    </tr>\n",
              "    <tr>\n",
              "      <th>freq</th>\n",
              "      <td>438</td>\n",
              "      <td>428</td>\n",
              "      <td>3958</td>\n",
              "      <td>3958</td>\n",
              "      <td>3958</td>\n",
              "      <td>3958</td>\n",
              "    </tr>\n",
              "  </tbody>\n",
              "</table>\n",
              "</div>"
            ],
            "text/plain": [
              "                  trimmed_words_short  ... new_group_95\n",
              "count                            8374  ...         8379\n",
              "unique                           6097  ...           34\n",
              "top     job job failed jobscheduler    ...        GRP_0\n",
              "freq                              438  ...         3958\n",
              "\n",
              "[4 rows x 6 columns]"
            ]
          },
          "metadata": {
            "tags": []
          },
          "execution_count": 204
        }
      ]
    },
    {
      "cell_type": "code",
      "metadata": {
        "id": "LwwKQuyw_0c_",
        "colab_type": "code",
        "outputId": "fd9f3f4b-f1c9-4686-e8eb-3062bb0cf4a9",
        "colab": {
          "base_uri": "https://localhost:8080/",
          "height": 110
        }
      },
      "source": [
        "#Confirm that there are no null values in the data set.  This is achieved by using the isnull() function and value counts.\n",
        "df_null = df.isnull()\n",
        "df_null.apply(pd.value_counts)"
      ],
      "execution_count": 205,
      "outputs": [
        {
          "output_type": "execute_result",
          "data": {
            "text/html": [
              "<div>\n",
              "<style scoped>\n",
              "    .dataframe tbody tr th:only-of-type {\n",
              "        vertical-align: middle;\n",
              "    }\n",
              "\n",
              "    .dataframe tbody tr th {\n",
              "        vertical-align: top;\n",
              "    }\n",
              "\n",
              "    .dataframe thead th {\n",
              "        text-align: right;\n",
              "    }\n",
              "</style>\n",
              "<table border=\"1\" class=\"dataframe\">\n",
              "  <thead>\n",
              "    <tr style=\"text-align: right;\">\n",
              "      <th></th>\n",
              "      <th>trimmed_words_short</th>\n",
              "      <th>trimmed_words_long</th>\n",
              "      <th>Assignment group</th>\n",
              "      <th>new_group_75</th>\n",
              "      <th>new_group_85</th>\n",
              "      <th>new_group_95</th>\n",
              "    </tr>\n",
              "  </thead>\n",
              "  <tbody>\n",
              "    <tr>\n",
              "      <th>False</th>\n",
              "      <td>8374</td>\n",
              "      <td>8313</td>\n",
              "      <td>8379.0</td>\n",
              "      <td>8379.0</td>\n",
              "      <td>8379.0</td>\n",
              "      <td>8379.0</td>\n",
              "    </tr>\n",
              "    <tr>\n",
              "      <th>True</th>\n",
              "      <td>5</td>\n",
              "      <td>66</td>\n",
              "      <td>NaN</td>\n",
              "      <td>NaN</td>\n",
              "      <td>NaN</td>\n",
              "      <td>NaN</td>\n",
              "    </tr>\n",
              "  </tbody>\n",
              "</table>\n",
              "</div>"
            ],
            "text/plain": [
              "       trimmed_words_short  trimmed_words_long  ...  new_group_85  new_group_95\n",
              "False                 8374                8313  ...        8379.0        8379.0\n",
              "True                     5                  66  ...           NaN           NaN\n",
              "\n",
              "[2 rows x 6 columns]"
            ]
          },
          "metadata": {
            "tags": []
          },
          "execution_count": 205
        }
      ]
    },
    {
      "cell_type": "code",
      "metadata": {
        "id": "0Ff9g8ZgdonE",
        "colab_type": "code",
        "colab": {}
      },
      "source": [
        "#Confirm that there are no null values in the data set.  This is achieved by using the isnull() function and value counts.\n",
        "df_null = df.isnull()\n",
        "df_allnull = df.loc[df_null['trimmed_words_short']==True]+df.loc[df_null['trimmed_words_long']==True]"
      ],
      "execution_count": 0,
      "outputs": []
    },
    {
      "cell_type": "code",
      "metadata": {
        "id": "bDR79hcCy1hO",
        "colab_type": "code",
        "outputId": "3deac377-cb62-41fc-b345-9fb5870d6f45",
        "colab": {
          "base_uri": "https://localhost:8080/",
          "height": 202
        }
      },
      "source": [
        "rows = df_allnull.any(axis=1)\n",
        "df.iloc[rows.index].head()\n",
        "#rows.index"
      ],
      "execution_count": 207,
      "outputs": [
        {
          "output_type": "execute_result",
          "data": {
            "text/html": [
              "<div>\n",
              "<style scoped>\n",
              "    .dataframe tbody tr th:only-of-type {\n",
              "        vertical-align: middle;\n",
              "    }\n",
              "\n",
              "    .dataframe tbody tr th {\n",
              "        vertical-align: top;\n",
              "    }\n",
              "\n",
              "    .dataframe thead th {\n",
              "        text-align: right;\n",
              "    }\n",
              "</style>\n",
              "<table border=\"1\" class=\"dataframe\">\n",
              "  <thead>\n",
              "    <tr style=\"text-align: right;\">\n",
              "      <th></th>\n",
              "      <th>trimmed_words_short</th>\n",
              "      <th>trimmed_words_long</th>\n",
              "      <th>Assignment group</th>\n",
              "      <th>new_group_75</th>\n",
              "      <th>new_group_85</th>\n",
              "      <th>new_group_95</th>\n",
              "    </tr>\n",
              "  </thead>\n",
              "  <tbody>\n",
              "    <tr>\n",
              "      <th>701</th>\n",
              "      <td>printer prtqx wont print anyone office</td>\n",
              "      <td>NaN</td>\n",
              "      <td>GRP_3</td>\n",
              "      <td>GRP_3</td>\n",
              "      <td>GRP_3</td>\n",
              "      <td>GRP_3</td>\n",
              "    </tr>\n",
              "    <tr>\n",
              "      <th>1041</th>\n",
              "      <td>reset passwords soldfnbq uhnbsvqd using passwo...</td>\n",
              "      <td>NaN</td>\n",
              "      <td>GRP_17</td>\n",
              "      <td>GRP_9999</td>\n",
              "      <td>GRP_9999</td>\n",
              "      <td>GRP_17</td>\n",
              "    </tr>\n",
              "    <tr>\n",
              "      <th>1046</th>\n",
              "      <td>reset passwords fygrwuna gomcekzi using passwo...</td>\n",
              "      <td>NaN</td>\n",
              "      <td>GRP_17</td>\n",
              "      <td>GRP_9999</td>\n",
              "      <td>GRP_9999</td>\n",
              "      <td>GRP_17</td>\n",
              "    </tr>\n",
              "    <tr>\n",
              "      <th>1135</th>\n",
              "      <td>reset passwords wvdxnkhf jirecvta using passwo...</td>\n",
              "      <td>NaN</td>\n",
              "      <td>GRP_17</td>\n",
              "      <td>GRP_9999</td>\n",
              "      <td>GRP_9999</td>\n",
              "      <td>GRP_17</td>\n",
              "    </tr>\n",
              "    <tr>\n",
              "      <th>1174</th>\n",
              "      <td>reset passwords pxvjczdt kizsjfpq using passwo...</td>\n",
              "      <td>NaN</td>\n",
              "      <td>GRP_17</td>\n",
              "      <td>GRP_9999</td>\n",
              "      <td>GRP_9999</td>\n",
              "      <td>GRP_17</td>\n",
              "    </tr>\n",
              "  </tbody>\n",
              "</table>\n",
              "</div>"
            ],
            "text/plain": [
              "                                    trimmed_words_short  ... new_group_95\n",
              "701              printer prtqx wont print anyone office  ...        GRP_3\n",
              "1041  reset passwords soldfnbq uhnbsvqd using passwo...  ...       GRP_17\n",
              "1046  reset passwords fygrwuna gomcekzi using passwo...  ...       GRP_17\n",
              "1135  reset passwords wvdxnkhf jirecvta using passwo...  ...       GRP_17\n",
              "1174  reset passwords pxvjczdt kizsjfpq using passwo...  ...       GRP_17\n",
              "\n",
              "[5 rows x 6 columns]"
            ]
          },
          "metadata": {
            "tags": []
          },
          "execution_count": 207
        }
      ]
    },
    {
      "cell_type": "code",
      "metadata": {
        "id": "kaDC-qvafksI",
        "colab_type": "code",
        "colab": {}
      },
      "source": [
        "df['trimmed_words_short'] = df['trimmed_words_short'].fillna(df['trimmed_words_long'])\n",
        "df['trimmed_words_long'] = df['trimmed_words_long'].fillna(df['trimmed_words_short'])"
      ],
      "execution_count": 0,
      "outputs": []
    },
    {
      "cell_type": "code",
      "metadata": {
        "id": "4qW17xZLvOcn",
        "colab_type": "code",
        "outputId": "5fab958c-721e-42cf-d687-72ca68ace0ec",
        "colab": {
          "base_uri": "https://localhost:8080/",
          "height": 79
        }
      },
      "source": [
        "#Confirm that there are no null values in the data set.  This is achieved by using the isnull() function and value counts.\n",
        "df_null = df.isnull()\n",
        "df_null.apply(pd.value_counts)"
      ],
      "execution_count": 209,
      "outputs": [
        {
          "output_type": "execute_result",
          "data": {
            "text/html": [
              "<div>\n",
              "<style scoped>\n",
              "    .dataframe tbody tr th:only-of-type {\n",
              "        vertical-align: middle;\n",
              "    }\n",
              "\n",
              "    .dataframe tbody tr th {\n",
              "        vertical-align: top;\n",
              "    }\n",
              "\n",
              "    .dataframe thead th {\n",
              "        text-align: right;\n",
              "    }\n",
              "</style>\n",
              "<table border=\"1\" class=\"dataframe\">\n",
              "  <thead>\n",
              "    <tr style=\"text-align: right;\">\n",
              "      <th></th>\n",
              "      <th>trimmed_words_short</th>\n",
              "      <th>trimmed_words_long</th>\n",
              "      <th>Assignment group</th>\n",
              "      <th>new_group_75</th>\n",
              "      <th>new_group_85</th>\n",
              "      <th>new_group_95</th>\n",
              "    </tr>\n",
              "  </thead>\n",
              "  <tbody>\n",
              "    <tr>\n",
              "      <th>False</th>\n",
              "      <td>8379</td>\n",
              "      <td>8379</td>\n",
              "      <td>8379</td>\n",
              "      <td>8379</td>\n",
              "      <td>8379</td>\n",
              "      <td>8379</td>\n",
              "    </tr>\n",
              "  </tbody>\n",
              "</table>\n",
              "</div>"
            ],
            "text/plain": [
              "       trimmed_words_short  trimmed_words_long  ...  new_group_85  new_group_95\n",
              "False                 8379                8379  ...          8379          8379\n",
              "\n",
              "[1 rows x 6 columns]"
            ]
          },
          "metadata": {
            "tags": []
          },
          "execution_count": 209
        }
      ]
    },
    {
      "cell_type": "code",
      "metadata": {
        "id": "4UZdqCAR_BwT",
        "colab_type": "code",
        "outputId": "2f2fba05-2656-4bfa-9afc-fc9a7ce86ceb",
        "colab": {
          "base_uri": "https://localhost:8080/",
          "height": 254
        }
      },
      "source": [
        "rows = df_allnull.any(axis=1)\n",
        "df.iloc[rows.index].head()\n",
        "#rows.index"
      ],
      "execution_count": 210,
      "outputs": [
        {
          "output_type": "execute_result",
          "data": {
            "text/html": [
              "<div>\n",
              "<style scoped>\n",
              "    .dataframe tbody tr th:only-of-type {\n",
              "        vertical-align: middle;\n",
              "    }\n",
              "\n",
              "    .dataframe tbody tr th {\n",
              "        vertical-align: top;\n",
              "    }\n",
              "\n",
              "    .dataframe thead th {\n",
              "        text-align: right;\n",
              "    }\n",
              "</style>\n",
              "<table border=\"1\" class=\"dataframe\">\n",
              "  <thead>\n",
              "    <tr style=\"text-align: right;\">\n",
              "      <th></th>\n",
              "      <th>trimmed_words_short</th>\n",
              "      <th>trimmed_words_long</th>\n",
              "      <th>Assignment group</th>\n",
              "      <th>new_group_75</th>\n",
              "      <th>new_group_85</th>\n",
              "      <th>new_group_95</th>\n",
              "    </tr>\n",
              "  </thead>\n",
              "  <tbody>\n",
              "    <tr>\n",
              "      <th>701</th>\n",
              "      <td>printer prtqx wont print anyone office</td>\n",
              "      <td>printer prtqx wont print anyone office</td>\n",
              "      <td>GRP_3</td>\n",
              "      <td>GRP_3</td>\n",
              "      <td>GRP_3</td>\n",
              "      <td>GRP_3</td>\n",
              "    </tr>\n",
              "    <tr>\n",
              "      <th>1041</th>\n",
              "      <td>reset passwords soldfnbq uhnbsvqd using passwo...</td>\n",
              "      <td>reset passwords soldfnbq uhnbsvqd using passwo...</td>\n",
              "      <td>GRP_17</td>\n",
              "      <td>GRP_9999</td>\n",
              "      <td>GRP_9999</td>\n",
              "      <td>GRP_17</td>\n",
              "    </tr>\n",
              "    <tr>\n",
              "      <th>1046</th>\n",
              "      <td>reset passwords fygrwuna gomcekzi using passwo...</td>\n",
              "      <td>reset passwords fygrwuna gomcekzi using passwo...</td>\n",
              "      <td>GRP_17</td>\n",
              "      <td>GRP_9999</td>\n",
              "      <td>GRP_9999</td>\n",
              "      <td>GRP_17</td>\n",
              "    </tr>\n",
              "    <tr>\n",
              "      <th>1135</th>\n",
              "      <td>reset passwords wvdxnkhf jirecvta using passwo...</td>\n",
              "      <td>reset passwords wvdxnkhf jirecvta using passwo...</td>\n",
              "      <td>GRP_17</td>\n",
              "      <td>GRP_9999</td>\n",
              "      <td>GRP_9999</td>\n",
              "      <td>GRP_17</td>\n",
              "    </tr>\n",
              "    <tr>\n",
              "      <th>1174</th>\n",
              "      <td>reset passwords pxvjczdt kizsjfpq using passwo...</td>\n",
              "      <td>reset passwords pxvjczdt kizsjfpq using passwo...</td>\n",
              "      <td>GRP_17</td>\n",
              "      <td>GRP_9999</td>\n",
              "      <td>GRP_9999</td>\n",
              "      <td>GRP_17</td>\n",
              "    </tr>\n",
              "  </tbody>\n",
              "</table>\n",
              "</div>"
            ],
            "text/plain": [
              "                                    trimmed_words_short  ... new_group_95\n",
              "701              printer prtqx wont print anyone office  ...        GRP_3\n",
              "1041  reset passwords soldfnbq uhnbsvqd using passwo...  ...       GRP_17\n",
              "1046  reset passwords fygrwuna gomcekzi using passwo...  ...       GRP_17\n",
              "1135  reset passwords wvdxnkhf jirecvta using passwo...  ...       GRP_17\n",
              "1174  reset passwords pxvjczdt kizsjfpq using passwo...  ...       GRP_17\n",
              "\n",
              "[5 rows x 6 columns]"
            ]
          },
          "metadata": {
            "tags": []
          },
          "execution_count": 210
        }
      ]
    },
    {
      "cell_type": "code",
      "metadata": {
        "id": "vfvgwJIUM6fG",
        "colab_type": "code",
        "outputId": "a3378449-84ec-4da2-f0ed-93f9cf89ce16",
        "colab": {
          "base_uri": "https://localhost:8080/",
          "height": 243
        }
      },
      "source": [
        "df.info()"
      ],
      "execution_count": 211,
      "outputs": [
        {
          "output_type": "stream",
          "text": [
            "<class 'pandas.core.frame.DataFrame'>\n",
            "RangeIndex: 8379 entries, 0 to 8378\n",
            "Data columns (total 6 columns):\n",
            " #   Column               Non-Null Count  Dtype \n",
            "---  ------               --------------  ----- \n",
            " 0   trimmed_words_short  8379 non-null   object\n",
            " 1   trimmed_words_long   8379 non-null   object\n",
            " 2   Assignment group     8379 non-null   object\n",
            " 3   new_group_75         8379 non-null   object\n",
            " 4   new_group_85         8379 non-null   object\n",
            " 5   new_group_95         8379 non-null   object\n",
            "dtypes: object(6)\n",
            "memory usage: 392.9+ KB\n"
          ],
          "name": "stdout"
        }
      ]
    },
    {
      "cell_type": "code",
      "metadata": {
        "id": "XM52L5D0c0B2",
        "colab_type": "code",
        "colab": {}
      },
      "source": [
        "max_features = 10000\n",
        "maxlen =200\n",
        "embedding_size = 200\n",
        "LEARNING_RATE = 1e-3\n",
        "Units = 100\n",
        "Drop=0.1\n",
        "EPOCHS = 2\n",
        "BATCH_SIZE = 100\n",
        "#glove=0\n",
        "numword = 2000\n",
        "embeddings = {}\n",
        "embedding_matrix = np.zeros((numword, embedding_size))\n",
        "t = Tokenizer(num_words=numword)"
      ],
      "execution_count": 0,
      "outputs": []
    },
    {
      "cell_type": "code",
      "metadata": {
        "id": "YeE3paGUx6qb",
        "colab_type": "code",
        "colab": {
          "base_uri": "https://localhost:8080/",
          "height": 35
        },
        "outputId": "56307723-4068-451f-c79a-67ef153b9e75"
      },
      "source": [
        "len(embeddings)"
      ],
      "execution_count": 213,
      "outputs": [
        {
          "output_type": "execute_result",
          "data": {
            "text/plain": [
              "0"
            ]
          },
          "metadata": {
            "tags": []
          },
          "execution_count": 213
        }
      ]
    },
    {
      "cell_type": "code",
      "metadata": {
        "id": "miRpcxhURekL",
        "colab_type": "code",
        "colab": {}
      },
      "source": [
        "def prepare_token(data):\n",
        "  t = Tokenizer(num_words=numword)\n",
        "  t.fit_on_texts(data)\n",
        "  words = pd.DataFrame()\n",
        "  words[\"word_index\"] = \"\"\n",
        "  words[\"word\"] = \"\"\n",
        "  words[\"word_count\"] = \"\"\n",
        "  i = 0\n",
        "  for word in t.word_index:\n",
        "      if not word in stop_words:\n",
        "         if i<= 1500 :\n",
        "             new_row = {'word_index':t.word_index[word], 'word':word, 'word_count':t.word_counts[word]}\n",
        "             words = words.append(new_row, ignore_index=True)\n",
        "             i = i+1\n",
        "  words\n",
        "  return (words)"
      ],
      "execution_count": 0,
      "outputs": []
    },
    {
      "cell_type": "code",
      "metadata": {
        "id": "7ih0Upe9ON4y",
        "colab_type": "code",
        "colab": {}
      },
      "source": [
        "def prepare_data(X,y):\n",
        "  df_mod_X=X\n",
        "  prepare_token(df_mod_X)\n",
        "  t = Tokenizer(num_words=numword)\n",
        "  t.fit_on_texts(df_mod_X)\n",
        "  df_mod_X1 = t.texts_to_sequences(df_mod_X)\n",
        "  df_mod_X2 = pad_sequences(df_mod_X1, maxlen=200, padding = 'post', truncating = 'post')\n",
        "  values = y\n",
        "  label_encoder = LabelEncoder()\n",
        "  integer_encoded = label_encoder.fit_transform(values)\n",
        "  onehot_encoder = OneHotEncoder(sparse=False)\n",
        "  integer_encoded = integer_encoded.reshape(len(integer_encoded), 1)\n",
        "  onehot_encoded = onehot_encoder.fit_transform(integer_encoded)\n",
        "  df_mod_y=onehot_encoded\n",
        "  #Display the number of groups\n",
        "  #print(y)\n",
        "  #a = y.groupby(\"Assignment group\")\n",
        "  print(\"Group Count:\",len(y.value_counts()))\n",
        "  Groups = len(y.value_counts())\n",
        "  # Split features into training and validation sets\n",
        "  X_train, X_valid, y_train, y_valid = train_test_split(df_mod_X2, df_mod_y, test_size=0.20, random_state=42)\n",
        "  # Print the share of the training and validation sets\n",
        "  print(\"Shape of Training set :\",X_train.shape,\" / \", y_train.shape)\n",
        "  print(\"Shape of Validation set :\",X_valid.shape,\" / \", y_valid.shape)\n",
        "  if glove ==1:\n",
        "    Glv_model(X)\n",
        "  return (X_train, X_valid, y_train, y_valid,Groups,embedding_matrix)"
      ],
      "execution_count": 0,
      "outputs": []
    },
    {
      "cell_type": "code",
      "metadata": {
        "id": "DzbSrhkxx2q-",
        "colab_type": "code",
        "colab": {}
      },
      "source": [
        "def prepare_Model():\n",
        "  input = Input(shape=(maxlen,)) # Input layer\n",
        "  if glove==1:\n",
        "    model = Embedding(t.num_words,embedding_size,weights = [embedding_matrix], input_length=maxlen,trainable = True)(input)\n",
        "  else:\n",
        "    model = Embedding(t.num_words,embedding_size, input_length=maxlen,trainable = True)(input)\n",
        "  model = LSTM(units=Units, return_sequences=True, recurrent_dropout=0.1)(model) # LSTM layer\n",
        "  model = Flatten()(model)\n",
        "  model = Dropout(rate=Drop)(model)\n",
        "  out = Dense(Groups, activation=\"softmax\")(model)  # softmax output layer\n",
        "  model = Model(input, out) # Complete model\n",
        "  loss = 'categorical_crossentropy'\n",
        "  optimizer = tensorflow.keras.optimizers.Adam(lr=LEARNING_RATE)\n",
        "  model.compile(optimizer=optimizer, loss=loss, metrics=['acc'])\n",
        "  model.summary()\n",
        "    # Create callback for early stopping on validation loss. If the loss does\n",
        "  # not decrease on two consecutive tries, stop training\n",
        "  callbacks = [tensorflow.keras.callbacks.EarlyStopping(monitor='val_loss', patience=3)]\n",
        "  # Train and validate model\n",
        "  # To start training, call the model.fit method—the model is \"fit\" to the training data.\n",
        "  # Note that fit() will return a History object which we can use to plot training vs. validation accuracy and loss.\n",
        "  history = model.fit(X_train, y_train, epochs=EPOCHS, validation_data=(X_valid, y_valid), verbose=1, batch_size=BATCH_SIZE, callbacks=callbacks)\n",
        "  return(history)"
      ],
      "execution_count": 0,
      "outputs": []
    },
    {
      "cell_type": "code",
      "metadata": {
        "id": "DAalLSeJm8jS",
        "colab_type": "code",
        "colab": {}
      },
      "source": [
        "def Glv_model(data):\n",
        "  if len(embeddings)==0:\n",
        "    drive.mount('/content/drive', force_remount=True)\n",
        "    path = '/content/drive/My Drive/Python Files/Capstone Project/'\n",
        "    glove_file = path + \"glove.6B.zip\"\n",
        "    from zipfile import ZipFile\n",
        "    with ZipFile(glove_file, 'r') as z:\n",
        "      z.extractall()\n",
        "    EMBEDDING_FILE = './glove.6B.200d.txt'\n",
        "    for o in open(EMBEDDING_FILE):\n",
        "      word = o.split(\" \")[0]\n",
        "      embd = o.split(\" \")[1:]\n",
        "      embd = np.asarray(embd, dtype='float32')\n",
        "      embeddings[word] = embd\n",
        "  print(\"Glove being used:\",len(embeddings))\n",
        "  EMBEDDING_FILE = './glove.6B.200d.txt'\n",
        "  t = Tokenizer(num_words=numword)\n",
        "  t.fit_on_texts(data)\n",
        "  def get_coefs(word,*arr): return word, np.asarray(arr, dtype='float32')\n",
        "  embeddings_index = dict(get_coefs(*o.split(\" \")) for o in open(EMBEDDING_FILE) if len(o)>100)\n",
        "  all_embs = np.stack(embeddings_index.values())\n",
        "  emb_mean,emb_std = all_embs.mean(), all_embs.std()\n",
        "  embed_size = all_embs.shape[1]\n",
        "  word_index = t.word_index\n",
        "  nb_words = numword\n",
        "  embedding_matrix = np.zeros((nb_words, embedding_size))\n",
        "  for word, i in word_index.items():\n",
        "    if i >= nb_words: continue    \n",
        "    embedding_vector = embeddings_index.get(word)\n",
        "    if embedding_vector is not None: embedding_matrix[i] = embedding_vector\n",
        "  return(embedding_matrix)"
      ],
      "execution_count": 0,
      "outputs": []
    },
    {
      "cell_type": "code",
      "metadata": {
        "id": "vTe6VvUOy5hN",
        "colab_type": "code",
        "colab": {}
      },
      "source": [
        "#Plot the Accuracy and Loss on the graph to represent the trend\n",
        "def plot_history(history):\n",
        "    fig = plt.figure(figsize = (10, 6))\n",
        "    plt.subplot(1, 2, 1)\n",
        "    plt.plot(history.history['acc'], label='Train Acc')\n",
        "    plt.plot(history.history['val_acc'], label='Validation Acc')\n",
        "    plt.title(\"Accuracy\")\n",
        "    plt.legend()\n",
        "    plt.grid()\n",
        "    \n",
        "    plt.subplot(1, 2, 2)\n",
        "    plt.plot(history.history['loss'], label='Train loss')\n",
        "    plt.plot(history.history['val_loss'], label='Validation loss')\n",
        "    plt.title(\"Loss\")\n",
        "    plt.legend()\n",
        "    plt.grid()\n",
        "    \n",
        "    plt.show()"
      ],
      "execution_count": 0,
      "outputs": []
    },
    {
      "cell_type": "code",
      "metadata": {
        "id": "K_189sIsfTja",
        "colab_type": "code",
        "outputId": "de185944-9cf8-4a88-e6a7-4229988a4e80",
        "colab": {
          "base_uri": "https://localhost:8080/",
          "height": 1000
        }
      },
      "source": [
        " Dim = ['trimmed_words_short','trimmed_words_long']\n",
        " target = ['Assignment group','new_group_75','new_group_85','new_group_95']\n",
        " Desc_Col = []\n",
        " Group_Col = []\n",
        " Dense_group = []\n",
        " Train_Acc = []\n",
        " Valid_Acc = []\n",
        " Train_Loss = []\n",
        " Valid_Loss = []\n",
        " n=1\n",
        " glove=0\n",
        " for D in Dim:\n",
        "   for T in target:\n",
        "     if n>=5:\n",
        "       break\n",
        "     X_train,X_valid,y_train,y_valid,Groups,embedding_matrix = prepare_data(df[D],df[T])\n",
        "     print(\"Run Count:\",n,\"/\",\"MODEL for :\",D,\"/\",T,\"/\",\"Groups :\",Groups)\n",
        "     history = prepare_Model()\n",
        "     Desc_Col.append(D)\n",
        "     Group_Col.append(T)\n",
        "     Dense_group.append(Groups)\n",
        "     Train_Acc.append(round(max(history.history['acc']),2))\n",
        "     Valid_Acc.append(round(max(history.history['val_acc']),2))\n",
        "     Train_Loss.append(round(max(history.history['loss']),2))\n",
        "     Valid_Loss.append(round(max(history.history['val_loss']),2))\n",
        "     plot_history(history)\n",
        "     n=n+1\n"
      ],
      "execution_count": 219,
      "outputs": [
        {
          "output_type": "stream",
          "text": [
            "Group Count: 74\n",
            "Shape of Training set : (6703, 200)  /  (6703, 74)\n",
            "Shape of Validation set : (1676, 200)  /  (1676, 74)\n",
            "Run Count: 1 / MODEL for : trimmed_words_short / Assignment group / Groups : 74\n",
            "WARNING:tensorflow:Layer lstm_17 will not use cuDNN kernel since it doesn't meet the cuDNN kernel criteria. It will use generic GPU kernel as fallback when running on GPU\n",
            "Model: \"model_17\"\n",
            "_________________________________________________________________\n",
            "Layer (type)                 Output Shape              Param #   \n",
            "=================================================================\n",
            "input_20 (InputLayer)        [(None, 200)]             0         \n",
            "_________________________________________________________________\n",
            "embedding_18 (Embedding)     (None, 200, 200)          400000    \n",
            "_________________________________________________________________\n",
            "lstm_17 (LSTM)               (None, 200, 100)          120400    \n",
            "_________________________________________________________________\n",
            "flatten_17 (Flatten)         (None, 20000)             0         \n",
            "_________________________________________________________________\n",
            "dropout_17 (Dropout)         (None, 20000)             0         \n",
            "_________________________________________________________________\n",
            "dense_17 (Dense)             (None, 74)                1480074   \n",
            "=================================================================\n",
            "Total params: 2,000,474\n",
            "Trainable params: 2,000,474\n",
            "Non-trainable params: 0\n",
            "_________________________________________________________________\n",
            "Epoch 1/2\n",
            "68/68 [==============================] - 39s 579ms/step - loss: 2.4532 - acc: 0.4866 - val_loss: 1.9149 - val_acc: 0.5668\n",
            "Epoch 2/2\n",
            "68/68 [==============================] - 39s 574ms/step - loss: 1.8413 - acc: 0.5785 - val_loss: 1.7149 - val_acc: 0.6092\n"
          ],
          "name": "stdout"
        },
        {
          "output_type": "display_data",
          "data": {
            "image/png": "[encoded data removed]",
            "text/plain": [
              "<Figure size 720x432 with 2 Axes>"
            ]
          },
          "metadata": {
            "tags": [],
            "needs_background": "light"
          }
        },
        {
          "output_type": "stream",
          "text": [
            "Group Count: 10\n",
            "Shape of Training set : (6703, 200)  /  (6703, 10)\n",
            "Shape of Validation set : (1676, 200)  /  (1676, 10)\n",
            "Run Count: 2 / MODEL for : trimmed_words_short / new_group_75 / Groups : 10\n",
            "WARNING:tensorflow:Layer lstm_18 will not use cuDNN kernel since it doesn't meet the cuDNN kernel criteria. It will use generic GPU kernel as fallback when running on GPU\n",
            "Model: \"model_18\"\n",
            "_________________________________________________________________\n",
            "Layer (type)                 Output Shape              Param #   \n",
            "=================================================================\n",
            "input_21 (InputLayer)        [(None, 200)]             0         \n",
            "_________________________________________________________________\n",
            "embedding_19 (Embedding)     (None, 200, 200)          400000    \n",
            "_________________________________________________________________\n",
            "lstm_18 (LSTM)               (None, 200, 100)          120400    \n",
            "_________________________________________________________________\n",
            "flatten_18 (Flatten)         (None, 20000)             0         \n",
            "_________________________________________________________________\n",
            "dropout_18 (Dropout)         (None, 20000)             0         \n",
            "_________________________________________________________________\n",
            "dense_18 (Dense)             (None, 10)                200010    \n",
            "=================================================================\n",
            "Total params: 720,410\n",
            "Trainable params: 720,410\n",
            "Non-trainable params: 0\n",
            "_________________________________________________________________\n",
            "Epoch 1/2\n",
            "68/68 [==============================] - 40s 586ms/step - loss: 1.4309 - acc: 0.5277 - val_loss: 1.0829 - val_acc: 0.6551\n",
            "Epoch 2/2\n",
            "68/68 [==============================] - 39s 577ms/step - loss: 0.9979 - acc: 0.6781 - val_loss: 1.9954 - val_acc: 0.4290\n"
          ],
          "name": "stdout"
        },
        {
          "output_type": "display_data",
          "data": {
            "image/png": "[encoded data removed]",
            "text/plain": [
              "<Figure size 720x432 with 2 Axes>"
            ]
          },
          "metadata": {
            "tags": [],
            "needs_background": "light"
          }
        },
        {
          "output_type": "stream",
          "text": [
            "Group Count: 18\n",
            "Shape of Training set : (6703, 200)  /  (6703, 18)\n",
            "Shape of Validation set : (1676, 200)  /  (1676, 18)\n",
            "Run Count: 3 / MODEL for : trimmed_words_short / new_group_85 / Groups : 18\n",
            "WARNING:tensorflow:Layer lstm_19 will not use cuDNN kernel since it doesn't meet the cuDNN kernel criteria. It will use generic GPU kernel as fallback when running on GPU\n",
            "Model: \"model_19\"\n",
            "_________________________________________________________________\n",
            "Layer (type)                 Output Shape              Param #   \n",
            "=================================================================\n",
            "input_22 (InputLayer)        [(None, 200)]             0         \n",
            "_________________________________________________________________\n",
            "embedding_20 (Embedding)     (None, 200, 200)          400000    \n",
            "_________________________________________________________________\n",
            "lstm_19 (LSTM)               (None, 200, 100)          120400    \n",
            "_________________________________________________________________\n",
            "flatten_19 (Flatten)         (None, 20000)             0         \n",
            "_________________________________________________________________\n",
            "dropout_19 (Dropout)         (None, 20000)             0         \n",
            "_________________________________________________________________\n",
            "dense_19 (Dense)             (None, 18)                360018    \n",
            "=================================================================\n",
            "Total params: 880,418\n",
            "Trainable params: 880,418\n",
            "Non-trainable params: 0\n",
            "_________________________________________________________________\n",
            "Epoch 1/2\n",
            "68/68 [==============================] - 40s 588ms/step - loss: 1.8715 - acc: 0.4931 - val_loss: 1.4887 - val_acc: 0.5788\n",
            "Epoch 2/2\n",
            "68/68 [==============================] - 40s 585ms/step - loss: 1.3687 - acc: 0.6118 - val_loss: 1.2689 - val_acc: 0.6301\n"
          ],
          "name": "stdout"
        },
        {
          "output_type": "display_data",
          "data": {
            "image/png": "[encoded data removed]",
            "text/plain": [
              "<Figure size 720x432 with 2 Axes>"
            ]
          },
          "metadata": {
            "tags": [],
            "needs_background": "light"
          }
        },
        {
          "output_type": "stream",
          "text": [
            "Group Count: 34\n",
            "Shape of Training set : (6703, 200)  /  (6703, 34)\n",
            "Shape of Validation set : (1676, 200)  /  (1676, 34)\n",
            "Run Count: 4 / MODEL for : trimmed_words_short / new_group_95 / Groups : 34\n",
            "WARNING:tensorflow:Layer lstm_20 will not use cuDNN kernel since it doesn't meet the cuDNN kernel criteria. It will use generic GPU kernel as fallback when running on GPU\n",
            "Model: \"model_20\"\n",
            "_________________________________________________________________\n",
            "Layer (type)                 Output Shape              Param #   \n",
            "=================================================================\n",
            "input_23 (InputLayer)        [(None, 200)]             0         \n",
            "_________________________________________________________________\n",
            "embedding_21 (Embedding)     (None, 200, 200)          400000    \n",
            "_________________________________________________________________\n",
            "lstm_20 (LSTM)               (None, 200, 100)          120400    \n",
            "_________________________________________________________________\n",
            "flatten_20 (Flatten)         (None, 20000)             0         \n",
            "_________________________________________________________________\n",
            "dropout_20 (Dropout)         (None, 20000)             0         \n",
            "_________________________________________________________________\n",
            "dense_20 (Dense)             (None, 34)                680034    \n",
            "=================================================================\n",
            "Total params: 1,200,434\n",
            "Trainable params: 1,200,434\n",
            "Non-trainable params: 0\n",
            "_________________________________________________________________\n",
            "Epoch 1/2\n",
            "68/68 [==============================] - 40s 583ms/step - loss: 2.2771 - acc: 0.4828 - val_loss: 1.7905 - val_acc: 0.5579\n",
            "Epoch 2/2\n",
            "68/68 [==============================] - 39s 579ms/step - loss: 1.6871 - acc: 0.5803 - val_loss: 1.5532 - val_acc: 0.6038\n"
          ],
          "name": "stdout"
        },
        {
          "output_type": "display_data",
          "data": {
            "image/png": "[encoded data removed]",
            "text/plain": [
              "<Figure size 720x432 with 2 Axes>"
            ]
          },
          "metadata": {
            "tags": [],
            "needs_background": "light"
          }
        }
      ]
    },
    {
      "cell_type": "code",
      "metadata": {
        "id": "egzCKrUJy7PI",
        "colab_type": "code",
        "outputId": "2ffaf66e-f1ad-45eb-aaa2-5bc2a41908db",
        "colab": {
          "base_uri": "https://localhost:8080/",
          "height": 171
        }
      },
      "source": [
        "Results =[]\n",
        "Results = pd.DataFrame(\n",
        "    { 'Description Col':Desc_Col,\n",
        "      'Group Col':Group_Col,\n",
        "      'Dense Group':Dense_group,\n",
        "      'Training Acc':Train_Acc,\n",
        "      'Validation Acc':Valid_Acc,\n",
        "      'Training Loss':Train_Loss,\n",
        "      'Validation Loss':Valid_Loss\n",
        "     })\n",
        "Results"
      ],
      "execution_count": 221,
      "outputs": [
        {
          "output_type": "execute_result",
          "data": {
            "text/html": [
              "<div>\n",
              "<style scoped>\n",
              "    .dataframe tbody tr th:only-of-type {\n",
              "        vertical-align: middle;\n",
              "    }\n",
              "\n",
              "    .dataframe tbody tr th {\n",
              "        vertical-align: top;\n",
              "    }\n",
              "\n",
              "    .dataframe thead th {\n",
              "        text-align: right;\n",
              "    }\n",
              "</style>\n",
              "<table border=\"1\" class=\"dataframe\">\n",
              "  <thead>\n",
              "    <tr style=\"text-align: right;\">\n",
              "      <th></th>\n",
              "      <th>Description Col</th>\n",
              "      <th>Group Col</th>\n",
              "      <th>Dense Group</th>\n",
              "      <th>Training Acc</th>\n",
              "      <th>Validation Acc</th>\n",
              "      <th>Training Loss</th>\n",
              "      <th>Validation Loss</th>\n",
              "    </tr>\n",
              "  </thead>\n",
              "  <tbody>\n",
              "    <tr>\n",
              "      <th>0</th>\n",
              "      <td>trimmed_words_short</td>\n",
              "      <td>Assignment group</td>\n",
              "      <td>74</td>\n",
              "      <td>0.58</td>\n",
              "      <td>0.61</td>\n",
              "      <td>2.45</td>\n",
              "      <td>1.91</td>\n",
              "    </tr>\n",
              "    <tr>\n",
              "      <th>1</th>\n",
              "      <td>trimmed_words_short</td>\n",
              "      <td>new_group_75</td>\n",
              "      <td>10</td>\n",
              "      <td>0.68</td>\n",
              "      <td>0.66</td>\n",
              "      <td>1.43</td>\n",
              "      <td>2.00</td>\n",
              "    </tr>\n",
              "    <tr>\n",
              "      <th>2</th>\n",
              "      <td>trimmed_words_short</td>\n",
              "      <td>new_group_85</td>\n",
              "      <td>18</td>\n",
              "      <td>0.61</td>\n",
              "      <td>0.63</td>\n",
              "      <td>1.87</td>\n",
              "      <td>1.49</td>\n",
              "    </tr>\n",
              "    <tr>\n",
              "      <th>3</th>\n",
              "      <td>trimmed_words_short</td>\n",
              "      <td>new_group_95</td>\n",
              "      <td>34</td>\n",
              "      <td>0.58</td>\n",
              "      <td>0.60</td>\n",
              "      <td>2.28</td>\n",
              "      <td>1.79</td>\n",
              "    </tr>\n",
              "  </tbody>\n",
              "</table>\n",
              "</div>"
            ],
            "text/plain": [
              "       Description Col         Group Col  ...  Training Loss  Validation Loss\n",
              "0  trimmed_words_short  Assignment group  ...           2.45             1.91\n",
              "1  trimmed_words_short      new_group_75  ...           1.43             2.00\n",
              "2  trimmed_words_short      new_group_85  ...           1.87             1.49\n",
              "3  trimmed_words_short      new_group_95  ...           2.28             1.79\n",
              "\n",
              "[4 rows x 7 columns]"
            ]
          },
          "metadata": {
            "tags": []
          },
          "execution_count": 221
        }
      ]
    },
    {
      "cell_type": "code",
      "metadata": {
        "id": "tJ99DP417iA7",
        "colab_type": "code",
        "colab": {}
      },
      "source": [
        ""
      ],
      "execution_count": 0,
      "outputs": []
    }
  ]
}