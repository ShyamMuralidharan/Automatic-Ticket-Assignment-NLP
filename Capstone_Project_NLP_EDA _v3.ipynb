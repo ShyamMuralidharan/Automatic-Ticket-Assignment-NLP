{
 "cells": [
  {
   "cell_type": "markdown",
   "metadata": {
    "colab": {
     "base_uri": "https://localhost:8080/",
     "height": 71
    },
    "colab_type": "code",
    "id": "9odi7jJoeNkD",
    "outputId": "3ad69182-b4bc-490f-d4cb-397480c87a6e"
   },
   "source": [
    "### Pre Process the Data"
   ]
  },
  {
   "cell_type": "code",
   "execution_count": 1,
   "metadata": {},
   "outputs": [
    {
     "name": "stderr",
     "output_type": "stream",
     "text": [
      "C:\\ProgramData\\Anaconda3\\envs\\gpu_test\\lib\\site-packages\\tensorflow\\python\\framework\\dtypes.py:523: FutureWarning: Passing (type, 1) or '1type' as a synonym of type is deprecated; in a future version of numpy, it will be understood as (type, (1,)) / '(1,)type'.\n",
      "  _np_qint8 = np.dtype([(\"qint8\", np.int8, 1)])\n",
      "C:\\ProgramData\\Anaconda3\\envs\\gpu_test\\lib\\site-packages\\tensorflow\\python\\framework\\dtypes.py:524: FutureWarning: Passing (type, 1) or '1type' as a synonym of type is deprecated; in a future version of numpy, it will be understood as (type, (1,)) / '(1,)type'.\n",
      "  _np_quint8 = np.dtype([(\"quint8\", np.uint8, 1)])\n",
      "C:\\ProgramData\\Anaconda3\\envs\\gpu_test\\lib\\site-packages\\tensorflow\\python\\framework\\dtypes.py:525: FutureWarning: Passing (type, 1) or '1type' as a synonym of type is deprecated; in a future version of numpy, it will be understood as (type, (1,)) / '(1,)type'.\n",
      "  _np_qint16 = np.dtype([(\"qint16\", np.int16, 1)])\n",
      "C:\\ProgramData\\Anaconda3\\envs\\gpu_test\\lib\\site-packages\\tensorflow\\python\\framework\\dtypes.py:526: FutureWarning: Passing (type, 1) or '1type' as a synonym of type is deprecated; in a future version of numpy, it will be understood as (type, (1,)) / '(1,)type'.\n",
      "  _np_quint16 = np.dtype([(\"quint16\", np.uint16, 1)])\n",
      "C:\\ProgramData\\Anaconda3\\envs\\gpu_test\\lib\\site-packages\\tensorflow\\python\\framework\\dtypes.py:527: FutureWarning: Passing (type, 1) or '1type' as a synonym of type is deprecated; in a future version of numpy, it will be understood as (type, (1,)) / '(1,)type'.\n",
      "  _np_qint32 = np.dtype([(\"qint32\", np.int32, 1)])\n",
      "C:\\ProgramData\\Anaconda3\\envs\\gpu_test\\lib\\site-packages\\tensorflow\\python\\framework\\dtypes.py:532: FutureWarning: Passing (type, 1) or '1type' as a synonym of type is deprecated; in a future version of numpy, it will be understood as (type, (1,)) / '(1,)type'.\n",
      "  np_resource = np.dtype([(\"resource\", np.ubyte, 1)])\n",
      "C:\\ProgramData\\Anaconda3\\envs\\gpu_test\\lib\\site-packages\\tensorboard\\compat\\tensorflow_stub\\dtypes.py:541: FutureWarning: Passing (type, 1) or '1type' as a synonym of type is deprecated; in a future version of numpy, it will be understood as (type, (1,)) / '(1,)type'.\n",
      "  _np_qint8 = np.dtype([(\"qint8\", np.int8, 1)])\n",
      "C:\\ProgramData\\Anaconda3\\envs\\gpu_test\\lib\\site-packages\\tensorboard\\compat\\tensorflow_stub\\dtypes.py:542: FutureWarning: Passing (type, 1) or '1type' as a synonym of type is deprecated; in a future version of numpy, it will be understood as (type, (1,)) / '(1,)type'.\n",
      "  _np_quint8 = np.dtype([(\"quint8\", np.uint8, 1)])\n",
      "C:\\ProgramData\\Anaconda3\\envs\\gpu_test\\lib\\site-packages\\tensorboard\\compat\\tensorflow_stub\\dtypes.py:543: FutureWarning: Passing (type, 1) or '1type' as a synonym of type is deprecated; in a future version of numpy, it will be understood as (type, (1,)) / '(1,)type'.\n",
      "  _np_qint16 = np.dtype([(\"qint16\", np.int16, 1)])\n",
      "C:\\ProgramData\\Anaconda3\\envs\\gpu_test\\lib\\site-packages\\tensorboard\\compat\\tensorflow_stub\\dtypes.py:544: FutureWarning: Passing (type, 1) or '1type' as a synonym of type is deprecated; in a future version of numpy, it will be understood as (type, (1,)) / '(1,)type'.\n",
      "  _np_quint16 = np.dtype([(\"quint16\", np.uint16, 1)])\n",
      "C:\\ProgramData\\Anaconda3\\envs\\gpu_test\\lib\\site-packages\\tensorboard\\compat\\tensorflow_stub\\dtypes.py:545: FutureWarning: Passing (type, 1) or '1type' as a synonym of type is deprecated; in a future version of numpy, it will be understood as (type, (1,)) / '(1,)type'.\n",
      "  _np_qint32 = np.dtype([(\"qint32\", np.int32, 1)])\n",
      "C:\\ProgramData\\Anaconda3\\envs\\gpu_test\\lib\\site-packages\\tensorboard\\compat\\tensorflow_stub\\dtypes.py:550: FutureWarning: Passing (type, 1) or '1type' as a synonym of type is deprecated; in a future version of numpy, it will be understood as (type, (1,)) / '(1,)type'.\n",
      "  np_resource = np.dtype([(\"resource\", np.ubyte, 1)])\n"
     ]
    }
   ],
   "source": [
    "# Import all libraries\n",
    "import pandas as pd\n",
    "import numpy as np\n",
    "import matplotlib.pyplot as plt\n",
    "%matplotlib inline\n",
    "import seaborn as sns\n",
    "from langdetect import detect, detect_langs\n",
    "import googletrans\n",
    "from googletrans import Translator\n",
    "import re\n",
    "import translate\n",
    "from tensorflow.keras.preprocessing.text import Tokenizer\n",
    "#from googletranslate import Translator\n",
    "from nltk.corpus import stopwords \n",
    "stop_words = set(stopwords.words('english')) "
   ]
  },
  {
   "cell_type": "code",
   "execution_count": 2,
   "metadata": {
    "colab": {
     "base_uri": "https://localhost:8080/",
     "height": 51
    },
    "colab_type": "code",
    "id": "guINebatlmw5",
    "outputId": "024c6e6e-3a48-417e-b9f6-56ebb8457cd8"
   },
   "outputs": [
    {
     "name": "stdout",
     "output_type": "stream",
     "text": [
      "Your Computer Name is:Prasad-Dell-LT\n",
      "Your Computer IP Address is:192.168.1.7\n"
     ]
    }
   ],
   "source": [
    "import socket    \n",
    "hostname = socket.gethostname()    \n",
    "IPAddr = socket.gethostbyname(hostname)    \n",
    "print(\"Your Computer Name is:\" + hostname)    \n",
    "print(\"Your Computer IP Address is:\" + IPAddr) "
   ]
  },
  {
   "cell_type": "markdown",
   "metadata": {
    "colab": {
     "base_uri": "https://localhost:8080/",
     "height": 122
    },
    "colab_type": "code",
    "id": "5YBuEG6nuxjz",
    "outputId": "46e0b7b2-766b-488d-e0d9-3fdc79371624"
   },
   "source": [
    "#### Use when running through google collab\n",
    "from google.colab import drive\n",
    "drive.mount('/drive', force_remount=True)"
   ]
  },
  {
   "cell_type": "markdown",
   "metadata": {
    "colab": {},
    "colab_type": "code",
    "id": "lPABEjd2vpOe"
   },
   "source": [
    "project_path = \"/drive/My Drive/AIML_Project_Files_Final/10.Capstone Project\""
   ]
  },
  {
   "cell_type": "code",
   "execution_count": 3,
   "metadata": {
    "colab": {},
    "colab_type": "code",
    "id": "lsP4yarwv_L4"
   },
   "outputs": [],
   "source": [
    "# Please note that this Dataset has 4 more extra columns to identify the language and transilate to English\n",
    "# Tried this transilation in Python using googletrans API but there is limitation on the numbers of calls, hence \n",
    "# googl sheets was used \n",
    "df = pd.read_excel(\"input_data_translated.xlsx\", encoding=\"utf-8\",dtype=\"str\")"
   ]
  },
  {
   "cell_type": "code",
   "execution_count": 4,
   "metadata": {},
   "outputs": [
    {
     "data": {
      "text/plain": [
       "Short description    object\n",
       "Description          object\n",
       "short_desc_lang      object\n",
       "short_desc_en        object\n",
       "description_lang     object\n",
       "description_en       object\n",
       "Caller               object\n",
       "Assignment group     object\n",
       "dtype: object"
      ]
     },
     "execution_count": 4,
     "metadata": {},
     "output_type": "execute_result"
    }
   ],
   "source": [
    "df.dtypes"
   ]
  },
  {
   "cell_type": "code",
   "execution_count": 5,
   "metadata": {},
   "outputs": [
    {
     "data": {
      "text/html": [
       "<div>\n",
       "<style scoped>\n",
       "    .dataframe tbody tr th:only-of-type {\n",
       "        vertical-align: middle;\n",
       "    }\n",
       "\n",
       "    .dataframe tbody tr th {\n",
       "        vertical-align: top;\n",
       "    }\n",
       "\n",
       "    .dataframe thead th {\n",
       "        text-align: right;\n",
       "    }\n",
       "</style>\n",
       "<table border=\"1\" class=\"dataframe\">\n",
       "  <thead>\n",
       "    <tr style=\"text-align: right;\">\n",
       "      <th></th>\n",
       "      <th>Short description</th>\n",
       "      <th>Description</th>\n",
       "      <th>short_desc_lang</th>\n",
       "      <th>short_desc_en</th>\n",
       "      <th>description_lang</th>\n",
       "      <th>description_en</th>\n",
       "      <th>Caller</th>\n",
       "      <th>Assignment group</th>\n",
       "    </tr>\n",
       "  </thead>\n",
       "  <tbody>\n",
       "    <tr>\n",
       "      <th>count</th>\n",
       "      <td>8492</td>\n",
       "      <td>8499</td>\n",
       "      <td>8492</td>\n",
       "      <td>8492</td>\n",
       "      <td>8497</td>\n",
       "      <td>8497</td>\n",
       "      <td>8500</td>\n",
       "      <td>8500</td>\n",
       "    </tr>\n",
       "    <tr>\n",
       "      <th>unique</th>\n",
       "      <td>7481</td>\n",
       "      <td>7817</td>\n",
       "      <td>50</td>\n",
       "      <td>7379</td>\n",
       "      <td>36</td>\n",
       "      <td>7752</td>\n",
       "      <td>2950</td>\n",
       "      <td>74</td>\n",
       "    </tr>\n",
       "    <tr>\n",
       "      <th>top</th>\n",
       "      <td>password reset</td>\n",
       "      <td>the</td>\n",
       "      <td>en</td>\n",
       "      <td>password reset</td>\n",
       "      <td>en</td>\n",
       "      <td>the</td>\n",
       "      <td>bpctwhsn kzqsbmtp</td>\n",
       "      <td>GRP_0</td>\n",
       "    </tr>\n",
       "    <tr>\n",
       "      <th>freq</th>\n",
       "      <td>38</td>\n",
       "      <td>56</td>\n",
       "      <td>7613</td>\n",
       "      <td>48</td>\n",
       "      <td>7768</td>\n",
       "      <td>56</td>\n",
       "      <td>810</td>\n",
       "      <td>3976</td>\n",
       "    </tr>\n",
       "  </tbody>\n",
       "</table>\n",
       "</div>"
      ],
      "text/plain": [
       "       Short description Description short_desc_lang   short_desc_en  \\\n",
       "count               8492        8499            8492            8492   \n",
       "unique              7481        7817              50            7379   \n",
       "top       password reset         the              en  password reset   \n",
       "freq                  38          56            7613              48   \n",
       "\n",
       "       description_lang description_en             Caller Assignment group  \n",
       "count              8497           8497               8500             8500  \n",
       "unique               36           7752               2950               74  \n",
       "top                  en            the  bpctwhsn kzqsbmtp            GRP_0  \n",
       "freq               7768             56                810             3976  "
      ]
     },
     "execution_count": 5,
     "metadata": {},
     "output_type": "execute_result"
    }
   ],
   "source": [
    "df.describe()"
   ]
  },
  {
   "cell_type": "code",
   "execution_count": 6,
   "metadata": {},
   "outputs": [
    {
     "data": {
      "text/html": [
       "<div>\n",
       "<style scoped>\n",
       "    .dataframe tbody tr th:only-of-type {\n",
       "        vertical-align: middle;\n",
       "    }\n",
       "\n",
       "    .dataframe tbody tr th {\n",
       "        vertical-align: top;\n",
       "    }\n",
       "\n",
       "    .dataframe thead th {\n",
       "        text-align: right;\n",
       "    }\n",
       "</style>\n",
       "<table border=\"1\" class=\"dataframe\">\n",
       "  <thead>\n",
       "    <tr style=\"text-align: right;\">\n",
       "      <th></th>\n",
       "      <th>Short description</th>\n",
       "      <th>Description</th>\n",
       "      <th>Caller</th>\n",
       "      <th>Assignment group</th>\n",
       "    </tr>\n",
       "  </thead>\n",
       "  <tbody>\n",
       "    <tr>\n",
       "      <th>0</th>\n",
       "      <td>login issue</td>\n",
       "      <td>-verified user details.(employee# &amp; manager na...</td>\n",
       "      <td>spxjnwir pjlcoqds</td>\n",
       "      <td>GRP_0</td>\n",
       "    </tr>\n",
       "    <tr>\n",
       "      <th>1</th>\n",
       "      <td>outlook</td>\n",
       "      <td>\\r\\n\\r\\nreceived from: hmjdrvpb.komuaywn@gmail...</td>\n",
       "      <td>hmjdrvpb komuaywn</td>\n",
       "      <td>GRP_0</td>\n",
       "    </tr>\n",
       "    <tr>\n",
       "      <th>2</th>\n",
       "      <td>cant log in to vpn</td>\n",
       "      <td>\\r\\n\\r\\nreceived from: eylqgodm.ybqkwiam@gmail...</td>\n",
       "      <td>eylqgodm ybqkwiam</td>\n",
       "      <td>GRP_0</td>\n",
       "    </tr>\n",
       "    <tr>\n",
       "      <th>3</th>\n",
       "      <td>unable to access hr_tool page</td>\n",
       "      <td>unable to access hr_tool page</td>\n",
       "      <td>xbkucsvz gcpydteq</td>\n",
       "      <td>GRP_0</td>\n",
       "    </tr>\n",
       "    <tr>\n",
       "      <th>4</th>\n",
       "      <td>skype error</td>\n",
       "      <td>skype error</td>\n",
       "      <td>owlgqjme qhcozdfx</td>\n",
       "      <td>GRP_0</td>\n",
       "    </tr>\n",
       "  </tbody>\n",
       "</table>\n",
       "</div>"
      ],
      "text/plain": [
       "               Short description  \\\n",
       "0                    login issue   \n",
       "1                        outlook   \n",
       "2             cant log in to vpn   \n",
       "3  unable to access hr_tool page   \n",
       "4                   skype error    \n",
       "\n",
       "                                         Description             Caller  \\\n",
       "0  -verified user details.(employee# & manager na...  spxjnwir pjlcoqds   \n",
       "1  \\r\\n\\r\\nreceived from: hmjdrvpb.komuaywn@gmail...  hmjdrvpb komuaywn   \n",
       "2  \\r\\n\\r\\nreceived from: eylqgodm.ybqkwiam@gmail...  eylqgodm ybqkwiam   \n",
       "3                      unable to access hr_tool page  xbkucsvz gcpydteq   \n",
       "4                                       skype error   owlgqjme qhcozdfx   \n",
       "\n",
       "  Assignment group  \n",
       "0            GRP_0  \n",
       "1            GRP_0  \n",
       "2            GRP_0  \n",
       "3            GRP_0  \n",
       "4            GRP_0  "
      ]
     },
     "execution_count": 6,
     "metadata": {},
     "output_type": "execute_result"
    }
   ],
   "source": [
    "# Load original dataset gven in the project \n",
    "df1 = pd.read_excel(\"input_data.xlsx\")\n",
    "df1.head(5)"
   ]
  },
  {
   "cell_type": "code",
   "execution_count": 7,
   "metadata": {},
   "outputs": [
    {
     "data": {
      "text/plain": [
       "': ticket_no1559458 : wireless guest access- hr_tool trainer'"
      ]
     },
     "execution_count": 7,
     "metadata": {},
     "output_type": "execute_result"
    }
   ],
   "source": [
    "#Remove Junk charaters from the text.. below is an example\n",
    "\"ç­”å¤: ticket_no1559458 : wireless guest access- hr_tool trainer\".encode('ascii','ignore').decode()"
   ]
  },
  {
   "cell_type": "code",
   "execution_count": 8,
   "metadata": {
    "colab": {
     "base_uri": "https://localhost:8080/",
     "height": 171
    },
    "colab_type": "code",
    "id": "ny_hZ9cBxap8",
    "outputId": "cd869ff4-40f6-4f70-93fc-69eb6217add7"
   },
   "outputs": [
    {
     "data": {
      "text/html": [
       "<div>\n",
       "<style scoped>\n",
       "    .dataframe tbody tr th:only-of-type {\n",
       "        vertical-align: middle;\n",
       "    }\n",
       "\n",
       "    .dataframe tbody tr th {\n",
       "        vertical-align: top;\n",
       "    }\n",
       "\n",
       "    .dataframe thead th {\n",
       "        text-align: right;\n",
       "    }\n",
       "</style>\n",
       "<table border=\"1\" class=\"dataframe\">\n",
       "  <thead>\n",
       "    <tr style=\"text-align: right;\">\n",
       "      <th></th>\n",
       "      <th>Short description</th>\n",
       "      <th>Description</th>\n",
       "      <th>short_desc_lang</th>\n",
       "      <th>short_desc_en</th>\n",
       "      <th>description_lang</th>\n",
       "      <th>description_en</th>\n",
       "      <th>Caller</th>\n",
       "      <th>Assignment group</th>\n",
       "    </tr>\n",
       "  </thead>\n",
       "  <tbody>\n",
       "    <tr>\n",
       "      <th>count</th>\n",
       "      <td>8492</td>\n",
       "      <td>8499</td>\n",
       "      <td>8492</td>\n",
       "      <td>8492</td>\n",
       "      <td>8497</td>\n",
       "      <td>8497</td>\n",
       "      <td>8500</td>\n",
       "      <td>8500</td>\n",
       "    </tr>\n",
       "    <tr>\n",
       "      <th>unique</th>\n",
       "      <td>7481</td>\n",
       "      <td>7817</td>\n",
       "      <td>50</td>\n",
       "      <td>7379</td>\n",
       "      <td>36</td>\n",
       "      <td>7752</td>\n",
       "      <td>2950</td>\n",
       "      <td>74</td>\n",
       "    </tr>\n",
       "    <tr>\n",
       "      <th>top</th>\n",
       "      <td>password reset</td>\n",
       "      <td>the</td>\n",
       "      <td>en</td>\n",
       "      <td>password reset</td>\n",
       "      <td>en</td>\n",
       "      <td>the</td>\n",
       "      <td>bpctwhsn kzqsbmtp</td>\n",
       "      <td>GRP_0</td>\n",
       "    </tr>\n",
       "    <tr>\n",
       "      <th>freq</th>\n",
       "      <td>38</td>\n",
       "      <td>56</td>\n",
       "      <td>7613</td>\n",
       "      <td>48</td>\n",
       "      <td>7768</td>\n",
       "      <td>56</td>\n",
       "      <td>810</td>\n",
       "      <td>3976</td>\n",
       "    </tr>\n",
       "  </tbody>\n",
       "</table>\n",
       "</div>"
      ],
      "text/plain": [
       "       Short description Description short_desc_lang   short_desc_en  \\\n",
       "count               8492        8499            8492            8492   \n",
       "unique              7481        7817              50            7379   \n",
       "top       password reset         the              en  password reset   \n",
       "freq                  38          56            7613              48   \n",
       "\n",
       "       description_lang description_en             Caller Assignment group  \n",
       "count              8497           8497               8500             8500  \n",
       "unique               36           7752               2950               74  \n",
       "top                  en            the  bpctwhsn kzqsbmtp            GRP_0  \n",
       "freq               7768             56                810             3976  "
      ]
     },
     "execution_count": 8,
     "metadata": {},
     "output_type": "execute_result"
    }
   ],
   "source": [
    "# We are going to use the DataFrame df for further processing \n",
    "df.describe()"
   ]
  },
  {
   "cell_type": "code",
   "execution_count": 9,
   "metadata": {
    "colab": {
     "base_uri": "https://localhost:8080/",
     "height": 51
    },
    "colab_type": "code",
    "id": "4qpWuek_ANfp",
    "outputId": "329703c8-3cf1-4561-dfdb-3b90d0cf566f"
   },
   "outputs": [
    {
     "name": "stdout",
     "output_type": "stream",
     "text": [
      "['eylqgodm.ybqkwiam@gmail.com']\n",
      "['john.doe@somecompany.co.uk', 'jane_doe124@gmail.com']\n"
     ]
    }
   ],
   "source": [
    "# There is Email ID in the Description field . we need to saperate this and store in another column \n",
    "#RegEx to find email form the text .. an example below\n",
    "emails = re.findall(r\"[a-z0-9\\.\\-+_]+@[a-z0-9\\.\\-+_]+\\.[a-z]+\", df[\"Description\"][2])\n",
    "print(emails)\n",
    "my_str = \"Hi my name is John and email address is john.doe@somecompany.co.uk and my friend's email is jane_doe124@gmail.com\"\n",
    "emails = re.findall(\"([a-zA-Z0-9_.+-]+@[a-zA-Z0-9-]+\\.[a-zA-Z0-9-.]+)\", my_str)\n",
    "print(emails)\n"
   ]
  },
  {
   "cell_type": "code",
   "execution_count": 10,
   "metadata": {
    "colab": {
     "base_uri": "https://localhost:8080/",
     "height": 239
    },
    "colab_type": "code",
    "id": "BkBjToRrJlPD",
    "outputId": "58f99af6-8c65-4753-c9dc-d492b19ffb82"
   },
   "outputs": [
    {
     "name": "stdout",
     "output_type": "stream",
     "text": [
      "Remove all spaces using RegEx:\n",
      " received from: eylqgodm.ybqkwiam@gmail.com hi i cannot log on to vpn best \n",
      "probleme mit bluescreen .\n",
      "shortcut opening multiple folders    shortcut opening multiple folders\n"
     ]
    }
   ],
   "source": [
    "#RegEx to remove spaces from the text.. an example below\n",
    "t1 = '       Hello  World       From Pankaj \\t\\n\\r\\t \\t /**  Hi There             '\n",
    "print('Remove all spaces using RegEx:\\n', re.sub(r\"\\s+\", \" \", df[\"Description\"][2]), sep='')  # \\s matches all white spaces\n",
    "\n",
    "a = ' '.join([item for item in df[\"Description\"][342].split() if '@' not in item])\n",
    "b = re.sub(r\"received from:\",\"\",a)\n",
    "\n",
    "print(df[\"Short description\"][223])\n",
    "print (a,\"  \",b)\n",
    "#print(df[\"Description\"][223])\n"
   ]
  },
  {
   "cell_type": "code",
   "execution_count": 11,
   "metadata": {
    "colab": {
     "base_uri": "https://localhost:8080/",
     "height": 202
    },
    "colab_type": "code",
    "id": "lbMReq-y652d",
    "outputId": "583a24be-0adc-43f6-da49-7e7a3c0ae2a5"
   },
   "outputs": [
    {
     "data": {
      "text/html": [
       "<div>\n",
       "<style scoped>\n",
       "    .dataframe tbody tr th:only-of-type {\n",
       "        vertical-align: middle;\n",
       "    }\n",
       "\n",
       "    .dataframe tbody tr th {\n",
       "        vertical-align: top;\n",
       "    }\n",
       "\n",
       "    .dataframe thead th {\n",
       "        text-align: right;\n",
       "    }\n",
       "</style>\n",
       "<table border=\"1\" class=\"dataframe\">\n",
       "  <thead>\n",
       "    <tr style=\"text-align: right;\">\n",
       "      <th></th>\n",
       "      <th>Short description</th>\n",
       "      <th>Description</th>\n",
       "      <th>short_desc_lang</th>\n",
       "      <th>short_desc_en</th>\n",
       "      <th>description_lang</th>\n",
       "      <th>description_en</th>\n",
       "      <th>Caller</th>\n",
       "      <th>Assignment group</th>\n",
       "    </tr>\n",
       "  </thead>\n",
       "  <tbody>\n",
       "    <tr>\n",
       "      <th>0</th>\n",
       "      <td>login issue</td>\n",
       "      <td>-verified user details.(employee# &amp; manager na...</td>\n",
       "      <td>en</td>\n",
       "      <td>login issue</td>\n",
       "      <td>en</td>\n",
       "      <td>-verified user details.(employee# &amp; manager na...</td>\n",
       "      <td>spxjnwir pjlcoqds</td>\n",
       "      <td>GRP_0</td>\n",
       "    </tr>\n",
       "    <tr>\n",
       "      <th>1</th>\n",
       "      <td>outlook</td>\n",
       "      <td>\\r\\n\\r\\nreceived from: hmjdrvpb.komuaywn@gmail...</td>\n",
       "      <td>en</td>\n",
       "      <td>outlook</td>\n",
       "      <td>en</td>\n",
       "      <td>\\n\\nreceived from: hmjdrvpb.komuaywn@gmail.com...</td>\n",
       "      <td>hmjdrvpb komuaywn</td>\n",
       "      <td>GRP_0</td>\n",
       "    </tr>\n",
       "    <tr>\n",
       "      <th>2</th>\n",
       "      <td>cant log in to vpn</td>\n",
       "      <td>\\r\\n\\r\\nreceived from: eylqgodm.ybqkwiam@gmail...</td>\n",
       "      <td>en</td>\n",
       "      <td>cant log in to vpn</td>\n",
       "      <td>en</td>\n",
       "      <td>\\n\\nreceived from: eylqgodm.ybqkwiam@gmail.com...</td>\n",
       "      <td>eylqgodm ybqkwiam</td>\n",
       "      <td>GRP_0</td>\n",
       "    </tr>\n",
       "    <tr>\n",
       "      <th>3</th>\n",
       "      <td>unable to access hr_tool page</td>\n",
       "      <td>unable to access hr_tool page</td>\n",
       "      <td>en</td>\n",
       "      <td>unable to access hr_tool page</td>\n",
       "      <td>en</td>\n",
       "      <td>unable to access hr_tool page</td>\n",
       "      <td>xbkucsvz gcpydteq</td>\n",
       "      <td>GRP_0</td>\n",
       "    </tr>\n",
       "    <tr>\n",
       "      <th>4</th>\n",
       "      <td>skype error</td>\n",
       "      <td>skype error</td>\n",
       "      <td>en</td>\n",
       "      <td>skype error</td>\n",
       "      <td>en</td>\n",
       "      <td>skype error</td>\n",
       "      <td>owlgqjme qhcozdfx</td>\n",
       "      <td>GRP_0</td>\n",
       "    </tr>\n",
       "  </tbody>\n",
       "</table>\n",
       "</div>"
      ],
      "text/plain": [
       "               Short description  \\\n",
       "0                    login issue   \n",
       "1                        outlook   \n",
       "2             cant log in to vpn   \n",
       "3  unable to access hr_tool page   \n",
       "4                   skype error    \n",
       "\n",
       "                                         Description short_desc_lang  \\\n",
       "0  -verified user details.(employee# & manager na...              en   \n",
       "1  \\r\\n\\r\\nreceived from: hmjdrvpb.komuaywn@gmail...              en   \n",
       "2  \\r\\n\\r\\nreceived from: eylqgodm.ybqkwiam@gmail...              en   \n",
       "3                      unable to access hr_tool page              en   \n",
       "4                                       skype error               en   \n",
       "\n",
       "                   short_desc_en description_lang  \\\n",
       "0                    login issue               en   \n",
       "1                        outlook               en   \n",
       "2             cant log in to vpn               en   \n",
       "3  unable to access hr_tool page               en   \n",
       "4                    skype error               en   \n",
       "\n",
       "                                      description_en             Caller  \\\n",
       "0  -verified user details.(employee# & manager na...  spxjnwir pjlcoqds   \n",
       "1  \\n\\nreceived from: hmjdrvpb.komuaywn@gmail.com...  hmjdrvpb komuaywn   \n",
       "2  \\n\\nreceived from: eylqgodm.ybqkwiam@gmail.com...  eylqgodm ybqkwiam   \n",
       "3                      unable to access hr_tool page  xbkucsvz gcpydteq   \n",
       "4                                        skype error  owlgqjme qhcozdfx   \n",
       "\n",
       "  Assignment group  \n",
       "0            GRP_0  \n",
       "1            GRP_0  \n",
       "2            GRP_0  \n",
       "3            GRP_0  \n",
       "4            GRP_0  "
      ]
     },
     "execution_count": 11,
     "metadata": {},
     "output_type": "execute_result"
    }
   ],
   "source": [
    "df.head(5)"
   ]
  },
  {
   "cell_type": "code",
   "execution_count": 12,
   "metadata": {},
   "outputs": [
    {
     "data": {
      "text/plain": [
       "Int64Index([2604, 3383, 3906, 3910, 3915, 3921, 3924, 4341], dtype='int64')"
      ]
     },
     "execution_count": 12,
     "metadata": {},
     "output_type": "execute_result"
    }
   ],
   "source": [
    "#Find and impute Null values from Short description \n",
    "df[pd.isnull(df[\"Short description\"]) == True].index"
   ]
  },
  {
   "cell_type": "code",
   "execution_count": 13,
   "metadata": {},
   "outputs": [],
   "source": [
    "#Impute Null values of short description with the column 'Description'\n",
    "for i in df[pd.isnull(df[\"Short description\"]) == True].index :\n",
    "  df[\"Short description\"][i] = df[\"Description\"][i]\n",
    "  df[\"short_desc_lang\"][i] = df[\"description_lang\"][i]\n",
    "  df[\"short_desc_en\"][i] = df[\"description_en\"][i]"
   ]
  },
  {
   "cell_type": "code",
   "execution_count": 14,
   "metadata": {},
   "outputs": [
    {
     "data": {
      "text/plain": [
       "Int64Index([4395], dtype='int64')"
      ]
     },
     "execution_count": 14,
     "metadata": {},
     "output_type": "execute_result"
    }
   ],
   "source": [
    "# Find Null values in the field \"Description\"\n",
    "df[pd.isnull(df[\"Description\"]) == True].index"
   ]
  },
  {
   "cell_type": "code",
   "execution_count": 15,
   "metadata": {},
   "outputs": [],
   "source": [
    "# Impute Null values with \"Short Description \"\n",
    "for i in df[pd.isnull(df[\"Description\"]) == True].index :\n",
    "  df[\"Description\"][i] = df[\"Short description\"][i]\n",
    "  df[\"description_lang\"][i] = df[\"short_desc_lang\"][i]\n",
    "  df[\"description_en\"][i] = df[\"short_desc_en\"][i]"
   ]
  },
  {
   "cell_type": "code",
   "execution_count": 16,
   "metadata": {},
   "outputs": [],
   "source": [
    "for i in df[pd.isnull(df[\"description_lang\"]) == True].index :\n",
    "  df[\"Description\"][i] = df[\"Short description\"][i]\n",
    "  df[\"description_lang\"][i] = df[\"short_desc_lang\"][i]\n",
    "  df[\"description_en\"][i] = df[\"short_desc_en\"][i]"
   ]
  },
  {
   "cell_type": "code",
   "execution_count": 17,
   "metadata": {
    "colab": {
     "base_uri": "https://localhost:8080/",
     "height": 102
    },
    "colab_type": "code",
    "id": "HgdRkio-750W",
    "outputId": "1e9adbee-1c3a-44c6-cc68-efe38ac5d00d"
   },
   "outputs": [
    {
     "data": {
      "text/plain": [
       "Short description    8500\n",
       "Description          8500\n",
       "short_desc_lang      8500\n",
       "short_desc_en        8500\n",
       "description_lang     8500\n",
       "description_en       8500\n",
       "Caller               8500\n",
       "Assignment group     8500\n",
       "dtype: int64"
      ]
     },
     "execution_count": 17,
     "metadata": {},
     "output_type": "execute_result"
    }
   ],
   "source": [
    "df.count()"
   ]
  },
  {
   "cell_type": "code",
   "execution_count": 18,
   "metadata": {
    "colab": {
     "base_uri": "https://localhost:8080/",
     "height": 376
    },
    "colab_type": "code",
    "id": "E9EFXVBV8OJQ",
    "outputId": "5264f8da-9e6f-4c83-b0e7-9a9b9b16d057"
   },
   "outputs": [
    {
     "name": "stdout",
     "output_type": "stream",
     "text": [
      "0.0 % ==========12.0 % ==========24.0 % ==========35.0 % ==========47.0 % ==========59.0 % ==========71.0 % ==========82.0 % ==========94.0 % ====="
     ]
    }
   ],
   "source": [
    "#df[\"short_desc_lang\"] = \"\"\n",
    "#df[\"short_desc_en\"] = \"\"\n",
    "#df[\"description_lang\"]=\"\"\n",
    "#df[\"description_en\"] = \"\"\n",
    "df[\"emails\"] = \"\"\n",
    "df[\"email_type\"]=\"\"\n",
    "df[\"short_desc_spl\"] = \"\"\n",
    "df[\"description_spl\"] = \"\"\n",
    "df[\"short_desc_len\"] = \"\"\n",
    "df[\"description_len\"] = \"\"\n",
    "df[\"no_of_splch_removed1\"]=\"\"\n",
    "df[\"no_of_splch_removed1_pct\"]=\"\"\n",
    "df[\"no_of_splch_removed2\"]=\"\"\n",
    "df[\"no_of_splch_removed2_pct\"]=\"\"\n",
    "df[\"short_desc_en_spl\"] = \"\"\n",
    "df[\"description_en_spl\"] = \"\"\n",
    "df[\"short_desc_en_len\"] = \"\"\n",
    "df[\"description_en_len\"] = \"\"\n",
    "df[\"trimmed_words\"] = \"\"\n",
    "df[\"trimmed_words_len\"] = \"\"\n",
    "df[\"mark_for_delete\"]=\"\"\n",
    "\n",
    "x = 0\n",
    "\n",
    "for i in range(len(df)):  \n",
    "  short_desc = str(df[\"Short description\"][i]).encode('ascii','ignore').decode()\n",
    "  df.loc[i,\"no_of_splch_removed1\"] = len(df[\"Short description\"][i]) - len(str(df[\"Short description\"][i]).encode('ascii','ignore').decode())\n",
    "  df.loc[i,\"no_of_splch_removed1_pct\"] = np.round((df.loc[i,\"no_of_splch_removed1\"]*100 / len(df[\"Short description\"][i])),1)\n",
    "  desc = str(df[\"Description\"][i]).encode('ascii','ignore').decode()\n",
    "  df.loc[i,\"no_of_splch_removed2\"] = len(df[\"Description\"][i]) - len(str(df[\"Description\"][i]).encode('ascii','ignore').decode())\n",
    "  df.loc[i,\"no_of_splch_removed2_pct\"] = np.round((df.loc[i,\"no_of_splch_removed2\"]*100 / len(df[\"Description\"][i])),1)\n",
    "    \n",
    "  # The below Funtion is to transilate the sentances to English but this free API has miliation. Hence not used. \n",
    "  # We used the pre transilated input data (using Googl sheet)\n",
    "  #if b == \"en\" :\n",
    "  #      trn = Translator().translate(short_desc, dest = \"en\", src = \"auto\")\n",
    "  #      short_desc_en = trn.text \n",
    "  #      trn1 = Translator().translate(desc, dest = \"en\", src = \"auto\")\n",
    "  #      Description_en = trn1.text\n",
    "  #else :\n",
    "  \n",
    "  #The below function is to remove Junk Characters from text \n",
    "  short_desc_en = str(df[\"short_desc_en\"][i]).encode('ascii','ignore').decode()\n",
    "  Description_en =str(df[\"description_en\"][i]).encode('ascii','ignore').decode()\n",
    "  \n",
    "  # Finding the first Email Address from the 'Description' column. \n",
    "  if(len(re.findall(r\"[a-z0-9\\.\\-+_]+@[a-z0-9\\.\\-+_]+\\.[a-z]+\", df[\"Description\"][i]))) > 0:\n",
    "      df.loc[i,\"emails\"] = re.findall(r\"[a-z0-9\\.\\-+_]+@[a-z0-9\\.\\-+_]+\\.[a-z]+\", df[\"Description\"][i])[0]\n",
    "    #df[\"emails\"][i] = re.findall(r\"[a-z0-9\\.\\-+_]+@[a-z0-9\\.\\-+_]+\\.[a-z]+\", df[\"Description\"][i])\n",
    "  \n",
    "  #Removing the Email ID from the short description ------------------------------------\n",
    "  fltr_txt = ' '.join([item for item in short_desc.split() if '@' not in item])\n",
    "  fltr_txt = re.sub(r\"received from:\",\"\",fltr_txt)\n",
    "  alpha = \"\"\n",
    "  for char in fltr_txt:\n",
    "    if char.isspace():\n",
    "      alpha+= \" \"\n",
    "    if char.isalnum():\n",
    "      alpha+= char.lower()\n",
    "  df.loc[i,\"short_desc_spl\"] = str(\" \".join(alpha.split()))\n",
    "  df.loc[i,\"short_desc_len\"] = len(alpha.split()) \n",
    "  #df.loc[i,\"no_splch_removed\"] = len(fltr_txt)-len(alpha.split())  \n",
    "  #Removing the Email ID from the Description-------------------------------------------------\n",
    "  fltr_txt1 = ' '.join([item for item in desc.split() if '@' not in item])\n",
    "  fltr_txt1 = re.sub(r\"received from:\",\"\",fltr_txt1)\n",
    "  alpha1 = \"\"\n",
    "  for char in fltr_txt1:\n",
    "    if char.isspace():\n",
    "      alpha1+= \" \"\n",
    "    if char.isalnum():\n",
    "      alpha1+= char.lower()\n",
    "  df.loc[i,\"description_spl\"] = str(\" \".join(alpha1.split()))\n",
    "  df.loc[i,\"description_len\"] = len(alpha1.split())  \n",
    "  #----------------------------   \n",
    "  fltr_txt = ' '.join([item for item in short_desc_en.split() if '@' not in item])\n",
    "  fltr_txt = re.sub(r\"received from:\",\"\",fltr_txt)\n",
    "  alpha = \"\"\n",
    "  for char in fltr_txt:\n",
    "    if char.isspace():\n",
    "      alpha+= \" \"\n",
    "    if char.isalnum():\n",
    "      alpha+= char.lower()\n",
    "  df.loc[i,\"short_desc_en_spl\"] = str(\" \".join(alpha.split()))\n",
    "  df.loc[i,\"short_desc_en_len\"] = len(alpha.split()) \n",
    "  #---------------------------------\n",
    "  fltr_txt1 = ' '.join([item for item in Description_en.split() if '@' not in item])\n",
    "  fltr_txt1 = re.sub(r\"received from:\",\"\",fltr_txt1)\n",
    "  alpha1 = \"\"\n",
    "  for char in fltr_txt1:\n",
    "    if char.isspace():\n",
    "      alpha1+= \" \"\n",
    "    if char.isalnum():\n",
    "      alpha1+= char.lower()\n",
    "  df.loc[i,\"description_en_spl\"] = str(\" \".join(alpha1.split())) \n",
    "  df.loc[i,\"description_en_len\"] = len(alpha1.split())\n",
    "  \n",
    "  #--------------------------------------  \n",
    "  # Final Text after stop word removal and combining both short and long description\n",
    "  if df[\"short_desc_en_spl\"][i] == df[\"description_en_spl\"][i] : \n",
    "    df.loc[i,\"trimmed_words\"] = \" \".join([item for item in df[\"short_desc_en_spl\"][i].split() if item not in stop_words])\n",
    "  else :\n",
    "    df.loc[i,\"trimmed_words\"] = \" \".join([item for item in df[\"short_desc_en_spl\"][i].split() if item not in stop_words])+\" \"+\" \".join([item for item in df[\"description_en_spl\"][i].split() if item not in stop_words])\n",
    "  #Mark records with lot of junk characters for  delete -----------------------------------------------\n",
    "  df.loc[i,\"trimmed_words_len\"] = len(df[\"trimmed_words\"][i].split())\n",
    "  if df[\"trimmed_words_len\"][i] <= 1:\n",
    "    df.loc[i,\"mark_for_delete\"]= 1\n",
    "  if df[\"no_of_splch_removed1_pct\"][i]>50: # sentances with more than 50% junk\n",
    "    df.loc[i,\"mark_for_delete\"]= 1\n",
    "  #Progress Bar-----------------------------------------------------------------------------------------------------------\n",
    "  if np.mod(i,1000) == 0:\n",
    "    #print(\"\\n\")\n",
    "    print(np.round((i*100/len(df))),\"% \", end = \"\")\n",
    "  if np.mod(i,100) == 0:\n",
    "    print(\"=\", end = \"\")\n",
    "  "
   ]
  },
  {
   "cell_type": "code",
   "execution_count": 19,
   "metadata": {},
   "outputs": [
    {
     "data": {
      "text/plain": [
       "'engineering tool says connected unable submit reports'"
      ]
     },
     "execution_count": 19,
     "metadata": {},
     "output_type": "execute_result"
    }
   ],
   "source": [
    "df[\"trimmed_words\"][10]"
   ]
  },
  {
   "cell_type": "code",
   "execution_count": 20,
   "metadata": {},
   "outputs": [],
   "source": [
    "#Word Tokenizer\n",
    "numword = 2000\n",
    "t = Tokenizer(num_words=numword)\n",
    "t.fit_on_texts((df[\"short_desc_en_spl\"]))\n",
    "t1 = Tokenizer(num_words=numword)\n",
    "t1.fit_on_texts((df[\"description_en_spl\"]))\n"
   ]
  },
  {
   "cell_type": "code",
   "execution_count": 21,
   "metadata": {},
   "outputs": [],
   "source": [
    "#build a word Corpus\n",
    "short_desc_words = pd.DataFrame()\n",
    "short_desc_words[\"word_index\"] = \"\"\n",
    "short_desc_words[\"word\"] = \"\"\n",
    "short_desc_words[\"word_count\"] = \"\"\n",
    "\n",
    "desc_words = pd.DataFrame()\n",
    "desc_words[\"word_index\"] = \"\"\n",
    "desc_words[\"word\"] = \"\"\n",
    "desc_words[\"word_count\"] = \"\"\n",
    "\n",
    "\n",
    "i = 0\n",
    "for word in t.word_index:\n",
    "    if not word in stop_words:\n",
    "        if i<= 1500 :\n",
    "            new_row = {'word_index':t.word_index[word], 'word':word, 'word_count':t.word_counts[word]}\n",
    "            short_desc_words = short_desc_words.append(new_row, ignore_index=True)\n",
    "            i = i+1\n",
    "\n",
    "        \n",
    "i = 0\n",
    "for word in t1.word_index:\n",
    "    if not word in stop_words:\n",
    "        if i<= 1500 :\n",
    "            new_row = {'word_index':t1.word_index[word], 'word':word, 'word_count':t1.word_counts[word]}\n",
    "            desc_words = desc_words.append(new_row, ignore_index=True)\n",
    "            i = i+1\n"
   ]
  },
  {
   "cell_type": "code",
   "execution_count": 22,
   "metadata": {},
   "outputs": [
    {
     "data": {
      "text/html": [
       "<div>\n",
       "<style scoped>\n",
       "    .dataframe tbody tr th:only-of-type {\n",
       "        vertical-align: middle;\n",
       "    }\n",
       "\n",
       "    .dataframe tbody tr th {\n",
       "        vertical-align: top;\n",
       "    }\n",
       "\n",
       "    .dataframe thead th {\n",
       "        text-align: right;\n",
       "    }\n",
       "</style>\n",
       "<table border=\"1\" class=\"dataframe\">\n",
       "  <thead>\n",
       "    <tr style=\"text-align: right;\">\n",
       "      <th></th>\n",
       "      <th>word_index</th>\n",
       "      <th>word</th>\n",
       "      <th>word_count</th>\n",
       "    </tr>\n",
       "  </thead>\n",
       "  <tbody>\n",
       "    <tr>\n",
       "      <th>0</th>\n",
       "      <td>5</td>\n",
       "      <td>job</td>\n",
       "      <td>978</td>\n",
       "    </tr>\n",
       "    <tr>\n",
       "      <th>1</th>\n",
       "      <td>7</td>\n",
       "      <td>jobscheduler</td>\n",
       "      <td>959</td>\n",
       "    </tr>\n",
       "    <tr>\n",
       "      <th>2</th>\n",
       "      <td>9</td>\n",
       "      <td>password</td>\n",
       "      <td>889</td>\n",
       "    </tr>\n",
       "    <tr>\n",
       "      <th>3</th>\n",
       "      <td>10</td>\n",
       "      <td>erp</td>\n",
       "      <td>854</td>\n",
       "    </tr>\n",
       "    <tr>\n",
       "      <th>4</th>\n",
       "      <td>11</td>\n",
       "      <td>failed</td>\n",
       "      <td>829</td>\n",
       "    </tr>\n",
       "    <tr>\n",
       "      <th>...</th>\n",
       "      <td>...</td>\n",
       "      <td>...</td>\n",
       "      <td>...</td>\n",
       "    </tr>\n",
       "    <tr>\n",
       "      <th>1496</th>\n",
       "      <td>1603</td>\n",
       "      <td>plug</td>\n",
       "      <td>3</td>\n",
       "    </tr>\n",
       "    <tr>\n",
       "      <th>1497</th>\n",
       "      <td>1604</td>\n",
       "      <td>previous</td>\n",
       "      <td>3</td>\n",
       "    </tr>\n",
       "    <tr>\n",
       "      <th>1498</th>\n",
       "      <td>1605</td>\n",
       "      <td>dns</td>\n",
       "      <td>3</td>\n",
       "    </tr>\n",
       "    <tr>\n",
       "      <th>1499</th>\n",
       "      <td>1606</td>\n",
       "      <td>hardcopy</td>\n",
       "      <td>3</td>\n",
       "    </tr>\n",
       "    <tr>\n",
       "      <th>1500</th>\n",
       "      <td>1607</td>\n",
       "      <td>lndypaqg</td>\n",
       "      <td>3</td>\n",
       "    </tr>\n",
       "  </tbody>\n",
       "</table>\n",
       "<p>1501 rows × 3 columns</p>\n",
       "</div>"
      ],
      "text/plain": [
       "     word_index          word word_count\n",
       "0             5           job        978\n",
       "1             7  jobscheduler        959\n",
       "2             9      password        889\n",
       "3            10           erp        854\n",
       "4            11        failed        829\n",
       "...         ...           ...        ...\n",
       "1496       1603          plug          3\n",
       "1497       1604      previous          3\n",
       "1498       1605           dns          3\n",
       "1499       1606      hardcopy          3\n",
       "1500       1607      lndypaqg          3\n",
       "\n",
       "[1501 rows x 3 columns]"
      ]
     },
     "execution_count": 22,
     "metadata": {},
     "output_type": "execute_result"
    }
   ],
   "source": [
    "short_desc_words"
   ]
  },
  {
   "cell_type": "code",
   "execution_count": 23,
   "metadata": {},
   "outputs": [
    {
     "data": {
      "text/html": [
       "<div>\n",
       "<style scoped>\n",
       "    .dataframe tbody tr th:only-of-type {\n",
       "        vertical-align: middle;\n",
       "    }\n",
       "\n",
       "    .dataframe tbody tr th {\n",
       "        vertical-align: top;\n",
       "    }\n",
       "\n",
       "    .dataframe thead th {\n",
       "        text-align: right;\n",
       "    }\n",
       "</style>\n",
       "<table border=\"1\" class=\"dataframe\">\n",
       "  <thead>\n",
       "    <tr style=\"text-align: right;\">\n",
       "      <th></th>\n",
       "      <th>word_index</th>\n",
       "      <th>word</th>\n",
       "      <th>word_count</th>\n",
       "    </tr>\n",
       "  </thead>\n",
       "  <tbody>\n",
       "    <tr>\n",
       "      <th>0</th>\n",
       "      <td>9</td>\n",
       "      <td>please</td>\n",
       "      <td>2074</td>\n",
       "    </tr>\n",
       "    <tr>\n",
       "      <th>1</th>\n",
       "      <td>14</td>\n",
       "      <td>yesnona</td>\n",
       "      <td>1568</td>\n",
       "    </tr>\n",
       "    <tr>\n",
       "      <th>2</th>\n",
       "      <td>17</td>\n",
       "      <td>password</td>\n",
       "      <td>1205</td>\n",
       "    </tr>\n",
       "    <tr>\n",
       "      <th>3</th>\n",
       "      <td>20</td>\n",
       "      <td>user</td>\n",
       "      <td>1161</td>\n",
       "    </tr>\n",
       "    <tr>\n",
       "      <th>4</th>\n",
       "      <td>21</td>\n",
       "      <td>erp</td>\n",
       "      <td>1145</td>\n",
       "    </tr>\n",
       "    <tr>\n",
       "      <th>...</th>\n",
       "      <td>...</td>\n",
       "      <td>...</td>\n",
       "      <td>...</td>\n",
       "    </tr>\n",
       "    <tr>\n",
       "      <th>1496</th>\n",
       "      <td>1613</td>\n",
       "      <td>second</td>\n",
       "      <td>13</td>\n",
       "    </tr>\n",
       "    <tr>\n",
       "      <th>1497</th>\n",
       "      <td>1614</td>\n",
       "      <td>ph</td>\n",
       "      <td>13</td>\n",
       "    </tr>\n",
       "    <tr>\n",
       "      <th>1498</th>\n",
       "      <td>1615</td>\n",
       "      <td>sometimes</td>\n",
       "      <td>13</td>\n",
       "    </tr>\n",
       "    <tr>\n",
       "      <th>1499</th>\n",
       "      <td>1616</td>\n",
       "      <td>across</td>\n",
       "      <td>13</td>\n",
       "    </tr>\n",
       "    <tr>\n",
       "      <th>1500</th>\n",
       "      <td>1617</td>\n",
       "      <td>16</td>\n",
       "      <td>13</td>\n",
       "    </tr>\n",
       "  </tbody>\n",
       "</table>\n",
       "<p>1501 rows × 3 columns</p>\n",
       "</div>"
      ],
      "text/plain": [
       "     word_index       word word_count\n",
       "0             9     please       2074\n",
       "1            14    yesnona       1568\n",
       "2            17   password       1205\n",
       "3            20       user       1161\n",
       "4            21        erp       1145\n",
       "...         ...        ...        ...\n",
       "1496       1613     second         13\n",
       "1497       1614         ph         13\n",
       "1498       1615  sometimes         13\n",
       "1499       1616     across         13\n",
       "1500       1617         16         13\n",
       "\n",
       "[1501 rows x 3 columns]"
      ]
     },
     "execution_count": 23,
     "metadata": {},
     "output_type": "execute_result"
    }
   ],
   "source": [
    "desc_words"
   ]
  },
  {
   "cell_type": "code",
   "execution_count": 24,
   "metadata": {},
   "outputs": [],
   "source": [
    "short_desc_words.to_csv(\"short_desc_words.csv\")\n",
    "desc_words.to_csv(\"desc_words.csv\")"
   ]
  },
  {
   "cell_type": "code",
   "execution_count": 25,
   "metadata": {},
   "outputs": [
    {
     "data": {
      "text/plain": [
       "[[5], [88]]"
      ]
     },
     "execution_count": 25,
     "metadata": {},
     "output_type": "execute_result"
    }
   ],
   "source": [
    "t.texts_to_sequences('job has'.split())"
   ]
  },
  {
   "cell_type": "code",
   "execution_count": 26,
   "metadata": {},
   "outputs": [
    {
     "data": {
      "text/plain": [
       "5"
      ]
     },
     "execution_count": 26,
     "metadata": {},
     "output_type": "execute_result"
    }
   ],
   "source": [
    "t.word_index['job']"
   ]
  },
  {
   "cell_type": "code",
   "execution_count": 27,
   "metadata": {},
   "outputs": [],
   "source": [
    "df[\"flg_account_related\"]=0\n",
    "df[\"flg_crm\"]=0\n",
    "df[\"flg_engineering\"]=0\n",
    "df[\"flg_erp\"]=0\n",
    "df[\"flg_failed\"]=0\n",
    "df[\"flg_help\"]=0\n",
    "df[\"flg_install\"]=0\n",
    "df[\"flg_job\"]=0\n",
    "df[\"flg_laptop\"]=0\n",
    "df[\"flg_mobile\"]=0\n",
    "df[\"flg_network\"]=0\n",
    "df[\"flg_outlook\"]=0\n",
    "df[\"flg_printer\"]=0\n",
    "df[\"flg_skype\"]=0\n",
    "df[\"flg_ticket_update\"]=0\n",
    "df[\"flg_vpn\"]=0\n",
    "df[\"flg_windows\"]=0\n",
    "df[\"host_related\"]=0\n",
    "df[\"mobile\"]=0\n",
    "df[\"blank_call\"]=0\n",
    "df[\"setup_ws\"]=0"
   ]
  },
  {
   "cell_type": "code",
   "execution_count": 28,
   "metadata": {},
   "outputs": [
    {
     "name": "stdout",
     "output_type": "stream",
     "text": [
      "0.0 % ==========12.0 % ==========24.0 % ==========35.0 % ==========47.0 % ==========59.0 % ==========71.0 % ==========82.0 % ==========94.0 % ====="
     ]
    }
   ],
   "source": [
    "\n",
    "for i in range(len(df)):\n",
    "#---------------------------------------------------------------------\n",
    "    if df[\"emails\"][i].find(\"gmail\") >= 0:\n",
    "        df.loc[i,\"email_type\"] = \"gmail\"\n",
    "    else: \n",
    "        if df[\"emails\"][i].find(\"monitoring_tool@\") >=0:\n",
    "            df.loc[i,\"email_type\"] = \"monitoring_tool\"\n",
    "        else:\n",
    "            if df[\"emails\"][i].find(\"company\") >=0:\n",
    "                df.loc[i,\"email_type\"] = \"company\"\n",
    "            else :\n",
    "                df.loc[i,\"email_type\"] = \"others\"\n",
    "    \n",
    "    if df[\"trimmed_words\"][i].find(\"access\") >= 0 :\n",
    "        df.loc[i,\"flg_account_related\"] = 1\n",
    "    if df[\"trimmed_words\"][i].find(\"account\") >= 0 :\n",
    "        df.loc[i,\"flg_account_related\"] = 1\n",
    "    if df[\"trimmed_words\"][i].find(\"locked\") >= 0 :\n",
    "        df.loc[i,\"flg_account_related\"] = 1\n",
    "    if df[\"trimmed_words\"][i].find(\"login\") >= 0 :\n",
    "        df.loc[i,\"flg_account_related\"] = 1\n",
    "    if df[\"trimmed_words\"][i].find(\"logon\") >= 0 :\n",
    "        df.loc[i,\"flg_account_related\"] = 1\n",
    "    if df[\"trimmed_words\"][i].find(\"password\") >= 0 :\n",
    "        df.loc[i,\"flg_account_related\"] = 1\n",
    "    if df[\"trimmed_words\"][i].find(\"passwordmanagementtool\") >= 0 :\n",
    "        df.loc[i,\"flg_account_related\"] = 1\n",
    "    if df[\"trimmed_words\"][i].find(\"passwords\") >= 0 :\n",
    "        df.loc[i,\"flg_account_related\"] = 1\n",
    "    if df[\"trimmed_words\"][i].find(\"reset\") >= 0 :\n",
    "        df.loc[i,\"flg_account_related\"] = 1\n",
    "    if df[\"trimmed_words\"][i].find(\"tologin\") >= 0 :\n",
    "        df.loc[i,\"flg_account_related\"] = 1\n",
    "    if df[\"trimmed_words\"][i].find(\"unlock\") >= 0 :\n",
    "        df.loc[i,\"flg_account_related\"] = 1\n",
    "    if df[\"trimmed_words\"][i].find(\"user\") >= 0 :\n",
    "        df.loc[i,\"flg_account_related\"] = 1\n",
    "#---------------------------------------------------------------------    \n",
    "    if df[\"trimmed_words\"][i].find(\"circuit\") >= 0 :\n",
    "        df.loc[i,\"flg_network\"] = 1\n",
    "    if df[\"trimmed_words\"][i].find(\"connection\") >= 0 :\n",
    "        df.loc[i,\"flg_network\"] = 1\n",
    "    if df[\"trimmed_words\"][i].find(\"network\") >= 0 :\n",
    "        df.loc[i,\"flg_network\"] = 1\n",
    "    if df[\"trimmed_words\"][i].find(\"outage\") >= 0 :\n",
    "        df.loc[i,\"flg_network\"] = 1\n",
    "    if df[\"trimmed_words\"][i].find(\"server\") >= 0 :\n",
    "        df.loc[i,\"flg_network\"] = 1\n",
    "#---------------------------------------------------------------------    \n",
    "    if df[\"trimmed_words\"][i].find(\"vpn\") >= 0 :\n",
    "        df.loc[i,\"flg_vpn\"] = 1\n",
    "    if df[\"trimmed_words\"][i].find(\"vpncompanycom\") >= 0 :\n",
    "        df.loc[i,\"flg_vpn\"] = 1\n",
    "#---------------------------------------------------------------------    \n",
    "    if df[\"trimmed_words\"][i].find(\"computer\") >= 0 :\n",
    "        df.loc[i,\"flg_laptop\"] = 1\n",
    "#---------------------------------------------------------------------    \n",
    "    if df[\"trimmed_words\"][i].find(\"crm\") >= 0 :\n",
    "        df.loc[i,\"flg_crm\"] = 1\n",
    "#---------------------------------------------------------------------    \n",
    "    if df[\"trimmed_words\"][i].find(\"email\") >= 0 :\n",
    "        df.loc[i,\"flg_outlook\"] = 1\n",
    "    if df[\"trimmed_words\"][i].find(\"emails\") >= 0 :\n",
    "        df.loc[i,\"flg_outlook\"] = 1\n",
    "#---------------------------------------------------------------------    \n",
    "    if df[\"trimmed_words\"][i].find(\"outlook\") >= 0 :\n",
    "        df.loc[i,\"flg_outlook\"] = 1\n",
    "#---------------------------------------------------------------------    \n",
    "    if df[\"trimmed_words\"][i].find(\"error\") >= 0 :\n",
    "        df.loc[i,\"flg_failed\"] = 1\n",
    "    if df[\"trimmed_words\"][i].find(\"failed\") >= 0 :\n",
    "        df.loc[i,\"flg_failed\"] = 1\n",
    "    if df[\"trimmed_words\"][i].find(\"issue\") >= 0 :\n",
    "        df.loc[i,\"flg_failed\"] = 1\n",
    "#---------------------------------------------------------------------    \n",
    "    if df[\"trimmed_words\"][i].find(\"engineering\") >= 0 :\n",
    "        df.loc[i,\"flg_engineering\"] = 1\n",
    "    if df[\"trimmed_words\"][i].find(\"engineeringtool\") >= 0 :\n",
    "        df.loc[i,\"flg_engineering\"] = 1\n",
    "#---------------------------------------------------------------------    \n",
    "    if df[\"trimmed_words\"][i].find(\"erp\") >= 0 :\n",
    "        df.loc[i,\"flg_erp\"] = 1\n",
    "#---------------------------------------------------------------------    \n",
    "    if df[\"trimmed_words\"][i].find(\"help\") >= 0 :\n",
    "        df.loc[i,\"flg_help\"] = 1\n",
    "#---------------------------------------------------------------------    \n",
    "    if df[\"trimmed_words\"][i].find(\"install\") >= 0 :\n",
    "        df.loc[i,\"flg_install\"] = 1\n",
    "#---------------------------------------------------------------------    \n",
    "    if df[\"trimmed_words\"][i].find(\"job\") >= 0 :\n",
    "        df.loc[i,\"flg_job\"] = 1\n",
    "    if df[\"trimmed_words\"][i].find(\"jobscheduler\") >= 0 :\n",
    "        df.loc[i,\"flg_job\"] = 1\n",
    "#---------------------------------------------------------------------    \n",
    "    if df[\"trimmed_words\"][i].find(\"laptop\") >= 0 :\n",
    "        df.loc[i,\"flg_laptop\"] = 1\n",
    "    if df[\"trimmed_words\"][i].find(\"pc\") >= 0 :\n",
    "        df.loc[i,\"flg_laptop\"] = 1    \n",
    "#---------------------------------------------------------------------    \n",
    "    if df[\"trimmed_words\"][i].find(\"phone\") >= 0 :\n",
    "        df.loc[i,\"flg_mobile\"] = 1\n",
    "    if df[\"trimmed_words\"][i].find(\"telephonysoftware\") >= 0 :\n",
    "        df.loc[i,\"flg_mobile\"] = 1\n",
    "#---------------------------------------------------------------------    \n",
    "    if df[\"trimmed_words\"][i].find(\"print\") >= 0 :\n",
    "        df.loc[i,\"flg_printer\"] = 1\n",
    "    if df[\"trimmed_words\"][i].find(\"printer\") >= 0 :\n",
    "        df.loc[i,\"flg_printer\"] = 1\n",
    "#---------------------------------------------------------------------    \n",
    "    if df[\"trimmed_words\"][i].find(\"skype\") >= 0 :\n",
    "        df.loc[i,\"flg_skype\"] = 1\n",
    "#---------------------------------------------------------------------    \n",
    "    if df[\"trimmed_words\"][i].find(\"problems\") >= 0 :\n",
    "        df.loc[i,\"flg_failed\"] = 1\n",
    "    if df[\"trimmed_words\"][i].find(\"unable\") >= 0 :\n",
    "        df.loc[i,\"flg_failed\"] = 1\n",
    "#---------------------------------------------------------------------    \n",
    "    if df[\"trimmed_words\"][i].find(\"ticket\") >= 0 :\n",
    "        df.loc[i,\"flg_ticket_update\"] = 1\n",
    "    if df[\"trimmed_words\"][i].find(\"update\") >= 0 :\n",
    "        df.loc[i,\"flg_ticket_update\"] = 1\n",
    "#---------------------------------------------------------------------    \n",
    "    if df[\"trimmed_words\"][i].find(\"windows\") >= 0 :\n",
    "        df.loc[i,\"flg_windows\"] = 1\n",
    "#---------------------------------------------------------------------    \n",
    "    if df[\"trimmed_words\"][i].find(\"hostname\") >= 0 :\n",
    "        df.loc[i,\"host_related\"] = 1\n",
    "#---------------------------------------------------------------------    \n",
    "    if df[\"trimmed_words\"][i].find(\"mobile\") >= 0 :\n",
    "        df.loc[i,\"mobile\"] = 1\n",
    "#---------------------------------------------------------------------    \n",
    "    if df[\"trimmed_words\"][i].find(\"blank call\") >= 0 :\n",
    "        df.loc[i,\"blank_call\"] = 1\n",
    "#---------------------------------------------------------------------    \n",
    "    if df[\"trimmed_words\"][i].find(\"setup new ws\") >= 0 :\n",
    "        df.loc[i,\"setup_ws\"] = 1\n",
    "#---------------------------------------------------------------------    \n",
    "    if np.mod(i,1000) == 0:\n",
    "     #print(\"\\n\")\n",
    "      print(np.round((i*100/len(df))),\"% \", end = \"\")\n",
    "    if np.mod(i,100) == 0:\n",
    "      print(\"=\", end = \"\")\n",
    "  "
   ]
  },
  {
   "cell_type": "code",
   "execution_count": 29,
   "metadata": {},
   "outputs": [
    {
     "data": {
      "text/plain": [
       "Short description           object\n",
       "Description                 object\n",
       "short_desc_lang             object\n",
       "short_desc_en               object\n",
       "description_lang            object\n",
       "description_en              object\n",
       "Caller                      object\n",
       "Assignment group            object\n",
       "emails                      object\n",
       "email_type                  object\n",
       "short_desc_spl              object\n",
       "description_spl             object\n",
       "short_desc_len              object\n",
       "description_len             object\n",
       "no_of_splch_removed1        object\n",
       "no_of_splch_removed1_pct    object\n",
       "no_of_splch_removed2        object\n",
       "no_of_splch_removed2_pct    object\n",
       "short_desc_en_spl           object\n",
       "description_en_spl          object\n",
       "short_desc_en_len           object\n",
       "description_en_len          object\n",
       "trimmed_words               object\n",
       "trimmed_words_len           object\n",
       "mark_for_delete             object\n",
       "flg_account_related          int64\n",
       "flg_crm                      int64\n",
       "flg_engineering              int64\n",
       "flg_erp                      int64\n",
       "flg_failed                   int64\n",
       "flg_help                     int64\n",
       "flg_install                  int64\n",
       "flg_job                      int64\n",
       "flg_laptop                   int64\n",
       "flg_mobile                   int64\n",
       "flg_network                  int64\n",
       "flg_outlook                  int64\n",
       "flg_printer                  int64\n",
       "flg_skype                    int64\n",
       "flg_ticket_update            int64\n",
       "flg_vpn                      int64\n",
       "flg_windows                  int64\n",
       "host_related                 int64\n",
       "mobile                       int64\n",
       "blank_call                   int64\n",
       "setup_ws                     int64\n",
       "dtype: object"
      ]
     },
     "execution_count": 29,
     "metadata": {},
     "output_type": "execute_result"
    }
   ],
   "source": [
    "df.dtypes"
   ]
  },
  {
   "cell_type": "code",
   "execution_count": 30,
   "metadata": {},
   "outputs": [
    {
     "data": {
      "text/plain": [
       "<matplotlib.axes._subplots.AxesSubplot at 0x26bceffb748>"
      ]
     },
     "execution_count": 30,
     "metadata": {},
     "output_type": "execute_result"
    },
    {
     "data": {
      "image/png": "[encoded data removed]",
      "text/plain": [
       "<Figure size 432x288 with 1 Axes>"
      ]
     },
     "metadata": {
      "needs_background": "light"
     },
     "output_type": "display_data"
    }
   ],
   "source": [
    "sns.distplot(df[\"trimmed_words_len\"])"
   ]
  },
  {
   "cell_type": "code",
   "execution_count": 31,
   "metadata": {},
   "outputs": [
    {
     "data": {
      "text/plain": [
       "<matplotlib.axes._subplots.AxesSubplot at 0x26bceff7048>"
      ]
     },
     "execution_count": 31,
     "metadata": {},
     "output_type": "execute_result"
    },
    {
     "data": {
      "image/png": "[encoded data removed]",
      "text/plain": [
       "<Figure size 432x288 with 1 Axes>"
      ]
     },
     "metadata": {
      "needs_background": "light"
     },
     "output_type": "display_data"
    }
   ],
   "source": [
    "sns.distplot(df[\"short_desc_len\"])"
   ]
  },
  {
   "cell_type": "code",
   "execution_count": 32,
   "metadata": {},
   "outputs": [
    {
     "data": {
      "text/plain": [
       "<matplotlib.axes._subplots.AxesSubplot at 0x26bcf112188>"
      ]
     },
     "execution_count": 32,
     "metadata": {},
     "output_type": "execute_result"
    },
    {
     "data": {
      "image/png": "[encoded data removed]",
      "text/plain": [
       "<Figure size 432x288 with 1 Axes>"
      ]
     },
     "metadata": {
      "needs_background": "light"
     },
     "output_type": "display_data"
    }
   ],
   "source": [
    "sns.distplot(df[\"description_len\"])"
   ]
  },
  {
   "cell_type": "code",
   "execution_count": 33,
   "metadata": {},
   "outputs": [
    {
     "data": {
      "text/plain": [
       "<matplotlib.axes._subplots.AxesSubplot at 0x26bc5988ac8>"
      ]
     },
     "execution_count": 33,
     "metadata": {},
     "output_type": "execute_result"
    },
    {
     "data": {
      "image/png": "[encoded data removed]",
      "text/plain": [
       "<Figure size 432x288 with 1 Axes>"
      ]
     },
     "metadata": {
      "needs_background": "light"
     },
     "output_type": "display_data"
    }
   ],
   "source": [
    "sns.countplot(df[\"email_type\"])"
   ]
  },
  {
   "cell_type": "code",
   "execution_count": 34,
   "metadata": {},
   "outputs": [
    {
     "data": {
      "text/plain": [
       "<matplotlib.axes._subplots.AxesSubplot at 0x26bcf5fec88>"
      ]
     },
     "execution_count": 34,
     "metadata": {},
     "output_type": "execute_result"
    },
    {
     "data": {
      "image/png": "[encoded data removed]",
      "text/plain": [
       "<Figure size 432x288 with 1 Axes>"
      ]
     },
     "metadata": {
      "needs_background": "light"
     },
     "output_type": "display_data"
    }
   ],
   "source": [
    "sns.countplot(df[\"Assignment group\"])"
   ]
  },
  {
   "cell_type": "code",
   "execution_count": 35,
   "metadata": {},
   "outputs": [
    {
     "data": {
      "text/plain": [
       "Assignment group\n",
       "GRP_0     3976\n",
       "GRP_8      661\n",
       "GRP_24     289\n",
       "GRP_12     257\n",
       "GRP_9      252\n",
       "          ... \n",
       "GRP_67       1\n",
       "GRP_61       1\n",
       "GRP_73       1\n",
       "GRP_35       1\n",
       "GRP_70       1\n",
       "Name: Assignment group, Length: 74, dtype: int64"
      ]
     },
     "execution_count": 35,
     "metadata": {},
     "output_type": "execute_result"
    }
   ],
   "source": [
    "a = df.groupby(\"Assignment group\")\n",
    "a[\"Assignment group\"].count().sort_values(ascending = False)"
   ]
  },
  {
   "cell_type": "code",
   "execution_count": 36,
   "metadata": {},
   "outputs": [
    {
     "name": "stdout",
     "output_type": "stream",
     "text": [
      "Short description\n",
      "password reset               38\n",
      "windows password reset       29\n",
      "account locked in ad         24\n",
      "windows account locked       23\n",
      "erp SID_34 account unlock    19\n",
      "login issue                  18\n",
      "blank call                   18\n",
      "account locked.              18\n",
      "unable to connect to vpn     18\n",
      "account unlock               17\n",
      "Name: Short description, dtype: int64\n"
     ]
    }
   ],
   "source": [
    "b = df.groupby(\"Short description\")\n",
    "print(b[\"Short description\"].count().sort_values(ascending = False).head(10))"
   ]
  },
  {
   "cell_type": "code",
   "execution_count": 37,
   "metadata": {},
   "outputs": [
    {
     "name": "stdout",
     "output_type": "stream",
     "text": [
      "Caller\n",
      "bpctwhsn kzqsbmtp    810\n",
      "ZkBogxib QsEJzdZO    151\n",
      "fumkcsji sarmtlhy    134\n",
      "rbozivdq gmlhrtvp     87\n",
      "rkupnshb gsmzfojw     71\n",
      "jloygrwh acvztedi     64\n",
      "spxqmiry zpwgoqju     63\n",
      "oldrctiu bxurpsyi     57\n",
      "olckhmvx pcqobjnd     54\n",
      "dkmcfreg anwmfvlg     51\n",
      "Name: Caller, dtype: int64\n"
     ]
    }
   ],
   "source": [
    "b = df.groupby(\"Caller\")\n",
    "print(b[\"Caller\"].count().sort_values(ascending = False).head(10))"
   ]
  },
  {
   "cell_type": "code",
   "execution_count": 38,
   "metadata": {},
   "outputs": [
    {
     "data": {
      "text/html": [
       "<div>\n",
       "<style scoped>\n",
       "    .dataframe tbody tr th:only-of-type {\n",
       "        vertical-align: middle;\n",
       "    }\n",
       "\n",
       "    .dataframe tbody tr th {\n",
       "        vertical-align: top;\n",
       "    }\n",
       "\n",
       "    .dataframe thead th {\n",
       "        text-align: right;\n",
       "    }\n",
       "</style>\n",
       "<table border=\"1\" class=\"dataframe\">\n",
       "  <thead>\n",
       "    <tr style=\"text-align: right;\">\n",
       "      <th></th>\n",
       "      <th>Short description</th>\n",
       "      <th>Description</th>\n",
       "      <th>trimmed_words</th>\n",
       "      <th>description_en_len</th>\n",
       "      <th>description_en_spl</th>\n",
       "      <th>trimmed_words_len</th>\n",
       "      <th>no_of_splch_removed1</th>\n",
       "    </tr>\n",
       "  </thead>\n",
       "  <tbody>\n",
       "    <tr>\n",
       "      <th>186</th>\n",
       "      <td>é’å²›å…´åˆæœºç”µshipment notificationé‚®ç®±è...</td>\n",
       "      <td>from:  \\nsent: friday, october 28, 2016 7:20 a...</td>\n",
       "      <td>shipment notification sent friday october 28 2...</td>\n",
       "      <td>27</td>\n",
       "      <td>from sent friday october 28 2016 720 am to nwf...</td>\n",
       "      <td>24</td>\n",
       "      <td>30</td>\n",
       "    </tr>\n",
       "    <tr>\n",
       "      <th>276</th>\n",
       "      <td>outlookæ”¶åˆ°ç®±ä¸­folderå˜ä¸ºæ¯å¤©ä¸€ä¸ªfol...</td>\n",
       "      <td>outlookæ”¶åˆ°ç®±ä¸­folderå˜ä¸ºæ¯å¤©ä¸€ä¸ªfol...</td>\n",
       "      <td>outlook c folder folderoffice</td>\n",
       "      <td>4</td>\n",
       "      <td>outlook c folder folderoffice</td>\n",
       "      <td>4</td>\n",
       "      <td>48</td>\n",
       "    </tr>\n",
       "    <tr>\n",
       "      <th>469</th>\n",
       "      <td>ieæµè§ˆå™¨æ‰“å¼€crmç³»ç»ŸåŽæç¤ºç”¨æˆ·å·²è¢...</td>\n",
       "      <td>ieæµè§ˆå™¨æ‰“å¼€crmç³»ç»ŸåŽæç¤ºç”¨æˆ·å·²è¢...</td>\n",
       "      <td>ie crm zae crm ya</td>\n",
       "      <td>6</td>\n",
       "      <td>ie crm there zae crm ya</td>\n",
       "      <td>5</td>\n",
       "      <td>72</td>\n",
       "    </tr>\n",
       "    <tr>\n",
       "      <th>487</th>\n",
       "      <td>msd - office 2013 outlook æ‰“ä¸å¼€ï¼Œæ˜¾ç¤ºæ—...</td>\n",
       "      <td>please provide details of the issue.\\n[â€Ž2016...</td>\n",
       "      <td>msd office 2013 outlook cs please provide deta...</td>\n",
       "      <td>38</td>\n",
       "      <td>please provide details of the issue 2016 z10 z...</td>\n",
       "      <td>37</td>\n",
       "      <td>54</td>\n",
       "    </tr>\n",
       "    <tr>\n",
       "      <th>618</th>\n",
       "      <td>outlookæ‰“ä¸å¼€</td>\n",
       "      <td>æ‰“å¼€outlookæ—¶ï¼Œæ˜¾ç¤ºoutlook.ostæ–‡ä»¶é”™è...</td>\n",
       "      <td>outlook outlookoutlookost</td>\n",
       "      <td>2</td>\n",
       "      <td>outlookoutlookost is</td>\n",
       "      <td>2</td>\n",
       "      <td>9</td>\n",
       "    </tr>\n",
       "    <tr>\n",
       "      <th>...</th>\n",
       "      <td>...</td>\n",
       "      <td>...</td>\n",
       "      <td>...</td>\n",
       "      <td>...</td>\n",
       "      <td>...</td>\n",
       "      <td>...</td>\n",
       "      <td>...</td>\n",
       "    </tr>\n",
       "    <tr>\n",
       "      <th>8266</th>\n",
       "      <td>erpæ— æ³•è¿›è¡Œé‡‡è´­ï¼ˆè½¬ç»™è´ºæ­£å¹³ï¼‰</td>\n",
       "      <td>è¿›è¡Œé‡‡è´­æ—¶æ˜¾ç¤º\"æ‰¾ä¸åˆ°å‘˜å·¥111115483...</td>\n",
       "      <td>erp 1111154833 scy c</td>\n",
       "      <td>4</td>\n",
       "      <td>1111154833 is scy c</td>\n",
       "      <td>4</td>\n",
       "      <td>39</td>\n",
       "    </tr>\n",
       "    <tr>\n",
       "      <th>8270</th>\n",
       "      <td>å¯†ç æ›´æ”¹åŽï¼Œoutlookæ— æ³•ç™»é™†</td>\n",
       "      <td>å¯†ç æ›´æ”¹åŽï¼Œoutlookæ— æ³•ç™»é™†</td>\n",
       "      <td>outlook</td>\n",
       "      <td>3</td>\n",
       "      <td>the outlook is</td>\n",
       "      <td>1</td>\n",
       "      <td>30</td>\n",
       "    </tr>\n",
       "    <tr>\n",
       "      <th>8457</th>\n",
       "      <td>æ— æ³•ç™»é™†hr_toolè€ƒå‹¤ç³»ç»Ÿ</td>\n",
       "      <td>æ˜¾ç¤ºjavaæ’ä»¶æ— æ³•åŠ è½½ï¼Œæ‰€éœ€ç‰ˆæœ¬1.8...</td>\n",
       "      <td>hrtool java pushkin 18045</td>\n",
       "      <td>5</td>\n",
       "      <td>java as pushkin 18045 is</td>\n",
       "      <td>4</td>\n",
       "      <td>24</td>\n",
       "    </tr>\n",
       "    <tr>\n",
       "      <th>8465</th>\n",
       "      <td>vpn è¿žæŽ¥ä¸ä¸Š</td>\n",
       "      <td>vpnè¿žä¸ä¸Šï¼Œè¯·è½¬ç»™ è´ºæ­£å¹³ atcbvglq.bd...</td>\n",
       "      <td>vpn vpn</td>\n",
       "      <td>1</td>\n",
       "      <td>vpn</td>\n",
       "      <td>2</td>\n",
       "      <td>12</td>\n",
       "    </tr>\n",
       "    <tr>\n",
       "      <th>8471</th>\n",
       "      <td>ç”µè„‘å¼€æœºå¼€ä¸å‡ºæ¥</td>\n",
       "      <td>to å°è´ºï¼Œæ—©ä¸Šç”µè„‘å¼€æœºå¼€ä¸å‡ºæ¥</td>\n",
       "      <td>asc</td>\n",
       "      <td>3</td>\n",
       "      <td>to asc to</td>\n",
       "      <td>1</td>\n",
       "      <td>24</td>\n",
       "    </tr>\n",
       "  </tbody>\n",
       "</table>\n",
       "<p>110 rows × 7 columns</p>\n",
       "</div>"
      ],
      "text/plain": [
       "                                      Short description  \\\n",
       "186   é’å²›å…´åˆæœºç”µshipment notificationé‚®ç®±è...   \n",
       "276   outlookæ”¶åˆ°ç®±ä¸­folderå˜ä¸ºæ¯å¤©ä¸€ä¸ªfol...   \n",
       "469   ieæµè§ˆå™¨æ‰“å¼€crmç³»ç»ŸåŽæç¤ºç”¨æˆ·å·²è¢...   \n",
       "487   msd - office 2013 outlook æ‰“ä¸å¼€ï¼Œæ˜¾ç¤ºæ—...   \n",
       "618                                    outlookæ‰“ä¸å¼€   \n",
       "...                                                 ...   \n",
       "8266         erpæ— æ³•è¿›è¡Œé‡‡è´­ï¼ˆè½¬ç»™è´ºæ­£å¹³ï¼‰   \n",
       "8270              å¯†ç æ›´æ”¹åŽï¼Œoutlookæ— æ³•ç™»é™†   \n",
       "8457                    æ— æ³•ç™»é™†hr_toolè€ƒå‹¤ç³»ç»Ÿ   \n",
       "8465                                   vpn è¿žæŽ¥ä¸ä¸Š   \n",
       "8471                           ç”µè„‘å¼€æœºå¼€ä¸å‡ºæ¥   \n",
       "\n",
       "                                            Description  \\\n",
       "186   from:  \\nsent: friday, october 28, 2016 7:20 a...   \n",
       "276   outlookæ”¶åˆ°ç®±ä¸­folderå˜ä¸ºæ¯å¤©ä¸€ä¸ªfol...   \n",
       "469   ieæµè§ˆå™¨æ‰“å¼€crmç³»ç»ŸåŽæç¤ºç”¨æˆ·å·²è¢...   \n",
       "487   please provide details of the issue.\\n[â€Ž2016...   \n",
       "618   æ‰“å¼€outlookæ—¶ï¼Œæ˜¾ç¤ºoutlook.ostæ–‡ä»¶é”™è...   \n",
       "...                                                 ...   \n",
       "8266  è¿›è¡Œé‡‡è´­æ—¶æ˜¾ç¤º\"æ‰¾ä¸åˆ°å‘˜å·¥111115483...   \n",
       "8270              å¯†ç æ›´æ”¹åŽï¼Œoutlookæ— æ³•ç™»é™†   \n",
       "8457  æ˜¾ç¤ºjavaæ’ä»¶æ— æ³•åŠ è½½ï¼Œæ‰€éœ€ç‰ˆæœ¬1.8...   \n",
       "8465  vpnè¿žä¸ä¸Šï¼Œè¯·è½¬ç»™ è´ºæ­£å¹³ atcbvglq.bd...   \n",
       "8471         to å°è´ºï¼Œæ—©ä¸Šç”µè„‘å¼€æœºå¼€ä¸å‡ºæ¥   \n",
       "\n",
       "                                          trimmed_words description_en_len  \\\n",
       "186   shipment notification sent friday october 28 2...                 27   \n",
       "276                       outlook c folder folderoffice                  4   \n",
       "469                                   ie crm zae crm ya                  6   \n",
       "487   msd office 2013 outlook cs please provide deta...                 38   \n",
       "618                           outlook outlookoutlookost                  2   \n",
       "...                                                 ...                ...   \n",
       "8266                               erp 1111154833 scy c                  4   \n",
       "8270                                            outlook                  3   \n",
       "8457                          hrtool java pushkin 18045                  5   \n",
       "8465                                            vpn vpn                  1   \n",
       "8471                                                asc                  3   \n",
       "\n",
       "                                     description_en_spl trimmed_words_len  \\\n",
       "186   from sent friday october 28 2016 720 am to nwf...                24   \n",
       "276                       outlook c folder folderoffice                 4   \n",
       "469                             ie crm there zae crm ya                 5   \n",
       "487   please provide details of the issue 2016 z10 z...                37   \n",
       "618                                outlookoutlookost is                 2   \n",
       "...                                                 ...               ...   \n",
       "8266                                1111154833 is scy c                 4   \n",
       "8270                                     the outlook is                 1   \n",
       "8457                           java as pushkin 18045 is                 4   \n",
       "8465                                                vpn                 2   \n",
       "8471                                          to asc to                 1   \n",
       "\n",
       "     no_of_splch_removed1  \n",
       "186                    30  \n",
       "276                    48  \n",
       "469                    72  \n",
       "487                    54  \n",
       "618                     9  \n",
       "...                   ...  \n",
       "8266                   39  \n",
       "8270                   30  \n",
       "8457                   24  \n",
       "8465                   12  \n",
       "8471                   24  \n",
       "\n",
       "[110 rows x 7 columns]"
      ]
     },
     "execution_count": 38,
     "metadata": {},
     "output_type": "execute_result"
    }
   ],
   "source": [
    "df[df[\"mark_for_delete\"]==1][[\"Short description\",\"Description\",\"trimmed_words\",\"description_en_len\",\"description_en_spl\",\"trimmed_words_len\",\"no_of_splch_removed1\"]]"
   ]
  },
  {
   "cell_type": "code",
   "execution_count": 39,
   "metadata": {},
   "outputs": [],
   "source": [
    "df.to_excel(\"processed_data.xlsx\")"
   ]
  },
  {
   "attachments": {
    "image.png": {
     "image/png": "[encoded data removed]"
    }
   },
   "cell_type": "markdown",
   "metadata": {},
   "source": [
    "## Summary of Columns : \n",
    "\n",
    "* Input file was loaded into a DataFrame. \n",
    "* It was observed that there are some records whcih are not in English. Tried to use googletran/ Transilator package in Python. However, they have limitation for no of free calls. Hence, loaded the data into google sheets and transilated\n",
    "* In order to proces the data several new columns were created to undersatnd the no of special characters..etc\n",
    "* Using tokenizer, word corpus was built with Max 1500 words. \n",
    "* Both short and long description was combined after removing special characters/ transilation to english/ applying Tokenizer\n",
    "* Records where more than 50% characters are junk are marked for delete\n",
    "* below is the list of new columns created\n",
    "\n",
    "\n",
    "![image.png](attachment:image.png)\n"
   ]
  },
  {
   "cell_type": "markdown",
   "metadata": {},
   "source": [
    "### Further processing \n",
    "\n",
    "Groups which ahve less than 30 tickets should be combined as one group as we can not really make sence of them\n"
   ]
  },
  {
   "cell_type": "code",
   "execution_count": null,
   "metadata": {},
   "outputs": [],
   "source": [
    "df[\"marked_for_delete\"]"
   ]
  },
  {
   "cell_type": "code",
   "execution_count": 45,
   "metadata": {},
   "outputs": [
    {
     "name": "stdout",
     "output_type": "stream",
     "text": [
      "['GRP_0', 'GRP_8', 'GRP_24', 'GRP_12', 'GRP_9', 'GRP_2', 'GRP_19', 'GRP_3', 'GRP_6', 'GRP_13', 'GRP_10', 'GRP_5', 'GRP_14', 'GRP_25', 'GRP_33', 'GRP_4', 'GRP_29', 'GRP_18', 'GRP_16', 'GRP_17', 'GRP_31', 'GRP_7', 'GRP_34', 'GRP_26', 'GRP_40', 'GRP_28', 'GRP_41', 'GRP_30', 'GRP_15', 'GRP_42', 'GRP_20', 'GRP_45', 'GRP_22', 'GRP_1', 'GRP_11']\n"
     ]
    }
   ],
   "source": [
    "\n",
    "a = df.groupby(\"Assignment group\")\n",
    "a = pd.DataFrame(a[\"Assignment group\"].count().sort_values(ascending = False))\n",
    "new_group = list(a[a[\"Assignment group\"]>=30][\"Assignment group\"].index)\n",
    "print(new_group)"
   ]
  },
  {
   "cell_type": "code",
   "execution_count": 47,
   "metadata": {},
   "outputs": [],
   "source": [
    "df[\"new_group\"] = \"\"\n",
    "\n",
    "for i in range(len(df)):\n",
    "    if df[\"Assignment group\"][i] in new_group:\n",
    "        df.loc[i,\"new_group\"] = df[\"Assignment group\"][i]\n",
    "    else :\n",
    "        df.loc[i,\"new_group\"] = \"GRP_9999\""
   ]
  },
  {
   "cell_type": "code",
   "execution_count": 48,
   "metadata": {},
   "outputs": [
    {
     "name": "stdout",
     "output_type": "stream",
     "text": [
      "           new_group\n",
      "new_group           \n",
      "GRP_0           3976\n",
      "GRP_8            661\n",
      "GRP_9999         357\n",
      "GRP_24           289\n",
      "GRP_12           257\n",
      "GRP_9            252\n",
      "GRP_2            241\n",
      "GRP_19           215\n",
      "GRP_3            200\n",
      "GRP_6            184\n",
      "GRP_13           145\n",
      "GRP_10           140\n",
      "GRP_5            129\n",
      "GRP_14           118\n",
      "GRP_25           116\n",
      "GRP_33           107\n",
      "GRP_4            100\n",
      "GRP_29            97\n",
      "GRP_18            88\n",
      "GRP_16            85\n",
      "GRP_17            81\n",
      "GRP_31            69\n",
      "GRP_7             68\n",
      "GRP_34            62\n",
      "GRP_26            56\n",
      "GRP_40            45\n",
      "GRP_28            44\n",
      "GRP_41            40\n",
      "GRP_30            39\n",
      "GRP_15            39\n",
      "GRP_42            37\n",
      "GRP_20            36\n",
      "GRP_45            35\n",
      "GRP_22            31\n",
      "GRP_1             31\n",
      "GRP_11            30\n"
     ]
    }
   ],
   "source": [
    "a = df.groupby(\"new_group\")\n",
    "a = pd.DataFrame(a[\"new_group\"].count().sort_values(ascending = False))\n",
    "print(a)"
   ]
  },
  {
   "cell_type": "code",
   "execution_count": 53,
   "metadata": {},
   "outputs": [
    {
     "data": {
      "text/plain": [
       "14"
      ]
     },
     "execution_count": 53,
     "metadata": {},
     "output_type": "execute_result"
    }
   ],
   "source": [
    "len(df[df[\"trimmed_words_len\"]>700][\"trimmed_words\"])"
   ]
  },
  {
   "cell_type": "code",
   "execution_count": 54,
   "metadata": {},
   "outputs": [],
   "source": [
    "X = df[\"trimmed_words\"]\n",
    "y = df[\"Assignment group\"]"
   ]
  },
  {
   "cell_type": "code",
   "execution_count": 55,
   "metadata": {},
   "outputs": [
    {
     "name": "stderr",
     "output_type": "stream",
     "text": [
      "Using TensorFlow backend.\n"
     ]
    },
    {
     "name": "stdout",
     "output_type": "stream",
     "text": [
      "Review length: \n",
      "Mean 150.92 words (387.715128)\n"
     ]
    },
    {
     "data": {
      "image/png": "[encoded data removed]",
      "text/plain": [
       "<Figure size 432x288 with 1 Axes>"
      ]
     },
     "metadata": {
      "needs_background": "light"
     },
     "output_type": "display_data"
    }
   ],
   "source": [
    "import numpy\n",
    "import matplotlib.pyplot as plt\n",
    "from keras.preprocessing.sequence import pad_sequences\n",
    "\n",
    "%matplotlib inline\n",
    "# Summarize review length\n",
    "print(\"Review length: \")\n",
    "result = [len(x) for x in X]\n",
    "print(\"Mean %.2f words (%f)\" % (numpy.mean(result), numpy.std(result)))\n",
    "# plot review length\n",
    "plt.boxplot(result)\n",
    "plt.show()"
   ]
  },
  {
   "cell_type": "code",
   "execution_count": 58,
   "metadata": {},
   "outputs": [
    {
     "data": {
      "text/plain": [
       "'login issue verified user detailsemployee manager name checked user name ad reset password advised user login check caller confirmed able'"
      ]
     },
     "execution_count": 58,
     "metadata": {},
     "output_type": "execute_result"
    }
   ],
   "source": [
    "\" \".join(X[0].split()[:20])"
   ]
  },
  {
   "cell_type": "code",
   "execution_count": null,
   "metadata": {},
   "outputs": [],
   "source": [
    "#X = df[\"short_desc_en\"]\n",
    "#y = df[\"Assignment group\"]"
   ]
  },
  {
   "cell_type": "code",
   "execution_count": 59,
   "metadata": {},
   "outputs": [
    {
     "name": "stdout",
     "output_type": "stream",
     "text": [
      "Review length: \n",
      "Mean 150.92 words (387.715128)\n"
     ]
    },
    {
     "data": {
      "image/png": "[encoded data removed]",
      "text/plain": [
       "<Figure size 432x288 with 1 Axes>"
      ]
     },
     "metadata": {
      "needs_background": "light"
     },
     "output_type": "display_data"
    }
   ],
   "source": [
    "import numpy\n",
    "import matplotlib.pyplot as plt\n",
    "from keras.preprocessing.sequence import pad_sequences\n",
    "\n",
    "%matplotlib inline\n",
    "# Summarize review length\n",
    "print(\"Review length: \")\n",
    "result = [len(x) for x in X]\n",
    "print(\"Mean %.2f words (%f)\" % (numpy.mean(result), numpy.std(result)))\n",
    "# plot review length\n",
    "plt.boxplot(result)\n",
    "plt.show()"
   ]
  },
  {
   "cell_type": "code",
   "execution_count": 63,
   "metadata": {},
   "outputs": [],
   "source": [
    "X1 = t.texts_to_sequences(X)"
   ]
  },
  {
   "cell_type": "code",
   "execution_count": 68,
   "metadata": {},
   "outputs": [],
   "source": [
    "X2 = pad_sequences(X1, maxlen=200, padding = 'post', truncating = 'post') \n",
    "#X_test =  pad_sequences(X_test, maxlen=100, padding = 'post', truncating = 'post')"
   ]
  },
  {
   "cell_type": "code",
   "execution_count": 69,
   "metadata": {},
   "outputs": [
    {
     "data": {
      "text/plain": [
       "(8500, 200)"
      ]
     },
     "execution_count": 69,
     "metadata": {},
     "output_type": "execute_result"
    }
   ],
   "source": [
    "X2.shape"
   ]
  },
  {
   "cell_type": "code",
   "execution_count": 70,
   "metadata": {},
   "outputs": [
    {
     "data": {
      "text/plain": [
       "array([ 21,  17,  30, 128, 255,  30, 255, 124,  15,   9,  30,  21, 137,\n",
       "       872, 823,  72,  21,  17, 835,   0,   0,   0,   0,   0,   0,   0,\n",
       "         0,   0,   0,   0,   0,   0,   0,   0,   0,   0,   0,   0,   0,\n",
       "         0,   0,   0,   0,   0,   0,   0,   0,   0,   0,   0,   0,   0,\n",
       "         0,   0,   0,   0,   0,   0,   0,   0,   0,   0,   0,   0,   0,\n",
       "         0,   0,   0,   0,   0,   0,   0,   0,   0,   0,   0,   0,   0,\n",
       "         0,   0,   0,   0,   0,   0,   0,   0,   0,   0,   0,   0,   0,\n",
       "         0,   0,   0,   0,   0,   0,   0,   0,   0,   0,   0,   0,   0,\n",
       "         0,   0,   0,   0,   0,   0,   0,   0,   0,   0,   0,   0,   0,\n",
       "         0,   0,   0,   0,   0,   0,   0,   0,   0,   0,   0,   0,   0,\n",
       "         0,   0,   0,   0,   0,   0,   0,   0,   0,   0,   0,   0,   0,\n",
       "         0,   0,   0,   0,   0,   0,   0,   0,   0,   0,   0,   0,   0,\n",
       "         0,   0,   0,   0,   0,   0,   0,   0,   0,   0,   0,   0,   0,\n",
       "         0,   0,   0,   0,   0,   0,   0,   0,   0,   0,   0,   0,   0,\n",
       "         0,   0,   0,   0,   0,   0,   0,   0,   0,   0,   0,   0,   0,\n",
       "         0,   0,   0,   0,   0])"
      ]
     },
     "execution_count": 70,
     "metadata": {},
     "output_type": "execute_result"
    }
   ],
   "source": [
    "X2[0]"
   ]
  },
  {
   "cell_type": "code",
   "execution_count": 71,
   "metadata": {},
   "outputs": [],
   "source": [
    "from sklearn.preprocessing import OneHotEncoder"
   ]
  },
  {
   "cell_type": "code",
   "execution_count": 72,
   "metadata": {},
   "outputs": [],
   "source": [
    "values = np.array(df[\"new_group\"])"
   ]
  },
  {
   "cell_type": "code",
   "execution_count": 73,
   "metadata": {},
   "outputs": [
    {
     "data": {
      "text/plain": [
       "(8500,)"
      ]
     },
     "execution_count": 73,
     "metadata": {},
     "output_type": "execute_result"
    }
   ],
   "source": [
    "df[\"new_group\"].shape"
   ]
  },
  {
   "cell_type": "code",
   "execution_count": 74,
   "metadata": {},
   "outputs": [],
   "source": [
    "from sklearn.preprocessing import LabelEncoder\n",
    "from sklearn.preprocessing import OneHotEncoder\n",
    "\n",
    "label_encoder = LabelEncoder()\n",
    "integer_encoded = label_encoder.fit_transform(values)"
   ]
  },
  {
   "cell_type": "code",
   "execution_count": 75,
   "metadata": {},
   "outputs": [
    {
     "data": {
      "text/plain": [
       "array(['GRP_0', 'GRP_1', 'GRP_10', 'GRP_11', 'GRP_12', 'GRP_13', 'GRP_14',\n",
       "       'GRP_15', 'GRP_16', 'GRP_17', 'GRP_18', 'GRP_19', 'GRP_2',\n",
       "       'GRP_20', 'GRP_22', 'GRP_24', 'GRP_25', 'GRP_26', 'GRP_28',\n",
       "       'GRP_29', 'GRP_3', 'GRP_30', 'GRP_31', 'GRP_33', 'GRP_34', 'GRP_4',\n",
       "       'GRP_40', 'GRP_41', 'GRP_42', 'GRP_45', 'GRP_5', 'GRP_6', 'GRP_7',\n",
       "       'GRP_8', 'GRP_9', 'GRP_9999'], dtype=object)"
      ]
     },
     "execution_count": 75,
     "metadata": {},
     "output_type": "execute_result"
    }
   ],
   "source": [
    "label_encoder.classes_"
   ]
  },
  {
   "cell_type": "code",
   "execution_count": 76,
   "metadata": {},
   "outputs": [],
   "source": [
    "onehot_encoder = OneHotEncoder(sparse=False)\n",
    "integer_encoded = integer_encoded.reshape(len(integer_encoded), 1)\n",
    "onehot_encoded = onehot_encoder.fit_transform(integer_encoded)"
   ]
  },
  {
   "cell_type": "code",
   "execution_count": 79,
   "metadata": {},
   "outputs": [
    {
     "data": {
      "text/plain": [
       "(8500, 36)"
      ]
     },
     "execution_count": 79,
     "metadata": {},
     "output_type": "execute_result"
    }
   ],
   "source": [
    "onehot_encoded.shape"
   ]
  },
  {
   "cell_type": "code",
   "execution_count": 80,
   "metadata": {},
   "outputs": [],
   "source": [
    "y = onehot_encoded"
   ]
  },
  {
   "cell_type": "code",
   "execution_count": 81,
   "metadata": {},
   "outputs": [
    {
     "data": {
      "text/plain": [
       "array([[1., 0., 0., ..., 0., 0., 0.],\n",
       "       [1., 0., 0., ..., 0., 0., 0.],\n",
       "       [1., 0., 0., ..., 0., 0., 0.],\n",
       "       ...,\n",
       "       [1., 0., 0., ..., 0., 0., 0.],\n",
       "       [0., 0., 0., ..., 0., 0., 1.],\n",
       "       [0., 0., 0., ..., 0., 0., 1.]])"
      ]
     },
     "execution_count": 81,
     "metadata": {},
     "output_type": "execute_result"
    }
   ],
   "source": [
    "y"
   ]
  },
  {
   "cell_type": "code",
   "execution_count": 82,
   "metadata": {},
   "outputs": [],
   "source": [
    "#Import all the required Libraries\n",
    "\n",
    "from tensorflow.keras.datasets import imdb\n",
    "from tensorflow.keras.models import Sequential\n",
    "from tensorflow.keras.layers import Dense\n",
    "from tensorflow.keras.layers import Flatten, Conv1D, MaxPooling1D\n",
    "from tensorflow.keras.layers import Embedding\n",
    "from tensorflow.keras.preprocessing import sequence\n",
    "from sklearn.model_selection import train_test_split\n",
    "from sklearn.metrics import classification_report, confusion_matrix\n",
    "from tensorflow.keras.metrics import Accuracy\n",
    "import matplotlib.pyplot as plt\n",
    "import collections\n",
    "import numpy as np\n",
    "from tensorflow.keras.preprocessing.text import Tokenizer\n",
    "from tensorflow.keras.preprocessing.sequence import pad_sequences\n",
    "from tensorflow.keras.layers import Dense, Input, LSTM, Embedding, Dropout, Activation, Flatten, Bidirectional, GlobalMaxPool1D, Add\n",
    "from tensorflow.keras.models import Model, Sequential\n",
    "\n",
    "%matplotlib inline"
   ]
  },
  {
   "cell_type": "code",
   "execution_count": 83,
   "metadata": {},
   "outputs": [
    {
     "data": {
      "text/plain": [
       "((6800, 200),\n",
       " (6800, 36),\n",
       " array([0., 0., 0., 0., 0., 0., 0., 0., 0., 0., 0., 1., 0., 0., 0., 0., 0.,\n",
       "        0., 0., 0., 0., 0., 0., 0., 0., 0., 0., 0., 0., 0., 0., 0., 0., 0.,\n",
       "        0., 0.]),\n",
       " (1700, 200),\n",
       " (1700, 36))"
      ]
     },
     "execution_count": 83,
     "metadata": {},
     "output_type": "execute_result"
    }
   ],
   "source": [
    "#Split the dataset into Train and test\n",
    "X_train,X_test,y_train,y_test = train_test_split(X2,y,test_size=0.2, random_state = 10, shuffle = True)\n",
    "X_train.shape,y_train.shape, y_train[10], X_test.shape, y_test.shape"
   ]
  },
  {
   "cell_type": "code",
   "execution_count": 84,
   "metadata": {},
   "outputs": [],
   "source": [
    "batch_size = 100\n",
    "epochs = 25"
   ]
  },
  {
   "cell_type": "code",
   "execution_count": 85,
   "metadata": {},
   "outputs": [
    {
     "data": {
      "text/plain": [
       "array([ 21,  17,  30, 128, 255,  30, 255, 124,  15,   9,  30,  21, 137,\n",
       "       872, 823,  72,  21,  17, 835,   0,   0,   0,   0,   0,   0,   0,\n",
       "         0,   0,   0,   0,   0,   0,   0,   0,   0,   0,   0,   0,   0,\n",
       "         0,   0,   0,   0,   0,   0,   0,   0,   0,   0,   0,   0,   0,\n",
       "         0,   0,   0,   0,   0,   0,   0,   0,   0,   0,   0,   0,   0,\n",
       "         0,   0,   0,   0,   0,   0,   0,   0,   0,   0,   0,   0,   0,\n",
       "         0,   0,   0,   0,   0,   0,   0,   0,   0,   0,   0,   0,   0,\n",
       "         0,   0,   0,   0,   0,   0,   0,   0,   0,   0,   0,   0,   0,\n",
       "         0,   0,   0,   0,   0,   0,   0,   0,   0,   0,   0,   0,   0,\n",
       "         0,   0,   0,   0,   0,   0,   0,   0,   0,   0,   0,   0,   0,\n",
       "         0,   0,   0,   0,   0,   0,   0,   0,   0,   0,   0,   0,   0,\n",
       "         0,   0,   0,   0,   0,   0,   0,   0,   0,   0,   0,   0,   0,\n",
       "         0,   0,   0,   0,   0,   0,   0,   0,   0,   0,   0,   0,   0,\n",
       "         0,   0,   0,   0,   0,   0,   0,   0,   0,   0,   0,   0,   0,\n",
       "         0,   0,   0,   0,   0,   0,   0,   0,   0,   0,   0,   0,   0,\n",
       "         0,   0,   0,   0,   0])"
      ]
     },
     "execution_count": 85,
     "metadata": {},
     "output_type": "execute_result"
    }
   ],
   "source": [
    "X2[0]"
   ]
  },
  {
   "cell_type": "code",
   "execution_count": 123,
   "metadata": {},
   "outputs": [
    {
     "name": "stdout",
     "output_type": "stream",
     "text": [
      "WARNING:tensorflow:<tensorflow.python.keras.layers.recurrent.UnifiedLSTM object at 0x0000026CB6843348>: Note that this layer is not optimized for performance. Please use tf.keras.layers.CuDNNLSTM for better performance on GPU.\n",
      "WARNING:tensorflow:<tensorflow.python.keras.layers.recurrent.UnifiedLSTM object at 0x0000026CB68B1C48>: Note that this layer is not optimized for performance. Please use tf.keras.layers.CuDNNLSTM for better performance on GPU.\n",
      "Model: \"sequential_7\"\n",
      "_________________________________________________________________\n",
      "Layer (type)                 Output Shape              Param #   \n",
      "=================================================================\n",
      "L1_Embedding (Embedding)     (None, 200, 200)          400000    \n",
      "_________________________________________________________________\n",
      "conv1d_6 (Conv1D)            (None, 198, 32)           19232     \n",
      "_________________________________________________________________\n",
      "max_pooling1d_6 (MaxPooling1 (None, 99, 32)            0         \n",
      "_________________________________________________________________\n",
      "dropout_4 (Dropout)          (None, 99, 32)            0         \n",
      "_________________________________________________________________\n",
      "L2_LSTM (Bidirectional)      (None, 99, 256)           164864    \n",
      "_________________________________________________________________\n",
      "L3_Flatten (Flatten)         (None, 25344)             0         \n",
      "_________________________________________________________________\n",
      "L4_Dense_relu (Dense)        (None, 254)               6437630   \n",
      "_________________________________________________________________\n",
      "L5_Dropout (Dropout)         (None, 254)               0         \n",
      "_________________________________________________________________\n",
      "L6_Dense_sigmoid (Dense)     (None, 36)                9180      \n",
      "=================================================================\n",
      "Total params: 7,030,906\n",
      "Trainable params: 7,030,906\n",
      "Non-trainable params: 0\n",
      "_________________________________________________________________\n",
      "Train on 5440 samples, validate on 1360 samples\n",
      "Epoch 1/25\n",
      "5440/5440 - 11s - loss: 2.6031 - accuracy: 0.4629 - val_loss: 2.1890 - val_accuracy: 0.4603\n",
      "Epoch 2/25\n",
      "5440/5440 - 9s - loss: 2.0201 - accuracy: 0.4702 - val_loss: 1.9448 - val_accuracy: 0.4603\n",
      "Epoch 3/25\n",
      "5440/5440 - 9s - loss: 1.7821 - accuracy: 0.4706 - val_loss: 1.7883 - val_accuracy: 0.4610\n",
      "Epoch 4/25\n",
      "5440/5440 - 8s - loss: 1.6348 - accuracy: 0.4879 - val_loss: 1.7469 - val_accuracy: 0.5191\n",
      "Epoch 5/25\n",
      "5440/5440 - 9s - loss: 1.4888 - accuracy: 0.5452 - val_loss: 1.6749 - val_accuracy: 0.5581\n",
      "Epoch 6/25\n",
      "5440/5440 - 8s - loss: 1.3684 - accuracy: 0.5881 - val_loss: 1.6518 - val_accuracy: 0.5831\n",
      "Epoch 7/25\n",
      "5440/5440 - 8s - loss: 1.2700 - accuracy: 0.6193 - val_loss: 1.6273 - val_accuracy: 0.5897\n",
      "Epoch 8/25\n",
      "5440/5440 - 9s - loss: 1.1690 - accuracy: 0.6379 - val_loss: 1.6708 - val_accuracy: 0.6110\n",
      "Epoch 9/25\n",
      "5440/5440 - 9s - loss: 1.0897 - accuracy: 0.6583 - val_loss: 1.6851 - val_accuracy: 0.6007\n",
      "Epoch 10/25\n",
      "5440/5440 - 9s - loss: 1.0215 - accuracy: 0.6713 - val_loss: 1.7838 - val_accuracy: 0.5978\n",
      "Epoch 11/25\n",
      "5440/5440 - 8s - loss: 0.9604 - accuracy: 0.7002 - val_loss: 1.8361 - val_accuracy: 0.6022\n",
      "Epoch 12/25\n",
      "5440/5440 - 9s - loss: 0.9039 - accuracy: 0.7053 - val_loss: 1.9507 - val_accuracy: 0.6051\n",
      "Epoch 13/25\n",
      "5440/5440 - 9s - loss: 0.8480 - accuracy: 0.7261 - val_loss: 1.9992 - val_accuracy: 0.6059\n",
      "Epoch 14/25\n",
      "5440/5440 - 9s - loss: 0.8003 - accuracy: 0.7392 - val_loss: 2.0369 - val_accuracy: 0.6051\n",
      "Epoch 15/25\n",
      "5440/5440 - 9s - loss: 0.7785 - accuracy: 0.7540 - val_loss: 1.9263 - val_accuracy: 0.6147\n",
      "Epoch 16/25\n",
      "5440/5440 - 9s - loss: 0.7263 - accuracy: 0.7643 - val_loss: 2.0267 - val_accuracy: 0.6088\n",
      "Epoch 17/25\n",
      "5440/5440 - 9s - loss: 0.6812 - accuracy: 0.7822 - val_loss: 2.2173 - val_accuracy: 0.5897\n",
      "Epoch 18/25\n",
      "5440/5440 - 9s - loss: 0.6454 - accuracy: 0.7985 - val_loss: 2.2575 - val_accuracy: 0.6294\n",
      "Epoch 19/25\n",
      "5440/5440 - 8s - loss: 0.6145 - accuracy: 0.8042 - val_loss: 2.2292 - val_accuracy: 0.6088\n",
      "Epoch 20/25\n",
      "5440/5440 - 9s - loss: 0.5714 - accuracy: 0.8140 - val_loss: 2.2476 - val_accuracy: 0.6162\n",
      "Epoch 21/25\n",
      "5440/5440 - 8s - loss: 0.5364 - accuracy: 0.8246 - val_loss: 2.3977 - val_accuracy: 0.6272\n",
      "Epoch 22/25\n",
      "5440/5440 - 9s - loss: 0.5456 - accuracy: 0.8195 - val_loss: 2.3388 - val_accuracy: 0.6118\n",
      "Epoch 23/25\n",
      "5440/5440 - 9s - loss: 0.5023 - accuracy: 0.8349 - val_loss: 2.5045 - val_accuracy: 0.6140\n",
      "Epoch 24/25\n",
      "5440/5440 - 9s - loss: 0.4735 - accuracy: 0.8458 - val_loss: 2.5211 - val_accuracy: 0.6140\n",
      "Epoch 25/25\n",
      "5440/5440 - 9s - loss: 0.4743 - accuracy: 0.8485 - val_loss: 2.4589 - val_accuracy: 0.6184\n"
     ]
    },
    {
     "ename": "ValueError",
     "evalue": "Classification metrics can't handle a mix of multilabel-indicator and continuous-multioutput targets",
     "output_type": "error",
     "traceback": [
      "\u001b[1;31m---------------------------------------------------------------------------\u001b[0m",
      "\u001b[1;31mValueError\u001b[0m                                Traceback (most recent call last)",
      "\u001b[1;32m<ipython-input-123-8579cfd834be>\u001b[0m in \u001b[0;36m<module>\u001b[1;34m\u001b[0m\n\u001b[0;32m     43\u001b[0m \u001b[1;31m#print results\u001b[0m\u001b[1;33m\u001b[0m\u001b[1;33m\u001b[0m\u001b[1;33m\u001b[0m\u001b[0m\n\u001b[0;32m     44\u001b[0m \u001b[1;31m#print(\"\\n\",\"Confusion Matrix :\",\"\\n\",confusion_matrix(y_test,y_pred))\u001b[0m\u001b[1;33m\u001b[0m\u001b[1;33m\u001b[0m\u001b[1;33m\u001b[0m\u001b[0m\n\u001b[1;32m---> 45\u001b[1;33m \u001b[0mprint\u001b[0m\u001b[1;33m(\u001b[0m\u001b[1;34m\"\\n\"\u001b[0m\u001b[1;33m,\u001b[0m\u001b[1;34m\"Classification Report :\"\u001b[0m\u001b[1;33m,\u001b[0m\u001b[1;34m\"\\n\"\u001b[0m\u001b[1;33m,\u001b[0m\u001b[0mclassification_report\u001b[0m\u001b[1;33m(\u001b[0m\u001b[0my_test\u001b[0m\u001b[1;33m,\u001b[0m\u001b[0my_pred\u001b[0m\u001b[1;33m)\u001b[0m\u001b[1;33m)\u001b[0m\u001b[1;33m\u001b[0m\u001b[1;33m\u001b[0m\u001b[0m\n\u001b[0m\u001b[0;32m     46\u001b[0m \u001b[1;33m\u001b[0m\u001b[0m\n\u001b[0;32m     47\u001b[0m \u001b[1;31m# Print plot of Training and Validation Accuracy\u001b[0m\u001b[1;33m\u001b[0m\u001b[1;33m\u001b[0m\u001b[1;33m\u001b[0m\u001b[0m\n",
      "\u001b[1;32mC:\\ProgramData\\Anaconda3\\envs\\gpu_test\\lib\\site-packages\\sklearn\\metrics\\_classification.py\u001b[0m in \u001b[0;36mclassification_report\u001b[1;34m(y_true, y_pred, labels, target_names, sample_weight, digits, output_dict, zero_division)\u001b[0m\n\u001b[0;32m   1969\u001b[0m     \"\"\"\n\u001b[0;32m   1970\u001b[0m \u001b[1;33m\u001b[0m\u001b[0m\n\u001b[1;32m-> 1971\u001b[1;33m     \u001b[0my_type\u001b[0m\u001b[1;33m,\u001b[0m \u001b[0my_true\u001b[0m\u001b[1;33m,\u001b[0m \u001b[0my_pred\u001b[0m \u001b[1;33m=\u001b[0m \u001b[0m_check_targets\u001b[0m\u001b[1;33m(\u001b[0m\u001b[0my_true\u001b[0m\u001b[1;33m,\u001b[0m \u001b[0my_pred\u001b[0m\u001b[1;33m)\u001b[0m\u001b[1;33m\u001b[0m\u001b[1;33m\u001b[0m\u001b[0m\n\u001b[0m\u001b[0;32m   1972\u001b[0m \u001b[1;33m\u001b[0m\u001b[0m\n\u001b[0;32m   1973\u001b[0m     \u001b[0mlabels_given\u001b[0m \u001b[1;33m=\u001b[0m \u001b[1;32mTrue\u001b[0m\u001b[1;33m\u001b[0m\u001b[1;33m\u001b[0m\u001b[0m\n",
      "\u001b[1;32mC:\\ProgramData\\Anaconda3\\envs\\gpu_test\\lib\\site-packages\\sklearn\\metrics\\_classification.py\u001b[0m in \u001b[0;36m_check_targets\u001b[1;34m(y_true, y_pred)\u001b[0m\n\u001b[0;32m     88\u001b[0m     \u001b[1;32mif\u001b[0m \u001b[0mlen\u001b[0m\u001b[1;33m(\u001b[0m\u001b[0my_type\u001b[0m\u001b[1;33m)\u001b[0m \u001b[1;33m>\u001b[0m \u001b[1;36m1\u001b[0m\u001b[1;33m:\u001b[0m\u001b[1;33m\u001b[0m\u001b[1;33m\u001b[0m\u001b[0m\n\u001b[0;32m     89\u001b[0m         raise ValueError(\"Classification metrics can't handle a mix of {0} \"\n\u001b[1;32m---> 90\u001b[1;33m                          \"and {1} targets\".format(type_true, type_pred))\n\u001b[0m\u001b[0;32m     91\u001b[0m \u001b[1;33m\u001b[0m\u001b[0m\n\u001b[0;32m     92\u001b[0m     \u001b[1;31m# We can't have more than one value on y_type => The set is no more needed\u001b[0m\u001b[1;33m\u001b[0m\u001b[1;33m\u001b[0m\u001b[1;33m\u001b[0m\u001b[0m\n",
      "\u001b[1;31mValueError\u001b[0m: Classification metrics can't handle a mix of multilabel-indicator and continuous-multioutput targets"
     ]
    }
   ],
   "source": [
    "embedding_size = 200\n",
    "maxlen = 200\n",
    "\n",
    "# Crete a Sequential Model\n",
    "model1 = Sequential()\n",
    "\n",
    "# Add embedding as the first layer. We are going to initiate with the pre trained Glove vector. Since they are already trained embeddings\n",
    "# We are going to make the trainable parameter 'false'\n",
    "model1.add(Embedding(t.num_words, embedding_size, input_length = maxlen, trainable = True, name='L1_Embedding'))\n",
    "\n",
    "#These embeddings are made non-trainable as they are pre trained to highly optimized values\n",
    "model1.add(Conv1D(32,3,activation=\"relu\"))\n",
    "model1.add(MaxPooling1D(pool_size=2))\n",
    "\n",
    "#Adding a Dropout ensures the model is not overfitting\n",
    "model1.add(Dropout(0.5))\n",
    "\n",
    "#Add Bi-Directional LSTM\n",
    "model1.add(Bidirectional(LSTM(128, return_sequences = True, dropout = 0.2),name='L2_LSTM'))\n",
    "model1.add(Flatten(name='L3_Flatten'))\n",
    "\n",
    "# Add dense and Dropout \n",
    "model1.add(Dense(254, activation='relu',name='L4_Dense_relu'))\n",
    "model1.add(Dropout(0.2, name  = \"L5_Dropout\"))\n",
    "\n",
    "#Since this is a binary classification, we add the last layer as Dense with single neuron with Sigmoid. Based on the probability we can decide if the output is 0 or 1\n",
    "model1.add(Dense(36, activation='sigmoid',name='L6_Dense_sigmoid'))\n",
    "\n",
    "#Compile the model with binary cross entrophy and adam optimizer\n",
    "model1.compile(loss='categorical_crossentropy', optimizer='adam', metrics=['accuracy'])\n",
    "model1.summary()\n",
    "\n",
    "# We are going to use validation split of 20%\n",
    "history1 = model1.fit(X_train, y_train,\n",
    "          batch_size=batch_size,\n",
    "          epochs=epochs,\n",
    "          validation_split = 0.2, verbose = 2)\n",
    "\n",
    "#Predect on the test data\n",
    "y_pred = model1.predict(X_test)\n",
    "#y_pred = (y_pred>0.5).astype(np.int)\n",
    "\n",
    "#print results\n",
    "#print(\"\\n\",\"Confusion Matrix :\",\"\\n\",confusion_matrix(y_test,y_pred))\n",
    "print(\"\\n\",\"Classification Report :\",\"\\n\",classification_report(y_test,y_pred))\n",
    "\n",
    "# Print plot of Training and Validation Accuracy\n",
    "plt.plot(history1.history['accuracy'])\n",
    "plt.plot(history1.history['val_accuracy'])\n",
    "\n",
    "plt.title('Model accuracy')\n",
    "plt.ylabel('Accuracy')\n",
    "plt.xlabel('Epoch')\n",
    "plt.legend(['Train', 'Test'], loc='upper left')\n",
    "plt.show()\n",
    "\n",
    "# Print plot of Training and Validation Loss\n",
    "plt.plot(history1.history['loss'])\n",
    "plt.plot(history1.history['val_loss'])\n",
    "\n",
    "plt.title('Model loss')\n",
    "plt.ylabel('Loss')\n",
    "plt.xlabel('Epoch')\n",
    "plt.legend(['Train', 'Test'], loc='upper left')\n",
    "plt.show()"
   ]
  },
  {
   "cell_type": "code",
   "execution_count": 124,
   "metadata": {},
   "outputs": [
    {
     "data": {
      "text/plain": [
       "(array([ 515,   10,   40,   31,  623,  203,   16,   10,   40, 1473,  203,\n",
       "         515,   10,   40,   31,  623,  203,   16,   10,   40, 1473,  203,\n",
       "          31,  876,  331,   48,  203,  203,   16,   10,   40, 1013,  349,\n",
       "          66,  203,  346,  203,   16,   10,   40,  557,  203,    0,    0,\n",
       "           0,    0,    0,    0,    0,    0,    0,    0,    0,    0,    0,\n",
       "           0,    0,    0,    0,    0,    0,    0,    0,    0,    0,    0,\n",
       "           0,    0,    0,    0,    0,    0,    0,    0,    0,    0,    0,\n",
       "           0,    0,    0,    0,    0,    0,    0,    0,    0,    0,    0,\n",
       "           0,    0,    0,    0,    0,    0,    0,    0,    0,    0,    0,\n",
       "           0,    0,    0,    0,    0,    0,    0,    0,    0,    0,    0,\n",
       "           0,    0,    0,    0,    0,    0,    0,    0,    0,    0,    0,\n",
       "           0,    0,    0,    0,    0,    0,    0,    0,    0,    0,    0,\n",
       "           0,    0,    0,    0,    0,    0,    0,    0,    0,    0,    0,\n",
       "           0,    0,    0,    0,    0,    0,    0,    0,    0,    0,    0,\n",
       "           0,    0,    0,    0,    0,    0,    0,    0,    0,    0,    0,\n",
       "           0,    0,    0,    0,    0,    0,    0,    0,    0,    0,    0,\n",
       "           0,    0,    0,    0,    0,    0,    0,    0,    0,    0,    0,\n",
       "           0,    0,    0,    0,    0,    0,    0,    0,    0,    0,    0,\n",
       "           0,    0]),\n",
       " array([0., 0., 0., 0., 0., 0., 0., 1., 0., 0., 0., 0., 0., 0., 0., 0., 0.,\n",
       "        0., 0., 0., 0., 0., 0., 0., 0., 0., 0., 0., 0., 0., 0., 0., 0., 0.,\n",
       "        0., 0.]))"
      ]
     },
     "execution_count": 124,
     "metadata": {},
     "output_type": "execute_result"
    }
   ],
   "source": [
    "X_test[0], y_test[0]"
   ]
  },
  {
   "cell_type": "code",
   "execution_count": 136,
   "metadata": {},
   "outputs": [],
   "source": [
    "y_pred1 = np.zeros(shape = y_pred.shape)"
   ]
  },
  {
   "cell_type": "code",
   "execution_count": 140,
   "metadata": {},
   "outputs": [],
   "source": [
    "y_pred1[1][20] =1"
   ]
  },
  {
   "cell_type": "code",
   "execution_count": 141,
   "metadata": {},
   "outputs": [
    {
     "data": {
      "text/plain": [
       "array([0., 0., 0., 0., 0., 0., 0., 0., 0., 0., 0., 0., 0., 0., 0., 0., 0.,\n",
       "       0., 0., 0., 1., 0., 0., 0., 0., 0., 0., 0., 0., 0., 0., 0., 0., 0.,\n",
       "       0., 0.])"
      ]
     },
     "execution_count": 141,
     "metadata": {},
     "output_type": "execute_result"
    }
   ],
   "source": [
    "y_pred1[1]"
   ]
  },
  {
   "cell_type": "markdown",
   "metadata": {},
   "source": [
    "# np.argmax(y_pred1[1])"
   ]
  },
  {
   "cell_type": "code",
   "execution_count": null,
   "metadata": {},
   "outputs": [],
   "source": [
    "np.max(y_pred[0])"
   ]
  },
  {
   "cell_type": "code",
   "execution_count": null,
   "metadata": {},
   "outputs": [],
   "source": [
    "y_test[0]"
   ]
  },
  {
   "cell_type": "code",
   "execution_count": null,
   "metadata": {},
   "outputs": [],
   "source": [
    "np.argmax(y_pred[0])"
   ]
  },
  {
   "cell_type": "code",
   "execution_count": null,
   "metadata": {},
   "outputs": [],
   "source": [
    "y_pred[0]"
   ]
  },
  {
   "cell_type": "code",
   "execution_count": null,
   "metadata": {},
   "outputs": [],
   "source": [
    "label_encoder.inverse_transform([np.argmax(onehot_encoded[0,1])])"
   ]
  },
  {
   "cell_type": "code",
   "execution_count": null,
   "metadata": {},
   "outputs": [],
   "source": [
    "np.argmax(onehot_encoded[1])"
   ]
  },
  {
   "cell_type": "code",
   "execution_count": null,
   "metadata": {},
   "outputs": [],
   "source": [
    "np.argmax(onehot_encoded[2000])"
   ]
  },
  {
   "cell_type": "code",
   "execution_count": null,
   "metadata": {},
   "outputs": [],
   "source": [
    "label_encoder.inverse_transform([35])"
   ]
  },
  {
   "cell_type": "code",
   "execution_count": null,
   "metadata": {},
   "outputs": [],
   "source": [
    "t.num_words"
   ]
  },
  {
   "cell_type": "code",
   "execution_count": 90,
   "metadata": {},
   "outputs": [],
   "source": [
    "a = np.array([1,2,3,4,5,6,7])"
   ]
  },
  {
   "cell_type": "code",
   "execution_count": 91,
   "metadata": {},
   "outputs": [
    {
     "data": {
      "text/plain": [
       "array([1, 2, 3, 4, 5, 6, 7])"
      ]
     },
     "execution_count": 91,
     "metadata": {},
     "output_type": "execute_result"
    }
   ],
   "source": [
    "a"
   ]
  },
  {
   "cell_type": "code",
   "execution_count": 101,
   "metadata": {},
   "outputs": [
    {
     "data": {
      "text/plain": [
       "[1, 2, 3, 4, 5]"
      ]
     },
     "execution_count": 101,
     "metadata": {},
     "output_type": "execute_result"
    }
   ],
   "source": [
    "[i for i in a if i<6]"
   ]
  },
  {
   "cell_type": "code",
   "execution_count": 113,
   "metadata": {},
   "outputs": [],
   "source": [
    "lst = []\n",
    "for i in a:\n",
    "    if i==6:\n",
    "        lst.append(i)\n",
    "    else:\n",
    "        lst.append(0)\n",
    "   \n",
    "\n",
    "   "
   ]
  },
  {
   "cell_type": "code",
   "execution_count": 114,
   "metadata": {},
   "outputs": [
    {
     "data": {
      "text/plain": [
       "[0, 0, 0, 0, 0, 6, 0]"
      ]
     },
     "execution_count": 114,
     "metadata": {},
     "output_type": "execute_result"
    }
   ],
   "source": [
    "lst"
   ]
  },
  {
   "cell_type": "code",
   "execution_count": 117,
   "metadata": {},
   "outputs": [
    {
     "data": {
      "text/plain": [
       "array([1., 1., 1., 1., 1., 1., 1., 1., 1., 1., 1., 1., 1., 1., 1., 1., 1.,\n",
       "       1., 1., 1., 1., 1., 1., 1., 1., 1., 1., 1., 1., 1., 1., 1., 1., 1.,\n",
       "       1., 1.], dtype=float32)"
      ]
     },
     "execution_count": 117,
     "metadata": {},
     "output_type": "execute_result"
    }
   ],
   "source": [
    "y_pred[1]"
   ]
  },
  {
   "cell_type": "code",
   "execution_count": null,
   "metadata": {},
   "outputs": [],
   "source": []
  }
 ],
 "metadata": {
  "accelerator": "GPU",
  "colab": {
   "name": "Capstone_Project_NLP_EDA.ipynb",
   "provenance": []
  },
  "kernelspec": {
   "display_name": "Python 3",
   "language": "python",
   "name": "python3"
  },
  "language_info": {
   "codemirror_mode": {
    "name": "ipython",
    "version": 3
   },
   "file_extension": ".py",
   "mimetype": "text/x-python",
   "name": "python",
   "nbconvert_exporter": "python",
   "pygments_lexer": "ipython3",
   "version": "3.7.6"
  }
 },
 "nbformat": 4,
 "nbformat_minor": 1
}
