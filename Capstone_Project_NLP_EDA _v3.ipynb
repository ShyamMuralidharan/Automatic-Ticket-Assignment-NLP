{
 "cells": [
  {
   "cell_type": "markdown",
   "metadata": {
    "colab": {
     "base_uri": "https://localhost:8080/",
     "height": 71
    },
    "colab_type": "code",
    "id": "9odi7jJoeNkD",
    "outputId": "3ad69182-b4bc-490f-d4cb-397480c87a6e"
   },
   "source": [
    "###  AIML Online Capstone Project - AUTOMATIC TICKET ASSIGNMENT (Group 4)\n",
    "\n",
    "\n",
    "#### Background :\n",
    "In the support process, incoming incidents are analyzed and assessed by organization’s support teams to fulfill the request. \n",
    "Better allocation and effective usage of the valuable support resources will directly result in substantial cost savings. \n",
    "Currently, the incidents are created by various stakeholders and are assigned to L1/L2 teams.  \n",
    "Incase L1 / L2 is unable to resolve, they will then escalate / assign the tickets to Functional teams from Applications and Infrastructure (L3 teams). \n",
    "\n",
    "#### Problem Statement :\n",
    "L1 / L2 needs to spend time reviewing Standard Operating Procedures (SOPs) before assigning to Functional teams (Minimum ~25-30% of incidents needs to be reviewed for SOPs before ticket assignment). \n",
    "15 min is being spent for SOP review for each incident. Minimum of ~1 FTE effort needed only for incident assignment to L3 teams.\n",
    "Multiple instances of incidents getting assigned to wrong functional groups (Around ~25%)\n",
    "Additional effort needed for Functional teams to re-assign to right functional groups. \n",
    "During this process, some of the incidents are in queue and not addressed timely resulting in poor customer service.!\n",
    "\n",
    "#### Project Objectives :\n",
    "\n",
    "Guided by powerful AI techniques \n",
    "* Classify incidents to right functional groups based on User description\n",
    "* Help organizations to reduce the resolving time\n",
    "* Improve productivity of Support teams\n",
    "\n",
    "#### Data Pre-Processing\n",
    "* This section of the Code deals with the Data Pre-Processing"
   ]
  },
  {
   "cell_type": "code",
   "execution_count": null,
   "metadata": {},
   "outputs": [],
   "source": []
  },
  {
   "cell_type": "code",
   "execution_count": 154,
   "metadata": {},
   "outputs": [],
   "source": [
    "# Import all libraries\n",
    "import pandas as pd\n",
    "import numpy as np\n",
    "import matplotlib.pyplot as plt\n",
    "%matplotlib inline\n",
    "import seaborn as sns\n",
    "from langdetect import detect, detect_langs\n",
    "import googletrans\n",
    "from googletrans import Translator\n",
    "import re\n",
    "import translate\n",
    "from tensorflow.keras.preprocessing.text import Tokenizer\n",
    "#from googletranslate import Translator\n",
    "from nltk.corpus import stopwords \n",
    "stop_words = set(stopwords.words('english')) \n",
    "from tqdm import tqdm\n",
    "from time import sleep\n",
    "from bs4 import BeautifulSoup\n",
    "from string import digits\n",
    "import string"
   ]
  },
  {
   "cell_type": "code",
   "execution_count": 155,
   "metadata": {
    "colab": {
     "base_uri": "https://localhost:8080/",
     "height": 51
    },
    "colab_type": "code",
    "id": "guINebatlmw5",
    "outputId": "024c6e6e-3a48-417e-b9f6-56ebb8457cd8"
   },
   "outputs": [
    {
     "name": "stdout",
     "output_type": "stream",
     "text": [
      "Your Computer Name is:Prasad-Dell-LT\n",
      "Your Computer IP Address is:192.168.0.6\n"
     ]
    }
   ],
   "source": [
    "import socket    \n",
    "hostname = socket.gethostname()    \n",
    "IPAddr = socket.gethostbyname(hostname)    \n",
    "print(\"Your Computer Name is:\" + hostname)    \n",
    "print(\"Your Computer IP Address is:\" + IPAddr) "
   ]
  },
  {
   "cell_type": "code",
   "execution_count": 156,
   "metadata": {},
   "outputs": [],
   "source": [
    "def remove_html(text):\n",
    "  soup = BeautifulSoup(text,'lxml')\n",
    "  html_free = soup.get_text()\n",
    "  return html_free\n",
    "\n",
    "def remove_punctuation(text):\n",
    "  no_punct = \"\".join([c for c in text if c not in string.punctuation])\n",
    "  return no_punct\n",
    "\n",
    "def remove_digits(list1): \n",
    "    remove_digits = str.maketrans('', '', digits) \n",
    "    list1 = [i.translate(remove_digits) for i in list1] \n",
    "    return list1"
   ]
  },
  {
   "cell_type": "markdown",
   "metadata": {
    "colab": {
     "base_uri": "https://localhost:8080/",
     "height": 122
    },
    "colab_type": "code",
    "id": "5YBuEG6nuxjz",
    "outputId": "46e0b7b2-766b-488d-e0d9-3fdc79371624"
   },
   "source": [
    "#### Use when running through google collab\n",
    "from google.colab import drive\n",
    "drive.mount('/drive', force_remount=True)"
   ]
  },
  {
   "cell_type": "markdown",
   "metadata": {
    "colab": {},
    "colab_type": "code",
    "id": "lPABEjd2vpOe"
   },
   "source": [
    "project_path = \"/drive/My Drive/AIML_Project_Files_Final/10.Capstone Project\""
   ]
  },
  {
   "cell_type": "code",
   "execution_count": 157,
   "metadata": {
    "colab": {},
    "colab_type": "code",
    "id": "lsP4yarwv_L4"
   },
   "outputs": [],
   "source": [
    "# Please note that this Dataset has 4 more extra columns to identify the language and transilate to English\n",
    "# Tried this transilation in Python using googletrans API but there is limitation on the numbers of calls, hence \n",
    "# googl sheets was used \n",
    "df = pd.read_excel(\"input_data_translated.xlsx\", encoding=\"utf-8\",dtype=\"str\")"
   ]
  },
  {
   "cell_type": "code",
   "execution_count": 158,
   "metadata": {},
   "outputs": [
    {
     "data": {
      "text/plain": [
       "Short description    object\n",
       "Description          object\n",
       "short_desc_lang      object\n",
       "short_desc_en        object\n",
       "description_lang     object\n",
       "description_en       object\n",
       "Caller               object\n",
       "Assignment group     object\n",
       "dtype: object"
      ]
     },
     "execution_count": 158,
     "metadata": {},
     "output_type": "execute_result"
    }
   ],
   "source": [
    "df.dtypes"
   ]
  },
  {
   "cell_type": "code",
   "execution_count": 159,
   "metadata": {},
   "outputs": [
    {
     "data": {
      "text/html": [
       "<div>\n",
       "<style scoped>\n",
       "    .dataframe tbody tr th:only-of-type {\n",
       "        vertical-align: middle;\n",
       "    }\n",
       "\n",
       "    .dataframe tbody tr th {\n",
       "        vertical-align: top;\n",
       "    }\n",
       "\n",
       "    .dataframe thead th {\n",
       "        text-align: right;\n",
       "    }\n",
       "</style>\n",
       "<table border=\"1\" class=\"dataframe\">\n",
       "  <thead>\n",
       "    <tr style=\"text-align: right;\">\n",
       "      <th></th>\n",
       "      <th>Short description</th>\n",
       "      <th>Description</th>\n",
       "      <th>short_desc_lang</th>\n",
       "      <th>short_desc_en</th>\n",
       "      <th>description_lang</th>\n",
       "      <th>description_en</th>\n",
       "      <th>Caller</th>\n",
       "      <th>Assignment group</th>\n",
       "    </tr>\n",
       "  </thead>\n",
       "  <tbody>\n",
       "    <tr>\n",
       "      <th>count</th>\n",
       "      <td>8492</td>\n",
       "      <td>8499</td>\n",
       "      <td>8492</td>\n",
       "      <td>8492</td>\n",
       "      <td>8497</td>\n",
       "      <td>8497</td>\n",
       "      <td>8500</td>\n",
       "      <td>8500</td>\n",
       "    </tr>\n",
       "    <tr>\n",
       "      <th>unique</th>\n",
       "      <td>7481</td>\n",
       "      <td>7817</td>\n",
       "      <td>50</td>\n",
       "      <td>7379</td>\n",
       "      <td>36</td>\n",
       "      <td>7752</td>\n",
       "      <td>2950</td>\n",
       "      <td>74</td>\n",
       "    </tr>\n",
       "    <tr>\n",
       "      <th>top</th>\n",
       "      <td>password reset</td>\n",
       "      <td>the</td>\n",
       "      <td>en</td>\n",
       "      <td>password reset</td>\n",
       "      <td>en</td>\n",
       "      <td>the</td>\n",
       "      <td>bpctwhsn kzqsbmtp</td>\n",
       "      <td>GRP_0</td>\n",
       "    </tr>\n",
       "    <tr>\n",
       "      <th>freq</th>\n",
       "      <td>38</td>\n",
       "      <td>56</td>\n",
       "      <td>7613</td>\n",
       "      <td>48</td>\n",
       "      <td>7768</td>\n",
       "      <td>56</td>\n",
       "      <td>810</td>\n",
       "      <td>3976</td>\n",
       "    </tr>\n",
       "  </tbody>\n",
       "</table>\n",
       "</div>"
      ],
      "text/plain": [
       "       Short description Description short_desc_lang   short_desc_en  \\\n",
       "count               8492        8499            8492            8492   \n",
       "unique              7481        7817              50            7379   \n",
       "top       password reset         the              en  password reset   \n",
       "freq                  38          56            7613              48   \n",
       "\n",
       "       description_lang description_en             Caller Assignment group  \n",
       "count              8497           8497               8500             8500  \n",
       "unique               36           7752               2950               74  \n",
       "top                  en            the  bpctwhsn kzqsbmtp            GRP_0  \n",
       "freq               7768             56                810             3976  "
      ]
     },
     "execution_count": 159,
     "metadata": {},
     "output_type": "execute_result"
    }
   ],
   "source": [
    "df.describe()"
   ]
  },
  {
   "cell_type": "code",
   "execution_count": 160,
   "metadata": {},
   "outputs": [
    {
     "name": "stdout",
     "output_type": "stream",
     "text": [
      "Short description    8\n",
      "Description          1\n",
      "short_desc_lang      8\n",
      "short_desc_en        8\n",
      "description_lang     3\n",
      "description_en       3\n",
      "Caller               0\n",
      "Assignment group     0\n",
      "dtype: int64\n"
     ]
    }
   ],
   "source": [
    "#Find the Null Values\n",
    "print(df.isnull().sum())"
   ]
  },
  {
   "cell_type": "code",
   "execution_count": 161,
   "metadata": {},
   "outputs": [],
   "source": [
    "# Since there are few records which are null, we decide to drop them \n",
    "df = df.dropna()"
   ]
  },
  {
   "cell_type": "code",
   "execution_count": 162,
   "metadata": {},
   "outputs": [
    {
     "name": "stdout",
     "output_type": "stream",
     "text": [
      "Short description    0\n",
      "Description          0\n",
      "short_desc_lang      0\n",
      "short_desc_en        0\n",
      "description_lang     0\n",
      "description_en       0\n",
      "Caller               0\n",
      "Assignment group     0\n",
      "dtype: int64\n"
     ]
    }
   ],
   "source": [
    "print(df.isnull().sum())"
   ]
  },
  {
   "cell_type": "code",
   "execution_count": 163,
   "metadata": {},
   "outputs": [
    {
     "data": {
      "text/html": [
       "<div>\n",
       "<style scoped>\n",
       "    .dataframe tbody tr th:only-of-type {\n",
       "        vertical-align: middle;\n",
       "    }\n",
       "\n",
       "    .dataframe tbody tr th {\n",
       "        vertical-align: top;\n",
       "    }\n",
       "\n",
       "    .dataframe thead th {\n",
       "        text-align: right;\n",
       "    }\n",
       "</style>\n",
       "<table border=\"1\" class=\"dataframe\">\n",
       "  <thead>\n",
       "    <tr style=\"text-align: right;\">\n",
       "      <th></th>\n",
       "      <th>Short description</th>\n",
       "      <th>Description</th>\n",
       "      <th>Caller</th>\n",
       "      <th>Assignment group</th>\n",
       "    </tr>\n",
       "  </thead>\n",
       "  <tbody>\n",
       "    <tr>\n",
       "      <th>0</th>\n",
       "      <td>login issue</td>\n",
       "      <td>-verified user details.(employee# &amp; manager na...</td>\n",
       "      <td>spxjnwir pjlcoqds</td>\n",
       "      <td>GRP_0</td>\n",
       "    </tr>\n",
       "    <tr>\n",
       "      <th>1</th>\n",
       "      <td>outlook</td>\n",
       "      <td>\\r\\n\\r\\nreceived from: hmjdrvpb.komuaywn@gmail...</td>\n",
       "      <td>hmjdrvpb komuaywn</td>\n",
       "      <td>GRP_0</td>\n",
       "    </tr>\n",
       "    <tr>\n",
       "      <th>2</th>\n",
       "      <td>cant log in to vpn</td>\n",
       "      <td>\\r\\n\\r\\nreceived from: eylqgodm.ybqkwiam@gmail...</td>\n",
       "      <td>eylqgodm ybqkwiam</td>\n",
       "      <td>GRP_0</td>\n",
       "    </tr>\n",
       "    <tr>\n",
       "      <th>3</th>\n",
       "      <td>unable to access hr_tool page</td>\n",
       "      <td>unable to access hr_tool page</td>\n",
       "      <td>xbkucsvz gcpydteq</td>\n",
       "      <td>GRP_0</td>\n",
       "    </tr>\n",
       "    <tr>\n",
       "      <th>4</th>\n",
       "      <td>skype error</td>\n",
       "      <td>skype error</td>\n",
       "      <td>owlgqjme qhcozdfx</td>\n",
       "      <td>GRP_0</td>\n",
       "    </tr>\n",
       "  </tbody>\n",
       "</table>\n",
       "</div>"
      ],
      "text/plain": [
       "               Short description  \\\n",
       "0                    login issue   \n",
       "1                        outlook   \n",
       "2             cant log in to vpn   \n",
       "3  unable to access hr_tool page   \n",
       "4                   skype error    \n",
       "\n",
       "                                         Description             Caller  \\\n",
       "0  -verified user details.(employee# & manager na...  spxjnwir pjlcoqds   \n",
       "1  \\r\\n\\r\\nreceived from: hmjdrvpb.komuaywn@gmail...  hmjdrvpb komuaywn   \n",
       "2  \\r\\n\\r\\nreceived from: eylqgodm.ybqkwiam@gmail...  eylqgodm ybqkwiam   \n",
       "3                      unable to access hr_tool page  xbkucsvz gcpydteq   \n",
       "4                                       skype error   owlgqjme qhcozdfx   \n",
       "\n",
       "  Assignment group  \n",
       "0            GRP_0  \n",
       "1            GRP_0  \n",
       "2            GRP_0  \n",
       "3            GRP_0  \n",
       "4            GRP_0  "
      ]
     },
     "execution_count": 163,
     "metadata": {},
     "output_type": "execute_result"
    }
   ],
   "source": [
    "# Load original dataset gven in the project \n",
    "df1 = pd.read_excel(\"input_data.xlsx\")\n",
    "df1.head(5)"
   ]
  },
  {
   "cell_type": "code",
   "execution_count": 164,
   "metadata": {},
   "outputs": [
    {
     "data": {
      "text/plain": [
       "': ticket_no1559458 : wireless guest access- hr_tool trainer'"
      ]
     },
     "execution_count": 164,
     "metadata": {},
     "output_type": "execute_result"
    }
   ],
   "source": [
    "#Remove Junk charaters from the text.. below is an example\n",
    "\"ç­”å¤: ticket_no1559458 : wireless guest access- hr_tool trainer\".encode('ascii','ignore').decode()"
   ]
  },
  {
   "cell_type": "code",
   "execution_count": 165,
   "metadata": {
    "colab": {
     "base_uri": "https://localhost:8080/",
     "height": 171
    },
    "colab_type": "code",
    "id": "ny_hZ9cBxap8",
    "outputId": "cd869ff4-40f6-4f70-93fc-69eb6217add7"
   },
   "outputs": [
    {
     "data": {
      "text/html": [
       "<div>\n",
       "<style scoped>\n",
       "    .dataframe tbody tr th:only-of-type {\n",
       "        vertical-align: middle;\n",
       "    }\n",
       "\n",
       "    .dataframe tbody tr th {\n",
       "        vertical-align: top;\n",
       "    }\n",
       "\n",
       "    .dataframe thead th {\n",
       "        text-align: right;\n",
       "    }\n",
       "</style>\n",
       "<table border=\"1\" class=\"dataframe\">\n",
       "  <thead>\n",
       "    <tr style=\"text-align: right;\">\n",
       "      <th></th>\n",
       "      <th>Short description</th>\n",
       "      <th>Description</th>\n",
       "      <th>short_desc_lang</th>\n",
       "      <th>short_desc_en</th>\n",
       "      <th>description_lang</th>\n",
       "      <th>description_en</th>\n",
       "      <th>Caller</th>\n",
       "      <th>Assignment group</th>\n",
       "    </tr>\n",
       "  </thead>\n",
       "  <tbody>\n",
       "    <tr>\n",
       "      <th>count</th>\n",
       "      <td>8489</td>\n",
       "      <td>8489</td>\n",
       "      <td>8489</td>\n",
       "      <td>8489</td>\n",
       "      <td>8489</td>\n",
       "      <td>8489</td>\n",
       "      <td>8489</td>\n",
       "      <td>8489</td>\n",
       "    </tr>\n",
       "    <tr>\n",
       "      <th>unique</th>\n",
       "      <td>7478</td>\n",
       "      <td>7810</td>\n",
       "      <td>50</td>\n",
       "      <td>7376</td>\n",
       "      <td>36</td>\n",
       "      <td>7747</td>\n",
       "      <td>2948</td>\n",
       "      <td>74</td>\n",
       "    </tr>\n",
       "    <tr>\n",
       "      <th>top</th>\n",
       "      <td>password reset</td>\n",
       "      <td>the</td>\n",
       "      <td>en</td>\n",
       "      <td>password reset</td>\n",
       "      <td>en</td>\n",
       "      <td>the</td>\n",
       "      <td>bpctwhsn kzqsbmtp</td>\n",
       "      <td>GRP_0</td>\n",
       "    </tr>\n",
       "    <tr>\n",
       "      <th>freq</th>\n",
       "      <td>38</td>\n",
       "      <td>56</td>\n",
       "      <td>7610</td>\n",
       "      <td>48</td>\n",
       "      <td>7760</td>\n",
       "      <td>56</td>\n",
       "      <td>810</td>\n",
       "      <td>3966</td>\n",
       "    </tr>\n",
       "  </tbody>\n",
       "</table>\n",
       "</div>"
      ],
      "text/plain": [
       "       Short description Description short_desc_lang   short_desc_en  \\\n",
       "count               8489        8489            8489            8489   \n",
       "unique              7478        7810              50            7376   \n",
       "top       password reset         the              en  password reset   \n",
       "freq                  38          56            7610              48   \n",
       "\n",
       "       description_lang description_en             Caller Assignment group  \n",
       "count              8489           8489               8489             8489  \n",
       "unique               36           7747               2948               74  \n",
       "top                  en            the  bpctwhsn kzqsbmtp            GRP_0  \n",
       "freq               7760             56                810             3966  "
      ]
     },
     "execution_count": 165,
     "metadata": {},
     "output_type": "execute_result"
    }
   ],
   "source": [
    "# We are going to use the DataFrame df for further processing \n",
    "df.describe()"
   ]
  },
  {
   "cell_type": "code",
   "execution_count": 166,
   "metadata": {
    "colab": {
     "base_uri": "https://localhost:8080/",
     "height": 51
    },
    "colab_type": "code",
    "id": "4qpWuek_ANfp",
    "outputId": "329703c8-3cf1-4561-dfdb-3b90d0cf566f"
   },
   "outputs": [
    {
     "name": "stdout",
     "output_type": "stream",
     "text": [
      "['eylqgodm.ybqkwiam@gmail.com']\n",
      "['john.doe@somecompany.co.uk', 'jane_doe124@gmail.com']\n"
     ]
    }
   ],
   "source": [
    "# There is Email ID in the Description field . we need to saperate this and store in another column \n",
    "#RegEx to find email form the text .. an example below\n",
    "emails = re.findall(r\"[a-z0-9\\.\\-+_]+@[a-z0-9\\.\\-+_]+\\.[a-z]+\", df[\"Description\"][2])\n",
    "print(emails)\n",
    "my_str = \"Hi my name is John and email address is john.doe@somecompany.co.uk and my friend's email is jane_doe124@gmail.com\"\n",
    "emails = re.findall(\"([a-zA-Z0-9_.+-]+@[a-zA-Z0-9-]+\\.[a-zA-Z0-9-.]+)\", my_str)\n",
    "print(emails)\n"
   ]
  },
  {
   "cell_type": "code",
   "execution_count": 167,
   "metadata": {
    "colab": {
     "base_uri": "https://localhost:8080/",
     "height": 239
    },
    "colab_type": "code",
    "id": "BkBjToRrJlPD",
    "outputId": "58f99af6-8c65-4753-c9dc-d492b19ffb82"
   },
   "outputs": [
    {
     "name": "stdout",
     "output_type": "stream",
     "text": [
      "Remove all spaces using RegEx:\n",
      " received from: eylqgodm.ybqkwiam@gmail.com hi i cannot log on to vpn best \n",
      "probleme mit bluescreen .\n",
      "shortcut opening multiple folders    shortcut opening multiple folders\n"
     ]
    }
   ],
   "source": [
    "#RegEx to remove spaces from the text.. an example below\n",
    "t1 = '       Hello  World       From Pankaj \\t\\n\\r\\t \\t /**  Hi There             '\n",
    "print('Remove all spaces using RegEx:\\n', re.sub(r\"\\s+\", \" \", df[\"Description\"][2]), sep='')  # \\s matches all white spaces\n",
    "\n",
    "a = ' '.join([item for item in df[\"Description\"][342].split() if '@' not in item])\n",
    "b = re.sub(r\"received from:\",\"\",a)\n",
    "\n",
    "print(df[\"Short description\"][223])\n",
    "print (a,\"  \",b)\n",
    "#print(df[\"Description\"][223])\n"
   ]
  },
  {
   "cell_type": "code",
   "execution_count": 168,
   "metadata": {
    "colab": {
     "base_uri": "https://localhost:8080/",
     "height": 202
    },
    "colab_type": "code",
    "id": "lbMReq-y652d",
    "outputId": "583a24be-0adc-43f6-da49-7e7a3c0ae2a5"
   },
   "outputs": [
    {
     "data": {
      "text/html": [
       "<div>\n",
       "<style scoped>\n",
       "    .dataframe tbody tr th:only-of-type {\n",
       "        vertical-align: middle;\n",
       "    }\n",
       "\n",
       "    .dataframe tbody tr th {\n",
       "        vertical-align: top;\n",
       "    }\n",
       "\n",
       "    .dataframe thead th {\n",
       "        text-align: right;\n",
       "    }\n",
       "</style>\n",
       "<table border=\"1\" class=\"dataframe\">\n",
       "  <thead>\n",
       "    <tr style=\"text-align: right;\">\n",
       "      <th></th>\n",
       "      <th>Short description</th>\n",
       "      <th>Description</th>\n",
       "      <th>short_desc_lang</th>\n",
       "      <th>short_desc_en</th>\n",
       "      <th>description_lang</th>\n",
       "      <th>description_en</th>\n",
       "      <th>Caller</th>\n",
       "      <th>Assignment group</th>\n",
       "    </tr>\n",
       "  </thead>\n",
       "  <tbody>\n",
       "    <tr>\n",
       "      <th>0</th>\n",
       "      <td>login issue</td>\n",
       "      <td>-verified user details.(employee# &amp; manager na...</td>\n",
       "      <td>en</td>\n",
       "      <td>login issue</td>\n",
       "      <td>en</td>\n",
       "      <td>-verified user details.(employee# &amp; manager na...</td>\n",
       "      <td>spxjnwir pjlcoqds</td>\n",
       "      <td>GRP_0</td>\n",
       "    </tr>\n",
       "    <tr>\n",
       "      <th>1</th>\n",
       "      <td>outlook</td>\n",
       "      <td>\\r\\n\\r\\nreceived from: hmjdrvpb.komuaywn@gmail...</td>\n",
       "      <td>en</td>\n",
       "      <td>outlook</td>\n",
       "      <td>en</td>\n",
       "      <td>\\n\\nreceived from: hmjdrvpb.komuaywn@gmail.com...</td>\n",
       "      <td>hmjdrvpb komuaywn</td>\n",
       "      <td>GRP_0</td>\n",
       "    </tr>\n",
       "    <tr>\n",
       "      <th>2</th>\n",
       "      <td>cant log in to vpn</td>\n",
       "      <td>\\r\\n\\r\\nreceived from: eylqgodm.ybqkwiam@gmail...</td>\n",
       "      <td>en</td>\n",
       "      <td>cant log in to vpn</td>\n",
       "      <td>en</td>\n",
       "      <td>\\n\\nreceived from: eylqgodm.ybqkwiam@gmail.com...</td>\n",
       "      <td>eylqgodm ybqkwiam</td>\n",
       "      <td>GRP_0</td>\n",
       "    </tr>\n",
       "    <tr>\n",
       "      <th>3</th>\n",
       "      <td>unable to access hr_tool page</td>\n",
       "      <td>unable to access hr_tool page</td>\n",
       "      <td>en</td>\n",
       "      <td>unable to access hr_tool page</td>\n",
       "      <td>en</td>\n",
       "      <td>unable to access hr_tool page</td>\n",
       "      <td>xbkucsvz gcpydteq</td>\n",
       "      <td>GRP_0</td>\n",
       "    </tr>\n",
       "    <tr>\n",
       "      <th>4</th>\n",
       "      <td>skype error</td>\n",
       "      <td>skype error</td>\n",
       "      <td>en</td>\n",
       "      <td>skype error</td>\n",
       "      <td>en</td>\n",
       "      <td>skype error</td>\n",
       "      <td>owlgqjme qhcozdfx</td>\n",
       "      <td>GRP_0</td>\n",
       "    </tr>\n",
       "  </tbody>\n",
       "</table>\n",
       "</div>"
      ],
      "text/plain": [
       "               Short description  \\\n",
       "0                    login issue   \n",
       "1                        outlook   \n",
       "2             cant log in to vpn   \n",
       "3  unable to access hr_tool page   \n",
       "4                   skype error    \n",
       "\n",
       "                                         Description short_desc_lang  \\\n",
       "0  -verified user details.(employee# & manager na...              en   \n",
       "1  \\r\\n\\r\\nreceived from: hmjdrvpb.komuaywn@gmail...              en   \n",
       "2  \\r\\n\\r\\nreceived from: eylqgodm.ybqkwiam@gmail...              en   \n",
       "3                      unable to access hr_tool page              en   \n",
       "4                                       skype error               en   \n",
       "\n",
       "                   short_desc_en description_lang  \\\n",
       "0                    login issue               en   \n",
       "1                        outlook               en   \n",
       "2             cant log in to vpn               en   \n",
       "3  unable to access hr_tool page               en   \n",
       "4                    skype error               en   \n",
       "\n",
       "                                      description_en             Caller  \\\n",
       "0  -verified user details.(employee# & manager na...  spxjnwir pjlcoqds   \n",
       "1  \\n\\nreceived from: hmjdrvpb.komuaywn@gmail.com...  hmjdrvpb komuaywn   \n",
       "2  \\n\\nreceived from: eylqgodm.ybqkwiam@gmail.com...  eylqgodm ybqkwiam   \n",
       "3                      unable to access hr_tool page  xbkucsvz gcpydteq   \n",
       "4                                        skype error  owlgqjme qhcozdfx   \n",
       "\n",
       "  Assignment group  \n",
       "0            GRP_0  \n",
       "1            GRP_0  \n",
       "2            GRP_0  \n",
       "3            GRP_0  \n",
       "4            GRP_0  "
      ]
     },
     "execution_count": 168,
     "metadata": {},
     "output_type": "execute_result"
    }
   ],
   "source": [
    "df.head(5)"
   ]
  },
  {
   "cell_type": "code",
   "execution_count": 169,
   "metadata": {},
   "outputs": [
    {
     "name": "stdout",
     "output_type": "stream",
     "text": [
      "Int64Index([], dtype='int64')\n"
     ]
    }
   ],
   "source": [
    "#Find and impute Null values from Short description \n",
    "short_null = df[pd.isnull(df[\"Short description\"]) == True].index\n",
    "print(short_null)"
   ]
  },
  {
   "cell_type": "code",
   "execution_count": 170,
   "metadata": {
    "colab": {
     "base_uri": "https://localhost:8080/",
     "height": 102
    },
    "colab_type": "code",
    "id": "HgdRkio-750W",
    "outputId": "1e9adbee-1c3a-44c6-cc68-efe38ac5d00d"
   },
   "outputs": [
    {
     "data": {
      "text/plain": [
       "Short description    8489\n",
       "Description          8489\n",
       "short_desc_lang      8489\n",
       "short_desc_en        8489\n",
       "description_lang     8489\n",
       "description_en       8489\n",
       "Caller               8489\n",
       "Assignment group     8489\n",
       "dtype: int64"
      ]
     },
     "execution_count": 170,
     "metadata": {},
     "output_type": "execute_result"
    }
   ],
   "source": [
    "df.count()"
   ]
  },
  {
   "cell_type": "code",
   "execution_count": 171,
   "metadata": {},
   "outputs": [],
   "source": [
    "# Remove the caller names form the description. This can be done by adding the users list to the stop words\n",
    "users = list(df[\"Caller\"])\n",
    "users = np.hstack(np.unique(users))\n",
    "stop_words1 = list(stop_words) + list(users)"
   ]
  },
  {
   "cell_type": "code",
   "execution_count": 172,
   "metadata": {
    "colab": {
     "base_uri": "https://localhost:8080/",
     "height": 376
    },
    "colab_type": "code",
    "id": "E9EFXVBV8OJQ",
    "outputId": "5264f8da-9e6f-4c83-b0e7-9a9b9b16d057"
   },
   "outputs": [
    {
     "name": "stderr",
     "output_type": "stream",
     "text": [
      "100%|██████████| 8489/8489 [01:22<00:00, 102.43it/s]\n"
     ]
    }
   ],
   "source": [
    "#df[\"short_desc_lang\"] = \"\"\n",
    "#df[\"short_desc_en\"] = \"\"\n",
    "#df[\"description_lang\"]=\"\"\n",
    "#df[\"description_en\"] = \"\"\n",
    "df[\"emails\"] = \"\"\n",
    "df[\"email_type\"]=\"\"\n",
    "df[\"short_desc_spl\"] = \"\"\n",
    "df[\"description_spl\"] = \"\"\n",
    "df[\"short_desc_len\"] = \"\"\n",
    "df[\"description_len\"] = \"\"\n",
    "df[\"no_of_splch_removed1\"]=\"\"\n",
    "df[\"no_of_splch_removed1_pct\"]=\"\"\n",
    "df[\"no_of_splch_removed2\"]=\"\"\n",
    "df[\"no_of_splch_removed2_pct\"]=\"\"\n",
    "df[\"short_desc_en_spl\"] = \"\"\n",
    "df[\"description_en_spl\"] = \"\"\n",
    "df[\"short_desc_en_len\"] = \"\"\n",
    "df[\"description_en_len\"] = \"\"\n",
    "df[\"trimmed_words\"] = \"\"\n",
    "df[\"trimmed_words_len\"] = \"\"\n",
    "df[\"trimmed_words_short\"] = \"\"\n",
    "df[\"trimmed_words_long\"] = \"\"\n",
    "df[\"mark_for_delete\"]=0\n",
    "\n",
    "x = 0\n",
    "\n",
    "for i in tqdm(df.index):  \n",
    "  short_desc = str(df[\"Short description\"][i]).encode('ascii','ignore').decode()\n",
    "  df.loc[i,\"no_of_splch_removed1\"] = len(df[\"Short description\"][i]) - len(str(df[\"Short description\"][i]).encode('ascii','ignore').decode())\n",
    "  if len(df[\"Short description\"][i]) > 0 :\n",
    "      df.loc[i,\"no_of_splch_removed1_pct\"] = np.round((df.loc[i,\"no_of_splch_removed1\"]*100 / len(df[\"Short description\"][i])),1)\n",
    "  else :\n",
    "      df.loc[i,\"no_of_splch_removed1_pct\"] = 100\n",
    "\n",
    "  desc = str(df[\"Description\"][i]).encode('ascii','ignore').decode()\n",
    "  df.loc[i,\"no_of_splch_removed2\"] = len(df[\"Description\"][i]) - len(str(df[\"Description\"][i]).encode('ascii','ignore').decode())\n",
    "  \n",
    "  if len(df[\"Description\"][i]) >0 :\n",
    "    df.loc[i,\"no_of_splch_removed2_pct\"] = np.round((df.loc[i,\"no_of_splch_removed2\"]*100 / len(df[\"Description\"][i])),1)\n",
    "  else :\n",
    "    df.loc[i,\"no_of_splch_removed2_pct\"] = 100\n",
    "  # The below Funtion is to transilate the sentances to English but this free API has miliation. Hence not used. \n",
    "  # We used the pre transilated input data (using Googl sheet)\n",
    "  #if b == \"en\" :\n",
    "  #      trn = Translator().translate(short_desc, dest = \"en\", src = \"auto\")\n",
    "  #      short_desc_en = trn.text \n",
    "  #      trn1 = Translator().translate(desc, dest = \"en\", src = \"auto\")\n",
    "  #      Description_en = trn1.text\n",
    "  #else :\n",
    "  \n",
    "  #The below function is to remove Junk Characters from text \n",
    "  short_desc_en = str(df[\"short_desc_en\"][i]).encode('ascii','ignore').decode()\n",
    "  Description_en =str(df[\"description_en\"][i]).encode('ascii','ignore').decode()\n",
    "  \n",
    "  # Finding the first Email Address from the 'Description' column. \n",
    "  if(len(re.findall(r\"[a-z0-9\\.\\-+_]+@[a-z0-9\\.\\-+_]+\\.[a-z]+\", df[\"Description\"][i]))) > 0:\n",
    "      df.loc[i,\"emails\"] = re.findall(r\"[a-z0-9\\.\\-+_]+@[a-z0-9\\.\\-+_]+\\.[a-z]+\", df[\"Description\"][i])[0]\n",
    "    #df[\"emails\"][i] = re.findall(r\"[a-z0-9\\.\\-+_]+@[a-z0-9\\.\\-+_]+\\.[a-z]+\", df[\"Description\"][i])\n",
    "  \n",
    "  #Removing the Email ID from the short description ------------------------------------\n",
    "  fltr_txt = ' '.join([item for item in short_desc.split() if '@' not in item])\n",
    "  fltr_txt = re.sub(r\"received from:\",\"\",fltr_txt)\n",
    "  alpha = \"\"\n",
    "  for char in fltr_txt:\n",
    "    if char.isspace():\n",
    "      alpha+= \" \"\n",
    "    if char.isalnum():\n",
    "      alpha+= char.lower()\n",
    "  df.loc[i,\"short_desc_spl\"] = str(\" \".join(alpha.split()))\n",
    "  df.loc[i,\"short_desc_len\"] = len(alpha.split()) \n",
    "  #df.loc[i,\"no_splch_removed\"] = len(fltr_txt)-len(alpha.split())  \n",
    "  #Removing the Email ID from the Description-------------------------------------------------\n",
    "  fltr_txt1 = ' '.join([item for item in desc.split() if '@' not in item])\n",
    "  fltr_txt1 = re.sub(r\"received from:\",\"\",fltr_txt1)\n",
    "  alpha1 = \"\"\n",
    "  for char in fltr_txt1:\n",
    "    if char.isspace():\n",
    "      alpha1+= \" \"\n",
    "    if char.isalnum():\n",
    "      alpha1+= char.lower()\n",
    "  df.loc[i,\"description_spl\"] = str(\" \".join(alpha1.split()))\n",
    "  df.loc[i,\"description_len\"] = len(alpha1.split())  \n",
    "  #----------------------------   \n",
    "  fltr_txt = ' '.join([item for item in short_desc_en.split() if '@' not in item])\n",
    "  fltr_txt = re.sub(r\"received from:\",\"\",fltr_txt)\n",
    "  alpha = \"\"\n",
    "  for char in fltr_txt:\n",
    "    if char.isspace():\n",
    "      alpha+= \" \"\n",
    "    if char.isalnum():\n",
    "      alpha+= char.lower()\n",
    "  df.loc[i,\"short_desc_en_spl\"] = str(\" \".join(alpha.split()))\n",
    "  df.loc[i,\"short_desc_en_len\"] = len(alpha.split()) \n",
    "  #---------------------------------\n",
    "  fltr_txt1 = ' '.join([item for item in Description_en.split() if '@' not in item])\n",
    "  fltr_txt1 = re.sub(r\"received from:\",\"\",fltr_txt1)\n",
    "  alpha1 = \"\"\n",
    "  for char in fltr_txt1:\n",
    "    if char.isspace():\n",
    "      alpha1+= \" \"\n",
    "    if char.isalnum():\n",
    "      alpha1+= char.lower()\n",
    "  df.loc[i,\"description_en_spl\"] = str(\" \".join(alpha1.split())) \n",
    "  df.loc[i,\"description_en_len\"] = len(alpha1.split())\n",
    "  \n",
    "  #--------------------------------------  \n",
    "  # Final Text after stop word removal and combining both short and long description\n",
    "  \n",
    "  df.loc[i,\"trimmed_words_short\"] = \" \".join([item for item in df[\"short_desc_en_spl\"][i].split() if item not in stop_words1])\n",
    "  df.loc[i,\"trimmed_words_long\"] = \" \".join([item for item in df[\"description_en_spl\"][i].split() if item not in stop_words1])\n",
    "\n",
    "  if df[\"short_desc_en_spl\"][i] == df[\"description_en_spl\"][i] : \n",
    "    df.loc[i,\"trimmed_words\"] = \" \".join([item for item in df[\"short_desc_en_spl\"][i].split() if item not in stop_words1])\n",
    "  else :\n",
    "    df.loc[i,\"trimmed_words\"] = \" \".join([item for item in df[\"short_desc_en_spl\"][i].split() if item not in stop_words1])+\" \"+\" \".join([item for item in df[\"description_en_spl\"][i].split() if item not in stop_words1])\n",
    "  #Mark records with lot of junk characters for  delete -----------------------------------------------\n",
    "  df.loc[i,\"trimmed_words_len\"] = len(df[\"trimmed_words\"][i].split())\n",
    "  if df[\"trimmed_words_len\"][i] <= 1:\n",
    "    df.loc[i,\"mark_for_delete\"]= 1\n",
    "  if df[\"no_of_splch_removed1_pct\"][i]>50: # sentances with more than 50% junk\n",
    "    df.loc[i,\"mark_for_delete\"]= 1\n",
    "  #if i in short_null :\n",
    "  #  df.loc[i,\"mark_for_delete\"]= 1\n",
    "  #Progress Bar-----------------------------------------------------------------------------------------------------------\n",
    "  #if np.mod(i,1000) == 0:\n",
    "    #print(\"\\n\")\n",
    "  #  print(np.round((i*100/len(df))),\"% \", end = \"\")\n",
    "  #if np.mod(i,100) == 0:\n",
    "  #  print(\"=\", end = \"\")\n",
    "  "
   ]
  },
  {
   "cell_type": "code",
   "execution_count": 173,
   "metadata": {},
   "outputs": [
    {
     "data": {
      "text/html": [
       "<div>\n",
       "<style scoped>\n",
       "    .dataframe tbody tr th:only-of-type {\n",
       "        vertical-align: middle;\n",
       "    }\n",
       "\n",
       "    .dataframe tbody tr th {\n",
       "        vertical-align: top;\n",
       "    }\n",
       "\n",
       "    .dataframe thead th {\n",
       "        text-align: right;\n",
       "    }\n",
       "</style>\n",
       "<table border=\"1\" class=\"dataframe\">\n",
       "  <thead>\n",
       "    <tr style=\"text-align: right;\">\n",
       "      <th></th>\n",
       "      <th>Short description</th>\n",
       "      <th>Description</th>\n",
       "      <th>short_desc_lang</th>\n",
       "      <th>short_desc_en</th>\n",
       "      <th>description_lang</th>\n",
       "      <th>description_en</th>\n",
       "      <th>Caller</th>\n",
       "      <th>Assignment group</th>\n",
       "      <th>emails</th>\n",
       "      <th>email_type</th>\n",
       "      <th>...</th>\n",
       "      <th>no_of_splch_removed2_pct</th>\n",
       "      <th>short_desc_en_spl</th>\n",
       "      <th>description_en_spl</th>\n",
       "      <th>short_desc_en_len</th>\n",
       "      <th>description_en_len</th>\n",
       "      <th>trimmed_words</th>\n",
       "      <th>trimmed_words_len</th>\n",
       "      <th>trimmed_words_short</th>\n",
       "      <th>trimmed_words_long</th>\n",
       "      <th>mark_for_delete</th>\n",
       "    </tr>\n",
       "  </thead>\n",
       "  <tbody>\n",
       "    <tr>\n",
       "      <th>0</th>\n",
       "      <td>login issue</td>\n",
       "      <td>-verified user details.(employee# &amp; manager na...</td>\n",
       "      <td>en</td>\n",
       "      <td>login issue</td>\n",
       "      <td>en</td>\n",
       "      <td>-verified user details.(employee# &amp; manager na...</td>\n",
       "      <td>spxjnwir pjlcoqds</td>\n",
       "      <td>GRP_0</td>\n",
       "      <td></td>\n",
       "      <td></td>\n",
       "      <td>...</td>\n",
       "      <td>0</td>\n",
       "      <td>login issue</td>\n",
       "      <td>verified user detailsemployee manager name che...</td>\n",
       "      <td>2</td>\n",
       "      <td>32</td>\n",
       "      <td>login issue verified user detailsemployee mana...</td>\n",
       "      <td>23</td>\n",
       "      <td>login issue</td>\n",
       "      <td>verified user detailsemployee manager name che...</td>\n",
       "      <td>0</td>\n",
       "    </tr>\n",
       "    <tr>\n",
       "      <th>1</th>\n",
       "      <td>outlook</td>\n",
       "      <td>\\r\\n\\r\\nreceived from: hmjdrvpb.komuaywn@gmail...</td>\n",
       "      <td>en</td>\n",
       "      <td>outlook</td>\n",
       "      <td>en</td>\n",
       "      <td>\\n\\nreceived from: hmjdrvpb.komuaywn@gmail.com...</td>\n",
       "      <td>hmjdrvpb komuaywn</td>\n",
       "      <td>GRP_0</td>\n",
       "      <td>hmjdrvpb.komuaywn@gmail.com</td>\n",
       "      <td></td>\n",
       "      <td>...</td>\n",
       "      <td>0</td>\n",
       "      <td>outlook</td>\n",
       "      <td>hello team my meetingsskype meetings etc are n...</td>\n",
       "      <td>1</td>\n",
       "      <td>22</td>\n",
       "      <td>outlook hello team meetingsskype meetings etc ...</td>\n",
       "      <td>14</td>\n",
       "      <td>outlook</td>\n",
       "      <td>hello team meetingsskype meetings etc appearin...</td>\n",
       "      <td>0</td>\n",
       "    </tr>\n",
       "    <tr>\n",
       "      <th>2</th>\n",
       "      <td>cant log in to vpn</td>\n",
       "      <td>\\r\\n\\r\\nreceived from: eylqgodm.ybqkwiam@gmail...</td>\n",
       "      <td>en</td>\n",
       "      <td>cant log in to vpn</td>\n",
       "      <td>en</td>\n",
       "      <td>\\n\\nreceived from: eylqgodm.ybqkwiam@gmail.com...</td>\n",
       "      <td>eylqgodm ybqkwiam</td>\n",
       "      <td>GRP_0</td>\n",
       "      <td>eylqgodm.ybqkwiam@gmail.com</td>\n",
       "      <td></td>\n",
       "      <td>...</td>\n",
       "      <td>0</td>\n",
       "      <td>cant log in to vpn</td>\n",
       "      <td>hi i cannot log on to vpn best</td>\n",
       "      <td>5</td>\n",
       "      <td>8</td>\n",
       "      <td>cant log vpn hi cannot log vpn best</td>\n",
       "      <td>8</td>\n",
       "      <td>cant log vpn</td>\n",
       "      <td>hi cannot log vpn best</td>\n",
       "      <td>0</td>\n",
       "    </tr>\n",
       "    <tr>\n",
       "      <th>3</th>\n",
       "      <td>unable to access hr_tool page</td>\n",
       "      <td>unable to access hr_tool page</td>\n",
       "      <td>en</td>\n",
       "      <td>unable to access hr_tool page</td>\n",
       "      <td>en</td>\n",
       "      <td>unable to access hr_tool page</td>\n",
       "      <td>xbkucsvz gcpydteq</td>\n",
       "      <td>GRP_0</td>\n",
       "      <td></td>\n",
       "      <td></td>\n",
       "      <td>...</td>\n",
       "      <td>0</td>\n",
       "      <td>unable to access hrtool page</td>\n",
       "      <td>unable to access hrtool page</td>\n",
       "      <td>5</td>\n",
       "      <td>5</td>\n",
       "      <td>unable access hrtool page</td>\n",
       "      <td>4</td>\n",
       "      <td>unable access hrtool page</td>\n",
       "      <td>unable access hrtool page</td>\n",
       "      <td>0</td>\n",
       "    </tr>\n",
       "    <tr>\n",
       "      <th>4</th>\n",
       "      <td>skype error</td>\n",
       "      <td>skype error</td>\n",
       "      <td>en</td>\n",
       "      <td>skype error</td>\n",
       "      <td>en</td>\n",
       "      <td>skype error</td>\n",
       "      <td>owlgqjme qhcozdfx</td>\n",
       "      <td>GRP_0</td>\n",
       "      <td></td>\n",
       "      <td></td>\n",
       "      <td>...</td>\n",
       "      <td>0</td>\n",
       "      <td>skype error</td>\n",
       "      <td>skype error</td>\n",
       "      <td>2</td>\n",
       "      <td>2</td>\n",
       "      <td>skype error</td>\n",
       "      <td>2</td>\n",
       "      <td>skype error</td>\n",
       "      <td>skype error</td>\n",
       "      <td>0</td>\n",
       "    </tr>\n",
       "  </tbody>\n",
       "</table>\n",
       "<p>5 rows × 27 columns</p>\n",
       "</div>"
      ],
      "text/plain": [
       "               Short description  \\\n",
       "0                    login issue   \n",
       "1                        outlook   \n",
       "2             cant log in to vpn   \n",
       "3  unable to access hr_tool page   \n",
       "4                   skype error    \n",
       "\n",
       "                                         Description short_desc_lang  \\\n",
       "0  -verified user details.(employee# & manager na...              en   \n",
       "1  \\r\\n\\r\\nreceived from: hmjdrvpb.komuaywn@gmail...              en   \n",
       "2  \\r\\n\\r\\nreceived from: eylqgodm.ybqkwiam@gmail...              en   \n",
       "3                      unable to access hr_tool page              en   \n",
       "4                                       skype error               en   \n",
       "\n",
       "                   short_desc_en description_lang  \\\n",
       "0                    login issue               en   \n",
       "1                        outlook               en   \n",
       "2             cant log in to vpn               en   \n",
       "3  unable to access hr_tool page               en   \n",
       "4                    skype error               en   \n",
       "\n",
       "                                      description_en             Caller  \\\n",
       "0  -verified user details.(employee# & manager na...  spxjnwir pjlcoqds   \n",
       "1  \\n\\nreceived from: hmjdrvpb.komuaywn@gmail.com...  hmjdrvpb komuaywn   \n",
       "2  \\n\\nreceived from: eylqgodm.ybqkwiam@gmail.com...  eylqgodm ybqkwiam   \n",
       "3                      unable to access hr_tool page  xbkucsvz gcpydteq   \n",
       "4                                        skype error  owlgqjme qhcozdfx   \n",
       "\n",
       "  Assignment group                       emails email_type  ...  \\\n",
       "0            GRP_0                                          ...   \n",
       "1            GRP_0  hmjdrvpb.komuaywn@gmail.com             ...   \n",
       "2            GRP_0  eylqgodm.ybqkwiam@gmail.com             ...   \n",
       "3            GRP_0                                          ...   \n",
       "4            GRP_0                                          ...   \n",
       "\n",
       "  no_of_splch_removed2_pct             short_desc_en_spl  \\\n",
       "0                        0                   login issue   \n",
       "1                        0                       outlook   \n",
       "2                        0            cant log in to vpn   \n",
       "3                        0  unable to access hrtool page   \n",
       "4                        0                   skype error   \n",
       "\n",
       "                                  description_en_spl short_desc_en_len  \\\n",
       "0  verified user detailsemployee manager name che...                 2   \n",
       "1  hello team my meetingsskype meetings etc are n...                 1   \n",
       "2                     hi i cannot log on to vpn best                 5   \n",
       "3                       unable to access hrtool page                 5   \n",
       "4                                        skype error                 2   \n",
       "\n",
       "  description_en_len                                      trimmed_words  \\\n",
       "0                 32  login issue verified user detailsemployee mana...   \n",
       "1                 22  outlook hello team meetingsskype meetings etc ...   \n",
       "2                  8                cant log vpn hi cannot log vpn best   \n",
       "3                  5                          unable access hrtool page   \n",
       "4                  2                                        skype error   \n",
       "\n",
       "  trimmed_words_len        trimmed_words_short  \\\n",
       "0                23                login issue   \n",
       "1                14                    outlook   \n",
       "2                 8               cant log vpn   \n",
       "3                 4  unable access hrtool page   \n",
       "4                 2                skype error   \n",
       "\n",
       "                                  trimmed_words_long mark_for_delete  \n",
       "0  verified user detailsemployee manager name che...               0  \n",
       "1  hello team meetingsskype meetings etc appearin...               0  \n",
       "2                             hi cannot log vpn best               0  \n",
       "3                          unable access hrtool page               0  \n",
       "4                                        skype error               0  \n",
       "\n",
       "[5 rows x 27 columns]"
      ]
     },
     "execution_count": 173,
     "metadata": {},
     "output_type": "execute_result"
    }
   ],
   "source": [
    "df['trimmed_words_short'] = remove_digits(df['trimmed_words_short'])\n",
    "df['trimmed_words_long'] = remove_digits(df['trimmed_words_long'])\n",
    "df['trimmed_words_short'] = df['trimmed_words_short'].apply(lambda x: remove_punctuation(x))\n",
    "df['trimmed_words_long'] = df['trimmed_words_long'].apply(lambda x: remove_punctuation(x))\n",
    "df['trimmed_words_short'] = df['trimmed_words_short'].apply(lambda x: remove_html(x))\n",
    "df['trimmed_words_long'] = df['trimmed_words_long'].apply(lambda x: remove_html(x))\n",
    "df.head()"
   ]
  },
  {
   "cell_type": "code",
   "execution_count": 176,
   "metadata": {},
   "outputs": [
    {
     "data": {
      "text/plain": [
       "'verified user detailsemployee manager name checked user name ad reset password advised user login check caller confirmed able login issue resolved'"
      ]
     },
     "execution_count": 176,
     "metadata": {},
     "output_type": "execute_result"
    }
   ],
   "source": [
    "df[\"trimmed_words_long\"][0]"
   ]
  },
  {
   "cell_type": "code",
   "execution_count": 178,
   "metadata": {},
   "outputs": [
    {
     "data": {
      "text/plain": [
       "'-verified user details.(employee# & manager name)\\n-checked the user name in ad and reset the password.\\n-advised the user to login and check.\\n-caller confirmed that he was able to login.\\n-issue resolved.'"
      ]
     },
     "execution_count": 178,
     "metadata": {},
     "output_type": "execute_result"
    }
   ],
   "source": [
    "df[\"Description\"][0]"
   ]
  },
  {
   "cell_type": "code",
   "execution_count": 179,
   "metadata": {},
   "outputs": [],
   "source": [
    "#Word Tokenizer\n",
    "numword = 2000\n",
    "t = Tokenizer(num_words=numword)\n",
    "t.fit_on_texts((df[\"short_desc_en_spl\"]))\n",
    "t1 = Tokenizer(num_words=numword)\n",
    "t1.fit_on_texts((df[\"description_en_spl\"]))\n"
   ]
  },
  {
   "cell_type": "code",
   "execution_count": 180,
   "metadata": {},
   "outputs": [
    {
     "name": "stderr",
     "output_type": "stream",
     "text": [
      "100%|██████████| 8467/8467 [00:04<00:00, 1946.28it/s]\n",
      "100%|██████████| 20441/20441 [00:04<00:00, 4326.19it/s]\n"
     ]
    }
   ],
   "source": [
    "#build a word Corpus\n",
    "short_desc_words = pd.DataFrame()\n",
    "short_desc_words[\"word_index\"] = \"\"\n",
    "short_desc_words[\"word\"] = \"\"\n",
    "short_desc_words[\"word_count\"] = \"\"\n",
    "\n",
    "desc_words = pd.DataFrame()\n",
    "desc_words[\"word_index\"] = \"\"\n",
    "desc_words[\"word\"] = \"\"\n",
    "desc_words[\"word_count\"] = \"\"\n",
    "\n",
    "\n",
    "i = 0\n",
    "for word in tqdm(t.word_index):\n",
    "    if not word in stop_words1:\n",
    "        if i<= 1500 :\n",
    "            new_row = {'word_index':t.word_index[word], 'word':word, 'word_count':t.word_counts[word]}\n",
    "            short_desc_words = short_desc_words.append(new_row, ignore_index=True)\n",
    "            i = i+1\n",
    "\n",
    "        \n",
    "i = 0\n",
    "for word in tqdm(t1.word_index):\n",
    "    if not word in stop_words1:\n",
    "        if i<= 1500 :\n",
    "            new_row = {'word_index':t1.word_index[word], 'word':word, 'word_count':t1.word_counts[word]}\n",
    "            desc_words = desc_words.append(new_row, ignore_index=True)\n",
    "            i = i+1\n"
   ]
  },
  {
   "cell_type": "code",
   "execution_count": 181,
   "metadata": {},
   "outputs": [
    {
     "data": {
      "text/html": [
       "<div>\n",
       "<style scoped>\n",
       "    .dataframe tbody tr th:only-of-type {\n",
       "        vertical-align: middle;\n",
       "    }\n",
       "\n",
       "    .dataframe tbody tr th {\n",
       "        vertical-align: top;\n",
       "    }\n",
       "\n",
       "    .dataframe thead th {\n",
       "        text-align: right;\n",
       "    }\n",
       "</style>\n",
       "<table border=\"1\" class=\"dataframe\">\n",
       "  <thead>\n",
       "    <tr style=\"text-align: right;\">\n",
       "      <th></th>\n",
       "      <th>word_index</th>\n",
       "      <th>word</th>\n",
       "      <th>word_count</th>\n",
       "    </tr>\n",
       "  </thead>\n",
       "  <tbody>\n",
       "    <tr>\n",
       "      <th>0</th>\n",
       "      <td>5</td>\n",
       "      <td>job</td>\n",
       "      <td>978</td>\n",
       "    </tr>\n",
       "    <tr>\n",
       "      <th>1</th>\n",
       "      <td>7</td>\n",
       "      <td>jobscheduler</td>\n",
       "      <td>959</td>\n",
       "    </tr>\n",
       "    <tr>\n",
       "      <th>2</th>\n",
       "      <td>9</td>\n",
       "      <td>password</td>\n",
       "      <td>889</td>\n",
       "    </tr>\n",
       "    <tr>\n",
       "      <th>3</th>\n",
       "      <td>10</td>\n",
       "      <td>erp</td>\n",
       "      <td>853</td>\n",
       "    </tr>\n",
       "    <tr>\n",
       "      <th>4</th>\n",
       "      <td>11</td>\n",
       "      <td>failed</td>\n",
       "      <td>829</td>\n",
       "    </tr>\n",
       "    <tr>\n",
       "      <th>...</th>\n",
       "      <td>...</td>\n",
       "      <td>...</td>\n",
       "      <td>...</td>\n",
       "    </tr>\n",
       "    <tr>\n",
       "      <th>1496</th>\n",
       "      <td>1603</td>\n",
       "      <td>lndypaqg</td>\n",
       "      <td>3</td>\n",
       "    </tr>\n",
       "    <tr>\n",
       "      <th>1497</th>\n",
       "      <td>1604</td>\n",
       "      <td>dhqwtcsr</td>\n",
       "      <td>3</td>\n",
       "    </tr>\n",
       "    <tr>\n",
       "      <th>1498</th>\n",
       "      <td>1605</td>\n",
       "      <td>we111</td>\n",
       "      <td>3</td>\n",
       "    </tr>\n",
       "    <tr>\n",
       "      <th>1499</th>\n",
       "      <td>1606</td>\n",
       "      <td>outputs</td>\n",
       "      <td>3</td>\n",
       "    </tr>\n",
       "    <tr>\n",
       "      <th>1500</th>\n",
       "      <td>1607</td>\n",
       "      <td>10212016</td>\n",
       "      <td>3</td>\n",
       "    </tr>\n",
       "  </tbody>\n",
       "</table>\n",
       "<p>1501 rows × 3 columns</p>\n",
       "</div>"
      ],
      "text/plain": [
       "     word_index          word word_count\n",
       "0             5           job        978\n",
       "1             7  jobscheduler        959\n",
       "2             9      password        889\n",
       "3            10           erp        853\n",
       "4            11        failed        829\n",
       "...         ...           ...        ...\n",
       "1496       1603      lndypaqg          3\n",
       "1497       1604      dhqwtcsr          3\n",
       "1498       1605         we111          3\n",
       "1499       1606       outputs          3\n",
       "1500       1607      10212016          3\n",
       "\n",
       "[1501 rows x 3 columns]"
      ]
     },
     "execution_count": 181,
     "metadata": {},
     "output_type": "execute_result"
    }
   ],
   "source": [
    "short_desc_words"
   ]
  },
  {
   "cell_type": "code",
   "execution_count": 182,
   "metadata": {},
   "outputs": [
    {
     "data": {
      "text/html": [
       "<div>\n",
       "<style scoped>\n",
       "    .dataframe tbody tr th:only-of-type {\n",
       "        vertical-align: middle;\n",
       "    }\n",
       "\n",
       "    .dataframe tbody tr th {\n",
       "        vertical-align: top;\n",
       "    }\n",
       "\n",
       "    .dataframe thead th {\n",
       "        text-align: right;\n",
       "    }\n",
       "</style>\n",
       "<table border=\"1\" class=\"dataframe\">\n",
       "  <thead>\n",
       "    <tr style=\"text-align: right;\">\n",
       "      <th></th>\n",
       "      <th>word_index</th>\n",
       "      <th>word</th>\n",
       "      <th>word_count</th>\n",
       "    </tr>\n",
       "  </thead>\n",
       "  <tbody>\n",
       "    <tr>\n",
       "      <th>0</th>\n",
       "      <td>9</td>\n",
       "      <td>please</td>\n",
       "      <td>2072</td>\n",
       "    </tr>\n",
       "    <tr>\n",
       "      <th>1</th>\n",
       "      <td>14</td>\n",
       "      <td>yesnona</td>\n",
       "      <td>1568</td>\n",
       "    </tr>\n",
       "    <tr>\n",
       "      <th>2</th>\n",
       "      <td>17</td>\n",
       "      <td>password</td>\n",
       "      <td>1205</td>\n",
       "    </tr>\n",
       "    <tr>\n",
       "      <th>3</th>\n",
       "      <td>20</td>\n",
       "      <td>user</td>\n",
       "      <td>1147</td>\n",
       "    </tr>\n",
       "    <tr>\n",
       "      <th>4</th>\n",
       "      <td>21</td>\n",
       "      <td>erp</td>\n",
       "      <td>1144</td>\n",
       "    </tr>\n",
       "    <tr>\n",
       "      <th>...</th>\n",
       "      <td>...</td>\n",
       "      <td>...</td>\n",
       "      <td>...</td>\n",
       "    </tr>\n",
       "    <tr>\n",
       "      <th>1496</th>\n",
       "      <td>1613</td>\n",
       "      <td>second</td>\n",
       "      <td>13</td>\n",
       "    </tr>\n",
       "    <tr>\n",
       "      <th>1497</th>\n",
       "      <td>1614</td>\n",
       "      <td>ph</td>\n",
       "      <td>13</td>\n",
       "    </tr>\n",
       "    <tr>\n",
       "      <th>1498</th>\n",
       "      <td>1615</td>\n",
       "      <td>sometimes</td>\n",
       "      <td>13</td>\n",
       "    </tr>\n",
       "    <tr>\n",
       "      <th>1499</th>\n",
       "      <td>1616</td>\n",
       "      <td>across</td>\n",
       "      <td>13</td>\n",
       "    </tr>\n",
       "    <tr>\n",
       "      <th>1500</th>\n",
       "      <td>1617</td>\n",
       "      <td>16</td>\n",
       "      <td>13</td>\n",
       "    </tr>\n",
       "  </tbody>\n",
       "</table>\n",
       "<p>1501 rows × 3 columns</p>\n",
       "</div>"
      ],
      "text/plain": [
       "     word_index       word word_count\n",
       "0             9     please       2072\n",
       "1            14    yesnona       1568\n",
       "2            17   password       1205\n",
       "3            20       user       1147\n",
       "4            21        erp       1144\n",
       "...         ...        ...        ...\n",
       "1496       1613     second         13\n",
       "1497       1614         ph         13\n",
       "1498       1615  sometimes         13\n",
       "1499       1616     across         13\n",
       "1500       1617         16         13\n",
       "\n",
       "[1501 rows x 3 columns]"
      ]
     },
     "execution_count": 182,
     "metadata": {},
     "output_type": "execute_result"
    }
   ],
   "source": [
    "desc_words"
   ]
  },
  {
   "cell_type": "code",
   "execution_count": 183,
   "metadata": {},
   "outputs": [],
   "source": [
    "short_desc_words.to_csv(\"short_desc_words.csv\")\n",
    "desc_words.to_csv(\"desc_words.csv\")"
   ]
  },
  {
   "cell_type": "code",
   "execution_count": 184,
   "metadata": {},
   "outputs": [],
   "source": [
    "df[\"flg_account_related\"]=0\n",
    "df[\"flg_crm\"]=0\n",
    "df[\"flg_engineering\"]=0\n",
    "df[\"flg_erp\"]=0\n",
    "df[\"flg_failed\"]=0\n",
    "df[\"flg_help\"]=0\n",
    "df[\"flg_install\"]=0\n",
    "df[\"flg_job\"]=0\n",
    "df[\"flg_laptop\"]=0\n",
    "df[\"flg_mobile\"]=0\n",
    "df[\"flg_network\"]=0\n",
    "df[\"flg_outlook\"]=0\n",
    "df[\"flg_printer\"]=0\n",
    "df[\"flg_skype\"]=0\n",
    "df[\"flg_ticket_update\"]=0\n",
    "df[\"flg_vpn\"]=0\n",
    "df[\"flg_windows\"]=0\n",
    "df[\"host_related\"]=0\n",
    "#df[\"mobile\"]=0\n",
    "df[\"blank_call\"]=0\n",
    "df[\"setup_ws\"]=0"
   ]
  },
  {
   "cell_type": "code",
   "execution_count": 185,
   "metadata": {},
   "outputs": [
    {
     "name": "stderr",
     "output_type": "stream",
     "text": [
      "100%|██████████| 8489/8489 [00:16<00:00, 526.24it/s]\n"
     ]
    }
   ],
   "source": [
    "\n",
    "for i in tqdm(df.index):\n",
    "#---------------------------------------------------------------------\n",
    "    if df[\"emails\"][i].find(\"gmail\") >= 0:\n",
    "        df.loc[i,\"email_type\"] = \"gmail\"\n",
    "    else: \n",
    "        if df[\"emails\"][i].find(\"monitoring_tool@\") >=0:\n",
    "            df.loc[i,\"email_type\"] = \"monitoring_tool\"\n",
    "        else:\n",
    "            if df[\"emails\"][i].find(\"company\") >=0:\n",
    "                df.loc[i,\"email_type\"] = \"company\"\n",
    "            else :\n",
    "                df.loc[i,\"email_type\"] = \"others\"\n",
    "    \n",
    "    if df[\"trimmed_words\"][i].find(\"access\") >= 0 :\n",
    "        df.loc[i,\"flg_account_related\"] = 1\n",
    "    if df[\"trimmed_words\"][i].find(\"account\") >= 0 :\n",
    "        df.loc[i,\"flg_account_related\"] = 1\n",
    "    if df[\"trimmed_words\"][i].find(\"locked\") >= 0 :\n",
    "        df.loc[i,\"flg_account_related\"] = 1\n",
    "    if df[\"trimmed_words\"][i].find(\"login\") >= 0 :\n",
    "        df.loc[i,\"flg_account_related\"] = 1\n",
    "    if df[\"trimmed_words\"][i].find(\"logon\") >= 0 :\n",
    "        df.loc[i,\"flg_account_related\"] = 1\n",
    "    if df[\"trimmed_words\"][i].find(\"password\") >= 0 :\n",
    "        df.loc[i,\"flg_account_related\"] = 1\n",
    "    if df[\"trimmed_words\"][i].find(\"passwordmanagementtool\") >= 0 :\n",
    "        df.loc[i,\"flg_account_related\"] = 1\n",
    "    if df[\"trimmed_words\"][i].find(\"passwords\") >= 0 :\n",
    "        df.loc[i,\"flg_account_related\"] = 1\n",
    "    if df[\"trimmed_words\"][i].find(\"reset\") >= 0 :\n",
    "        df.loc[i,\"flg_account_related\"] = 1\n",
    "    if df[\"trimmed_words\"][i].find(\"tologin\") >= 0 :\n",
    "        df.loc[i,\"flg_account_related\"] = 1\n",
    "    if df[\"trimmed_words\"][i].find(\"unlock\") >= 0 :\n",
    "        df.loc[i,\"flg_account_related\"] = 1\n",
    "    if df[\"trimmed_words\"][i].find(\"user\") >= 0 :\n",
    "        df.loc[i,\"flg_account_related\"] = 1\n",
    "#---------------------------------------------------------------------    \n",
    "    if df[\"trimmed_words\"][i].find(\"circuit\") >= 0 :\n",
    "        df.loc[i,\"flg_network\"] = 1\n",
    "    if df[\"trimmed_words\"][i].find(\"connection\") >= 0 :\n",
    "        df.loc[i,\"flg_network\"] = 1\n",
    "    if df[\"trimmed_words\"][i].find(\"network\") >= 0 :\n",
    "        df.loc[i,\"flg_network\"] = 1\n",
    "    if df[\"trimmed_words\"][i].find(\"outage\") >= 0 :\n",
    "        df.loc[i,\"flg_network\"] = 1\n",
    "    if df[\"trimmed_words\"][i].find(\"server\") >= 0 :\n",
    "        df.loc[i,\"flg_network\"] = 1\n",
    "#---------------------------------------------------------------------    \n",
    "    if df[\"trimmed_words\"][i].find(\"vpn\") >= 0 :\n",
    "        df.loc[i,\"flg_vpn\"] = 1\n",
    "    if df[\"trimmed_words\"][i].find(\"vpncompanycom\") >= 0 :\n",
    "        df.loc[i,\"flg_vpn\"] = 1\n",
    "#---------------------------------------------------------------------    \n",
    "    if df[\"trimmed_words\"][i].find(\"computer\") >= 0 :\n",
    "        df.loc[i,\"flg_laptop\"] = 1\n",
    "#---------------------------------------------------------------------    \n",
    "    if df[\"trimmed_words\"][i].find(\"crm\") >= 0 :\n",
    "        df.loc[i,\"flg_crm\"] = 1\n",
    "#---------------------------------------------------------------------    \n",
    "    if df[\"trimmed_words\"][i].find(\"email\") >= 0 :\n",
    "        df.loc[i,\"flg_outlook\"] = 1\n",
    "    if df[\"trimmed_words\"][i].find(\"emails\") >= 0 :\n",
    "        df.loc[i,\"flg_outlook\"] = 1\n",
    "#---------------------------------------------------------------------    \n",
    "    if df[\"trimmed_words\"][i].find(\"outlook\") >= 0 :\n",
    "        df.loc[i,\"flg_outlook\"] = 1\n",
    "#---------------------------------------------------------------------    \n",
    "    if df[\"trimmed_words\"][i].find(\"error\") >= 0 :\n",
    "        df.loc[i,\"flg_failed\"] = 1\n",
    "    if df[\"trimmed_words\"][i].find(\"failed\") >= 0 :\n",
    "        df.loc[i,\"flg_failed\"] = 1\n",
    "    if df[\"trimmed_words\"][i].find(\"issue\") >= 0 :\n",
    "        df.loc[i,\"flg_failed\"] = 1\n",
    "#---------------------------------------------------------------------    \n",
    "    if df[\"trimmed_words\"][i].find(\"engineering\") >= 0 :\n",
    "        df.loc[i,\"flg_engineering\"] = 1\n",
    "    if df[\"trimmed_words\"][i].find(\"engineeringtool\") >= 0 :\n",
    "        df.loc[i,\"flg_engineering\"] = 1\n",
    "#---------------------------------------------------------------------    \n",
    "    if df[\"trimmed_words\"][i].find(\"erp\") >= 0 :\n",
    "        df.loc[i,\"flg_erp\"] = 1\n",
    "#---------------------------------------------------------------------    \n",
    "    if df[\"trimmed_words\"][i].find(\"help\") >= 0 :\n",
    "        df.loc[i,\"flg_help\"] = 1\n",
    "#---------------------------------------------------------------------    \n",
    "    if df[\"trimmed_words\"][i].find(\"install\") >= 0 :\n",
    "        df.loc[i,\"flg_install\"] = 1\n",
    "#---------------------------------------------------------------------    \n",
    "    if df[\"trimmed_words\"][i].find(\"job\") >= 0 :\n",
    "        df.loc[i,\"flg_job\"] = 1\n",
    "    if df[\"trimmed_words\"][i].find(\"jobscheduler\") >= 0 :\n",
    "        df.loc[i,\"flg_job\"] = 1\n",
    "#---------------------------------------------------------------------    \n",
    "    if df[\"trimmed_words\"][i].find(\"laptop\") >= 0 :\n",
    "        df.loc[i,\"flg_laptop\"] = 1\n",
    "    if df[\"trimmed_words\"][i].find(\"pc\") >= 0 :\n",
    "        df.loc[i,\"flg_laptop\"] = 1    \n",
    "#---------------------------------------------------------------------    \n",
    "    if df[\"trimmed_words\"][i].find(\"phone\") >= 0 :\n",
    "        df.loc[i,\"flg_mobile\"] = 1\n",
    "    if df[\"trimmed_words\"][i].find(\"telephonysoftware\") >= 0 :\n",
    "        df.loc[i,\"flg_mobile\"] = 1\n",
    "    if df[\"trimmed_words\"][i].find(\"mobile\") >= 0 :\n",
    "        df.loc[i,\"flg_mobile\"] = 1\n",
    "#---------------------------------------------------------------------    \n",
    "    if df[\"trimmed_words\"][i].find(\"print\") >= 0 :\n",
    "        df.loc[i,\"flg_printer\"] = 1\n",
    "    if df[\"trimmed_words\"][i].find(\"printer\") >= 0 :\n",
    "        df.loc[i,\"flg_printer\"] = 1\n",
    "#---------------------------------------------------------------------    \n",
    "    if df[\"trimmed_words\"][i].find(\"skype\") >= 0 :\n",
    "        df.loc[i,\"flg_skype\"] = 1\n",
    "#---------------------------------------------------------------------    \n",
    "    if df[\"trimmed_words\"][i].find(\"problems\") >= 0 :\n",
    "        df.loc[i,\"flg_failed\"] = 1\n",
    "    if df[\"trimmed_words\"][i].find(\"unable\") >= 0 :\n",
    "        df.loc[i,\"flg_failed\"] = 1\n",
    "#---------------------------------------------------------------------    \n",
    "    if df[\"trimmed_words\"][i].find(\"ticket\") >= 0 :\n",
    "        df.loc[i,\"flg_ticket_update\"] = 1\n",
    "    if df[\"trimmed_words\"][i].find(\"update\") >= 0 :\n",
    "        df.loc[i,\"flg_ticket_update\"] = 1\n",
    "#---------------------------------------------------------------------    \n",
    "    if df[\"trimmed_words\"][i].find(\"windows\") >= 0 :\n",
    "        df.loc[i,\"flg_windows\"] = 1\n",
    "#---------------------------------------------------------------------    \n",
    "    if df[\"trimmed_words\"][i].find(\"hostname\") >= 0 :\n",
    "        df.loc[i,\"host_related\"] = 1\n",
    "#---------------------------------------------------------------------    \n",
    "   \n",
    "#---------------------------------------------------------------------    \n",
    "    if df[\"trimmed_words\"][i].find(\"blank call\") >= 0 :\n",
    "        df.loc[i,\"blank_call\"] = 1\n",
    "#---------------------------------------------------------------------    \n",
    "    if df[\"trimmed_words\"][i].find(\"setup new ws\") >= 0 :\n",
    "        df.loc[i,\"setup_ws\"] = 1\n",
    "#---------------------------------------------------------------------    \n",
    "    #if np.mod(i,1000) == 0:\n",
    "     #print(\"\\n\")\n",
    "    #  print(np.round((i*100/len(df))),\"% \", end = \"\")\n",
    "    #if np.mod(i,100) == 0:\n",
    "    #  print(\"=\", end = \"\")\n",
    "  "
   ]
  },
  {
   "cell_type": "code",
   "execution_count": 186,
   "metadata": {},
   "outputs": [
    {
     "data": {
      "text/plain": [
       "Short description           object\n",
       "Description                 object\n",
       "short_desc_lang             object\n",
       "short_desc_en               object\n",
       "description_lang            object\n",
       "description_en              object\n",
       "Caller                      object\n",
       "Assignment group            object\n",
       "emails                      object\n",
       "email_type                  object\n",
       "short_desc_spl              object\n",
       "description_spl             object\n",
       "short_desc_len              object\n",
       "description_len             object\n",
       "no_of_splch_removed1        object\n",
       "no_of_splch_removed1_pct    object\n",
       "no_of_splch_removed2        object\n",
       "no_of_splch_removed2_pct    object\n",
       "short_desc_en_spl           object\n",
       "description_en_spl          object\n",
       "short_desc_en_len           object\n",
       "description_en_len          object\n",
       "trimmed_words               object\n",
       "trimmed_words_len           object\n",
       "trimmed_words_short         object\n",
       "trimmed_words_long          object\n",
       "mark_for_delete              int64\n",
       "flg_account_related          int64\n",
       "flg_crm                      int64\n",
       "flg_engineering              int64\n",
       "flg_erp                      int64\n",
       "flg_failed                   int64\n",
       "flg_help                     int64\n",
       "flg_install                  int64\n",
       "flg_job                      int64\n",
       "flg_laptop                   int64\n",
       "flg_mobile                   int64\n",
       "flg_network                  int64\n",
       "flg_outlook                  int64\n",
       "flg_printer                  int64\n",
       "flg_skype                    int64\n",
       "flg_ticket_update            int64\n",
       "flg_vpn                      int64\n",
       "flg_windows                  int64\n",
       "host_related                 int64\n",
       "blank_call                   int64\n",
       "setup_ws                     int64\n",
       "dtype: object"
      ]
     },
     "execution_count": 186,
     "metadata": {},
     "output_type": "execute_result"
    }
   ],
   "source": [
    "df.dtypes"
   ]
  },
  {
   "cell_type": "code",
   "execution_count": 187,
   "metadata": {},
   "outputs": [
    {
     "data": {
      "text/plain": [
       "<matplotlib.axes._subplots.AxesSubplot at 0x16c5d05f9c8>"
      ]
     },
     "execution_count": 187,
     "metadata": {},
     "output_type": "execute_result"
    },
    {
     "data": {
      "image/png": "[encoded data removed]",
      "text/plain": [
       "<Figure size 432x288 with 1 Axes>"
      ]
     },
     "metadata": {
      "needs_background": "light"
     },
     "output_type": "display_data"
    }
   ],
   "source": [
    "sns.distplot(df[\"trimmed_words_len\"])"
   ]
  },
  {
   "cell_type": "code",
   "execution_count": 188,
   "metadata": {},
   "outputs": [
    {
     "data": {
      "text/plain": [
       "<matplotlib.axes._subplots.AxesSubplot at 0x16c57dc8fc8>"
      ]
     },
     "execution_count": 188,
     "metadata": {},
     "output_type": "execute_result"
    },
    {
     "data": {
      "image/png": "[encoded data removed]",
      "text/plain": [
       "<Figure size 432x288 with 1 Axes>"
      ]
     },
     "metadata": {
      "needs_background": "light"
     },
     "output_type": "display_data"
    }
   ],
   "source": [
    "sns.distplot(df[\"short_desc_len\"])"
   ]
  },
  {
   "cell_type": "code",
   "execution_count": 189,
   "metadata": {},
   "outputs": [
    {
     "data": {
      "text/plain": [
       "<matplotlib.axes._subplots.AxesSubplot at 0x16c575e0848>"
      ]
     },
     "execution_count": 189,
     "metadata": {},
     "output_type": "execute_result"
    },
    {
     "data": {
      "image/png": "[encoded data removed]",
      "text/plain": [
       "<Figure size 432x288 with 1 Axes>"
      ]
     },
     "metadata": {
      "needs_background": "light"
     },
     "output_type": "display_data"
    }
   ],
   "source": [
    "sns.distplot(df[\"description_len\"])"
   ]
  },
  {
   "cell_type": "code",
   "execution_count": 190,
   "metadata": {},
   "outputs": [
    {
     "data": {
      "text/plain": [
       "<matplotlib.axes._subplots.AxesSubplot at 0x16c5f965208>"
      ]
     },
     "execution_count": 190,
     "metadata": {},
     "output_type": "execute_result"
    },
    {
     "data": {
      "image/png": "[encoded data removed]",
      "text/plain": [
       "<Figure size 432x288 with 1 Axes>"
      ]
     },
     "metadata": {
      "needs_background": "light"
     },
     "output_type": "display_data"
    }
   ],
   "source": [
    "sns.countplot(df[\"email_type\"])"
   ]
  },
  {
   "cell_type": "code",
   "execution_count": 191,
   "metadata": {},
   "outputs": [
    {
     "data": {
      "text/html": [
       "<div>\n",
       "<style scoped>\n",
       "    .dataframe tbody tr th:only-of-type {\n",
       "        vertical-align: middle;\n",
       "    }\n",
       "\n",
       "    .dataframe tbody tr th {\n",
       "        vertical-align: top;\n",
       "    }\n",
       "\n",
       "    .dataframe thead th {\n",
       "        text-align: right;\n",
       "    }\n",
       "</style>\n",
       "<table border=\"1\" class=\"dataframe\">\n",
       "  <thead>\n",
       "    <tr style=\"text-align: right;\">\n",
       "      <th></th>\n",
       "      <th>Short description</th>\n",
       "      <th>Description</th>\n",
       "      <th>short_desc_lang</th>\n",
       "      <th>short_desc_en</th>\n",
       "      <th>description_lang</th>\n",
       "      <th>description_en</th>\n",
       "      <th>Caller</th>\n",
       "      <th>Assignment group</th>\n",
       "      <th>emails</th>\n",
       "      <th>email_type</th>\n",
       "      <th>...</th>\n",
       "      <th>flg_network</th>\n",
       "      <th>flg_outlook</th>\n",
       "      <th>flg_printer</th>\n",
       "      <th>flg_skype</th>\n",
       "      <th>flg_ticket_update</th>\n",
       "      <th>flg_vpn</th>\n",
       "      <th>flg_windows</th>\n",
       "      <th>host_related</th>\n",
       "      <th>blank_call</th>\n",
       "      <th>setup_ws</th>\n",
       "    </tr>\n",
       "  </thead>\n",
       "  <tbody>\n",
       "    <tr>\n",
       "      <th>0</th>\n",
       "      <td>login issue</td>\n",
       "      <td>-verified user details.(employee# &amp; manager na...</td>\n",
       "      <td>en</td>\n",
       "      <td>login issue</td>\n",
       "      <td>en</td>\n",
       "      <td>-verified user details.(employee# &amp; manager na...</td>\n",
       "      <td>spxjnwir pjlcoqds</td>\n",
       "      <td>GRP_0</td>\n",
       "      <td></td>\n",
       "      <td>others</td>\n",
       "      <td>...</td>\n",
       "      <td>0</td>\n",
       "      <td>0</td>\n",
       "      <td>0</td>\n",
       "      <td>0</td>\n",
       "      <td>0</td>\n",
       "      <td>0</td>\n",
       "      <td>0</td>\n",
       "      <td>0</td>\n",
       "      <td>0</td>\n",
       "      <td>0</td>\n",
       "    </tr>\n",
       "    <tr>\n",
       "      <th>1</th>\n",
       "      <td>outlook</td>\n",
       "      <td>\\r\\n\\r\\nreceived from: hmjdrvpb.komuaywn@gmail...</td>\n",
       "      <td>en</td>\n",
       "      <td>outlook</td>\n",
       "      <td>en</td>\n",
       "      <td>\\n\\nreceived from: hmjdrvpb.komuaywn@gmail.com...</td>\n",
       "      <td>hmjdrvpb komuaywn</td>\n",
       "      <td>GRP_0</td>\n",
       "      <td>hmjdrvpb.komuaywn@gmail.com</td>\n",
       "      <td>gmail</td>\n",
       "      <td>...</td>\n",
       "      <td>0</td>\n",
       "      <td>1</td>\n",
       "      <td>0</td>\n",
       "      <td>1</td>\n",
       "      <td>0</td>\n",
       "      <td>0</td>\n",
       "      <td>0</td>\n",
       "      <td>0</td>\n",
       "      <td>0</td>\n",
       "      <td>0</td>\n",
       "    </tr>\n",
       "    <tr>\n",
       "      <th>2</th>\n",
       "      <td>cant log in to vpn</td>\n",
       "      <td>\\r\\n\\r\\nreceived from: eylqgodm.ybqkwiam@gmail...</td>\n",
       "      <td>en</td>\n",
       "      <td>cant log in to vpn</td>\n",
       "      <td>en</td>\n",
       "      <td>\\n\\nreceived from: eylqgodm.ybqkwiam@gmail.com...</td>\n",
       "      <td>eylqgodm ybqkwiam</td>\n",
       "      <td>GRP_0</td>\n",
       "      <td>eylqgodm.ybqkwiam@gmail.com</td>\n",
       "      <td>gmail</td>\n",
       "      <td>...</td>\n",
       "      <td>0</td>\n",
       "      <td>0</td>\n",
       "      <td>0</td>\n",
       "      <td>0</td>\n",
       "      <td>0</td>\n",
       "      <td>1</td>\n",
       "      <td>0</td>\n",
       "      <td>0</td>\n",
       "      <td>0</td>\n",
       "      <td>0</td>\n",
       "    </tr>\n",
       "    <tr>\n",
       "      <th>3</th>\n",
       "      <td>unable to access hr_tool page</td>\n",
       "      <td>unable to access hr_tool page</td>\n",
       "      <td>en</td>\n",
       "      <td>unable to access hr_tool page</td>\n",
       "      <td>en</td>\n",
       "      <td>unable to access hr_tool page</td>\n",
       "      <td>xbkucsvz gcpydteq</td>\n",
       "      <td>GRP_0</td>\n",
       "      <td></td>\n",
       "      <td>others</td>\n",
       "      <td>...</td>\n",
       "      <td>0</td>\n",
       "      <td>0</td>\n",
       "      <td>0</td>\n",
       "      <td>0</td>\n",
       "      <td>0</td>\n",
       "      <td>0</td>\n",
       "      <td>0</td>\n",
       "      <td>0</td>\n",
       "      <td>0</td>\n",
       "      <td>0</td>\n",
       "    </tr>\n",
       "    <tr>\n",
       "      <th>4</th>\n",
       "      <td>skype error</td>\n",
       "      <td>skype error</td>\n",
       "      <td>en</td>\n",
       "      <td>skype error</td>\n",
       "      <td>en</td>\n",
       "      <td>skype error</td>\n",
       "      <td>owlgqjme qhcozdfx</td>\n",
       "      <td>GRP_0</td>\n",
       "      <td></td>\n",
       "      <td>others</td>\n",
       "      <td>...</td>\n",
       "      <td>0</td>\n",
       "      <td>0</td>\n",
       "      <td>0</td>\n",
       "      <td>1</td>\n",
       "      <td>0</td>\n",
       "      <td>0</td>\n",
       "      <td>0</td>\n",
       "      <td>0</td>\n",
       "      <td>0</td>\n",
       "      <td>0</td>\n",
       "    </tr>\n",
       "  </tbody>\n",
       "</table>\n",
       "<p>5 rows × 47 columns</p>\n",
       "</div>"
      ],
      "text/plain": [
       "               Short description  \\\n",
       "0                    login issue   \n",
       "1                        outlook   \n",
       "2             cant log in to vpn   \n",
       "3  unable to access hr_tool page   \n",
       "4                   skype error    \n",
       "\n",
       "                                         Description short_desc_lang  \\\n",
       "0  -verified user details.(employee# & manager na...              en   \n",
       "1  \\r\\n\\r\\nreceived from: hmjdrvpb.komuaywn@gmail...              en   \n",
       "2  \\r\\n\\r\\nreceived from: eylqgodm.ybqkwiam@gmail...              en   \n",
       "3                      unable to access hr_tool page              en   \n",
       "4                                       skype error               en   \n",
       "\n",
       "                   short_desc_en description_lang  \\\n",
       "0                    login issue               en   \n",
       "1                        outlook               en   \n",
       "2             cant log in to vpn               en   \n",
       "3  unable to access hr_tool page               en   \n",
       "4                    skype error               en   \n",
       "\n",
       "                                      description_en             Caller  \\\n",
       "0  -verified user details.(employee# & manager na...  spxjnwir pjlcoqds   \n",
       "1  \\n\\nreceived from: hmjdrvpb.komuaywn@gmail.com...  hmjdrvpb komuaywn   \n",
       "2  \\n\\nreceived from: eylqgodm.ybqkwiam@gmail.com...  eylqgodm ybqkwiam   \n",
       "3                      unable to access hr_tool page  xbkucsvz gcpydteq   \n",
       "4                                        skype error  owlgqjme qhcozdfx   \n",
       "\n",
       "  Assignment group                       emails email_type  ... flg_network  \\\n",
       "0            GRP_0                                  others  ...           0   \n",
       "1            GRP_0  hmjdrvpb.komuaywn@gmail.com      gmail  ...           0   \n",
       "2            GRP_0  eylqgodm.ybqkwiam@gmail.com      gmail  ...           0   \n",
       "3            GRP_0                                  others  ...           0   \n",
       "4            GRP_0                                  others  ...           0   \n",
       "\n",
       "  flg_outlook flg_printer flg_skype flg_ticket_update flg_vpn flg_windows  \\\n",
       "0           0           0         0                 0       0           0   \n",
       "1           1           0         1                 0       0           0   \n",
       "2           0           0         0                 0       1           0   \n",
       "3           0           0         0                 0       0           0   \n",
       "4           0           0         1                 0       0           0   \n",
       "\n",
       "  host_related blank_call setup_ws  \n",
       "0            0          0        0  \n",
       "1            0          0        0  \n",
       "2            0          0        0  \n",
       "3            0          0        0  \n",
       "4            0          0        0  \n",
       "\n",
       "[5 rows x 47 columns]"
      ]
     },
     "execution_count": 191,
     "metadata": {},
     "output_type": "execute_result"
    }
   ],
   "source": [
    "df.head()"
   ]
  },
  {
   "cell_type": "code",
   "execution_count": 192,
   "metadata": {},
   "outputs": [
    {
     "data": {
      "text/plain": [
       "<matplotlib.axes._subplots.AxesSubplot at 0x16c5f9f3788>"
      ]
     },
     "execution_count": 192,
     "metadata": {},
     "output_type": "execute_result"
    },
    {
     "data": {
      "image/png": "[encoded data removed]",
      "text/plain": [
       "<Figure size 432x288 with 1 Axes>"
      ]
     },
     "metadata": {
      "needs_background": "light"
     },
     "output_type": "display_data"
    }
   ],
   "source": [
    "sns.countplot(df[\"Assignment group\"])"
   ]
  },
  {
   "cell_type": "code",
   "execution_count": 193,
   "metadata": {},
   "outputs": [
    {
     "data": {
      "text/plain": [
       "Assignment group\n",
       "GRP_0     3966\n",
       "GRP_8      661\n",
       "GRP_24     289\n",
       "GRP_12     257\n",
       "GRP_9      252\n",
       "          ... \n",
       "GRP_67       1\n",
       "GRP_61       1\n",
       "GRP_73       1\n",
       "GRP_35       1\n",
       "GRP_70       1\n",
       "Name: Assignment group, Length: 74, dtype: int64"
      ]
     },
     "execution_count": 193,
     "metadata": {},
     "output_type": "execute_result"
    }
   ],
   "source": [
    "a = df.groupby(\"Assignment group\")\n",
    "a[\"Assignment group\"].count().sort_values(ascending = False)"
   ]
  },
  {
   "cell_type": "code",
   "execution_count": 194,
   "metadata": {},
   "outputs": [
    {
     "name": "stdout",
     "output_type": "stream",
     "text": [
      "Short description\n",
      "password reset               38\n",
      "windows password reset       29\n",
      "account locked in ad         24\n",
      "windows account locked       23\n",
      "erp SID_34 account unlock    19\n",
      "blank call                   18\n",
      "unable to connect to vpn     18\n",
      "login issue                  18\n",
      "account locked.              18\n",
      "account unlock               17\n",
      "Name: Short description, dtype: int64\n"
     ]
    }
   ],
   "source": [
    "b = df.groupby(\"Short description\")\n",
    "print(b[\"Short description\"].count().sort_values(ascending = False).head(10))"
   ]
  },
  {
   "cell_type": "code",
   "execution_count": 195,
   "metadata": {},
   "outputs": [
    {
     "name": "stdout",
     "output_type": "stream",
     "text": [
      "Caller\n",
      "bpctwhsn kzqsbmtp    810\n",
      "ZkBogxib QsEJzdZO    151\n",
      "fumkcsji sarmtlhy    134\n",
      "rbozivdq gmlhrtvp     87\n",
      "rkupnshb gsmzfojw     71\n",
      "jloygrwh acvztedi     64\n",
      "spxqmiry zpwgoqju     63\n",
      "oldrctiu bxurpsyi     57\n",
      "olckhmvx pcqobjnd     54\n",
      "dkmcfreg anwmfvlg     51\n",
      "Name: Caller, dtype: int64\n"
     ]
    }
   ],
   "source": [
    "b = df.groupby(\"Caller\")\n",
    "print(b[\"Caller\"].count().sort_values(ascending = False).head(10))"
   ]
  },
  {
   "cell_type": "code",
   "execution_count": 196,
   "metadata": {},
   "outputs": [
    {
     "data": {
      "text/html": [
       "<div>\n",
       "<style scoped>\n",
       "    .dataframe tbody tr th:only-of-type {\n",
       "        vertical-align: middle;\n",
       "    }\n",
       "\n",
       "    .dataframe tbody tr th {\n",
       "        vertical-align: top;\n",
       "    }\n",
       "\n",
       "    .dataframe thead th {\n",
       "        text-align: right;\n",
       "    }\n",
       "</style>\n",
       "<table border=\"1\" class=\"dataframe\">\n",
       "  <thead>\n",
       "    <tr style=\"text-align: right;\">\n",
       "      <th></th>\n",
       "      <th>Short description</th>\n",
       "      <th>Description</th>\n",
       "      <th>trimmed_words</th>\n",
       "      <th>description_en_len</th>\n",
       "      <th>description_en_spl</th>\n",
       "      <th>trimmed_words_len</th>\n",
       "      <th>no_of_splch_removed1</th>\n",
       "      <th>no_of_splch_removed1_pct</th>\n",
       "      <th>no_of_splch_removed2_pct</th>\n",
       "    </tr>\n",
       "  </thead>\n",
       "  <tbody>\n",
       "    <tr>\n",
       "      <th>186</th>\n",
       "      <td>é’å²›å…´åˆæœºç”µshipment notificationé‚®ç®±è...</td>\n",
       "      <td>from:  \\nsent: friday, october 28, 2016 7:20 a...</td>\n",
       "      <td>shipment notification sent friday october 28 2...</td>\n",
       "      <td>27</td>\n",
       "      <td>from sent friday october 28 2016 720 am to nwf...</td>\n",
       "      <td>24</td>\n",
       "      <td>30</td>\n",
       "      <td>58.8</td>\n",
       "      <td>13.5</td>\n",
       "    </tr>\n",
       "    <tr>\n",
       "      <th>276</th>\n",
       "      <td>outlookæ”¶åˆ°ç®±ä¸­folderå˜ä¸ºæ¯å¤©ä¸€ä¸ªfol...</td>\n",
       "      <td>outlookæ”¶åˆ°ç®±ä¸­folderå˜ä¸ºæ¯å¤©ä¸€ä¸ªfol...</td>\n",
       "      <td>outlook c folder folderoffice</td>\n",
       "      <td>4</td>\n",
       "      <td>outlook c folder folderoffice</td>\n",
       "      <td>4</td>\n",
       "      <td>48</td>\n",
       "      <td>65.8</td>\n",
       "      <td>65.8</td>\n",
       "    </tr>\n",
       "    <tr>\n",
       "      <th>469</th>\n",
       "      <td>ieæµè§ˆå™¨æ‰“å¼€crmç³»ç»ŸåŽæç¤ºç”¨æˆ·å·²è¢...</td>\n",
       "      <td>ieæµè§ˆå™¨æ‰“å¼€crmç³»ç»ŸåŽæç¤ºç”¨æˆ·å·²è¢...</td>\n",
       "      <td>ie crm zae crm ya</td>\n",
       "      <td>6</td>\n",
       "      <td>ie crm there zae crm ya</td>\n",
       "      <td>5</td>\n",
       "      <td>72</td>\n",
       "      <td>90</td>\n",
       "      <td>90</td>\n",
       "    </tr>\n",
       "    <tr>\n",
       "      <th>487</th>\n",
       "      <td>msd - office 2013 outlook æ‰“ä¸å¼€ï¼Œæ˜¾ç¤ºæ—...</td>\n",
       "      <td>please provide details of the issue.\\n[â€Ž2016...</td>\n",
       "      <td>msd office 2013 outlook cs please provide deta...</td>\n",
       "      <td>38</td>\n",
       "      <td>please provide details of the issue 2016 z10 z...</td>\n",
       "      <td>37</td>\n",
       "      <td>54</td>\n",
       "      <td>67.5</td>\n",
       "      <td>46.6</td>\n",
       "    </tr>\n",
       "    <tr>\n",
       "      <th>618</th>\n",
       "      <td>outlookæ‰“ä¸å¼€</td>\n",
       "      <td>æ‰“å¼€outlookæ—¶ï¼Œæ˜¾ç¤ºoutlook.ostæ–‡ä»¶é”™è...</td>\n",
       "      <td>outlook outlookoutlookost</td>\n",
       "      <td>2</td>\n",
       "      <td>outlookoutlookost is</td>\n",
       "      <td>2</td>\n",
       "      <td>9</td>\n",
       "      <td>56.2</td>\n",
       "      <td>75</td>\n",
       "    </tr>\n",
       "    <tr>\n",
       "      <th>...</th>\n",
       "      <td>...</td>\n",
       "      <td>...</td>\n",
       "      <td>...</td>\n",
       "      <td>...</td>\n",
       "      <td>...</td>\n",
       "      <td>...</td>\n",
       "      <td>...</td>\n",
       "      <td>...</td>\n",
       "      <td>...</td>\n",
       "    </tr>\n",
       "    <tr>\n",
       "      <th>8266</th>\n",
       "      <td>erpæ— æ³•è¿›è¡Œé‡‡è´­ï¼ˆè½¬ç»™è´ºæ­£å¹³ï¼‰</td>\n",
       "      <td>è¿›è¡Œé‡‡è´­æ—¶æ˜¾ç¤º\"æ‰¾ä¸åˆ°å‘˜å·¥111115483...</td>\n",
       "      <td>erp 1111154833 scy c</td>\n",
       "      <td>4</td>\n",
       "      <td>1111154833 is scy c</td>\n",
       "      <td>4</td>\n",
       "      <td>39</td>\n",
       "      <td>92.9</td>\n",
       "      <td>85.7</td>\n",
       "    </tr>\n",
       "    <tr>\n",
       "      <th>8270</th>\n",
       "      <td>å¯†ç æ›´æ”¹åŽï¼Œoutlookæ— æ³•ç™»é™†</td>\n",
       "      <td>å¯†ç æ›´æ”¹åŽï¼Œoutlookæ— æ³•ç™»é™†</td>\n",
       "      <td>outlook</td>\n",
       "      <td>3</td>\n",
       "      <td>the outlook is</td>\n",
       "      <td>1</td>\n",
       "      <td>30</td>\n",
       "      <td>81.1</td>\n",
       "      <td>81.1</td>\n",
       "    </tr>\n",
       "    <tr>\n",
       "      <th>8457</th>\n",
       "      <td>æ— æ³•ç™»é™†hr_toolè€ƒå‹¤ç³»ç»Ÿ</td>\n",
       "      <td>æ˜¾ç¤ºjavaæ’ä»¶æ— æ³•åŠ è½½ï¼Œæ‰€éœ€ç‰ˆæœ¬1.8...</td>\n",
       "      <td>hrtool java pushkin 18045</td>\n",
       "      <td>5</td>\n",
       "      <td>java as pushkin 18045 is</td>\n",
       "      <td>4</td>\n",
       "      <td>24</td>\n",
       "      <td>77.4</td>\n",
       "      <td>81.4</td>\n",
       "    </tr>\n",
       "    <tr>\n",
       "      <th>8465</th>\n",
       "      <td>vpn è¿žæŽ¥ä¸ä¸Š</td>\n",
       "      <td>vpnè¿žä¸ä¸Šï¼Œè¯·è½¬ç»™ è´ºæ­£å¹³ atcbvglq.bd...</td>\n",
       "      <td>vpn vpn</td>\n",
       "      <td>1</td>\n",
       "      <td>vpn</td>\n",
       "      <td>2</td>\n",
       "      <td>12</td>\n",
       "      <td>75</td>\n",
       "      <td>48.4</td>\n",
       "    </tr>\n",
       "    <tr>\n",
       "      <th>8471</th>\n",
       "      <td>ç”µè„‘å¼€æœºå¼€ä¸å‡ºæ¥</td>\n",
       "      <td>to å°è´ºï¼Œæ—©ä¸Šç”µè„‘å¼€æœºå¼€ä¸å‡ºæ¥</td>\n",
       "      <td>asc</td>\n",
       "      <td>3</td>\n",
       "      <td>to asc to</td>\n",
       "      <td>1</td>\n",
       "      <td>24</td>\n",
       "      <td>100</td>\n",
       "      <td>92.9</td>\n",
       "    </tr>\n",
       "  </tbody>\n",
       "</table>\n",
       "<p>110 rows × 9 columns</p>\n",
       "</div>"
      ],
      "text/plain": [
       "                                      Short description  \\\n",
       "186   é’å²›å…´åˆæœºç”µshipment notificationé‚®ç®±è...   \n",
       "276   outlookæ”¶åˆ°ç®±ä¸­folderå˜ä¸ºæ¯å¤©ä¸€ä¸ªfol...   \n",
       "469   ieæµè§ˆå™¨æ‰“å¼€crmç³»ç»ŸåŽæç¤ºç”¨æˆ·å·²è¢...   \n",
       "487   msd - office 2013 outlook æ‰“ä¸å¼€ï¼Œæ˜¾ç¤ºæ—...   \n",
       "618                                    outlookæ‰“ä¸å¼€   \n",
       "...                                                 ...   \n",
       "8266         erpæ— æ³•è¿›è¡Œé‡‡è´­ï¼ˆè½¬ç»™è´ºæ­£å¹³ï¼‰   \n",
       "8270              å¯†ç æ›´æ”¹åŽï¼Œoutlookæ— æ³•ç™»é™†   \n",
       "8457                    æ— æ³•ç™»é™†hr_toolè€ƒå‹¤ç³»ç»Ÿ   \n",
       "8465                                   vpn è¿žæŽ¥ä¸ä¸Š   \n",
       "8471                           ç”µè„‘å¼€æœºå¼€ä¸å‡ºæ¥   \n",
       "\n",
       "                                            Description  \\\n",
       "186   from:  \\nsent: friday, october 28, 2016 7:20 a...   \n",
       "276   outlookæ”¶åˆ°ç®±ä¸­folderå˜ä¸ºæ¯å¤©ä¸€ä¸ªfol...   \n",
       "469   ieæµè§ˆå™¨æ‰“å¼€crmç³»ç»ŸåŽæç¤ºç”¨æˆ·å·²è¢...   \n",
       "487   please provide details of the issue.\\n[â€Ž2016...   \n",
       "618   æ‰“å¼€outlookæ—¶ï¼Œæ˜¾ç¤ºoutlook.ostæ–‡ä»¶é”™è...   \n",
       "...                                                 ...   \n",
       "8266  è¿›è¡Œé‡‡è´­æ—¶æ˜¾ç¤º\"æ‰¾ä¸åˆ°å‘˜å·¥111115483...   \n",
       "8270              å¯†ç æ›´æ”¹åŽï¼Œoutlookæ— æ³•ç™»é™†   \n",
       "8457  æ˜¾ç¤ºjavaæ’ä»¶æ— æ³•åŠ è½½ï¼Œæ‰€éœ€ç‰ˆæœ¬1.8...   \n",
       "8465  vpnè¿žä¸ä¸Šï¼Œè¯·è½¬ç»™ è´ºæ­£å¹³ atcbvglq.bd...   \n",
       "8471         to å°è´ºï¼Œæ—©ä¸Šç”µè„‘å¼€æœºå¼€ä¸å‡ºæ¥   \n",
       "\n",
       "                                          trimmed_words description_en_len  \\\n",
       "186   shipment notification sent friday october 28 2...                 27   \n",
       "276                       outlook c folder folderoffice                  4   \n",
       "469                                   ie crm zae crm ya                  6   \n",
       "487   msd office 2013 outlook cs please provide deta...                 38   \n",
       "618                           outlook outlookoutlookost                  2   \n",
       "...                                                 ...                ...   \n",
       "8266                               erp 1111154833 scy c                  4   \n",
       "8270                                            outlook                  3   \n",
       "8457                          hrtool java pushkin 18045                  5   \n",
       "8465                                            vpn vpn                  1   \n",
       "8471                                                asc                  3   \n",
       "\n",
       "                                     description_en_spl trimmed_words_len  \\\n",
       "186   from sent friday october 28 2016 720 am to nwf...                24   \n",
       "276                       outlook c folder folderoffice                 4   \n",
       "469                             ie crm there zae crm ya                 5   \n",
       "487   please provide details of the issue 2016 z10 z...                37   \n",
       "618                                outlookoutlookost is                 2   \n",
       "...                                                 ...               ...   \n",
       "8266                                1111154833 is scy c                 4   \n",
       "8270                                     the outlook is                 1   \n",
       "8457                           java as pushkin 18045 is                 4   \n",
       "8465                                                vpn                 2   \n",
       "8471                                          to asc to                 1   \n",
       "\n",
       "     no_of_splch_removed1 no_of_splch_removed1_pct no_of_splch_removed2_pct  \n",
       "186                    30                     58.8                     13.5  \n",
       "276                    48                     65.8                     65.8  \n",
       "469                    72                       90                       90  \n",
       "487                    54                     67.5                     46.6  \n",
       "618                     9                     56.2                       75  \n",
       "...                   ...                      ...                      ...  \n",
       "8266                   39                     92.9                     85.7  \n",
       "8270                   30                     81.1                     81.1  \n",
       "8457                   24                     77.4                     81.4  \n",
       "8465                   12                       75                     48.4  \n",
       "8471                   24                      100                     92.9  \n",
       "\n",
       "[110 rows x 9 columns]"
      ]
     },
     "execution_count": 196,
     "metadata": {},
     "output_type": "execute_result"
    }
   ],
   "source": [
    "df[df[\"mark_for_delete\"]==1][[\"Short description\",\"Description\",\"trimmed_words\",\"description_en_len\",\"description_en_spl\",\"trimmed_words_len\",\"no_of_splch_removed1\",\"no_of_splch_removed1_pct\",\"no_of_splch_removed2_pct\"]]"
   ]
  },
  {
   "cell_type": "code",
   "execution_count": 197,
   "metadata": {},
   "outputs": [],
   "source": [
    "df.to_excel(\"processed_data.xlsx\")"
   ]
  },
  {
   "attachments": {
    "image.png": {
     "image/png": "[encoded data removed]"
    }
   },
   "cell_type": "markdown",
   "metadata": {},
   "source": [
    "## Summary of Columns : \n",
    "\n",
    "* Input file was loaded into a DataFrame. \n",
    "* It was observed that there are some records whcih are not in English. Tried to use googletran/ Transilator package in Python. However, they have limitation for no of free calls. Hence, loaded the data into google sheets and transilated\n",
    "* In order to proces the data several new columns were created to undersatnd the no of special characters..etc\n",
    "* Using tokenizer, word corpus was built with Max 1500 words. \n",
    "* Both short and long description was combined after removing special characters/ transilation to english/ applying Tokenizer\n",
    "* Records where more than 50% characters are junk are marked for delete\n",
    "* below is the list of new columns created\n",
    "\n",
    "\n",
    "![image.png](attachment:image.png)\n"
   ]
  },
  {
   "cell_type": "markdown",
   "metadata": {},
   "source": [
    "### Further processing \n",
    "\n",
    "Groups having less tickets should be combined as one group as we can not really make sence of them\n"
   ]
  },
  {
   "cell_type": "code",
   "execution_count": 198,
   "metadata": {},
   "outputs": [
    {
     "name": "stdout",
     "output_type": "stream",
     "text": [
      "Upto 75 % tickets Assignment Groups list : \n",
      "  Index(['GRP_0', 'GRP_8', 'GRP_24', 'GRP_12', 'GRP_9', 'GRP_2', 'GRP_19',\n",
      "       'GRP_3', 'GRP_6'],\n",
      "      dtype='object', name='Assignment group')\n",
      "\n",
      " No of Selected groups :  9  out of  74  total no of groups \n",
      "\n",
      "\n",
      " Assignment group\n",
      "GRP_0     46.66\n",
      "GRP_8     54.44\n",
      "GRP_24    57.84\n",
      "GRP_12    60.86\n",
      "GRP_9     63.82\n",
      "          ...  \n",
      "GRP_67    99.82\n",
      "GRP_61    99.84\n",
      "GRP_73    99.85\n",
      "GRP_35    99.86\n",
      "GRP_70    99.87\n",
      "Name: Assignment group, Length: 74, dtype: float64\n"
     ]
    }
   ],
   "source": [
    "# Dividing the Group by 75 - 25 %\n",
    "a1 = df.groupby(\"Assignment group\")[\"Assignment group\"].count().sort_values(ascending = False)\n",
    "thr = 75\n",
    "print(\"Upto\",thr,\"% tickets Assignment Groups list :\",\"\\n \",np.round(np.cumsum(a1[np.cumsum(a1*100/8500)<=thr]*100/8500),2).index)\n",
    "new_group_75 = np.round(np.cumsum(a1[np.cumsum(a1*100/8500)<=thr]*100/8500),2).index\n",
    "print(\"\\n No of Selected groups : \",len(new_group_75), \" out of \", len(a1), \" total no of groups \\n\")\n",
    "print(\"\\n\",np.round(np.cumsum(a1[np.cumsum(a1*100/8500)<=101]*100/8500),2))"
   ]
  },
  {
   "cell_type": "code",
   "execution_count": 199,
   "metadata": {},
   "outputs": [
    {
     "name": "stdout",
     "output_type": "stream",
     "text": [
      "Upto 85 % tickets Assignment Groups list : \n",
      "  Index(['GRP_0', 'GRP_8', 'GRP_24', 'GRP_12', 'GRP_9', 'GRP_2', 'GRP_19',\n",
      "       'GRP_3', 'GRP_6', 'GRP_13', 'GRP_10', 'GRP_5', 'GRP_14', 'GRP_25',\n",
      "       'GRP_33', 'GRP_4', 'GRP_29'],\n",
      "      dtype='object', name='Assignment group')\n",
      "\n",
      " No of Selected groups :  17  out of  74  total no of groups \n",
      "\n",
      "\n",
      " Assignment group\n",
      "GRP_0     46.66\n",
      "GRP_8     54.44\n",
      "GRP_24    57.84\n",
      "GRP_12    60.86\n",
      "GRP_9     63.82\n",
      "          ...  \n",
      "GRP_67    99.82\n",
      "GRP_61    99.84\n",
      "GRP_73    99.85\n",
      "GRP_35    99.86\n",
      "GRP_70    99.87\n",
      "Name: Assignment group, Length: 74, dtype: float64\n"
     ]
    }
   ],
   "source": [
    "# Dividing the Group by 85 - 15 %\n",
    "\n",
    "a1 = df.groupby(\"Assignment group\")[\"Assignment group\"].count().sort_values(ascending = False)\n",
    "thr = 85\n",
    "print(\"Upto\",thr,\"% tickets Assignment Groups list :\",\"\\n \",np.round(np.cumsum(a1[np.cumsum(a1*100/8500)<=thr]*100/8500),2).index)\n",
    "new_group_85 = np.round(np.cumsum(a1[np.cumsum(a1*100/8500)<=thr]*100/8500),2).index\n",
    "print(\"\\n No of Selected groups : \",len(new_group_85), \" out of \", len(a1), \" total no of groups \\n\")\n",
    "print(\"\\n\",np.round(np.cumsum(a1[np.cumsum(a1*100/8500)<=101]*100/8500),2))"
   ]
  },
  {
   "cell_type": "code",
   "execution_count": 200,
   "metadata": {},
   "outputs": [
    {
     "name": "stdout",
     "output_type": "stream",
     "text": [
      "Upto 95 % tickets Assignment Groups list : \n",
      "  Index(['GRP_0', 'GRP_8', 'GRP_24', 'GRP_12', 'GRP_9', 'GRP_2', 'GRP_19',\n",
      "       'GRP_3', 'GRP_6', 'GRP_13', 'GRP_10', 'GRP_5', 'GRP_14', 'GRP_25',\n",
      "       'GRP_33', 'GRP_4', 'GRP_29', 'GRP_18', 'GRP_16', 'GRP_17', 'GRP_31',\n",
      "       'GRP_7', 'GRP_34', 'GRP_26', 'GRP_40', 'GRP_28', 'GRP_41', 'GRP_30',\n",
      "       'GRP_15', 'GRP_42', 'GRP_20', 'GRP_45', 'GRP_22'],\n",
      "      dtype='object', name='Assignment group')\n",
      "\n",
      " No of Selected groups :  33  out of  74  total no of groups \n",
      "\n",
      "\n",
      " Assignment group\n",
      "GRP_0     46.66\n",
      "GRP_8     54.44\n",
      "GRP_24    57.84\n",
      "GRP_12    60.86\n",
      "GRP_9     63.82\n",
      "          ...  \n",
      "GRP_67    99.82\n",
      "GRP_61    99.84\n",
      "GRP_73    99.85\n",
      "GRP_35    99.86\n",
      "GRP_70    99.87\n",
      "Name: Assignment group, Length: 74, dtype: float64\n"
     ]
    }
   ],
   "source": [
    "# Dividing the Group by 95 - 5 %\n",
    "a1 = df.groupby(\"Assignment group\")[\"Assignment group\"].count().sort_values(ascending = False)\n",
    "thr = 95\n",
    "print(\"Upto\",thr,\"% tickets Assignment Groups list :\",\"\\n \",np.round(np.cumsum(a1[np.cumsum(a1*100/8500)<=thr]*100/8500),2).index)\n",
    "new_group_95 = np.round(np.cumsum(a1[np.cumsum(a1*100/8500)<=thr]*100/8500),2).index\n",
    "print(\"\\n No of Selected groups : \",len(new_group_95), \" out of \", len(a1), \" total no of groups \\n\")\n",
    "print(\"\\n\",np.round(np.cumsum(a1[np.cumsum(a1*100/8500)<=101]*100/8500),2))"
   ]
  },
  {
   "cell_type": "code",
   "execution_count": 205,
   "metadata": {},
   "outputs": [],
   "source": [
    "df[\"new_group_75\"] = \"\"\n",
    "df[\"new_group_85\"] = \"\"\n",
    "df[\"new_group_95\"] = \"\"\n",
    "\n",
    "\n",
    "for i in (df.index):\n",
    "    if df[\"Assignment group\"][i] in new_group_75:\n",
    "        df.loc[i,\"new_group_75\"] = df[\"Assignment group\"][i]\n",
    "    else :\n",
    "        df.loc[i,\"new_group_75\"] = \"GRP_9999\"\n",
    "    \n",
    "    if df[\"Assignment group\"][i] in new_group_85:\n",
    "        df.loc[i,\"new_group_85\"] = df[\"Assignment group\"][i]\n",
    "    else :\n",
    "        df.loc[i,\"new_group_85\"] = \"GRP_9999\"\n",
    "    \n",
    "    if df[\"Assignment group\"][i] in new_group_95:\n",
    "        df.loc[i,\"new_group_95\"] = df[\"Assignment group\"][i]\n",
    "    else :\n",
    "        df.loc[i,\"new_group_95\"] = \"GRP_9999\"\n",
    "    \n",
    "        "
   ]
  },
  {
   "cell_type": "code",
   "execution_count": 207,
   "metadata": {},
   "outputs": [
    {
     "name": "stdout",
     "output_type": "stream",
     "text": [
      "              new_group_95\n",
      "new_group_95              \n",
      "GRP_0                 3966\n",
      "GRP_8                  661\n",
      "GRP_9999               418\n",
      "GRP_24                 289\n",
      "GRP_12                 257\n",
      "GRP_9                  252\n",
      "GRP_2                  241\n",
      "GRP_19                 215\n",
      "GRP_3                  200\n",
      "GRP_6                  184\n",
      "GRP_13                 145\n",
      "GRP_10                 140\n",
      "GRP_5                  129\n",
      "GRP_14                 118\n",
      "GRP_25                 116\n",
      "GRP_33                 107\n",
      "GRP_4                  100\n",
      "GRP_29                  97\n",
      "GRP_18                  88\n",
      "GRP_16                  85\n",
      "GRP_17                  81\n",
      "GRP_31                  69\n",
      "GRP_7                   68\n",
      "GRP_34                  61\n",
      "GRP_26                  56\n",
      "GRP_40                  45\n",
      "GRP_28                  44\n",
      "GRP_41                  40\n",
      "GRP_30                  39\n",
      "GRP_15                  39\n",
      "GRP_42                  37\n",
      "GRP_20                  36\n",
      "GRP_45                  35\n",
      "GRP_22                  31\n"
     ]
    }
   ],
   "source": [
    "a = df.groupby(\"new_group_95\")\n",
    "a = pd.DataFrame(a[\"new_group_95\"].count().sort_values(ascending = False))\n",
    "print(a)"
   ]
  },
  {
   "cell_type": "code",
   "execution_count": 208,
   "metadata": {},
   "outputs": [
    {
     "data": {
      "text/plain": [
       "new_group_95\n",
       "GRP_0       46.658824\n",
       "GRP_8       54.435294\n",
       "GRP_9999    59.352941\n",
       "GRP_24      62.752941\n",
       "GRP_12      65.776471\n",
       "GRP_9       68.741176\n",
       "GRP_2       71.576471\n",
       "GRP_19      74.105882\n",
       "GRP_3       76.458824\n",
       "GRP_6       78.623529\n",
       "GRP_13      80.329412\n",
       "GRP_10      81.976471\n",
       "GRP_5       83.494118\n",
       "GRP_14      84.882353\n",
       "GRP_25      86.247059\n",
       "GRP_33      87.505882\n",
       "GRP_4       88.682353\n",
       "GRP_29      89.823529\n",
       "GRP_18      90.858824\n",
       "GRP_16      91.858824\n",
       "GRP_17      92.811765\n",
       "GRP_31      93.623529\n",
       "GRP_7       94.423529\n",
       "GRP_34      95.141176\n",
       "GRP_26      95.800000\n",
       "GRP_40      96.329412\n",
       "GRP_28      96.847059\n",
       "GRP_41      97.317647\n",
       "GRP_30      97.776471\n",
       "GRP_15      98.235294\n",
       "GRP_42      98.670588\n",
       "GRP_20      99.094118\n",
       "GRP_45      99.505882\n",
       "GRP_22      99.870588\n",
       "Name: new_group_95, dtype: float64"
      ]
     },
     "execution_count": 208,
     "metadata": {},
     "output_type": "execute_result"
    }
   ],
   "source": [
    "np.cumsum(a.new_group_95*100/8500)"
   ]
  },
  {
   "cell_type": "markdown",
   "metadata": {},
   "source": [
    "### Delete records marked for deletion\n"
   ]
  },
  {
   "cell_type": "code",
   "execution_count": 209,
   "metadata": {},
   "outputs": [
    {
     "name": "stdout",
     "output_type": "stream",
     "text": [
      "(8379, 50)\n"
     ]
    }
   ],
   "source": [
    "df_new = df[df[\"mark_for_delete\"]==0]\n",
    "print(df_new.shape)"
   ]
  },
  {
   "cell_type": "code",
   "execution_count": 210,
   "metadata": {},
   "outputs": [
    {
     "data": {
      "text/plain": [
       "110"
      ]
     },
     "execution_count": 210,
     "metadata": {},
     "output_type": "execute_result"
    }
   ],
   "source": [
    "len(df[df[\"mark_for_delete\"]==1][\"mark_for_delete\"])"
   ]
  },
  {
   "cell_type": "code",
   "execution_count": 211,
   "metadata": {},
   "outputs": [
    {
     "data": {
      "text/plain": [
       "Short description           object\n",
       "Description                 object\n",
       "short_desc_lang             object\n",
       "short_desc_en               object\n",
       "description_lang            object\n",
       "description_en              object\n",
       "Caller                      object\n",
       "Assignment group            object\n",
       "emails                      object\n",
       "email_type                  object\n",
       "short_desc_spl              object\n",
       "description_spl             object\n",
       "short_desc_len              object\n",
       "description_len             object\n",
       "no_of_splch_removed1        object\n",
       "no_of_splch_removed1_pct    object\n",
       "no_of_splch_removed2        object\n",
       "no_of_splch_removed2_pct    object\n",
       "short_desc_en_spl           object\n",
       "description_en_spl          object\n",
       "short_desc_en_len           object\n",
       "description_en_len          object\n",
       "trimmed_words               object\n",
       "trimmed_words_len           object\n",
       "trimmed_words_short         object\n",
       "trimmed_words_long          object\n",
       "mark_for_delete              int64\n",
       "flg_account_related          int64\n",
       "flg_crm                      int64\n",
       "flg_engineering              int64\n",
       "flg_erp                      int64\n",
       "flg_failed                   int64\n",
       "flg_help                     int64\n",
       "flg_install                  int64\n",
       "flg_job                      int64\n",
       "flg_laptop                   int64\n",
       "flg_mobile                   int64\n",
       "flg_network                  int64\n",
       "flg_outlook                  int64\n",
       "flg_printer                  int64\n",
       "flg_skype                    int64\n",
       "flg_ticket_update            int64\n",
       "flg_vpn                      int64\n",
       "flg_windows                  int64\n",
       "host_related                 int64\n",
       "blank_call                   int64\n",
       "setup_ws                     int64\n",
       "new_group_75                object\n",
       "new_group_85                object\n",
       "new_group_95                object\n",
       "dtype: object"
      ]
     },
     "execution_count": 211,
     "metadata": {},
     "output_type": "execute_result"
    }
   ],
   "source": [
    "df_new.dtypes"
   ]
  },
  {
   "cell_type": "code",
   "execution_count": 212,
   "metadata": {},
   "outputs": [],
   "source": [
    "df_new_1 = pd.DataFrame(df_new[[\"trimmed_words_short\",\"trimmed_words_long\",\"Assignment group\",\"new_group_75\",\"new_group_85\",\"new_group_95\"]])"
   ]
  },
  {
   "cell_type": "code",
   "execution_count": 214,
   "metadata": {},
   "outputs": [],
   "source": [
    "# New DataFrame Created for Model Building...\n",
    "df_new_1.to_excel(\"processed_trimmed_data.xlsx\")"
   ]
  },
  {
   "cell_type": "code",
   "execution_count": 215,
   "metadata": {},
   "outputs": [],
   "source": [
    "X = df_new[\"trimmed_words_short\"]\n",
    "y = df_new[\"new_group_75\"]"
   ]
  },
  {
   "cell_type": "code",
   "execution_count": 216,
   "metadata": {},
   "outputs": [
    {
     "name": "stdout",
     "output_type": "stream",
     "text": [
      "Review length: \n",
      "Mean 34.48 words (18.846751)\n"
     ]
    },
    {
     "name": "stderr",
     "output_type": "stream",
     "text": [
      "Using TensorFlow backend.\n"
     ]
    },
    {
     "data": {
      "image/png": "[encoded data removed]",
      "text/plain": [
       "<Figure size 432x288 with 1 Axes>"
      ]
     },
     "metadata": {
      "needs_background": "light"
     },
     "output_type": "display_data"
    }
   ],
   "source": [
    "import numpy\n",
    "import matplotlib.pyplot as plt\n",
    "from keras.preprocessing.sequence import pad_sequences\n",
    "\n",
    "%matplotlib inline\n",
    "# Summarize review length\n",
    "print(\"Review length: \")\n",
    "result = [len(x) for x in X]\n",
    "print(\"Mean %.2f words (%f)\" % (numpy.mean(result), numpy.std(result)))\n",
    "# plot review length\n",
    "plt.boxplot(result)\n",
    "plt.show()"
   ]
  },
  {
   "cell_type": "code",
   "execution_count": 217,
   "metadata": {},
   "outputs": [],
   "source": [
    "X1 = t.texts_to_sequences(X)"
   ]
  },
  {
   "cell_type": "code",
   "execution_count": 218,
   "metadata": {},
   "outputs": [],
   "source": [
    "X2 = pad_sequences(X1, maxlen=200, padding = 'post', truncating = 'post') \n",
    "#X_test =  pad_sequences(X_test, maxlen=100, padding = 'post', truncating = 'post')"
   ]
  },
  {
   "cell_type": "code",
   "execution_count": 219,
   "metadata": {},
   "outputs": [
    {
     "data": {
      "text/plain": [
       "(8379, 200)"
      ]
     },
     "execution_count": 219,
     "metadata": {},
     "output_type": "execute_result"
    }
   ],
   "source": [
    "X2.shape"
   ]
  },
  {
   "cell_type": "code",
   "execution_count": 220,
   "metadata": {},
   "outputs": [
    {
     "data": {
      "text/plain": [
       "array([21, 17,  0,  0,  0,  0,  0,  0,  0,  0,  0,  0,  0,  0,  0,  0,  0,\n",
       "        0,  0,  0,  0,  0,  0,  0,  0,  0,  0,  0,  0,  0,  0,  0,  0,  0,\n",
       "        0,  0,  0,  0,  0,  0,  0,  0,  0,  0,  0,  0,  0,  0,  0,  0,  0,\n",
       "        0,  0,  0,  0,  0,  0,  0,  0,  0,  0,  0,  0,  0,  0,  0,  0,  0,\n",
       "        0,  0,  0,  0,  0,  0,  0,  0,  0,  0,  0,  0,  0,  0,  0,  0,  0,\n",
       "        0,  0,  0,  0,  0,  0,  0,  0,  0,  0,  0,  0,  0,  0,  0,  0,  0,\n",
       "        0,  0,  0,  0,  0,  0,  0,  0,  0,  0,  0,  0,  0,  0,  0,  0,  0,\n",
       "        0,  0,  0,  0,  0,  0,  0,  0,  0,  0,  0,  0,  0,  0,  0,  0,  0,\n",
       "        0,  0,  0,  0,  0,  0,  0,  0,  0,  0,  0,  0,  0,  0,  0,  0,  0,\n",
       "        0,  0,  0,  0,  0,  0,  0,  0,  0,  0,  0,  0,  0,  0,  0,  0,  0,\n",
       "        0,  0,  0,  0,  0,  0,  0,  0,  0,  0,  0,  0,  0,  0,  0,  0,  0,\n",
       "        0,  0,  0,  0,  0,  0,  0,  0,  0,  0,  0,  0,  0])"
      ]
     },
     "execution_count": 220,
     "metadata": {},
     "output_type": "execute_result"
    }
   ],
   "source": [
    "X2[0]"
   ]
  },
  {
   "cell_type": "code",
   "execution_count": 223,
   "metadata": {},
   "outputs": [],
   "source": [
    "from sklearn.preprocessing import LabelEncoder\n",
    "from sklearn.preprocessing import OneHotEncoder\n",
    "\n",
    "values = df_new[\"new_group_75\"]\n",
    "label_encoder = LabelEncoder()\n",
    "integer_encoded = label_encoder.fit_transform(values)"
   ]
  },
  {
   "cell_type": "code",
   "execution_count": 224,
   "metadata": {},
   "outputs": [
    {
     "data": {
      "text/plain": [
       "array(['GRP_0', 'GRP_12', 'GRP_19', 'GRP_2', 'GRP_24', 'GRP_3', 'GRP_6',\n",
       "       'GRP_8', 'GRP_9', 'GRP_9999'], dtype=object)"
      ]
     },
     "execution_count": 224,
     "metadata": {},
     "output_type": "execute_result"
    }
   ],
   "source": [
    "label_encoder.classes_"
   ]
  },
  {
   "cell_type": "code",
   "execution_count": 225,
   "metadata": {},
   "outputs": [],
   "source": [
    "onehot_encoder = OneHotEncoder(sparse=False)\n",
    "integer_encoded = integer_encoded.reshape(len(integer_encoded), 1)\n",
    "onehot_encoded = onehot_encoder.fit_transform(integer_encoded)"
   ]
  },
  {
   "cell_type": "code",
   "execution_count": 226,
   "metadata": {},
   "outputs": [
    {
     "data": {
      "text/plain": [
       "(8379, 10)"
      ]
     },
     "execution_count": 226,
     "metadata": {},
     "output_type": "execute_result"
    }
   ],
   "source": [
    "onehot_encoded.shape"
   ]
  },
  {
   "cell_type": "code",
   "execution_count": 227,
   "metadata": {},
   "outputs": [
    {
     "data": {
      "text/plain": [
       "(8379, 1)"
      ]
     },
     "execution_count": 227,
     "metadata": {},
     "output_type": "execute_result"
    }
   ],
   "source": [
    "integer_encoded.shape"
   ]
  },
  {
   "cell_type": "code",
   "execution_count": 228,
   "metadata": {},
   "outputs": [
    {
     "name": "stdout",
     "output_type": "stream",
     "text": [
      "[[1. 0. 0. ... 0. 0. 0.]\n",
      " [1. 0. 0. ... 0. 0. 0.]\n",
      " [1. 0. 0. ... 0. 0. 0.]\n",
      " ...\n",
      " [1. 0. 0. ... 0. 0. 0.]\n",
      " [0. 0. 0. ... 0. 0. 1.]\n",
      " [0. 0. 0. ... 0. 0. 1.]]\n"
     ]
    }
   ],
   "source": [
    "y = onehot_encoded\n",
    "print(y)"
   ]
  },
  {
   "cell_type": "code",
   "execution_count": 229,
   "metadata": {},
   "outputs": [],
   "source": [
    "#Import all the required Libraries\n",
    "\n",
    "from tensorflow.keras.datasets import imdb\n",
    "from tensorflow.keras.models import Sequential\n",
    "from tensorflow.keras.layers import Dense\n",
    "from tensorflow.keras.layers import Flatten, Conv1D, MaxPooling1D\n",
    "from tensorflow.keras.layers import Embedding\n",
    "from tensorflow.keras.preprocessing import sequence\n",
    "from sklearn.model_selection import train_test_split\n",
    "from sklearn.metrics import classification_report, confusion_matrix\n",
    "from tensorflow.keras.metrics import Accuracy\n",
    "import matplotlib.pyplot as plt\n",
    "import collections\n",
    "import numpy as np\n",
    "from tensorflow.keras.preprocessing.text import Tokenizer\n",
    "from tensorflow.keras.preprocessing.sequence import pad_sequences\n",
    "from tensorflow.keras.layers import Dense, Input, LSTM, Embedding, Dropout, Activation, Flatten, Bidirectional, GlobalMaxPool1D, Add\n",
    "from tensorflow.keras.models import Model, Sequential\n",
    "\n",
    "%matplotlib inline"
   ]
  },
  {
   "cell_type": "code",
   "execution_count": 230,
   "metadata": {},
   "outputs": [
    {
     "data": {
      "text/plain": [
       "((6703, 200),\n",
       " (6703, 10),\n",
       " array([1., 0., 0., 0., 0., 0., 0., 0., 0., 0.]),\n",
       " (1676, 200),\n",
       " (1676, 10))"
      ]
     },
     "execution_count": 230,
     "metadata": {},
     "output_type": "execute_result"
    }
   ],
   "source": [
    "#Split the dataset into Train and test\n",
    "X_train,X_test,y_train,y_test = train_test_split(X2,y,test_size=0.2, random_state = 10, shuffle = True)\n",
    "X_train.shape,y_train.shape, y_train[10], X_test.shape, y_test.shape"
   ]
  },
  {
   "cell_type": "code",
   "execution_count": 231,
   "metadata": {},
   "outputs": [],
   "source": [
    "batch_size = 100\n",
    "epochs = 25"
   ]
  },
  {
   "cell_type": "code",
   "execution_count": 232,
   "metadata": {},
   "outputs": [
    {
     "data": {
      "text/plain": [
       "array([21, 17,  0,  0,  0,  0,  0,  0,  0,  0,  0,  0,  0,  0,  0,  0,  0,\n",
       "        0,  0,  0,  0,  0,  0,  0,  0,  0,  0,  0,  0,  0,  0,  0,  0,  0,\n",
       "        0,  0,  0,  0,  0,  0,  0,  0,  0,  0,  0,  0,  0,  0,  0,  0,  0,\n",
       "        0,  0,  0,  0,  0,  0,  0,  0,  0,  0,  0,  0,  0,  0,  0,  0,  0,\n",
       "        0,  0,  0,  0,  0,  0,  0,  0,  0,  0,  0,  0,  0,  0,  0,  0,  0,\n",
       "        0,  0,  0,  0,  0,  0,  0,  0,  0,  0,  0,  0,  0,  0,  0,  0,  0,\n",
       "        0,  0,  0,  0,  0,  0,  0,  0,  0,  0,  0,  0,  0,  0,  0,  0,  0,\n",
       "        0,  0,  0,  0,  0,  0,  0,  0,  0,  0,  0,  0,  0,  0,  0,  0,  0,\n",
       "        0,  0,  0,  0,  0,  0,  0,  0,  0,  0,  0,  0,  0,  0,  0,  0,  0,\n",
       "        0,  0,  0,  0,  0,  0,  0,  0,  0,  0,  0,  0,  0,  0,  0,  0,  0,\n",
       "        0,  0,  0,  0,  0,  0,  0,  0,  0,  0,  0,  0,  0,  0,  0,  0,  0,\n",
       "        0,  0,  0,  0,  0,  0,  0,  0,  0,  0,  0,  0,  0])"
      ]
     },
     "execution_count": 232,
     "metadata": {},
     "output_type": "execute_result"
    }
   ],
   "source": [
    "X2[0]"
   ]
  },
  {
   "cell_type": "code",
   "execution_count": 233,
   "metadata": {
    "scrolled": false
   },
   "outputs": [
    {
     "name": "stdout",
     "output_type": "stream",
     "text": [
      "WARNING:tensorflow:<tensorflow.python.keras.layers.recurrent.UnifiedLSTM object at 0x0000016C6428BEC8>: Note that this layer is not optimized for performance. Please use tf.keras.layers.CuDNNLSTM for better performance on GPU.\n",
      "WARNING:tensorflow:<tensorflow.python.keras.layers.recurrent.UnifiedLSTM object at 0x0000016C694F4FC8>: Note that this layer is not optimized for performance. Please use tf.keras.layers.CuDNNLSTM for better performance on GPU.\n",
      "WARNING:tensorflow:From C:\\ProgramData\\Anaconda3\\envs\\gpu_test\\lib\\site-packages\\tensorflow\\python\\keras\\backend.py:4081: calling dropout (from tensorflow.python.ops.nn_ops) with keep_prob is deprecated and will be removed in a future version.\n",
      "Instructions for updating:\n",
      "Please use `rate` instead of `keep_prob`. Rate should be set to `rate = 1 - keep_prob`.\n",
      "Model: \"sequential\"\n",
      "_________________________________________________________________\n",
      "Layer (type)                 Output Shape              Param #   \n",
      "=================================================================\n",
      "L1_Embedding (Embedding)     (None, 200, 200)          400000    \n",
      "_________________________________________________________________\n",
      "conv1d (Conv1D)              (None, 198, 32)           19232     \n",
      "_________________________________________________________________\n",
      "max_pooling1d (MaxPooling1D) (None, 99, 32)            0         \n",
      "_________________________________________________________________\n",
      "dropout (Dropout)            (None, 99, 32)            0         \n",
      "_________________________________________________________________\n",
      "L2_LSTM (Bidirectional)      (None, 99, 256)           164864    \n",
      "_________________________________________________________________\n",
      "L3_Flatten (Flatten)         (None, 25344)             0         \n",
      "_________________________________________________________________\n",
      "L4_Dense_relu (Dense)        (None, 254)               6437630   \n",
      "_________________________________________________________________\n",
      "L5_Dropout (Dropout)         (None, 254)               0         \n",
      "_________________________________________________________________\n",
      "L6_Dense_sigmoid (Dense)     (None, 10)                2550      \n",
      "=================================================================\n",
      "Total params: 7,024,276\n",
      "Trainable params: 7,024,276\n",
      "Non-trainable params: 0\n",
      "_________________________________________________________________\n",
      "Train on 5362 samples, validate on 1341 samples\n",
      "Epoch 1/25\n",
      "5362/5362 - 6s - loss: 1.6167 - accuracy: 0.4614 - mse: 0.1453 - val_loss: 1.3837 - val_accuracy: 0.4884 - val_mse: 0.1233\n",
      "Epoch 2/25\n",
      "5362/5362 - 2s - loss: 1.3233 - accuracy: 0.5078 - mse: 0.1266 - val_loss: 1.1413 - val_accuracy: 0.5511 - val_mse: 0.0934\n",
      "Epoch 3/25\n",
      "5362/5362 - 2s - loss: 1.1430 - accuracy: 0.5705 - mse: 0.0899 - val_loss: 1.0901 - val_accuracy: 0.5846 - val_mse: 0.0800\n",
      "Epoch 4/25\n",
      "5362/5362 - 2s - loss: 1.0362 - accuracy: 0.6242 - mse: 0.0749 - val_loss: 1.1012 - val_accuracy: 0.6286 - val_mse: 0.0843\n",
      "Epoch 5/25\n",
      "5362/5362 - 2s - loss: 0.9804 - accuracy: 0.6544 - mse: 0.0734 - val_loss: 1.0915 - val_accuracy: 0.6271 - val_mse: 0.0742\n",
      "Epoch 6/25\n",
      "5362/5362 - 2s - loss: 0.9157 - accuracy: 0.6867 - mse: 0.0639 - val_loss: 1.0918 - val_accuracy: 0.6480 - val_mse: 0.0684\n",
      "Epoch 7/25\n",
      "5362/5362 - 2s - loss: 0.8618 - accuracy: 0.7037 - mse: 0.0593 - val_loss: 1.0416 - val_accuracy: 0.6704 - val_mse: 0.0670\n",
      "Epoch 8/25\n",
      "5362/5362 - 2s - loss: 0.8079 - accuracy: 0.7150 - mse: 0.0544 - val_loss: 1.0526 - val_accuracy: 0.6696 - val_mse: 0.0635\n",
      "Epoch 9/25\n",
      "5362/5362 - 2s - loss: 0.7510 - accuracy: 0.7341 - mse: 0.0511 - val_loss: 1.0802 - val_accuracy: 0.6696 - val_mse: 0.0612\n",
      "Epoch 10/25\n",
      "5362/5362 - 2s - loss: 0.7211 - accuracy: 0.7436 - mse: 0.0518 - val_loss: 1.0950 - val_accuracy: 0.6771 - val_mse: 0.0648\n",
      "Epoch 11/25\n",
      "5362/5362 - 2s - loss: 0.6921 - accuracy: 0.7493 - mse: 0.0511 - val_loss: 1.1065 - val_accuracy: 0.6764 - val_mse: 0.0549\n",
      "Epoch 12/25\n",
      "5362/5362 - 2s - loss: 0.6592 - accuracy: 0.7562 - mse: 0.0457 - val_loss: 1.0919 - val_accuracy: 0.6920 - val_mse: 0.0577\n",
      "Epoch 13/25\n",
      "5362/5362 - 2s - loss: 0.6360 - accuracy: 0.7665 - mse: 0.0449 - val_loss: 1.1441 - val_accuracy: 0.6905 - val_mse: 0.0552\n",
      "Epoch 14/25\n",
      "5362/5362 - 2s - loss: 0.6032 - accuracy: 0.7753 - mse: 0.0411 - val_loss: 1.1350 - val_accuracy: 0.6875 - val_mse: 0.0554\n",
      "Epoch 15/25\n",
      "5362/5362 - 2s - loss: 0.5932 - accuracy: 0.7756 - mse: 0.0417 - val_loss: 1.1845 - val_accuracy: 0.6972 - val_mse: 0.0551\n",
      "Epoch 16/25\n",
      "5362/5362 - 2s - loss: 0.5658 - accuracy: 0.7866 - mse: 0.0396 - val_loss: 1.2073 - val_accuracy: 0.6875 - val_mse: 0.0523\n",
      "Epoch 17/25\n",
      "5362/5362 - 2s - loss: 0.5484 - accuracy: 0.7880 - mse: 0.0396 - val_loss: 1.2978 - val_accuracy: 0.6883 - val_mse: 0.0589\n",
      "Epoch 18/25\n",
      "5362/5362 - 2s - loss: 0.5442 - accuracy: 0.7963 - mse: 0.0405 - val_loss: 1.2990 - val_accuracy: 0.6913 - val_mse: 0.0570\n",
      "Epoch 19/25\n",
      "5362/5362 - 2s - loss: 0.5354 - accuracy: 0.7945 - mse: 0.0387 - val_loss: 1.2219 - val_accuracy: 0.6957 - val_mse: 0.0562\n",
      "Epoch 20/25\n",
      "5362/5362 - 2s - loss: 0.5093 - accuracy: 0.8034 - mse: 0.0371 - val_loss: 1.3102 - val_accuracy: 0.6943 - val_mse: 0.0535\n",
      "Epoch 21/25\n",
      "5362/5362 - 2s - loss: 0.5038 - accuracy: 0.8107 - mse: 0.0362 - val_loss: 1.3224 - val_accuracy: 0.6943 - val_mse: 0.0539\n",
      "Epoch 22/25\n",
      "5362/5362 - 2s - loss: 0.4915 - accuracy: 0.8157 - mse: 0.0358 - val_loss: 1.3671 - val_accuracy: 0.6823 - val_mse: 0.0529\n",
      "Epoch 23/25\n",
      "5362/5362 - 2s - loss: 0.4981 - accuracy: 0.8111 - mse: 0.0356 - val_loss: 1.3314 - val_accuracy: 0.6898 - val_mse: 0.0539\n",
      "Epoch 24/25\n",
      "5362/5362 - 2s - loss: 0.4824 - accuracy: 0.8184 - mse: 0.0357 - val_loss: 1.4307 - val_accuracy: 0.6935 - val_mse: 0.0529\n",
      "Epoch 25/25\n",
      "5362/5362 - 2s - loss: 0.4841 - accuracy: 0.8170 - mse: 0.0347 - val_loss: 1.3115 - val_accuracy: 0.6861 - val_mse: 0.0543\n"
     ]
    },
    {
     "data": {
      "image/png": "[encoded data removed]",
      "text/plain": [
       "<Figure size 432x288 with 1 Axes>"
      ]
     },
     "metadata": {
      "needs_background": "light"
     },
     "output_type": "display_data"
    },
    {
     "data": {
      "image/png": "[encoded data removed]",
      "text/plain": [
       "<Figure size 432x288 with 1 Axes>"
      ]
     },
     "metadata": {
      "needs_background": "light"
     },
     "output_type": "display_data"
    }
   ],
   "source": [
    "embedding_size = 200\n",
    "maxlen = 200\n",
    "\n",
    "# Crete a Sequential Model\n",
    "model1 = Sequential()\n",
    "\n",
    "# Add embedding as the first layer. We are going to initiate with the pre trained Glove vector. Since they are already trained embeddings\n",
    "# We are going to make the trainable parameter 'false'\n",
    "model1.add(Embedding(t.num_words, embedding_size, input_length = maxlen, trainable = True, name='L1_Embedding'))\n",
    "\n",
    "#These embeddings are made non-trainable as they are pre trained to highly optimized values\n",
    "model1.add(Conv1D(32,3,activation=\"relu\"))\n",
    "model1.add(MaxPooling1D(pool_size=2))\n",
    "\n",
    "#Adding a Dropout ensures the model is not overfitting\n",
    "model1.add(Dropout(0.5))\n",
    "\n",
    "#Add Bi-Directional LSTM\n",
    "model1.add(Bidirectional(LSTM(128, return_sequences = True, dropout = 0.2),name='L2_LSTM'))\n",
    "model1.add(Flatten(name='L3_Flatten'))\n",
    "\n",
    "# Add dense and Dropout \n",
    "model1.add(Dense(254, activation='relu',name='L4_Dense_relu'))\n",
    "model1.add(Dropout(0.2, name  = \"L5_Dropout\"))\n",
    "\n",
    "#Since this is a binary classification, we add the last layer as Dense with single neuron with Sigmoid. Based on the probability we can decide if the output is 0 or 1\n",
    "model1.add(Dense(10, activation='sigmoid',name='L6_Dense_sigmoid'))\n",
    "\n",
    "#Compile the model with binary cross entrophy and adam optimizer\n",
    "model1.compile(loss='categorical_crossentropy', optimizer='adam', metrics=['accuracy', 'mse'])\n",
    "model1.summary()\n",
    "\n",
    "# We are going to use validation split of 20%\n",
    "history1 = model1.fit(X_train, y_train,\n",
    "          batch_size=batch_size,\n",
    "          epochs=epochs,\n",
    "          validation_split = 0.2, verbose = 2)\n",
    "\n",
    "#Predect on the test data\n",
    "y_pred = model1.predict(X_test)\n",
    "#y_pred = (y_pred>0.5).astype(np.int)\n",
    "\n",
    "#print results\n",
    "#print(\"\\n\",\"Confusion Matrix :\",\"\\n\",confusion_matrix(y_test,y_pred))\n",
    "#print(\"\\n\",\"Classification Report :\",\"\\n\",classification_report(y_test,y_pred))\n",
    "\n",
    "# Print plot of Training and Validation Accuracy\n",
    "plt.plot(history1.history['accuracy'])\n",
    "plt.plot(history1.history['val_accuracy'])\n",
    "\n",
    "plt.title('Model accuracy')\n",
    "plt.ylabel('Accuracy')\n",
    "plt.xlabel('Epoch')\n",
    "plt.legend(['Train', 'Test'], loc='upper left')\n",
    "plt.show()\n",
    "\n",
    "# Print plot of Training and Validation Loss\n",
    "plt.plot(history1.history['loss'])\n",
    "plt.plot(history1.history['val_loss'])\n",
    "\n",
    "plt.title('Model loss')\n",
    "plt.ylabel('Loss')\n",
    "plt.xlabel('Epoch')\n",
    "plt.legend(['Train', 'Test'], loc='upper left')\n",
    "plt.show()"
   ]
  },
  {
   "cell_type": "code",
   "execution_count": 653,
   "metadata": {},
   "outputs": [
    {
     "data": {
      "text/plain": [
       "(array([ 15,   9, 104,   0,   0,   0,   0,   0,   0,   0,   0,   0,   0,\n",
       "          0,   0,   0,   0,   0,   0,   0,   0,   0,   0,   0,   0,   0,\n",
       "          0,   0,   0,   0,   0,   0,   0,   0,   0,   0,   0,   0,   0,\n",
       "          0,   0,   0,   0,   0,   0,   0,   0,   0,   0,   0,   0,   0,\n",
       "          0,   0,   0,   0,   0,   0,   0,   0,   0,   0,   0,   0,   0,\n",
       "          0,   0,   0,   0,   0,   0,   0,   0,   0,   0,   0,   0,   0,\n",
       "          0,   0,   0,   0,   0,   0,   0,   0,   0,   0,   0,   0,   0,\n",
       "          0,   0,   0,   0,   0,   0,   0,   0,   0,   0,   0,   0,   0,\n",
       "          0,   0,   0,   0,   0,   0,   0,   0,   0,   0,   0,   0,   0,\n",
       "          0,   0,   0,   0,   0,   0,   0,   0,   0,   0,   0,   0,   0,\n",
       "          0,   0,   0,   0,   0,   0,   0,   0,   0,   0,   0,   0,   0,\n",
       "          0,   0,   0,   0,   0,   0,   0,   0,   0,   0,   0,   0,   0,\n",
       "          0,   0,   0,   0,   0,   0,   0,   0,   0,   0,   0,   0,   0,\n",
       "          0,   0,   0,   0,   0,   0,   0,   0,   0,   0,   0,   0,   0,\n",
       "          0,   0,   0,   0,   0,   0,   0,   0,   0,   0,   0,   0,   0,\n",
       "          0,   0,   0,   0,   0]),\n",
       " array([0., 0., 0., 0., 0., 0., 0., 0., 0., 1.]))"
      ]
     },
     "execution_count": 653,
     "metadata": {},
     "output_type": "execute_result"
    }
   ],
   "source": [
    "X_test[0], y_test[0]"
   ]
  },
  {
   "cell_type": "code",
   "execution_count": 654,
   "metadata": {},
   "outputs": [
    {
     "name": "stderr",
     "output_type": "stream",
     "text": [
      "100%|██████████| 1677/1677 [00:00<00:00, 336805.58it/s]\n"
     ]
    }
   ],
   "source": [
    "y_pred1 = np.zeros(shape = y_pred.shape)\n",
    "for i in tqdm(range(len(y_pred1))):\n",
    "    y_pred1[i][np.argmax(y_pred[i])]=1    "
   ]
  },
  {
   "cell_type": "code",
   "execution_count": 655,
   "metadata": {},
   "outputs": [
    {
     "data": {
      "text/plain": [
       "array([0., 0., 0., 0., 0., 0., 0., 0., 0., 1.])"
      ]
     },
     "execution_count": 655,
     "metadata": {},
     "output_type": "execute_result"
    }
   ],
   "source": [
    "y_pred1[0]"
   ]
  },
  {
   "cell_type": "code",
   "execution_count": 656,
   "metadata": {},
   "outputs": [
    {
     "name": "stdout",
     "output_type": "stream",
     "text": [
      "\n",
      " Classification Report : \n",
      "               precision    recall  f1-score   support\n",
      "\n",
      "           0       0.79      0.86      0.82       792\n",
      "           1       0.40      0.34      0.37        50\n",
      "           2       0.24      0.11      0.15        55\n",
      "           3       0.46      0.33      0.39        51\n",
      "           4       0.81      0.54      0.64        54\n",
      "           5       0.25      0.14      0.18        50\n",
      "           6       0.45      0.14      0.21        36\n",
      "           7       0.55      0.81      0.65       109\n",
      "           8       0.70      0.65      0.67        54\n",
      "           9       0.60      0.59      0.60       426\n",
      "\n",
      "   micro avg       0.68      0.68      0.68      1677\n",
      "   macro avg       0.52      0.45      0.47      1677\n",
      "weighted avg       0.66      0.68      0.66      1677\n",
      " samples avg       0.68      0.68      0.68      1677\n",
      "\n"
     ]
    }
   ],
   "source": [
    "print(\"\\n\",\"Classification Report :\",\"\\n\",classification_report(y_test,y_pred1))"
   ]
  },
  {
   "cell_type": "code",
   "execution_count": 657,
   "metadata": {},
   "outputs": [],
   "source": [
    "a_t = onehot_encoder.inverse_transform(y_test)\n",
    "a_t1= onehot_encoder.inverse_transform(y_pred1)"
   ]
  },
  {
   "cell_type": "code",
   "execution_count": 658,
   "metadata": {},
   "outputs": [
    {
     "name": "stdout",
     "output_type": "stream",
     "text": [
      "\n",
      " Confusion Matrix : \n",
      " [[682   8   8   7   2   2   1   1   1  80]\n",
      " [  7  17   0   2   0   2   0   5   2  15]\n",
      " [ 25   0   6   0   0   7   0   0   0  17]\n",
      " [ 19   0   0  17   0   1   0   0   0  14]\n",
      " [  4   1   2   5  29   5   0   0   0   8]\n",
      " [ 27   0   4   3   0   7   0   0   0   9]\n",
      " [  0   0   0   0   0   0   5  15   6  10]\n",
      " [  2   1   0   0   0   0   3  88   4  11]\n",
      " [  5   1   1   0   1   0   0   5  35   6]\n",
      " [ 92  15   4   3   4   4   2  47   2 253]]\n"
     ]
    }
   ],
   "source": [
    "print(\"\\n\",\"Confusion Matrix :\",\"\\n\",confusion_matrix(a_t,a_t1))"
   ]
  },
  {
   "cell_type": "code",
   "execution_count": 659,
   "metadata": {},
   "outputs": [
    {
     "data": {
      "text/plain": [
       "<matplotlib.axes._subplots.AxesSubplot at 0x1906e05de08>"
      ]
     },
     "execution_count": 659,
     "metadata": {},
     "output_type": "execute_result"
    },
    {
     "data": {
      "image/png": "[encoded data removed]",
      "text/plain": [
       "<Figure size 432x288 with 2 Axes>"
      ]
     },
     "metadata": {
      "needs_background": "light"
     },
     "output_type": "display_data"
    }
   ],
   "source": [
    "sns.heatmap(confusion_matrix(a_t,a_t1), cmap=\"Blues\")"
   ]
  },
  {
   "cell_type": "code",
   "execution_count": null,
   "metadata": {},
   "outputs": [],
   "source": []
  }
 ],
 "metadata": {
  "accelerator": "GPU",
  "colab": {
   "name": "Capstone_Project_NLP_EDA.ipynb",
   "provenance": []
  },
  "kernelspec": {
   "display_name": "Python 3",
   "language": "python",
   "name": "python3"
  },
  "language_info": {
   "codemirror_mode": {
    "name": "ipython",
    "version": 3
   },
   "file_extension": ".py",
   "mimetype": "text/x-python",
   "name": "python",
   "nbconvert_exporter": "python",
   "pygments_lexer": "ipython3",
   "version": "3.7.6"
  }
 },
 "nbformat": 4,
 "nbformat_minor": 1
}
