{
 "cells": [
  {
   "cell_type": "markdown",
   "metadata": {
    "colab": {
     "base_uri": "https://localhost:8080/",
     "height": 71
    },
    "colab_type": "code",
    "id": "9odi7jJoeNkD",
    "outputId": "3ad69182-b4bc-490f-d4cb-397480c87a6e"
   },
   "source": [
    "###  AIML Online Capstone Project - AUTOMATIC TICKET ASSIGNMENT (Group 4)\n",
    "\n",
    "\n",
    "#### Background :\n",
    "In the support process, incoming incidents are analyzed and assessed by organization’s support teams to fulfill the request. \n",
    "Better allocation and effective usage of the valuable support resources will directly result in substantial cost savings. \n",
    "Currently, the incidents are created by various stakeholders and are assigned to L1/L2 teams.  \n",
    "Incase L1 / L2 is unable to resolve, they will then escalate / assign the tickets to Functional teams from Applications and Infrastructure (L3 teams). \n",
    "\n",
    "#### Problem Statement :\n",
    "L1 / L2 needs to spend time reviewing Standard Operating Procedures (SOPs) before assigning to Functional teams (Minimum ~25-30% of incidents needs to be reviewed for SOPs before ticket assignment). \n",
    "15 min is being spent for SOP review for each incident. Minimum of ~1 FTE effort needed only for incident assignment to L3 teams.\n",
    "Multiple instances of incidents getting assigned to wrong functional groups (Around ~25%)\n",
    "Additional effort needed for Functional teams to re-assign to right functional groups. \n",
    "During this process, some of the incidents are in queue and not addressed timely resulting in poor customer service.!\n",
    "\n",
    "#### Project Objectives :\n",
    "\n",
    "Guided by powerful AI techniques \n",
    "* Classify incidents to right functional groups based on User description\n",
    "* Help organizations to reduce the resolving time\n",
    "* Improve productivity of Support teams\n",
    "\n",
    "#### Data Pre-Processing\n",
    "* This section of the Code deals with the Data Pre-Processing"
   ]
  },
  {
   "cell_type": "code",
   "execution_count": null,
   "metadata": {},
   "outputs": [],
   "source": []
  },
  {
   "cell_type": "code",
   "execution_count": 185,
   "metadata": {},
   "outputs": [],
   "source": [
    "# Import all libraries\n",
    "import pandas as pd\n",
    "import numpy as np\n",
    "import matplotlib.pyplot as plt\n",
    "%matplotlib inline\n",
    "import seaborn as sns\n",
    "from langdetect import detect, detect_langs\n",
    "import googletrans\n",
    "from googletrans import Translator\n",
    "import re\n",
    "import translate\n",
    "from tensorflow.keras.preprocessing.text import Tokenizer\n",
    "#from googletranslate import Translator\n",
    "from nltk.corpus import stopwords \n",
    "stop_words = set(stopwords.words('english')) \n",
    "from tqdm import tqdm\n",
    "from time import sleep\n",
    "from bs4 import BeautifulSoup\n",
    "from string import digits\n",
    "import string"
   ]
  },
  {
   "cell_type": "code",
   "execution_count": 186,
   "metadata": {
    "colab": {
     "base_uri": "https://localhost:8080/",
     "height": 51
    },
    "colab_type": "code",
    "id": "guINebatlmw5",
    "outputId": "024c6e6e-3a48-417e-b9f6-56ebb8457cd8"
   },
   "outputs": [
    {
     "name": "stdout",
     "output_type": "stream",
     "text": [
      "Your Computer Name is:Prasad-Dell-LT\n",
      "Your Computer IP Address is:192.168.0.6\n"
     ]
    }
   ],
   "source": [
    "import socket    \n",
    "hostname = socket.gethostname()    \n",
    "IPAddr = socket.gethostbyname(hostname)    \n",
    "print(\"Your Computer Name is:\" + hostname)    \n",
    "print(\"Your Computer IP Address is:\" + IPAddr) "
   ]
  },
  {
   "cell_type": "code",
   "execution_count": 187,
   "metadata": {},
   "outputs": [],
   "source": [
    "def remove_html(text):\n",
    "  soup = BeautifulSoup(text,'lxml')\n",
    "  html_free = soup.get_text()\n",
    "  return html_free\n",
    "\n",
    "def remove_punctuation(text):\n",
    "  no_punct = \"\".join([c for c in text if c not in string.punctuation])\n",
    "  return no_punct\n",
    "\n",
    "def remove_digits(list1): \n",
    "    remove_digits = str.maketrans('', '', digits) \n",
    "    list1 = [i.translate(remove_digits) for i in list1] \n",
    "    return list1"
   ]
  },
  {
   "cell_type": "markdown",
   "metadata": {
    "colab": {
     "base_uri": "https://localhost:8080/",
     "height": 122
    },
    "colab_type": "code",
    "id": "5YBuEG6nuxjz",
    "outputId": "46e0b7b2-766b-488d-e0d9-3fdc79371624"
   },
   "source": [
    "#### Use when running through google collab\n",
    "from google.colab import drive\n",
    "drive.mount('/drive', force_remount=True)"
   ]
  },
  {
   "cell_type": "markdown",
   "metadata": {
    "colab": {},
    "colab_type": "code",
    "id": "lPABEjd2vpOe"
   },
   "source": [
    "project_path = \"/drive/My Drive/AIML_Project_Files_Final/10.Capstone Project\""
   ]
  },
  {
   "cell_type": "code",
   "execution_count": 188,
   "metadata": {
    "colab": {},
    "colab_type": "code",
    "id": "lsP4yarwv_L4"
   },
   "outputs": [],
   "source": [
    "# Please note that this Dataset has 4 more extra columns to identify the language and transilate to English\n",
    "# Tried this transilation in Python using googletrans API but there is limitation on the numbers of calls, hence \n",
    "# googl sheets was used \n",
    "df = pd.read_excel(\"input_data_translated.xlsx\", encoding=\"utf-8\",dtype=\"str\")"
   ]
  },
  {
   "cell_type": "code",
   "execution_count": 189,
   "metadata": {},
   "outputs": [
    {
     "data": {
      "text/plain": [
       "Short description    object\n",
       "Description          object\n",
       "short_desc_lang      object\n",
       "short_desc_en        object\n",
       "description_lang     object\n",
       "description_en       object\n",
       "Caller               object\n",
       "Assignment group     object\n",
       "dtype: object"
      ]
     },
     "execution_count": 189,
     "metadata": {},
     "output_type": "execute_result"
    }
   ],
   "source": [
    "df.dtypes"
   ]
  },
  {
   "cell_type": "code",
   "execution_count": 190,
   "metadata": {},
   "outputs": [
    {
     "data": {
      "text/html": [
       "<div>\n",
       "<style scoped>\n",
       "    .dataframe tbody tr th:only-of-type {\n",
       "        vertical-align: middle;\n",
       "    }\n",
       "\n",
       "    .dataframe tbody tr th {\n",
       "        vertical-align: top;\n",
       "    }\n",
       "\n",
       "    .dataframe thead th {\n",
       "        text-align: right;\n",
       "    }\n",
       "</style>\n",
       "<table border=\"1\" class=\"dataframe\">\n",
       "  <thead>\n",
       "    <tr style=\"text-align: right;\">\n",
       "      <th></th>\n",
       "      <th>Short description</th>\n",
       "      <th>Description</th>\n",
       "      <th>short_desc_lang</th>\n",
       "      <th>short_desc_en</th>\n",
       "      <th>description_lang</th>\n",
       "      <th>description_en</th>\n",
       "      <th>Caller</th>\n",
       "      <th>Assignment group</th>\n",
       "    </tr>\n",
       "  </thead>\n",
       "  <tbody>\n",
       "    <tr>\n",
       "      <th>count</th>\n",
       "      <td>8492</td>\n",
       "      <td>8499</td>\n",
       "      <td>8492</td>\n",
       "      <td>8492</td>\n",
       "      <td>8497</td>\n",
       "      <td>8497</td>\n",
       "      <td>8500</td>\n",
       "      <td>8500</td>\n",
       "    </tr>\n",
       "    <tr>\n",
       "      <th>unique</th>\n",
       "      <td>7481</td>\n",
       "      <td>7817</td>\n",
       "      <td>50</td>\n",
       "      <td>7379</td>\n",
       "      <td>36</td>\n",
       "      <td>7752</td>\n",
       "      <td>2950</td>\n",
       "      <td>74</td>\n",
       "    </tr>\n",
       "    <tr>\n",
       "      <th>top</th>\n",
       "      <td>password reset</td>\n",
       "      <td>the</td>\n",
       "      <td>en</td>\n",
       "      <td>password reset</td>\n",
       "      <td>en</td>\n",
       "      <td>the</td>\n",
       "      <td>bpctwhsn kzqsbmtp</td>\n",
       "      <td>GRP_0</td>\n",
       "    </tr>\n",
       "    <tr>\n",
       "      <th>freq</th>\n",
       "      <td>38</td>\n",
       "      <td>56</td>\n",
       "      <td>7613</td>\n",
       "      <td>48</td>\n",
       "      <td>7768</td>\n",
       "      <td>56</td>\n",
       "      <td>810</td>\n",
       "      <td>3976</td>\n",
       "    </tr>\n",
       "  </tbody>\n",
       "</table>\n",
       "</div>"
      ],
      "text/plain": [
       "       Short description Description short_desc_lang   short_desc_en  \\\n",
       "count               8492        8499            8492            8492   \n",
       "unique              7481        7817              50            7379   \n",
       "top       password reset         the              en  password reset   \n",
       "freq                  38          56            7613              48   \n",
       "\n",
       "       description_lang description_en             Caller Assignment group  \n",
       "count              8497           8497               8500             8500  \n",
       "unique               36           7752               2950               74  \n",
       "top                  en            the  bpctwhsn kzqsbmtp            GRP_0  \n",
       "freq               7768             56                810             3976  "
      ]
     },
     "execution_count": 190,
     "metadata": {},
     "output_type": "execute_result"
    }
   ],
   "source": [
    "df.describe()"
   ]
  },
  {
   "cell_type": "code",
   "execution_count": 191,
   "metadata": {},
   "outputs": [
    {
     "name": "stdout",
     "output_type": "stream",
     "text": [
      "Short description    8\n",
      "Description          1\n",
      "short_desc_lang      8\n",
      "short_desc_en        8\n",
      "description_lang     3\n",
      "description_en       3\n",
      "Caller               0\n",
      "Assignment group     0\n",
      "dtype: int64\n"
     ]
    }
   ],
   "source": [
    "#Find the Null Values\n",
    "print(df.isnull().sum())"
   ]
  },
  {
   "cell_type": "code",
   "execution_count": 192,
   "metadata": {},
   "outputs": [],
   "source": [
    "# Since there are few records which are null, we decide to drop them \n",
    "df = df.dropna()"
   ]
  },
  {
   "cell_type": "code",
   "execution_count": 193,
   "metadata": {},
   "outputs": [
    {
     "name": "stdout",
     "output_type": "stream",
     "text": [
      "Short description    0\n",
      "Description          0\n",
      "short_desc_lang      0\n",
      "short_desc_en        0\n",
      "description_lang     0\n",
      "description_en       0\n",
      "Caller               0\n",
      "Assignment group     0\n",
      "dtype: int64\n"
     ]
    }
   ],
   "source": [
    "print(df.isnull().sum())"
   ]
  },
  {
   "cell_type": "code",
   "execution_count": 194,
   "metadata": {},
   "outputs": [
    {
     "name": "stdout",
     "output_type": "stream",
     "text": [
      "Int64Index([], dtype='int64')\n",
      "Int64Index([], dtype='int64')\n"
     ]
    }
   ],
   "source": [
    "#Find and impute Null values from Short/long description \n",
    "print(df[pd.isnull(df[\"Short description\"]) == True].index)\n",
    "print(df[pd.isnull(df[\"Description\"]) == True].index)\n"
   ]
  },
  {
   "cell_type": "code",
   "execution_count": 195,
   "metadata": {},
   "outputs": [
    {
     "data": {
      "text/html": [
       "<div>\n",
       "<style scoped>\n",
       "    .dataframe tbody tr th:only-of-type {\n",
       "        vertical-align: middle;\n",
       "    }\n",
       "\n",
       "    .dataframe tbody tr th {\n",
       "        vertical-align: top;\n",
       "    }\n",
       "\n",
       "    .dataframe thead th {\n",
       "        text-align: right;\n",
       "    }\n",
       "</style>\n",
       "<table border=\"1\" class=\"dataframe\">\n",
       "  <thead>\n",
       "    <tr style=\"text-align: right;\">\n",
       "      <th></th>\n",
       "      <th>Short description</th>\n",
       "      <th>Description</th>\n",
       "      <th>Caller</th>\n",
       "      <th>Assignment group</th>\n",
       "    </tr>\n",
       "  </thead>\n",
       "  <tbody>\n",
       "    <tr>\n",
       "      <th>0</th>\n",
       "      <td>login issue</td>\n",
       "      <td>-verified user details.(employee# &amp; manager na...</td>\n",
       "      <td>spxjnwir pjlcoqds</td>\n",
       "      <td>GRP_0</td>\n",
       "    </tr>\n",
       "    <tr>\n",
       "      <th>1</th>\n",
       "      <td>outlook</td>\n",
       "      <td>\\r\\n\\r\\nreceived from: hmjdrvpb.komuaywn@gmail...</td>\n",
       "      <td>hmjdrvpb komuaywn</td>\n",
       "      <td>GRP_0</td>\n",
       "    </tr>\n",
       "    <tr>\n",
       "      <th>2</th>\n",
       "      <td>cant log in to vpn</td>\n",
       "      <td>\\r\\n\\r\\nreceived from: eylqgodm.ybqkwiam@gmail...</td>\n",
       "      <td>eylqgodm ybqkwiam</td>\n",
       "      <td>GRP_0</td>\n",
       "    </tr>\n",
       "    <tr>\n",
       "      <th>3</th>\n",
       "      <td>unable to access hr_tool page</td>\n",
       "      <td>unable to access hr_tool page</td>\n",
       "      <td>xbkucsvz gcpydteq</td>\n",
       "      <td>GRP_0</td>\n",
       "    </tr>\n",
       "    <tr>\n",
       "      <th>4</th>\n",
       "      <td>skype error</td>\n",
       "      <td>skype error</td>\n",
       "      <td>owlgqjme qhcozdfx</td>\n",
       "      <td>GRP_0</td>\n",
       "    </tr>\n",
       "  </tbody>\n",
       "</table>\n",
       "</div>"
      ],
      "text/plain": [
       "               Short description  \\\n",
       "0                    login issue   \n",
       "1                        outlook   \n",
       "2             cant log in to vpn   \n",
       "3  unable to access hr_tool page   \n",
       "4                   skype error    \n",
       "\n",
       "                                         Description             Caller  \\\n",
       "0  -verified user details.(employee# & manager na...  spxjnwir pjlcoqds   \n",
       "1  \\r\\n\\r\\nreceived from: hmjdrvpb.komuaywn@gmail...  hmjdrvpb komuaywn   \n",
       "2  \\r\\n\\r\\nreceived from: eylqgodm.ybqkwiam@gmail...  eylqgodm ybqkwiam   \n",
       "3                      unable to access hr_tool page  xbkucsvz gcpydteq   \n",
       "4                                       skype error   owlgqjme qhcozdfx   \n",
       "\n",
       "  Assignment group  \n",
       "0            GRP_0  \n",
       "1            GRP_0  \n",
       "2            GRP_0  \n",
       "3            GRP_0  \n",
       "4            GRP_0  "
      ]
     },
     "execution_count": 195,
     "metadata": {},
     "output_type": "execute_result"
    }
   ],
   "source": [
    "# Load original dataset gven in the project \n",
    "df1 = pd.read_excel(\"input_data.xlsx\")\n",
    "df1.head(5)"
   ]
  },
  {
   "cell_type": "code",
   "execution_count": 196,
   "metadata": {},
   "outputs": [
    {
     "data": {
      "text/plain": [
       "': ticket_no1559458 : wireless guest access- hr_tool trainer'"
      ]
     },
     "execution_count": 196,
     "metadata": {},
     "output_type": "execute_result"
    }
   ],
   "source": [
    "#Remove Junk charaters from the text.. below is an example\n",
    "\"ç­”å¤: ticket_no1559458 : wireless guest access- hr_tool trainer\".encode('ascii','ignore').decode()"
   ]
  },
  {
   "cell_type": "code",
   "execution_count": 197,
   "metadata": {
    "colab": {
     "base_uri": "https://localhost:8080/",
     "height": 171
    },
    "colab_type": "code",
    "id": "ny_hZ9cBxap8",
    "outputId": "cd869ff4-40f6-4f70-93fc-69eb6217add7"
   },
   "outputs": [
    {
     "data": {
      "text/html": [
       "<div>\n",
       "<style scoped>\n",
       "    .dataframe tbody tr th:only-of-type {\n",
       "        vertical-align: middle;\n",
       "    }\n",
       "\n",
       "    .dataframe tbody tr th {\n",
       "        vertical-align: top;\n",
       "    }\n",
       "\n",
       "    .dataframe thead th {\n",
       "        text-align: right;\n",
       "    }\n",
       "</style>\n",
       "<table border=\"1\" class=\"dataframe\">\n",
       "  <thead>\n",
       "    <tr style=\"text-align: right;\">\n",
       "      <th></th>\n",
       "      <th>Short description</th>\n",
       "      <th>Description</th>\n",
       "      <th>short_desc_lang</th>\n",
       "      <th>short_desc_en</th>\n",
       "      <th>description_lang</th>\n",
       "      <th>description_en</th>\n",
       "      <th>Caller</th>\n",
       "      <th>Assignment group</th>\n",
       "    </tr>\n",
       "  </thead>\n",
       "  <tbody>\n",
       "    <tr>\n",
       "      <th>count</th>\n",
       "      <td>8489</td>\n",
       "      <td>8489</td>\n",
       "      <td>8489</td>\n",
       "      <td>8489</td>\n",
       "      <td>8489</td>\n",
       "      <td>8489</td>\n",
       "      <td>8489</td>\n",
       "      <td>8489</td>\n",
       "    </tr>\n",
       "    <tr>\n",
       "      <th>unique</th>\n",
       "      <td>7478</td>\n",
       "      <td>7810</td>\n",
       "      <td>50</td>\n",
       "      <td>7376</td>\n",
       "      <td>36</td>\n",
       "      <td>7747</td>\n",
       "      <td>2948</td>\n",
       "      <td>74</td>\n",
       "    </tr>\n",
       "    <tr>\n",
       "      <th>top</th>\n",
       "      <td>password reset</td>\n",
       "      <td>the</td>\n",
       "      <td>en</td>\n",
       "      <td>password reset</td>\n",
       "      <td>en</td>\n",
       "      <td>the</td>\n",
       "      <td>bpctwhsn kzqsbmtp</td>\n",
       "      <td>GRP_0</td>\n",
       "    </tr>\n",
       "    <tr>\n",
       "      <th>freq</th>\n",
       "      <td>38</td>\n",
       "      <td>56</td>\n",
       "      <td>7610</td>\n",
       "      <td>48</td>\n",
       "      <td>7760</td>\n",
       "      <td>56</td>\n",
       "      <td>810</td>\n",
       "      <td>3966</td>\n",
       "    </tr>\n",
       "  </tbody>\n",
       "</table>\n",
       "</div>"
      ],
      "text/plain": [
       "       Short description Description short_desc_lang   short_desc_en  \\\n",
       "count               8489        8489            8489            8489   \n",
       "unique              7478        7810              50            7376   \n",
       "top       password reset         the              en  password reset   \n",
       "freq                  38          56            7610              48   \n",
       "\n",
       "       description_lang description_en             Caller Assignment group  \n",
       "count              8489           8489               8489             8489  \n",
       "unique               36           7747               2948               74  \n",
       "top                  en            the  bpctwhsn kzqsbmtp            GRP_0  \n",
       "freq               7760             56                810             3966  "
      ]
     },
     "execution_count": 197,
     "metadata": {},
     "output_type": "execute_result"
    }
   ],
   "source": [
    "# We are going to use the DataFrame df for further processing \n",
    "df.describe()"
   ]
  },
  {
   "cell_type": "code",
   "execution_count": 198,
   "metadata": {
    "colab": {
     "base_uri": "https://localhost:8080/",
     "height": 51
    },
    "colab_type": "code",
    "id": "4qpWuek_ANfp",
    "outputId": "329703c8-3cf1-4561-dfdb-3b90d0cf566f"
   },
   "outputs": [
    {
     "name": "stdout",
     "output_type": "stream",
     "text": [
      "['eylqgodm.ybqkwiam@gmail.com']\n",
      "['john.doe@somecompany.co.uk', 'jane_doe124@gmail.com']\n"
     ]
    }
   ],
   "source": [
    "# There is Email ID in the Description field . we need to saperate this and store in another column \n",
    "#RegEx to find email form the text .. an example below\n",
    "emails = re.findall(r\"[a-z0-9\\.\\-+_]+@[a-z0-9\\.\\-+_]+\\.[a-z]+\", df[\"Description\"][2])\n",
    "print(emails)\n",
    "my_str = \"Hi my name is John and email address is john.doe@somecompany.co.uk and my friend's email is jane_doe124@gmail.com\"\n",
    "emails = re.findall(\"([a-zA-Z0-9_.+-]+@[a-zA-Z0-9-]+\\.[a-zA-Z0-9-.]+)\", my_str)\n",
    "print(emails)\n"
   ]
  },
  {
   "cell_type": "code",
   "execution_count": 199,
   "metadata": {
    "colab": {
     "base_uri": "https://localhost:8080/",
     "height": 239
    },
    "colab_type": "code",
    "id": "BkBjToRrJlPD",
    "outputId": "58f99af6-8c65-4753-c9dc-d492b19ffb82"
   },
   "outputs": [
    {
     "name": "stdout",
     "output_type": "stream",
     "text": [
      "Remove all spaces using RegEx:\n",
      " received from: eylqgodm.ybqkwiam@gmail.com hi i cannot log on to vpn best \n",
      "probleme mit bluescreen .\n",
      "shortcut opening multiple folders    shortcut opening multiple folders\n"
     ]
    }
   ],
   "source": [
    "#RegEx to remove spaces from the text.. an example below\n",
    "t1 = '       Hello  World       From Pankaj \\t\\n\\r\\t \\t /**  Hi There             '\n",
    "print('Remove all spaces using RegEx:\\n', re.sub(r\"\\s+\", \" \", df[\"Description\"][2]), sep='')  # \\s matches all white spaces\n",
    "\n",
    "a = ' '.join([item for item in df[\"Description\"][342].split() if '@' not in item])\n",
    "b = re.sub(r\"received from:\",\"\",a)\n",
    "\n",
    "print(df[\"Short description\"][223])\n",
    "print (a,\"  \",b)\n",
    "#print(df[\"Description\"][223])\n"
   ]
  },
  {
   "cell_type": "code",
   "execution_count": 200,
   "metadata": {
    "colab": {
     "base_uri": "https://localhost:8080/",
     "height": 202
    },
    "colab_type": "code",
    "id": "lbMReq-y652d",
    "outputId": "583a24be-0adc-43f6-da49-7e7a3c0ae2a5"
   },
   "outputs": [
    {
     "data": {
      "text/html": [
       "<div>\n",
       "<style scoped>\n",
       "    .dataframe tbody tr th:only-of-type {\n",
       "        vertical-align: middle;\n",
       "    }\n",
       "\n",
       "    .dataframe tbody tr th {\n",
       "        vertical-align: top;\n",
       "    }\n",
       "\n",
       "    .dataframe thead th {\n",
       "        text-align: right;\n",
       "    }\n",
       "</style>\n",
       "<table border=\"1\" class=\"dataframe\">\n",
       "  <thead>\n",
       "    <tr style=\"text-align: right;\">\n",
       "      <th></th>\n",
       "      <th>Short description</th>\n",
       "      <th>Description</th>\n",
       "      <th>short_desc_lang</th>\n",
       "      <th>short_desc_en</th>\n",
       "      <th>description_lang</th>\n",
       "      <th>description_en</th>\n",
       "      <th>Caller</th>\n",
       "      <th>Assignment group</th>\n",
       "    </tr>\n",
       "  </thead>\n",
       "  <tbody>\n",
       "    <tr>\n",
       "      <th>0</th>\n",
       "      <td>login issue</td>\n",
       "      <td>-verified user details.(employee# &amp; manager na...</td>\n",
       "      <td>en</td>\n",
       "      <td>login issue</td>\n",
       "      <td>en</td>\n",
       "      <td>-verified user details.(employee# &amp; manager na...</td>\n",
       "      <td>spxjnwir pjlcoqds</td>\n",
       "      <td>GRP_0</td>\n",
       "    </tr>\n",
       "    <tr>\n",
       "      <th>1</th>\n",
       "      <td>outlook</td>\n",
       "      <td>\\r\\n\\r\\nreceived from: hmjdrvpb.komuaywn@gmail...</td>\n",
       "      <td>en</td>\n",
       "      <td>outlook</td>\n",
       "      <td>en</td>\n",
       "      <td>\\n\\nreceived from: hmjdrvpb.komuaywn@gmail.com...</td>\n",
       "      <td>hmjdrvpb komuaywn</td>\n",
       "      <td>GRP_0</td>\n",
       "    </tr>\n",
       "    <tr>\n",
       "      <th>2</th>\n",
       "      <td>cant log in to vpn</td>\n",
       "      <td>\\r\\n\\r\\nreceived from: eylqgodm.ybqkwiam@gmail...</td>\n",
       "      <td>en</td>\n",
       "      <td>cant log in to vpn</td>\n",
       "      <td>en</td>\n",
       "      <td>\\n\\nreceived from: eylqgodm.ybqkwiam@gmail.com...</td>\n",
       "      <td>eylqgodm ybqkwiam</td>\n",
       "      <td>GRP_0</td>\n",
       "    </tr>\n",
       "    <tr>\n",
       "      <th>3</th>\n",
       "      <td>unable to access hr_tool page</td>\n",
       "      <td>unable to access hr_tool page</td>\n",
       "      <td>en</td>\n",
       "      <td>unable to access hr_tool page</td>\n",
       "      <td>en</td>\n",
       "      <td>unable to access hr_tool page</td>\n",
       "      <td>xbkucsvz gcpydteq</td>\n",
       "      <td>GRP_0</td>\n",
       "    </tr>\n",
       "    <tr>\n",
       "      <th>4</th>\n",
       "      <td>skype error</td>\n",
       "      <td>skype error</td>\n",
       "      <td>en</td>\n",
       "      <td>skype error</td>\n",
       "      <td>en</td>\n",
       "      <td>skype error</td>\n",
       "      <td>owlgqjme qhcozdfx</td>\n",
       "      <td>GRP_0</td>\n",
       "    </tr>\n",
       "  </tbody>\n",
       "</table>\n",
       "</div>"
      ],
      "text/plain": [
       "               Short description  \\\n",
       "0                    login issue   \n",
       "1                        outlook   \n",
       "2             cant log in to vpn   \n",
       "3  unable to access hr_tool page   \n",
       "4                   skype error    \n",
       "\n",
       "                                         Description short_desc_lang  \\\n",
       "0  -verified user details.(employee# & manager na...              en   \n",
       "1  \\r\\n\\r\\nreceived from: hmjdrvpb.komuaywn@gmail...              en   \n",
       "2  \\r\\n\\r\\nreceived from: eylqgodm.ybqkwiam@gmail...              en   \n",
       "3                      unable to access hr_tool page              en   \n",
       "4                                       skype error               en   \n",
       "\n",
       "                   short_desc_en description_lang  \\\n",
       "0                    login issue               en   \n",
       "1                        outlook               en   \n",
       "2             cant log in to vpn               en   \n",
       "3  unable to access hr_tool page               en   \n",
       "4                    skype error               en   \n",
       "\n",
       "                                      description_en             Caller  \\\n",
       "0  -verified user details.(employee# & manager na...  spxjnwir pjlcoqds   \n",
       "1  \\n\\nreceived from: hmjdrvpb.komuaywn@gmail.com...  hmjdrvpb komuaywn   \n",
       "2  \\n\\nreceived from: eylqgodm.ybqkwiam@gmail.com...  eylqgodm ybqkwiam   \n",
       "3                      unable to access hr_tool page  xbkucsvz gcpydteq   \n",
       "4                                        skype error  owlgqjme qhcozdfx   \n",
       "\n",
       "  Assignment group  \n",
       "0            GRP_0  \n",
       "1            GRP_0  \n",
       "2            GRP_0  \n",
       "3            GRP_0  \n",
       "4            GRP_0  "
      ]
     },
     "execution_count": 200,
     "metadata": {},
     "output_type": "execute_result"
    }
   ],
   "source": [
    "df.head(5)"
   ]
  },
  {
   "cell_type": "code",
   "execution_count": 201,
   "metadata": {},
   "outputs": [
    {
     "name": "stdout",
     "output_type": "stream",
     "text": [
      "Int64Index([], dtype='int64')\n"
     ]
    }
   ],
   "source": [
    "#Find and impute Null values from Short description \n",
    "short_null = df[pd.isnull(df[\"Short description\"]) == True].index\n",
    "print(short_null)"
   ]
  },
  {
   "cell_type": "code",
   "execution_count": 202,
   "metadata": {
    "colab": {
     "base_uri": "https://localhost:8080/",
     "height": 102
    },
    "colab_type": "code",
    "id": "HgdRkio-750W",
    "outputId": "1e9adbee-1c3a-44c6-cc68-efe38ac5d00d"
   },
   "outputs": [
    {
     "data": {
      "text/plain": [
       "Short description    8489\n",
       "Description          8489\n",
       "short_desc_lang      8489\n",
       "short_desc_en        8489\n",
       "description_lang     8489\n",
       "description_en       8489\n",
       "Caller               8489\n",
       "Assignment group     8489\n",
       "dtype: int64"
      ]
     },
     "execution_count": 202,
     "metadata": {},
     "output_type": "execute_result"
    }
   ],
   "source": [
    "df.count()"
   ]
  },
  {
   "cell_type": "code",
   "execution_count": 203,
   "metadata": {},
   "outputs": [],
   "source": [
    "# Remove the caller names form the description. This can be done by adding the users list to the stop words\n",
    "users = list(df[\"Caller\"])\n",
    "users = np.hstack(np.unique(users))\n",
    "stop_words1 = list(stop_words) + list(users)"
   ]
  },
  {
   "cell_type": "code",
   "execution_count": 204,
   "metadata": {
    "colab": {
     "base_uri": "https://localhost:8080/",
     "height": 376
    },
    "colab_type": "code",
    "id": "E9EFXVBV8OJQ",
    "outputId": "5264f8da-9e6f-4c83-b0e7-9a9b9b16d057"
   },
   "outputs": [
    {
     "name": "stderr",
     "output_type": "stream",
     "text": [
      "100%|██████████| 8489/8489 [01:32<00:00, 91.79it/s] \n"
     ]
    }
   ],
   "source": [
    "# Process the Data and add new columns for analysis and data insights\n",
    "df[\"emails\"] = \"\"\n",
    "df[\"email_type\"]=\"\"\n",
    "df[\"short_desc_spl\"] = \"\"\n",
    "df[\"description_spl\"] = \"\"\n",
    "df[\"short_desc_len\"] = \"\"\n",
    "df[\"description_len\"] = \"\"\n",
    "df[\"no_of_splch_removed1\"]=\"\"\n",
    "df[\"no_of_splch_removed1_pct\"]=\"\"\n",
    "df[\"no_of_splch_removed2\"]=\"\"\n",
    "df[\"no_of_splch_removed2_pct\"]=\"\"\n",
    "df[\"short_desc_en_spl\"] = \"\"\n",
    "df[\"description_en_spl\"] = \"\"\n",
    "df[\"short_desc_en_len\"] = \"\"\n",
    "df[\"description_en_len\"] = \"\"\n",
    "df[\"trimmed_words\"] = \"\"\n",
    "df[\"trimmed_words_len\"] = \"\"\n",
    "df[\"trimmed_words_short\"] = \"\"\n",
    "df[\"trimmed_words_short_len\"] = \"\"\n",
    "df[\"trimmed_words_long\"] = \"\"\n",
    "df[\"trimmed_words_long_len\"] = \"\"\n",
    "df[\"mark_for_delete\"]=0\n",
    "\n",
    "x = 0\n",
    "for i in tqdm(df.index):  \n",
    "#_________________________________________________\n",
    "  # Remove all the junk characters\n",
    "  short_desc = str(df[\"Short description\"][i]).encode('ascii','ignore').decode()\n",
    "#_________________________________________________\n",
    "#count no of spl characters removed and calacuate the percentage\n",
    "      # Short description \n",
    "  df.loc[i,\"no_of_splch_removed1\"] = len(df[\"Short description\"][i]) - len(str(df[\"Short description\"][i]).encode('ascii','ignore').decode())\n",
    "  if len(df[\"Short description\"][i]) > 0 :\n",
    "      df.loc[i,\"no_of_splch_removed1_pct\"] = np.round((df.loc[i,\"no_of_splch_removed1\"]*100 / len(df[\"Short description\"][i])),1)\n",
    "  else :\n",
    "      df.loc[i,\"no_of_splch_removed1_pct\"] = 100\n",
    "      # Description \n",
    "  desc = str(df[\"Description\"][i]).encode('ascii','ignore').decode()\n",
    "  df.loc[i,\"no_of_splch_removed2\"] = len(df[\"Description\"][i]) - len(str(df[\"Description\"][i]).encode('ascii','ignore').decode())\n",
    "  \n",
    "  if len(df[\"Description\"][i]) >0 :\n",
    "    df.loc[i,\"no_of_splch_removed2_pct\"] = np.round((df.loc[i,\"no_of_splch_removed2\"]*100 / len(df[\"Description\"][i])),1)\n",
    "  else :\n",
    "    df.loc[i,\"no_of_splch_removed2_pct\"] = 100\n",
    "#_________________________________________________\n",
    "  # The below Funtion is to transilate the sentances to English but this free API has miliation. Hence not used. \n",
    "  # We used the pre transilated input data (using Googl sheet)\n",
    "  #if b == \"en\" :\n",
    "  #      trn = Translator().translate(short_desc, dest = \"en\", src = \"auto\")\n",
    "  #      short_desc_en = trn.text \n",
    "  #      trn1 = Translator().translate(desc, dest = \"en\", src = \"auto\")\n",
    "  #      Description_en = trn1.text\n",
    "  #else :\n",
    "  \n",
    "  #The below function is to remove Junk Characters from text \n",
    "  short_desc_en = str(df[\"short_desc_en\"][i]).encode('ascii','ignore').decode()\n",
    "  Description_en =str(df[\"description_en\"][i]).encode('ascii','ignore').decode()\n",
    "  \n",
    "  # Finding the first Email Address from the 'Description' column. \n",
    "  if(len(re.findall(r\"[a-z0-9\\.\\-+_]+@[a-z0-9\\.\\-+_]+\\.[a-z]+\", df[\"Description\"][i]))) > 0:\n",
    "      df.loc[i,\"emails\"] = re.findall(r\"[a-z0-9\\.\\-+_]+@[a-z0-9\\.\\-+_]+\\.[a-z]+\", df[\"Description\"][i])[0]\n",
    "    #df[\"emails\"][i] = re.findall(r\"[a-z0-9\\.\\-+_]+@[a-z0-9\\.\\-+_]+\\.[a-z]+\", df[\"Description\"][i])\n",
    "  \n",
    "  #Removing the Email ID from the short description ------------------------------------\n",
    "  fltr_txt = ' '.join([item for item in short_desc.split() if '@' not in item])\n",
    "  fltr_txt = re.sub(r\"received from:\",\"\",fltr_txt)\n",
    "  alpha = \"\"\n",
    "  for char in fltr_txt:\n",
    "    if char.isspace():\n",
    "      alpha+= \" \"\n",
    "    if char.isalnum():\n",
    "      alpha+= char.lower()\n",
    "  df.loc[i,\"short_desc_spl\"] = str(\" \".join(alpha.split()))\n",
    "  df.loc[i,\"short_desc_len\"] = len(alpha.split()) \n",
    "  #df.loc[i,\"no_splch_removed\"] = len(fltr_txt)-len(alpha.split())  \n",
    "  #Removing the Email ID from the Description-------------------------------------------------\n",
    "  fltr_txt1 = ' '.join([item for item in desc.split() if '@' not in item])\n",
    "  fltr_txt1 = re.sub(r\"received from:\",\"\",fltr_txt1)\n",
    "  alpha1 = \"\"\n",
    "  for char in fltr_txt1:\n",
    "    if char.isspace():\n",
    "      alpha1+= \" \"\n",
    "    if char.isalnum():\n",
    "      alpha1+= char.lower()\n",
    "  df.loc[i,\"description_spl\"] = str(\" \".join(alpha1.split()))\n",
    "  df.loc[i,\"description_len\"] = len(alpha1.split())  \n",
    "  #----------------------------   \n",
    "  fltr_txt = ' '.join([item for item in short_desc_en.split() if '@' not in item])\n",
    "  fltr_txt = re.sub(r\"received from:\",\"\",fltr_txt)\n",
    "  alpha = \"\"\n",
    "  for char in fltr_txt:\n",
    "    if char.isspace():\n",
    "      alpha+= \" \"\n",
    "    if char.isalnum():\n",
    "      alpha+= char.lower()\n",
    "  df.loc[i,\"short_desc_en_spl\"] = str(\" \".join(alpha.split()))\n",
    "  df.loc[i,\"short_desc_en_len\"] = len(alpha.split()) \n",
    "  #---------------------------------\n",
    "  fltr_txt1 = ' '.join([item for item in Description_en.split() if '@' not in item])\n",
    "  fltr_txt1 = re.sub(r\"received from:\",\"\",fltr_txt1)\n",
    "  alpha1 = \"\"\n",
    "  for char in fltr_txt1:\n",
    "    if char.isspace():\n",
    "      alpha1+= \" \"\n",
    "    if char.isalnum():\n",
    "      alpha1+= char.lower()\n",
    "  df.loc[i,\"description_en_spl\"] = str(\" \".join(alpha1.split())) \n",
    "  df.loc[i,\"description_en_len\"] = len(alpha1.split())\n",
    "  \n",
    "  #--------------------------------------  \n",
    "  # Final Text after stop word removal and combining both short and long description\n",
    "  \n",
    "  df.loc[i,\"trimmed_words_short\"] = \" \".join([item for item in df[\"short_desc_en_spl\"][i].split() if item not in stop_words1])\n",
    "  df.loc[i,\"trimmed_words_long\"] = \" \".join([item for item in df[\"description_en_spl\"][i].split() if item not in stop_words1])\n",
    "\n",
    "  if df[\"short_desc_en_spl\"][i] == df[\"description_en_spl\"][i] : \n",
    "    df.loc[i,\"trimmed_words\"] = \" \".join([item for item in df[\"short_desc_en_spl\"][i].split() if item not in stop_words1])\n",
    "  else :\n",
    "    df.loc[i,\"trimmed_words\"] = \" \".join([item for item in df[\"short_desc_en_spl\"][i].split() if item not in stop_words1])+\" \"+\" \".join([item for item in df[\"description_en_spl\"][i].split() if item not in stop_words1])\n",
    "  #Mark records with lot of junk characters for  delete -----------------------------------------------\n",
    "  df.loc[i,\"trimmed_words_len\"] = len(df[\"trimmed_words\"][i].split())\n",
    "  df.loc[i,\"trimmed_words_short_len\"] = len(df[\"trimmed_words_short\"][i].split())\n",
    "  df.loc[i,\"trimmed_words_long_len\"] = len(df[\"trimmed_words_long\"][i].split())\n",
    "  if df.loc[i,\"trimmed_words_long_len\"]==0 :\n",
    "    df.loc[i,\"trimmed_words_long\"] = df[\"trimmed_words_short\"][i] # If the Long description is empty, we copy the short description to Description\n",
    "  if df.loc[i,\"trimmed_words_short_len\"]==0 :  \n",
    "    df.loc[i,\"mark_for_delete\"]= 1 # if the short description is null, we better delete the record as copying the Description to short description will dilute the context\n",
    "  if df[\"trimmed_words_len\"][i] <= 1:\n",
    "    df.loc[i,\"mark_for_delete\"]= 1\n",
    "  if df[\"no_of_splch_removed1_pct\"][i]>50: # sentances with more than 50% junk\n",
    "    df.loc[i,\"mark_for_delete\"]= 1\n",
    "  #if i in short_null :\n",
    "  #  df.loc[i,\"mark_for_delete\"]= 1\n",
    "  #Progress Bar-----------------------------------------------------------------------------------------------------------\n",
    "  #if np.mod(i,1000) == 0:\n",
    "    #print(\"\\n\")\n",
    "  #  print(np.round((i*100/len(df))),\"% \", end = \"\")\n",
    "  #if np.mod(i,100) == 0:\n",
    "  #  print(\"=\", end = \"\")\n",
    "  "
   ]
  },
  {
   "cell_type": "code",
   "execution_count": 205,
   "metadata": {},
   "outputs": [
    {
     "name": "stdout",
     "output_type": "stream",
     "text": [
      "(8376, 29)\n"
     ]
    }
   ],
   "source": [
    "#Removing all the records marked for delete before further processing.....\n",
    "df = df[df[\"mark_for_delete\"]==0]\n",
    "print(df.shape)"
   ]
  },
  {
   "cell_type": "code",
   "execution_count": 206,
   "metadata": {},
   "outputs": [
    {
     "data": {
      "text/html": [
       "<div>\n",
       "<style scoped>\n",
       "    .dataframe tbody tr th:only-of-type {\n",
       "        vertical-align: middle;\n",
       "    }\n",
       "\n",
       "    .dataframe tbody tr th {\n",
       "        vertical-align: top;\n",
       "    }\n",
       "\n",
       "    .dataframe thead th {\n",
       "        text-align: right;\n",
       "    }\n",
       "</style>\n",
       "<table border=\"1\" class=\"dataframe\">\n",
       "  <thead>\n",
       "    <tr style=\"text-align: right;\">\n",
       "      <th></th>\n",
       "      <th>Short description</th>\n",
       "      <th>Description</th>\n",
       "      <th>short_desc_lang</th>\n",
       "      <th>short_desc_en</th>\n",
       "      <th>description_lang</th>\n",
       "      <th>description_en</th>\n",
       "      <th>Caller</th>\n",
       "      <th>Assignment group</th>\n",
       "      <th>emails</th>\n",
       "      <th>email_type</th>\n",
       "      <th>...</th>\n",
       "      <th>description_en_spl</th>\n",
       "      <th>short_desc_en_len</th>\n",
       "      <th>description_en_len</th>\n",
       "      <th>trimmed_words</th>\n",
       "      <th>trimmed_words_len</th>\n",
       "      <th>trimmed_words_short</th>\n",
       "      <th>trimmed_words_short_len</th>\n",
       "      <th>trimmed_words_long</th>\n",
       "      <th>trimmed_words_long_len</th>\n",
       "      <th>mark_for_delete</th>\n",
       "    </tr>\n",
       "  </thead>\n",
       "  <tbody>\n",
       "    <tr>\n",
       "      <th>0</th>\n",
       "      <td>login issue</td>\n",
       "      <td>-verified user details.(employee# &amp; manager na...</td>\n",
       "      <td>en</td>\n",
       "      <td>login issue</td>\n",
       "      <td>en</td>\n",
       "      <td>-verified user details.(employee# &amp; manager na...</td>\n",
       "      <td>spxjnwir pjlcoqds</td>\n",
       "      <td>GRP_0</td>\n",
       "      <td></td>\n",
       "      <td></td>\n",
       "      <td>...</td>\n",
       "      <td>verified user detailsemployee manager name che...</td>\n",
       "      <td>2</td>\n",
       "      <td>32</td>\n",
       "      <td>login issue verified user detailsemployee mana...</td>\n",
       "      <td>23</td>\n",
       "      <td>login issue</td>\n",
       "      <td>2</td>\n",
       "      <td>verified user detailsemployee manager name che...</td>\n",
       "      <td>21</td>\n",
       "      <td>0</td>\n",
       "    </tr>\n",
       "    <tr>\n",
       "      <th>1</th>\n",
       "      <td>outlook</td>\n",
       "      <td>\\r\\n\\r\\nreceived from: hmjdrvpb.komuaywn@gmail...</td>\n",
       "      <td>en</td>\n",
       "      <td>outlook</td>\n",
       "      <td>en</td>\n",
       "      <td>\\n\\nreceived from: hmjdrvpb.komuaywn@gmail.com...</td>\n",
       "      <td>hmjdrvpb komuaywn</td>\n",
       "      <td>GRP_0</td>\n",
       "      <td>hmjdrvpb.komuaywn@gmail.com</td>\n",
       "      <td></td>\n",
       "      <td>...</td>\n",
       "      <td>hello team my meetingsskype meetings etc are n...</td>\n",
       "      <td>1</td>\n",
       "      <td>22</td>\n",
       "      <td>outlook hello team meetingsskype meetings etc ...</td>\n",
       "      <td>14</td>\n",
       "      <td>outlook</td>\n",
       "      <td>1</td>\n",
       "      <td>hello team meetingsskype meetings etc appearin...</td>\n",
       "      <td>13</td>\n",
       "      <td>0</td>\n",
       "    </tr>\n",
       "    <tr>\n",
       "      <th>2</th>\n",
       "      <td>cant log in to vpn</td>\n",
       "      <td>\\r\\n\\r\\nreceived from: eylqgodm.ybqkwiam@gmail...</td>\n",
       "      <td>en</td>\n",
       "      <td>cant log in to vpn</td>\n",
       "      <td>en</td>\n",
       "      <td>\\n\\nreceived from: eylqgodm.ybqkwiam@gmail.com...</td>\n",
       "      <td>eylqgodm ybqkwiam</td>\n",
       "      <td>GRP_0</td>\n",
       "      <td>eylqgodm.ybqkwiam@gmail.com</td>\n",
       "      <td></td>\n",
       "      <td>...</td>\n",
       "      <td>hi i cannot log on to vpn best</td>\n",
       "      <td>5</td>\n",
       "      <td>8</td>\n",
       "      <td>cant log vpn hi cannot log vpn best</td>\n",
       "      <td>8</td>\n",
       "      <td>cant log vpn</td>\n",
       "      <td>3</td>\n",
       "      <td>hi cannot log vpn best</td>\n",
       "      <td>5</td>\n",
       "      <td>0</td>\n",
       "    </tr>\n",
       "  </tbody>\n",
       "</table>\n",
       "<p>3 rows × 29 columns</p>\n",
       "</div>"
      ],
      "text/plain": [
       "    Short description                                        Description  \\\n",
       "0         login issue  -verified user details.(employee# & manager na...   \n",
       "1             outlook  \\r\\n\\r\\nreceived from: hmjdrvpb.komuaywn@gmail...   \n",
       "2  cant log in to vpn  \\r\\n\\r\\nreceived from: eylqgodm.ybqkwiam@gmail...   \n",
       "\n",
       "  short_desc_lang       short_desc_en description_lang  \\\n",
       "0              en         login issue               en   \n",
       "1              en             outlook               en   \n",
       "2              en  cant log in to vpn               en   \n",
       "\n",
       "                                      description_en             Caller  \\\n",
       "0  -verified user details.(employee# & manager na...  spxjnwir pjlcoqds   \n",
       "1  \\n\\nreceived from: hmjdrvpb.komuaywn@gmail.com...  hmjdrvpb komuaywn   \n",
       "2  \\n\\nreceived from: eylqgodm.ybqkwiam@gmail.com...  eylqgodm ybqkwiam   \n",
       "\n",
       "  Assignment group                       emails email_type  ...  \\\n",
       "0            GRP_0                                          ...   \n",
       "1            GRP_0  hmjdrvpb.komuaywn@gmail.com             ...   \n",
       "2            GRP_0  eylqgodm.ybqkwiam@gmail.com             ...   \n",
       "\n",
       "                                  description_en_spl short_desc_en_len  \\\n",
       "0  verified user detailsemployee manager name che...                 2   \n",
       "1  hello team my meetingsskype meetings etc are n...                 1   \n",
       "2                     hi i cannot log on to vpn best                 5   \n",
       "\n",
       "  description_en_len                                      trimmed_words  \\\n",
       "0                 32  login issue verified user detailsemployee mana...   \n",
       "1                 22  outlook hello team meetingsskype meetings etc ...   \n",
       "2                  8                cant log vpn hi cannot log vpn best   \n",
       "\n",
       "  trimmed_words_len trimmed_words_short trimmed_words_short_len  \\\n",
       "0                23         login issue                       2   \n",
       "1                14             outlook                       1   \n",
       "2                 8        cant log vpn                       3   \n",
       "\n",
       "                                  trimmed_words_long trimmed_words_long_len  \\\n",
       "0  verified user detailsemployee manager name che...                     21   \n",
       "1  hello team meetingsskype meetings etc appearin...                     13   \n",
       "2                             hi cannot log vpn best                      5   \n",
       "\n",
       "  mark_for_delete  \n",
       "0               0  \n",
       "1               0  \n",
       "2               0  \n",
       "\n",
       "[3 rows x 29 columns]"
      ]
     },
     "execution_count": 206,
     "metadata": {},
     "output_type": "execute_result"
    }
   ],
   "source": [
    "# Do further processing to remove digits, any htmltags, punctuation...etc\n",
    "df['trimmed_words_short'] = remove_digits(df['trimmed_words_short'])\n",
    "df['trimmed_words_long'] = remove_digits(df['trimmed_words_long'])\n",
    "df['trimmed_words_short'] = df['trimmed_words_short'].apply(lambda x: remove_punctuation(x))\n",
    "df['trimmed_words_long'] = df['trimmed_words_long'].apply(lambda x: remove_punctuation(x))\n",
    "df['trimmed_words_short'] = df['trimmed_words_short'].apply(lambda x: remove_html(x))\n",
    "df['trimmed_words_long'] = df['trimmed_words_long'].apply(lambda x: remove_html(x))\n",
    "df.head(3)"
   ]
  },
  {
   "cell_type": "code",
   "execution_count": 207,
   "metadata": {},
   "outputs": [
    {
     "data": {
      "text/html": [
       "<div>\n",
       "<style scoped>\n",
       "    .dataframe tbody tr th:only-of-type {\n",
       "        vertical-align: middle;\n",
       "    }\n",
       "\n",
       "    .dataframe tbody tr th {\n",
       "        vertical-align: top;\n",
       "    }\n",
       "\n",
       "    .dataframe thead th {\n",
       "        text-align: right;\n",
       "    }\n",
       "</style>\n",
       "<table border=\"1\" class=\"dataframe\">\n",
       "  <thead>\n",
       "    <tr style=\"text-align: right;\">\n",
       "      <th></th>\n",
       "      <th>Short description</th>\n",
       "      <th>Description</th>\n",
       "      <th>short_desc_lang</th>\n",
       "      <th>short_desc_en</th>\n",
       "      <th>description_lang</th>\n",
       "      <th>description_en</th>\n",
       "      <th>Caller</th>\n",
       "      <th>Assignment group</th>\n",
       "      <th>emails</th>\n",
       "      <th>email_type</th>\n",
       "      <th>...</th>\n",
       "      <th>description_en_spl</th>\n",
       "      <th>short_desc_en_len</th>\n",
       "      <th>description_en_len</th>\n",
       "      <th>trimmed_words</th>\n",
       "      <th>trimmed_words_len</th>\n",
       "      <th>trimmed_words_short</th>\n",
       "      <th>trimmed_words_short_len</th>\n",
       "      <th>trimmed_words_long</th>\n",
       "      <th>trimmed_words_long_len</th>\n",
       "      <th>mark_for_delete</th>\n",
       "    </tr>\n",
       "  </thead>\n",
       "  <tbody>\n",
       "    <tr>\n",
       "      <th>5464</th>\n",
       "      <td>ç­”å¤: 35969737/2032252</td>\n",
       "      <td>\\r\\n\\r\\nreceived from: wqzarvhx.hfsojckw@gmail...</td>\n",
       "      <td>no</td>\n",
       "      <td>ç \"å¤: 35969737/2032252</td>\n",
       "      <td>en</td>\n",
       "      <td>\\n\\nreceived from: wqzarvhx.hfsojckw@gmail.com...</td>\n",
       "      <td>wqzarvhx hfsojckw</td>\n",
       "      <td>GRP_13</td>\n",
       "      <td>wqzarvhx.hfsojckw@gmail.com</td>\n",
       "      <td></td>\n",
       "      <td>...</td>\n",
       "      <td>hi help pls check item 20 net value in conditi...</td>\n",
       "      <td>1</td>\n",
       "      <td>24</td>\n",
       "      <td>359697372032252 hi help pls check item 20 net ...</td>\n",
       "      <td>19</td>\n",
       "      <td></td>\n",
       "      <td>0</td>\n",
       "      <td>hi help pls check item  net value condition ta...</td>\n",
       "      <td>17</td>\n",
       "      <td>0</td>\n",
       "    </tr>\n",
       "    <tr>\n",
       "      <th>7843</th>\n",
       "      <td>dell 4 in 1</td>\n",
       "      <td>dell 4 in 1 adapter not working</td>\n",
       "      <td>it</td>\n",
       "      <td>of 4 in 1</td>\n",
       "      <td>en</td>\n",
       "      <td>dell 4 in 1 adapter not working</td>\n",
       "      <td>ntuhoafg bzwefjvk</td>\n",
       "      <td>GRP_19</td>\n",
       "      <td></td>\n",
       "      <td></td>\n",
       "      <td>...</td>\n",
       "      <td>dell 4 in 1 adapter not working</td>\n",
       "      <td>4</td>\n",
       "      <td>7</td>\n",
       "      <td>4 1 dell 4 1 adapter working</td>\n",
       "      <td>7</td>\n",
       "      <td></td>\n",
       "      <td>0</td>\n",
       "      <td>dell   adapter working</td>\n",
       "      <td>3</td>\n",
       "      <td>0</td>\n",
       "    </tr>\n",
       "  </tbody>\n",
       "</table>\n",
       "<p>2 rows × 29 columns</p>\n",
       "</div>"
      ],
      "text/plain": [
       "             Short description  \\\n",
       "5464  ç­”å¤: 35969737/2032252   \n",
       "7843               dell 4 in 1   \n",
       "\n",
       "                                            Description short_desc_lang  \\\n",
       "5464  \\r\\n\\r\\nreceived from: wqzarvhx.hfsojckw@gmail...              no   \n",
       "7843                    dell 4 in 1 adapter not working              it   \n",
       "\n",
       "                short_desc_en description_lang  \\\n",
       "5464  ç \"å¤: 35969737/2032252               en   \n",
       "7843                of 4 in 1               en   \n",
       "\n",
       "                                         description_en             Caller  \\\n",
       "5464  \\n\\nreceived from: wqzarvhx.hfsojckw@gmail.com...  wqzarvhx hfsojckw   \n",
       "7843                    dell 4 in 1 adapter not working  ntuhoafg bzwefjvk   \n",
       "\n",
       "     Assignment group                       emails email_type  ...  \\\n",
       "5464           GRP_13  wqzarvhx.hfsojckw@gmail.com             ...   \n",
       "7843           GRP_19                                          ...   \n",
       "\n",
       "                                     description_en_spl short_desc_en_len  \\\n",
       "5464  hi help pls check item 20 net value in conditi...                 1   \n",
       "7843                    dell 4 in 1 adapter not working                 4   \n",
       "\n",
       "     description_en_len                                      trimmed_words  \\\n",
       "5464                 24  359697372032252 hi help pls check item 20 net ...   \n",
       "7843                  7                       4 1 dell 4 1 adapter working   \n",
       "\n",
       "     trimmed_words_len trimmed_words_short trimmed_words_short_len  \\\n",
       "5464                19                                           0   \n",
       "7843                 7                                           0   \n",
       "\n",
       "                                     trimmed_words_long  \\\n",
       "5464  hi help pls check item  net value condition ta...   \n",
       "7843                             dell   adapter working   \n",
       "\n",
       "     trimmed_words_long_len mark_for_delete  \n",
       "5464                     17               0  \n",
       "7843                      3               0  \n",
       "\n",
       "[2 rows x 29 columns]"
      ]
     },
     "execution_count": 207,
     "metadata": {},
     "output_type": "execute_result"
    }
   ],
   "source": [
    "# recalculate the length as the the above process might have removed some more chracters\n",
    "df['trimmed_words_short_len'] = df['trimmed_words_short'].apply(lambda x: len(x.split()))\n",
    "df['trimmed_words_long_len'] = df['trimmed_words_long'].apply(lambda x: len(x.split()))\n",
    "df[df['trimmed_words_short_len']==0]"
   ]
  },
  {
   "cell_type": "code",
   "execution_count": 208,
   "metadata": {},
   "outputs": [
    {
     "data": {
      "text/html": [
       "<div>\n",
       "<style scoped>\n",
       "    .dataframe tbody tr th:only-of-type {\n",
       "        vertical-align: middle;\n",
       "    }\n",
       "\n",
       "    .dataframe tbody tr th {\n",
       "        vertical-align: top;\n",
       "    }\n",
       "\n",
       "    .dataframe thead th {\n",
       "        text-align: right;\n",
       "    }\n",
       "</style>\n",
       "<table border=\"1\" class=\"dataframe\">\n",
       "  <thead>\n",
       "    <tr style=\"text-align: right;\">\n",
       "      <th></th>\n",
       "      <th>Short description</th>\n",
       "      <th>Description</th>\n",
       "      <th>short_desc_lang</th>\n",
       "      <th>short_desc_en</th>\n",
       "      <th>description_lang</th>\n",
       "      <th>description_en</th>\n",
       "      <th>Caller</th>\n",
       "      <th>Assignment group</th>\n",
       "      <th>emails</th>\n",
       "      <th>email_type</th>\n",
       "      <th>...</th>\n",
       "      <th>description_en_spl</th>\n",
       "      <th>short_desc_en_len</th>\n",
       "      <th>description_en_len</th>\n",
       "      <th>trimmed_words</th>\n",
       "      <th>trimmed_words_len</th>\n",
       "      <th>trimmed_words_short</th>\n",
       "      <th>trimmed_words_short_len</th>\n",
       "      <th>trimmed_words_long</th>\n",
       "      <th>trimmed_words_long_len</th>\n",
       "      <th>mark_for_delete</th>\n",
       "    </tr>\n",
       "  </thead>\n",
       "  <tbody>\n",
       "    <tr>\n",
       "      <th>6253</th>\n",
       "      <td>in the inbox always show there are several ema...</td>\n",
       "      <td>+86</td>\n",
       "      <td>en</td>\n",
       "      <td>in the inbox always show there are several ema...</td>\n",
       "      <td>und</td>\n",
       "      <td>86</td>\n",
       "      <td>mqbxwpfn uclrqfxa</td>\n",
       "      <td>GRP_0</td>\n",
       "      <td></td>\n",
       "      <td></td>\n",
       "      <td>...</td>\n",
       "      <td>86</td>\n",
       "      <td>18</td>\n",
       "      <td>1</td>\n",
       "      <td>inbox always show several emails read already 86</td>\n",
       "      <td>8</td>\n",
       "      <td>inbox always show several emails read already</td>\n",
       "      <td>7</td>\n",
       "      <td></td>\n",
       "      <td>0</td>\n",
       "      <td>0</td>\n",
       "    </tr>\n",
       "  </tbody>\n",
       "</table>\n",
       "<p>1 rows × 29 columns</p>\n",
       "</div>"
      ],
      "text/plain": [
       "                                      Short description Description  \\\n",
       "6253  in the inbox always show there are several ema...       +86     \n",
       "\n",
       "     short_desc_lang                                      short_desc_en  \\\n",
       "6253              en  in the inbox always show there are several ema...   \n",
       "\n",
       "     description_lang description_en             Caller Assignment group  \\\n",
       "6253              und             86  mqbxwpfn uclrqfxa            GRP_0   \n",
       "\n",
       "     emails email_type  ... description_en_spl short_desc_en_len  \\\n",
       "6253                    ...                 86                18   \n",
       "\n",
       "     description_en_len                                     trimmed_words  \\\n",
       "6253                  1  inbox always show several emails read already 86   \n",
       "\n",
       "     trimmed_words_len                            trimmed_words_short  \\\n",
       "6253                 8  inbox always show several emails read already   \n",
       "\n",
       "     trimmed_words_short_len trimmed_words_long trimmed_words_long_len  \\\n",
       "6253                       7                                         0   \n",
       "\n",
       "     mark_for_delete  \n",
       "6253               0  \n",
       "\n",
       "[1 rows x 29 columns]"
      ]
     },
     "execution_count": 208,
     "metadata": {},
     "output_type": "execute_result"
    }
   ],
   "source": [
    "df[df['trimmed_words_long_len']==0]"
   ]
  },
  {
   "cell_type": "code",
   "execution_count": 209,
   "metadata": {},
   "outputs": [
    {
     "name": "stdout",
     "output_type": "stream",
     "text": [
      "(8373, 29)\n"
     ]
    }
   ],
   "source": [
    "## Remove if there are still records where Short/Long description is null\n",
    "df = df[df['trimmed_words_short_len']>0]\n",
    "df = df[df['trimmed_words_long_len']>0]\n",
    "print(df.shape)"
   ]
  },
  {
   "cell_type": "code",
   "execution_count": 210,
   "metadata": {},
   "outputs": [
    {
     "data": {
      "text/plain": [
       "'verified user detailsemployee manager name checked user name ad reset password advised user login check caller confirmed able login issue resolved'"
      ]
     },
     "execution_count": 210,
     "metadata": {},
     "output_type": "execute_result"
    }
   ],
   "source": [
    "df[\"trimmed_words_long\"][0]"
   ]
  },
  {
   "cell_type": "code",
   "execution_count": 211,
   "metadata": {},
   "outputs": [
    {
     "data": {
      "text/plain": [
       "'-verified user details.(employee# & manager name)\\n-checked the user name in ad and reset the password.\\n-advised the user to login and check.\\n-caller confirmed that he was able to login.\\n-issue resolved.'"
      ]
     },
     "execution_count": 211,
     "metadata": {},
     "output_type": "execute_result"
    }
   ],
   "source": [
    "df[\"Description\"][0]"
   ]
  },
  {
   "cell_type": "code",
   "execution_count": 212,
   "metadata": {},
   "outputs": [],
   "source": [
    "#Word Tokenizer\n",
    "numword = 2000\n",
    "t = Tokenizer(num_words=numword)\n",
    "t.fit_on_texts((df[\"short_desc_en_spl\"]))\n",
    "t1 = Tokenizer(num_words=numword)\n",
    "t1.fit_on_texts((df[\"description_en_spl\"]))\n"
   ]
  },
  {
   "cell_type": "code",
   "execution_count": 213,
   "metadata": {},
   "outputs": [
    {
     "name": "stderr",
     "output_type": "stream",
     "text": [
      "100%|██████████| 8414/8414 [00:04<00:00, 1934.68it/s]\n",
      "100%|██████████| 20352/20352 [00:04<00:00, 4331.09it/s]\n"
     ]
    }
   ],
   "source": [
    "#build a word Corpus\n",
    "short_desc_words = pd.DataFrame()\n",
    "short_desc_words[\"word_index\"] = \"\"\n",
    "short_desc_words[\"word\"] = \"\"\n",
    "short_desc_words[\"word_count\"] = \"\"\n",
    "\n",
    "desc_words = pd.DataFrame()\n",
    "desc_words[\"word_index\"] = \"\"\n",
    "desc_words[\"word\"] = \"\"\n",
    "desc_words[\"word_count\"] = \"\"\n",
    "\n",
    "\n",
    "i = 0\n",
    "for word in tqdm(t.word_index):\n",
    "    if not word in stop_words1:\n",
    "        if i<= 1500 :\n",
    "            new_row = {'word_index':t.word_index[word], 'word':word, 'word_count':t.word_counts[word]}\n",
    "            short_desc_words = short_desc_words.append(new_row, ignore_index=True)\n",
    "            i = i+1\n",
    "\n",
    "        \n",
    "i = 0\n",
    "for word in tqdm(t1.word_index):\n",
    "    if not word in stop_words1:\n",
    "        if i<= 1500 :\n",
    "            new_row = {'word_index':t1.word_index[word], 'word':word, 'word_count':t1.word_counts[word]}\n",
    "            desc_words = desc_words.append(new_row, ignore_index=True)\n",
    "            i = i+1\n"
   ]
  },
  {
   "cell_type": "code",
   "execution_count": 214,
   "metadata": {},
   "outputs": [
    {
     "data": {
      "text/html": [
       "<div>\n",
       "<style scoped>\n",
       "    .dataframe tbody tr th:only-of-type {\n",
       "        vertical-align: middle;\n",
       "    }\n",
       "\n",
       "    .dataframe tbody tr th {\n",
       "        vertical-align: top;\n",
       "    }\n",
       "\n",
       "    .dataframe thead th {\n",
       "        text-align: right;\n",
       "    }\n",
       "</style>\n",
       "<table border=\"1\" class=\"dataframe\">\n",
       "  <thead>\n",
       "    <tr style=\"text-align: right;\">\n",
       "      <th></th>\n",
       "      <th>word_index</th>\n",
       "      <th>word</th>\n",
       "      <th>word_count</th>\n",
       "    </tr>\n",
       "  </thead>\n",
       "  <tbody>\n",
       "    <tr>\n",
       "      <th>0</th>\n",
       "      <td>5</td>\n",
       "      <td>job</td>\n",
       "      <td>978</td>\n",
       "    </tr>\n",
       "    <tr>\n",
       "      <th>1</th>\n",
       "      <td>7</td>\n",
       "      <td>jobscheduler</td>\n",
       "      <td>959</td>\n",
       "    </tr>\n",
       "    <tr>\n",
       "      <th>2</th>\n",
       "      <td>8</td>\n",
       "      <td>password</td>\n",
       "      <td>889</td>\n",
       "    </tr>\n",
       "    <tr>\n",
       "      <th>3</th>\n",
       "      <td>10</td>\n",
       "      <td>erp</td>\n",
       "      <td>850</td>\n",
       "    </tr>\n",
       "    <tr>\n",
       "      <th>4</th>\n",
       "      <td>11</td>\n",
       "      <td>failed</td>\n",
       "      <td>829</td>\n",
       "    </tr>\n",
       "    <tr>\n",
       "      <th>...</th>\n",
       "      <td>...</td>\n",
       "      <td>...</td>\n",
       "      <td>...</td>\n",
       "    </tr>\n",
       "    <tr>\n",
       "      <th>1496</th>\n",
       "      <td>1603</td>\n",
       "      <td>transactions</td>\n",
       "      <td>3</td>\n",
       "    </tr>\n",
       "    <tr>\n",
       "      <th>1497</th>\n",
       "      <td>1604</td>\n",
       "      <td>locations</td>\n",
       "      <td>3</td>\n",
       "    </tr>\n",
       "    <tr>\n",
       "      <th>1498</th>\n",
       "      <td>1607</td>\n",
       "      <td>bkwinsearchserverproddaily</td>\n",
       "      <td>3</td>\n",
       "    </tr>\n",
       "    <tr>\n",
       "      <th>1499</th>\n",
       "      <td>1608</td>\n",
       "      <td>various</td>\n",
       "      <td>3</td>\n",
       "    </tr>\n",
       "    <tr>\n",
       "      <th>1500</th>\n",
       "      <td>1609</td>\n",
       "      <td>complaining</td>\n",
       "      <td>3</td>\n",
       "    </tr>\n",
       "  </tbody>\n",
       "</table>\n",
       "<p>1501 rows × 3 columns</p>\n",
       "</div>"
      ],
      "text/plain": [
       "     word_index                        word word_count\n",
       "0             5                         job        978\n",
       "1             7                jobscheduler        959\n",
       "2             8                    password        889\n",
       "3            10                         erp        850\n",
       "4            11                      failed        829\n",
       "...         ...                         ...        ...\n",
       "1496       1603                transactions          3\n",
       "1497       1604                   locations          3\n",
       "1498       1607  bkwinsearchserverproddaily          3\n",
       "1499       1608                     various          3\n",
       "1500       1609                 complaining          3\n",
       "\n",
       "[1501 rows x 3 columns]"
      ]
     },
     "execution_count": 214,
     "metadata": {},
     "output_type": "execute_result"
    }
   ],
   "source": [
    "short_desc_words"
   ]
  },
  {
   "cell_type": "code",
   "execution_count": 215,
   "metadata": {},
   "outputs": [
    {
     "data": {
      "text/html": [
       "<div>\n",
       "<style scoped>\n",
       "    .dataframe tbody tr th:only-of-type {\n",
       "        vertical-align: middle;\n",
       "    }\n",
       "\n",
       "    .dataframe tbody tr th {\n",
       "        vertical-align: top;\n",
       "    }\n",
       "\n",
       "    .dataframe thead th {\n",
       "        text-align: right;\n",
       "    }\n",
       "</style>\n",
       "<table border=\"1\" class=\"dataframe\">\n",
       "  <thead>\n",
       "    <tr style=\"text-align: right;\">\n",
       "      <th></th>\n",
       "      <th>word_index</th>\n",
       "      <th>word</th>\n",
       "      <th>word_count</th>\n",
       "    </tr>\n",
       "  </thead>\n",
       "  <tbody>\n",
       "    <tr>\n",
       "      <th>0</th>\n",
       "      <td>9</td>\n",
       "      <td>please</td>\n",
       "      <td>2062</td>\n",
       "    </tr>\n",
       "    <tr>\n",
       "      <th>1</th>\n",
       "      <td>14</td>\n",
       "      <td>yesnona</td>\n",
       "      <td>1568</td>\n",
       "    </tr>\n",
       "    <tr>\n",
       "      <th>2</th>\n",
       "      <td>17</td>\n",
       "      <td>password</td>\n",
       "      <td>1204</td>\n",
       "    </tr>\n",
       "    <tr>\n",
       "      <th>3</th>\n",
       "      <td>20</td>\n",
       "      <td>user</td>\n",
       "      <td>1147</td>\n",
       "    </tr>\n",
       "    <tr>\n",
       "      <th>4</th>\n",
       "      <td>21</td>\n",
       "      <td>erp</td>\n",
       "      <td>1142</td>\n",
       "    </tr>\n",
       "    <tr>\n",
       "      <th>...</th>\n",
       "      <td>...</td>\n",
       "      <td>...</td>\n",
       "      <td>...</td>\n",
       "    </tr>\n",
       "    <tr>\n",
       "      <th>1496</th>\n",
       "      <td>1613</td>\n",
       "      <td>across</td>\n",
       "      <td>13</td>\n",
       "    </tr>\n",
       "    <tr>\n",
       "      <th>1497</th>\n",
       "      <td>1614</td>\n",
       "      <td>16</td>\n",
       "      <td>13</td>\n",
       "    </tr>\n",
       "    <tr>\n",
       "      <th>1498</th>\n",
       "      <td>1615</td>\n",
       "      <td>three</td>\n",
       "      <td>13</td>\n",
       "    </tr>\n",
       "    <tr>\n",
       "      <th>1499</th>\n",
       "      <td>1616</td>\n",
       "      <td>tries</td>\n",
       "      <td>13</td>\n",
       "    </tr>\n",
       "    <tr>\n",
       "      <th>1500</th>\n",
       "      <td>1617</td>\n",
       "      <td>patchingantivirussw</td>\n",
       "      <td>13</td>\n",
       "    </tr>\n",
       "  </tbody>\n",
       "</table>\n",
       "<p>1501 rows × 3 columns</p>\n",
       "</div>"
      ],
      "text/plain": [
       "     word_index                 word word_count\n",
       "0             9               please       2062\n",
       "1            14              yesnona       1568\n",
       "2            17             password       1204\n",
       "3            20                 user       1147\n",
       "4            21                  erp       1142\n",
       "...         ...                  ...        ...\n",
       "1496       1613               across         13\n",
       "1497       1614                   16         13\n",
       "1498       1615                three         13\n",
       "1499       1616                tries         13\n",
       "1500       1617  patchingantivirussw         13\n",
       "\n",
       "[1501 rows x 3 columns]"
      ]
     },
     "execution_count": 215,
     "metadata": {},
     "output_type": "execute_result"
    }
   ],
   "source": [
    "desc_words"
   ]
  },
  {
   "cell_type": "code",
   "execution_count": 216,
   "metadata": {},
   "outputs": [],
   "source": [
    "short_desc_words.to_csv(\"short_desc_words.csv\")\n",
    "desc_words.to_csv(\"desc_words.csv\")"
   ]
  },
  {
   "cell_type": "code",
   "execution_count": 217,
   "metadata": {},
   "outputs": [],
   "source": [
    "df[\"flg_account_related\"]=0\n",
    "df[\"flg_crm\"]=0\n",
    "df[\"flg_engineering\"]=0\n",
    "df[\"flg_erp\"]=0\n",
    "df[\"flg_failed\"]=0\n",
    "df[\"flg_help\"]=0\n",
    "df[\"flg_install\"]=0\n",
    "df[\"flg_job\"]=0\n",
    "df[\"flg_laptop\"]=0\n",
    "df[\"flg_mobile\"]=0\n",
    "df[\"flg_network\"]=0\n",
    "df[\"flg_outlook\"]=0\n",
    "df[\"flg_printer\"]=0\n",
    "df[\"flg_skype\"]=0\n",
    "df[\"flg_ticket_update\"]=0\n",
    "df[\"flg_vpn\"]=0\n",
    "df[\"flg_windows\"]=0\n",
    "df[\"host_related\"]=0\n",
    "#df[\"mobile\"]=0\n",
    "df[\"blank_call\"]=0\n",
    "df[\"setup_ws\"]=0"
   ]
  },
  {
   "cell_type": "code",
   "execution_count": 218,
   "metadata": {},
   "outputs": [
    {
     "name": "stderr",
     "output_type": "stream",
     "text": [
      "100%|██████████| 8373/8373 [00:16<00:00, 521.13it/s]\n"
     ]
    }
   ],
   "source": [
    "\n",
    "for i in tqdm(df.index):\n",
    "#---------------------------------------------------------------------\n",
    "    if df[\"emails\"][i].find(\"gmail\") >= 0:\n",
    "        df.loc[i,\"email_type\"] = \"gmail\"\n",
    "    else: \n",
    "        if df[\"emails\"][i].find(\"monitoring_tool@\") >=0:\n",
    "            df.loc[i,\"email_type\"] = \"monitoring_tool\"\n",
    "        else:\n",
    "            if df[\"emails\"][i].find(\"company\") >=0:\n",
    "                df.loc[i,\"email_type\"] = \"company\"\n",
    "            else :\n",
    "                df.loc[i,\"email_type\"] = \"others\"\n",
    "    \n",
    "    if df[\"trimmed_words\"][i].find(\"access\") >= 0 :\n",
    "        df.loc[i,\"flg_account_related\"] = 1\n",
    "    if df[\"trimmed_words\"][i].find(\"account\") >= 0 :\n",
    "        df.loc[i,\"flg_account_related\"] = 1\n",
    "    if df[\"trimmed_words\"][i].find(\"locked\") >= 0 :\n",
    "        df.loc[i,\"flg_account_related\"] = 1\n",
    "    if df[\"trimmed_words\"][i].find(\"login\") >= 0 :\n",
    "        df.loc[i,\"flg_account_related\"] = 1\n",
    "    if df[\"trimmed_words\"][i].find(\"logon\") >= 0 :\n",
    "        df.loc[i,\"flg_account_related\"] = 1\n",
    "    if df[\"trimmed_words\"][i].find(\"password\") >= 0 :\n",
    "        df.loc[i,\"flg_account_related\"] = 1\n",
    "    if df[\"trimmed_words\"][i].find(\"passwordmanagementtool\") >= 0 :\n",
    "        df.loc[i,\"flg_account_related\"] = 1\n",
    "    if df[\"trimmed_words\"][i].find(\"passwords\") >= 0 :\n",
    "        df.loc[i,\"flg_account_related\"] = 1\n",
    "    if df[\"trimmed_words\"][i].find(\"reset\") >= 0 :\n",
    "        df.loc[i,\"flg_account_related\"] = 1\n",
    "    if df[\"trimmed_words\"][i].find(\"tologin\") >= 0 :\n",
    "        df.loc[i,\"flg_account_related\"] = 1\n",
    "    if df[\"trimmed_words\"][i].find(\"unlock\") >= 0 :\n",
    "        df.loc[i,\"flg_account_related\"] = 1\n",
    "    if df[\"trimmed_words\"][i].find(\"user\") >= 0 :\n",
    "        df.loc[i,\"flg_account_related\"] = 1\n",
    "#---------------------------------------------------------------------    \n",
    "    if df[\"trimmed_words\"][i].find(\"circuit\") >= 0 :\n",
    "        df.loc[i,\"flg_network\"] = 1\n",
    "    if df[\"trimmed_words\"][i].find(\"connection\") >= 0 :\n",
    "        df.loc[i,\"flg_network\"] = 1\n",
    "    if df[\"trimmed_words\"][i].find(\"network\") >= 0 :\n",
    "        df.loc[i,\"flg_network\"] = 1\n",
    "    if df[\"trimmed_words\"][i].find(\"outage\") >= 0 :\n",
    "        df.loc[i,\"flg_network\"] = 1\n",
    "    if df[\"trimmed_words\"][i].find(\"server\") >= 0 :\n",
    "        df.loc[i,\"flg_network\"] = 1\n",
    "#---------------------------------------------------------------------    \n",
    "    if df[\"trimmed_words\"][i].find(\"vpn\") >= 0 :\n",
    "        df.loc[i,\"flg_vpn\"] = 1\n",
    "    if df[\"trimmed_words\"][i].find(\"vpncompanycom\") >= 0 :\n",
    "        df.loc[i,\"flg_vpn\"] = 1\n",
    "#---------------------------------------------------------------------    \n",
    "    if df[\"trimmed_words\"][i].find(\"computer\") >= 0 :\n",
    "        df.loc[i,\"flg_laptop\"] = 1\n",
    "#---------------------------------------------------------------------    \n",
    "    if df[\"trimmed_words\"][i].find(\"crm\") >= 0 :\n",
    "        df.loc[i,\"flg_crm\"] = 1\n",
    "#---------------------------------------------------------------------    \n",
    "    if df[\"trimmed_words\"][i].find(\"email\") >= 0 :\n",
    "        df.loc[i,\"flg_outlook\"] = 1\n",
    "    if df[\"trimmed_words\"][i].find(\"emails\") >= 0 :\n",
    "        df.loc[i,\"flg_outlook\"] = 1\n",
    "#---------------------------------------------------------------------    \n",
    "    if df[\"trimmed_words\"][i].find(\"outlook\") >= 0 :\n",
    "        df.loc[i,\"flg_outlook\"] = 1\n",
    "#---------------------------------------------------------------------    \n",
    "    if df[\"trimmed_words\"][i].find(\"error\") >= 0 :\n",
    "        df.loc[i,\"flg_failed\"] = 1\n",
    "    if df[\"trimmed_words\"][i].find(\"failed\") >= 0 :\n",
    "        df.loc[i,\"flg_failed\"] = 1\n",
    "    if df[\"trimmed_words\"][i].find(\"issue\") >= 0 :\n",
    "        df.loc[i,\"flg_failed\"] = 1\n",
    "#---------------------------------------------------------------------    \n",
    "    if df[\"trimmed_words\"][i].find(\"engineering\") >= 0 :\n",
    "        df.loc[i,\"flg_engineering\"] = 1\n",
    "    if df[\"trimmed_words\"][i].find(\"engineeringtool\") >= 0 :\n",
    "        df.loc[i,\"flg_engineering\"] = 1\n",
    "#---------------------------------------------------------------------    \n",
    "    if df[\"trimmed_words\"][i].find(\"erp\") >= 0 :\n",
    "        df.loc[i,\"flg_erp\"] = 1\n",
    "#---------------------------------------------------------------------    \n",
    "    if df[\"trimmed_words\"][i].find(\"help\") >= 0 :\n",
    "        df.loc[i,\"flg_help\"] = 1\n",
    "#---------------------------------------------------------------------    \n",
    "    if df[\"trimmed_words\"][i].find(\"install\") >= 0 :\n",
    "        df.loc[i,\"flg_install\"] = 1\n",
    "#---------------------------------------------------------------------    \n",
    "    if df[\"trimmed_words\"][i].find(\"job\") >= 0 :\n",
    "        df.loc[i,\"flg_job\"] = 1\n",
    "    if df[\"trimmed_words\"][i].find(\"jobscheduler\") >= 0 :\n",
    "        df.loc[i,\"flg_job\"] = 1\n",
    "#---------------------------------------------------------------------    \n",
    "    if df[\"trimmed_words\"][i].find(\"laptop\") >= 0 :\n",
    "        df.loc[i,\"flg_laptop\"] = 1\n",
    "    if df[\"trimmed_words\"][i].find(\"pc\") >= 0 :\n",
    "        df.loc[i,\"flg_laptop\"] = 1    \n",
    "#---------------------------------------------------------------------    \n",
    "    if df[\"trimmed_words\"][i].find(\"phone\") >= 0 :\n",
    "        df.loc[i,\"flg_mobile\"] = 1\n",
    "    if df[\"trimmed_words\"][i].find(\"telephonysoftware\") >= 0 :\n",
    "        df.loc[i,\"flg_mobile\"] = 1\n",
    "    if df[\"trimmed_words\"][i].find(\"mobile\") >= 0 :\n",
    "        df.loc[i,\"flg_mobile\"] = 1\n",
    "#---------------------------------------------------------------------    \n",
    "    if df[\"trimmed_words\"][i].find(\"print\") >= 0 :\n",
    "        df.loc[i,\"flg_printer\"] = 1\n",
    "    if df[\"trimmed_words\"][i].find(\"printer\") >= 0 :\n",
    "        df.loc[i,\"flg_printer\"] = 1\n",
    "#---------------------------------------------------------------------    \n",
    "    if df[\"trimmed_words\"][i].find(\"skype\") >= 0 :\n",
    "        df.loc[i,\"flg_skype\"] = 1\n",
    "#---------------------------------------------------------------------    \n",
    "    if df[\"trimmed_words\"][i].find(\"problems\") >= 0 :\n",
    "        df.loc[i,\"flg_failed\"] = 1\n",
    "    if df[\"trimmed_words\"][i].find(\"unable\") >= 0 :\n",
    "        df.loc[i,\"flg_failed\"] = 1\n",
    "#---------------------------------------------------------------------    \n",
    "    if df[\"trimmed_words\"][i].find(\"ticket\") >= 0 :\n",
    "        df.loc[i,\"flg_ticket_update\"] = 1\n",
    "    if df[\"trimmed_words\"][i].find(\"update\") >= 0 :\n",
    "        df.loc[i,\"flg_ticket_update\"] = 1\n",
    "#---------------------------------------------------------------------    \n",
    "    if df[\"trimmed_words\"][i].find(\"windows\") >= 0 :\n",
    "        df.loc[i,\"flg_windows\"] = 1\n",
    "#---------------------------------------------------------------------    \n",
    "    if df[\"trimmed_words\"][i].find(\"hostname\") >= 0 :\n",
    "        df.loc[i,\"host_related\"] = 1\n",
    "#---------------------------------------------------------------------    \n",
    "   \n",
    "#---------------------------------------------------------------------    \n",
    "    if df[\"trimmed_words\"][i].find(\"blank call\") >= 0 :\n",
    "        df.loc[i,\"blank_call\"] = 1\n",
    "#---------------------------------------------------------------------    \n",
    "    if df[\"trimmed_words\"][i].find(\"setup new ws\") >= 0 :\n",
    "        df.loc[i,\"setup_ws\"] = 1\n",
    "#---------------------------------------------------------------------    \n",
    "    #if np.mod(i,1000) == 0:\n",
    "     #print(\"\\n\")\n",
    "    #  print(np.round((i*100/len(df))),\"% \", end = \"\")\n",
    "    #if np.mod(i,100) == 0:\n",
    "    #  print(\"=\", end = \"\")\n",
    "  "
   ]
  },
  {
   "cell_type": "code",
   "execution_count": 219,
   "metadata": {},
   "outputs": [
    {
     "data": {
      "text/plain": [
       "Short description           object\n",
       "Description                 object\n",
       "short_desc_lang             object\n",
       "short_desc_en               object\n",
       "description_lang            object\n",
       "description_en              object\n",
       "Caller                      object\n",
       "Assignment group            object\n",
       "emails                      object\n",
       "email_type                  object\n",
       "short_desc_spl              object\n",
       "description_spl             object\n",
       "short_desc_len              object\n",
       "description_len             object\n",
       "no_of_splch_removed1        object\n",
       "no_of_splch_removed1_pct    object\n",
       "no_of_splch_removed2        object\n",
       "no_of_splch_removed2_pct    object\n",
       "short_desc_en_spl           object\n",
       "description_en_spl          object\n",
       "short_desc_en_len           object\n",
       "description_en_len          object\n",
       "trimmed_words               object\n",
       "trimmed_words_len           object\n",
       "trimmed_words_short         object\n",
       "trimmed_words_short_len      int64\n",
       "trimmed_words_long          object\n",
       "trimmed_words_long_len       int64\n",
       "mark_for_delete              int64\n",
       "flg_account_related          int64\n",
       "flg_crm                      int64\n",
       "flg_engineering              int64\n",
       "flg_erp                      int64\n",
       "flg_failed                   int64\n",
       "flg_help                     int64\n",
       "flg_install                  int64\n",
       "flg_job                      int64\n",
       "flg_laptop                   int64\n",
       "flg_mobile                   int64\n",
       "flg_network                  int64\n",
       "flg_outlook                  int64\n",
       "flg_printer                  int64\n",
       "flg_skype                    int64\n",
       "flg_ticket_update            int64\n",
       "flg_vpn                      int64\n",
       "flg_windows                  int64\n",
       "host_related                 int64\n",
       "blank_call                   int64\n",
       "setup_ws                     int64\n",
       "dtype: object"
      ]
     },
     "execution_count": 219,
     "metadata": {},
     "output_type": "execute_result"
    }
   ],
   "source": [
    "df.dtypes"
   ]
  },
  {
   "cell_type": "code",
   "execution_count": 220,
   "metadata": {},
   "outputs": [
    {
     "data": {
      "text/plain": [
       "<matplotlib.axes._subplots.AxesSubplot at 0x209a6da5688>"
      ]
     },
     "execution_count": 220,
     "metadata": {},
     "output_type": "execute_result"
    },
    {
     "data": {
      "image/png": "[encoded data removed]",
      "text/plain": [
       "<Figure size 432x288 with 1 Axes>"
      ]
     },
     "metadata": {
      "needs_background": "light"
     },
     "output_type": "display_data"
    }
   ],
   "source": [
    "sns.distplot(df[\"trimmed_words_len\"])"
   ]
  },
  {
   "cell_type": "code",
   "execution_count": 221,
   "metadata": {},
   "outputs": [
    {
     "data": {
      "text/plain": [
       "<matplotlib.axes._subplots.AxesSubplot at 0x20aae14dd08>"
      ]
     },
     "execution_count": 221,
     "metadata": {},
     "output_type": "execute_result"
    },
    {
     "data": {
      "image/png": "[encoded data removed]",
      "text/plain": [
       "<Figure size 432x288 with 1 Axes>"
      ]
     },
     "metadata": {
      "needs_background": "light"
     },
     "output_type": "display_data"
    }
   ],
   "source": [
    "sns.distplot(df[\"short_desc_len\"])"
   ]
  },
  {
   "cell_type": "code",
   "execution_count": 222,
   "metadata": {},
   "outputs": [
    {
     "data": {
      "text/plain": [
       "<matplotlib.axes._subplots.AxesSubplot at 0x20ab03666c8>"
      ]
     },
     "execution_count": 222,
     "metadata": {},
     "output_type": "execute_result"
    },
    {
     "data": {
      "image/png": "[encoded data removed]",
      "text/plain": [
       "<Figure size 432x288 with 1 Axes>"
      ]
     },
     "metadata": {
      "needs_background": "light"
     },
     "output_type": "display_data"
    }
   ],
   "source": [
    "sns.distplot(df[\"description_len\"])"
   ]
  },
  {
   "cell_type": "code",
   "execution_count": 223,
   "metadata": {},
   "outputs": [
    {
     "data": {
      "text/plain": [
       "<matplotlib.axes._subplots.AxesSubplot at 0x20ab055e788>"
      ]
     },
     "execution_count": 223,
     "metadata": {},
     "output_type": "execute_result"
    },
    {
     "data": {
      "image/png": "[encoded data removed]",
      "text/plain": [
       "<Figure size 432x288 with 1 Axes>"
      ]
     },
     "metadata": {
      "needs_background": "light"
     },
     "output_type": "display_data"
    }
   ],
   "source": [
    "sns.countplot(df[\"email_type\"])"
   ]
  },
  {
   "cell_type": "code",
   "execution_count": 224,
   "metadata": {},
   "outputs": [
    {
     "data": {
      "text/plain": [
       "<matplotlib.axes._subplots.AxesSubplot at 0x20ab1fbb4c8>"
      ]
     },
     "execution_count": 224,
     "metadata": {},
     "output_type": "execute_result"
    },
    {
     "data": {
      "image/png": "[encoded data removed]",
      "text/plain": [
       "<Figure size 432x288 with 1 Axes>"
      ]
     },
     "metadata": {
      "needs_background": "light"
     },
     "output_type": "display_data"
    }
   ],
   "source": [
    "sns.countplot(df[\"Assignment group\"])"
   ]
  },
  {
   "cell_type": "code",
   "execution_count": 225,
   "metadata": {},
   "outputs": [
    {
     "data": {
      "text/plain": [
       "Assignment group\n",
       "GRP_0     3954\n",
       "GRP_8      661\n",
       "GRP_24     289\n",
       "GRP_12     257\n",
       "GRP_9      252\n",
       "          ... \n",
       "GRP_61       1\n",
       "GRP_67       1\n",
       "GRP_35       1\n",
       "GRP_73       1\n",
       "GRP_70       1\n",
       "Name: Assignment group, Length: 74, dtype: int64"
      ]
     },
     "execution_count": 225,
     "metadata": {},
     "output_type": "execute_result"
    }
   ],
   "source": [
    "# Analyze the assignment Groups by doing group by \n",
    "a = df.groupby(\"Assignment group\")\n",
    "a[\"Assignment group\"].count().sort_values(ascending = False)"
   ]
  },
  {
   "cell_type": "code",
   "execution_count": 226,
   "metadata": {},
   "outputs": [
    {
     "name": "stdout",
     "output_type": "stream",
     "text": [
      "Short description\n",
      "password reset               38\n",
      "windows password reset       29\n",
      "account locked in ad         24\n",
      "windows account locked       23\n",
      "erp SID_34 account unlock    19\n",
      "login issue                  18\n",
      "account locked.              18\n",
      "blank call                   18\n",
      "unable to connect to vpn     18\n",
      "erp SID_34 password reset    17\n",
      "Name: Short description, dtype: int64\n"
     ]
    }
   ],
   "source": [
    "#Anlyze the \"short description\"\n",
    "b = df.groupby(\"Short description\")\n",
    "print(b[\"Short description\"].count().sort_values(ascending = False).head(10))"
   ]
  },
  {
   "cell_type": "code",
   "execution_count": 227,
   "metadata": {},
   "outputs": [
    {
     "name": "stdout",
     "output_type": "stream",
     "text": [
      "Caller\n",
      "bpctwhsn kzqsbmtp    810\n",
      "ZkBogxib QsEJzdZO    151\n",
      "fumkcsji sarmtlhy    134\n",
      "rbozivdq gmlhrtvp     87\n",
      "rkupnshb gsmzfojw     71\n",
      "jloygrwh acvztedi     64\n",
      "spxqmiry zpwgoqju     63\n",
      "oldrctiu bxurpsyi     57\n",
      "olckhmvx pcqobjnd     53\n",
      "jyoqwxhz clhxsoqy     51\n",
      "Name: Caller, dtype: int64\n"
     ]
    }
   ],
   "source": [
    "b = df.groupby(\"Caller\")\n",
    "print(b[\"Caller\"].count().sort_values(ascending = False).head(10))"
   ]
  },
  {
   "cell_type": "code",
   "execution_count": 228,
   "metadata": {},
   "outputs": [
    {
     "data": {
      "text/html": [
       "<div>\n",
       "<style scoped>\n",
       "    .dataframe tbody tr th:only-of-type {\n",
       "        vertical-align: middle;\n",
       "    }\n",
       "\n",
       "    .dataframe tbody tr th {\n",
       "        vertical-align: top;\n",
       "    }\n",
       "\n",
       "    .dataframe thead th {\n",
       "        text-align: right;\n",
       "    }\n",
       "</style>\n",
       "<table border=\"1\" class=\"dataframe\">\n",
       "  <thead>\n",
       "    <tr style=\"text-align: right;\">\n",
       "      <th></th>\n",
       "      <th>Short description</th>\n",
       "      <th>Description</th>\n",
       "      <th>trimmed_words</th>\n",
       "      <th>description_en_len</th>\n",
       "      <th>description_en_spl</th>\n",
       "      <th>trimmed_words_len</th>\n",
       "      <th>no_of_splch_removed1</th>\n",
       "      <th>no_of_splch_removed1_pct</th>\n",
       "      <th>no_of_splch_removed2_pct</th>\n",
       "    </tr>\n",
       "  </thead>\n",
       "  <tbody>\n",
       "  </tbody>\n",
       "</table>\n",
       "</div>"
      ],
      "text/plain": [
       "Empty DataFrame\n",
       "Columns: [Short description, Description, trimmed_words, description_en_len, description_en_spl, trimmed_words_len, no_of_splch_removed1, no_of_splch_removed1_pct, no_of_splch_removed2_pct]\n",
       "Index: []"
      ]
     },
     "execution_count": 228,
     "metadata": {},
     "output_type": "execute_result"
    }
   ],
   "source": [
    "#Check if there are still records marked for delete...\n",
    "df[df[\"mark_for_delete\"]==1][[\"Short description\",\"Description\",\"trimmed_words\",\"description_en_len\",\"description_en_spl\",\"trimmed_words_len\",\"no_of_splch_removed1\",\"no_of_splch_removed1_pct\",\"no_of_splch_removed2_pct\"]]"
   ]
  },
  {
   "cell_type": "code",
   "execution_count": 229,
   "metadata": {},
   "outputs": [],
   "source": [
    "#Export the processed Data for model building\n",
    "df.to_excel(\"processed_data.xlsx\")"
   ]
  },
  {
   "attachments": {
    "image.png": {
     "image/png": "[encoded data removed]"
    }
   },
   "cell_type": "markdown",
   "metadata": {},
   "source": [
    "## Summary of Columns : \n",
    "\n",
    "* Input file was loaded into a DataFrame. \n",
    "* It was observed that there are some records whcih are not in English. Tried to use googletran/ Transilator package in Python. However, they have limitation for no of free calls. Hence, loaded the data into google sheets and transilated\n",
    "* In order to proces the data several new columns were created to undersatnd the no of special characters..etc\n",
    "* Using tokenizer, word corpus was built with Max 1500 words. \n",
    "* Both short and long description was combined after removing special characters/ transilation to english/ applying Tokenizer\n",
    "* Records where more than 50% characters are junk are marked for delete\n",
    "* below is the list of new columns created\n",
    "\n",
    "\n",
    "![image.png](attachment:image.png)\n"
   ]
  },
  {
   "cell_type": "markdown",
   "metadata": {},
   "source": [
    "### Further processing \n",
    "\n",
    "Groups having less tickets should be combined as one group as we can not really make sence of them\n"
   ]
  },
  {
   "cell_type": "code",
   "execution_count": 230,
   "metadata": {},
   "outputs": [
    {
     "name": "stdout",
     "output_type": "stream",
     "text": [
      "Upto 75 % tickets Assignment Groups list : \n",
      "  Index(['GRP_0', 'GRP_8', 'GRP_24', 'GRP_12', 'GRP_9', 'GRP_2', 'GRP_19',\n",
      "       'GRP_3', 'GRP_6'],\n",
      "      dtype='object', name='Assignment group')\n",
      "\n",
      " No of Selected groups :  9  out of  74  total no of groups \n",
      "\n",
      "\n",
      " Assignment group\n",
      "GRP_0     46.52\n",
      "GRP_8     54.29\n",
      "GRP_24    57.69\n",
      "GRP_12    60.72\n",
      "GRP_9     63.68\n",
      "          ...  \n",
      "GRP_61    98.46\n",
      "GRP_67    98.47\n",
      "GRP_35    98.48\n",
      "GRP_73    98.49\n",
      "GRP_70    98.51\n",
      "Name: Assignment group, Length: 74, dtype: float64\n"
     ]
    }
   ],
   "source": [
    "# Dividing the Group by 75 - 25 %\n",
    "a1 = df.groupby(\"Assignment group\")[\"Assignment group\"].count().sort_values(ascending = False)\n",
    "thr = 75\n",
    "print(\"Upto\",thr,\"% tickets Assignment Groups list :\",\"\\n \",np.round(np.cumsum(a1[np.cumsum(a1*100/8500)<=thr]*100/8500),2).index)\n",
    "new_group_75 = np.round(np.cumsum(a1[np.cumsum(a1*100/8500)<=thr]*100/8500),2).index\n",
    "print(\"\\n No of Selected groups : \",len(new_group_75), \" out of \", len(a1), \" total no of groups \\n\")\n",
    "print(\"\\n\",np.round(np.cumsum(a1[np.cumsum(a1*100/8500)<=101]*100/8500),2))"
   ]
  },
  {
   "cell_type": "code",
   "execution_count": 231,
   "metadata": {},
   "outputs": [
    {
     "name": "stdout",
     "output_type": "stream",
     "text": [
      "Upto 85 % tickets Assignment Groups list : \n",
      "  Index(['GRP_0', 'GRP_8', 'GRP_24', 'GRP_12', 'GRP_9', 'GRP_2', 'GRP_19',\n",
      "       'GRP_3', 'GRP_6', 'GRP_13', 'GRP_10', 'GRP_5', 'GRP_14', 'GRP_25',\n",
      "       'GRP_33', 'GRP_4', 'GRP_29'],\n",
      "      dtype='object', name='Assignment group')\n",
      "\n",
      " No of Selected groups :  17  out of  74  total no of groups \n",
      "\n",
      "\n",
      " Assignment group\n",
      "GRP_0     46.52\n",
      "GRP_8     54.29\n",
      "GRP_24    57.69\n",
      "GRP_12    60.72\n",
      "GRP_9     63.68\n",
      "          ...  \n",
      "GRP_61    98.46\n",
      "GRP_67    98.47\n",
      "GRP_35    98.48\n",
      "GRP_73    98.49\n",
      "GRP_70    98.51\n",
      "Name: Assignment group, Length: 74, dtype: float64\n"
     ]
    }
   ],
   "source": [
    "# Dividing the Group by 85 - 15 %\n",
    "\n",
    "a1 = df.groupby(\"Assignment group\")[\"Assignment group\"].count().sort_values(ascending = False)\n",
    "thr = 85\n",
    "print(\"Upto\",thr,\"% tickets Assignment Groups list :\",\"\\n \",np.round(np.cumsum(a1[np.cumsum(a1*100/8500)<=thr]*100/8500),2).index)\n",
    "new_group_85 = np.round(np.cumsum(a1[np.cumsum(a1*100/8500)<=thr]*100/8500),2).index\n",
    "print(\"\\n No of Selected groups : \",len(new_group_85), \" out of \", len(a1), \" total no of groups \\n\")\n",
    "print(\"\\n\",np.round(np.cumsum(a1[np.cumsum(a1*100/8500)<=101]*100/8500),2))"
   ]
  },
  {
   "cell_type": "code",
   "execution_count": 232,
   "metadata": {},
   "outputs": [
    {
     "name": "stdout",
     "output_type": "stream",
     "text": [
      "Upto 95 % tickets Assignment Groups list : \n",
      "  Index(['GRP_0', 'GRP_8', 'GRP_24', 'GRP_12', 'GRP_9', 'GRP_2', 'GRP_19',\n",
      "       'GRP_3', 'GRP_6', 'GRP_13', 'GRP_10', 'GRP_5', 'GRP_14', 'GRP_25',\n",
      "       'GRP_33', 'GRP_4', 'GRP_29', 'GRP_18', 'GRP_16', 'GRP_17', 'GRP_7',\n",
      "       'GRP_34', 'GRP_26', 'GRP_40', 'GRP_28', 'GRP_41', 'GRP_15', 'GRP_42',\n",
      "       'GRP_20', 'GRP_45', 'GRP_22', 'GRP_1', 'GRP_31', 'GRP_11', 'GRP_21'],\n",
      "      dtype='object', name='Assignment group')\n",
      "\n",
      " No of Selected groups :  35  out of  74  total no of groups \n",
      "\n",
      "\n",
      " Assignment group\n",
      "GRP_0     46.52\n",
      "GRP_8     54.29\n",
      "GRP_24    57.69\n",
      "GRP_12    60.72\n",
      "GRP_9     63.68\n",
      "          ...  \n",
      "GRP_61    98.46\n",
      "GRP_67    98.47\n",
      "GRP_35    98.48\n",
      "GRP_73    98.49\n",
      "GRP_70    98.51\n",
      "Name: Assignment group, Length: 74, dtype: float64\n"
     ]
    }
   ],
   "source": [
    "# Dividing the Group by 95 - 5 %\n",
    "a1 = df.groupby(\"Assignment group\")[\"Assignment group\"].count().sort_values(ascending = False)\n",
    "thr = 95\n",
    "print(\"Upto\",thr,\"% tickets Assignment Groups list :\",\"\\n \",np.round(np.cumsum(a1[np.cumsum(a1*100/8500)<=thr]*100/8500),2).index)\n",
    "new_group_95 = np.round(np.cumsum(a1[np.cumsum(a1*100/8500)<=thr]*100/8500),2).index\n",
    "print(\"\\n No of Selected groups : \",len(new_group_95), \" out of \", len(a1), \" total no of groups \\n\")\n",
    "print(\"\\n\",np.round(np.cumsum(a1[np.cumsum(a1*100/8500)<=101]*100/8500),2))"
   ]
  },
  {
   "cell_type": "code",
   "execution_count": 233,
   "metadata": {},
   "outputs": [],
   "source": [
    "df[\"new_group_75\"] = \"\"\n",
    "df[\"new_group_85\"] = \"\"\n",
    "df[\"new_group_95\"] = \"\"\n",
    "\n",
    "\n",
    "for i in (df.index):\n",
    "    if df[\"Assignment group\"][i] in new_group_75:\n",
    "        df.loc[i,\"new_group_75\"] = df[\"Assignment group\"][i]\n",
    "    else :\n",
    "        df.loc[i,\"new_group_75\"] = \"GRP_9999\"\n",
    "    \n",
    "    if df[\"Assignment group\"][i] in new_group_85:\n",
    "        df.loc[i,\"new_group_85\"] = df[\"Assignment group\"][i]\n",
    "    else :\n",
    "        df.loc[i,\"new_group_85\"] = \"GRP_9999\"\n",
    "    \n",
    "    if df[\"Assignment group\"][i] in new_group_95:\n",
    "        df.loc[i,\"new_group_95\"] = df[\"Assignment group\"][i]\n",
    "    else :\n",
    "        df.loc[i,\"new_group_95\"] = \"GRP_9999\"\n",
    "    \n",
    "        "
   ]
  },
  {
   "cell_type": "code",
   "execution_count": 234,
   "metadata": {},
   "outputs": [
    {
     "name": "stdout",
     "output_type": "stream",
     "text": [
      "              new_group_95\n",
      "new_group_95              \n",
      "GRP_0                 3954\n",
      "GRP_8                  661\n",
      "GRP_9999               308\n",
      "GRP_24                 289\n",
      "GRP_12                 257\n",
      "GRP_9                  252\n",
      "GRP_2                  241\n",
      "GRP_19                 213\n",
      "GRP_3                  200\n",
      "GRP_6                  184\n",
      "GRP_13                 144\n",
      "GRP_10                 139\n",
      "GRP_5                  129\n",
      "GRP_14                 118\n",
      "GRP_25                 116\n",
      "GRP_33                 106\n",
      "GRP_4                  100\n",
      "GRP_29                  96\n",
      "GRP_18                  87\n",
      "GRP_16                  85\n",
      "GRP_17                  81\n",
      "GRP_7                   68\n",
      "GRP_34                  61\n",
      "GRP_26                  56\n",
      "GRP_40                  45\n",
      "GRP_28                  44\n",
      "GRP_41                  40\n",
      "GRP_15                  39\n",
      "GRP_42                  37\n",
      "GRP_20                  36\n",
      "GRP_45                  35\n",
      "GRP_22                  31\n",
      "GRP_1                   31\n",
      "GRP_31                  31\n",
      "GRP_11                  30\n",
      "GRP_21                  29\n"
     ]
    }
   ],
   "source": [
    "a = df.groupby(\"new_group_95\")\n",
    "a = pd.DataFrame(a[\"new_group_95\"].count().sort_values(ascending = False))\n",
    "print(a)"
   ]
  },
  {
   "cell_type": "code",
   "execution_count": 235,
   "metadata": {},
   "outputs": [
    {
     "data": {
      "text/plain": [
       "new_group_95\n",
       "GRP_0       46.517647\n",
       "GRP_8       54.294118\n",
       "GRP_9999    57.917647\n",
       "GRP_24      61.317647\n",
       "GRP_12      64.341176\n",
       "GRP_9       67.305882\n",
       "GRP_2       70.141176\n",
       "GRP_19      72.647059\n",
       "GRP_3       75.000000\n",
       "GRP_6       77.164706\n",
       "GRP_13      78.858824\n",
       "GRP_10      80.494118\n",
       "GRP_5       82.011765\n",
       "GRP_14      83.400000\n",
       "GRP_25      84.764706\n",
       "GRP_33      86.011765\n",
       "GRP_4       87.188235\n",
       "GRP_29      88.317647\n",
       "GRP_18      89.341176\n",
       "GRP_16      90.341176\n",
       "GRP_17      91.294118\n",
       "GRP_7       92.094118\n",
       "GRP_34      92.811765\n",
       "GRP_26      93.470588\n",
       "GRP_40      94.000000\n",
       "GRP_28      94.517647\n",
       "GRP_41      94.988235\n",
       "GRP_15      95.447059\n",
       "GRP_42      95.882353\n",
       "GRP_20      96.305882\n",
       "GRP_45      96.717647\n",
       "GRP_22      97.082353\n",
       "GRP_1       97.447059\n",
       "GRP_31      97.811765\n",
       "GRP_11      98.164706\n",
       "GRP_21      98.505882\n",
       "Name: new_group_95, dtype: float64"
      ]
     },
     "execution_count": 235,
     "metadata": {},
     "output_type": "execute_result"
    }
   ],
   "source": [
    "np.cumsum(a.new_group_95*100/8500)"
   ]
  },
  {
   "cell_type": "markdown",
   "metadata": {},
   "source": [
    "### Delete records marked for deletion\n"
   ]
  },
  {
   "cell_type": "code",
   "execution_count": 236,
   "metadata": {},
   "outputs": [
    {
     "name": "stdout",
     "output_type": "stream",
     "text": [
      "(8373, 52)\n"
     ]
    }
   ],
   "source": [
    "df_new = df[df[\"mark_for_delete\"]==0]\n",
    "print(df_new.shape)"
   ]
  },
  {
   "cell_type": "code",
   "execution_count": 237,
   "metadata": {},
   "outputs": [
    {
     "data": {
      "text/plain": [
       "0"
      ]
     },
     "execution_count": 237,
     "metadata": {},
     "output_type": "execute_result"
    }
   ],
   "source": [
    "len(df[df[\"mark_for_delete\"]==1][\"mark_for_delete\"])"
   ]
  },
  {
   "cell_type": "code",
   "execution_count": 238,
   "metadata": {},
   "outputs": [
    {
     "data": {
      "text/plain": [
       "Short description           object\n",
       "Description                 object\n",
       "short_desc_lang             object\n",
       "short_desc_en               object\n",
       "description_lang            object\n",
       "description_en              object\n",
       "Caller                      object\n",
       "Assignment group            object\n",
       "emails                      object\n",
       "email_type                  object\n",
       "short_desc_spl              object\n",
       "description_spl             object\n",
       "short_desc_len              object\n",
       "description_len             object\n",
       "no_of_splch_removed1        object\n",
       "no_of_splch_removed1_pct    object\n",
       "no_of_splch_removed2        object\n",
       "no_of_splch_removed2_pct    object\n",
       "short_desc_en_spl           object\n",
       "description_en_spl          object\n",
       "short_desc_en_len           object\n",
       "description_en_len          object\n",
       "trimmed_words               object\n",
       "trimmed_words_len           object\n",
       "trimmed_words_short         object\n",
       "trimmed_words_short_len      int64\n",
       "trimmed_words_long          object\n",
       "trimmed_words_long_len       int64\n",
       "mark_for_delete              int64\n",
       "flg_account_related          int64\n",
       "flg_crm                      int64\n",
       "flg_engineering              int64\n",
       "flg_erp                      int64\n",
       "flg_failed                   int64\n",
       "flg_help                     int64\n",
       "flg_install                  int64\n",
       "flg_job                      int64\n",
       "flg_laptop                   int64\n",
       "flg_mobile                   int64\n",
       "flg_network                  int64\n",
       "flg_outlook                  int64\n",
       "flg_printer                  int64\n",
       "flg_skype                    int64\n",
       "flg_ticket_update            int64\n",
       "flg_vpn                      int64\n",
       "flg_windows                  int64\n",
       "host_related                 int64\n",
       "blank_call                   int64\n",
       "setup_ws                     int64\n",
       "new_group_75                object\n",
       "new_group_85                object\n",
       "new_group_95                object\n",
       "dtype: object"
      ]
     },
     "execution_count": 238,
     "metadata": {},
     "output_type": "execute_result"
    }
   ],
   "source": [
    "df_new.dtypes"
   ]
  },
  {
   "cell_type": "code",
   "execution_count": 239,
   "metadata": {},
   "outputs": [],
   "source": [
    "df_new_1 = pd.DataFrame(df_new[[\"trimmed_words_short\",\"trimmed_words_long\",\"Assignment group\",\"new_group_75\",\"new_group_85\",\"new_group_95\"]])"
   ]
  },
  {
   "cell_type": "code",
   "execution_count": 240,
   "metadata": {},
   "outputs": [],
   "source": [
    "# New DataFrame Created for Model Building...\n",
    "df_new.to_excel(\"processed_trimmed_data_all_columns.xlsx\")\n",
    "df_new_1.to_excel(\"processed_trimmed_data.xlsx\")"
   ]
  },
  {
   "cell_type": "code",
   "execution_count": 241,
   "metadata": {},
   "outputs": [],
   "source": [
    "X = df_new[\"trimmed_words_short\"]\n",
    "y = df_new[\"new_group_75\"]"
   ]
  },
  {
   "cell_type": "code",
   "execution_count": 242,
   "metadata": {},
   "outputs": [
    {
     "name": "stdout",
     "output_type": "stream",
     "text": [
      "Review length: \n",
      "Mean 34.50 words (18.834306)\n"
     ]
    },
    {
     "data": {
      "image/png": "[encoded data removed]",
      "text/plain": [
       "<Figure size 432x288 with 1 Axes>"
      ]
     },
     "metadata": {
      "needs_background": "light"
     },
     "output_type": "display_data"
    }
   ],
   "source": [
    "import numpy\n",
    "import matplotlib.pyplot as plt\n",
    "from keras.preprocessing.sequence import pad_sequences\n",
    "\n",
    "%matplotlib inline\n",
    "# Summarize review length\n",
    "print(\"Review length: \")\n",
    "result = [len(x) for x in X]\n",
    "print(\"Mean %.2f words (%f)\" % (numpy.mean(result), numpy.std(result)))\n",
    "# plot review length\n",
    "plt.boxplot(result)\n",
    "plt.show()"
   ]
  },
  {
   "cell_type": "code",
   "execution_count": 243,
   "metadata": {},
   "outputs": [],
   "source": [
    "X1 = t.texts_to_sequences(X)"
   ]
  },
  {
   "cell_type": "code",
   "execution_count": 244,
   "metadata": {},
   "outputs": [],
   "source": [
    "X2 = pad_sequences(X1, maxlen=200, padding = 'post', truncating = 'post') \n",
    "#X_test =  pad_sequences(X_test, maxlen=100, padding = 'post', truncating = 'post')"
   ]
  },
  {
   "cell_type": "code",
   "execution_count": 245,
   "metadata": {},
   "outputs": [
    {
     "data": {
      "text/plain": [
       "(8373, 200)"
      ]
     },
     "execution_count": 245,
     "metadata": {},
     "output_type": "execute_result"
    }
   ],
   "source": [
    "X2.shape"
   ]
  },
  {
   "cell_type": "code",
   "execution_count": 246,
   "metadata": {},
   "outputs": [
    {
     "data": {
      "text/plain": [
       "array([21, 17,  0,  0,  0,  0,  0,  0,  0,  0,  0,  0,  0,  0,  0,  0,  0,\n",
       "        0,  0,  0,  0,  0,  0,  0,  0,  0,  0,  0,  0,  0,  0,  0,  0,  0,\n",
       "        0,  0,  0,  0,  0,  0,  0,  0,  0,  0,  0,  0,  0,  0,  0,  0,  0,\n",
       "        0,  0,  0,  0,  0,  0,  0,  0,  0,  0,  0,  0,  0,  0,  0,  0,  0,\n",
       "        0,  0,  0,  0,  0,  0,  0,  0,  0,  0,  0,  0,  0,  0,  0,  0,  0,\n",
       "        0,  0,  0,  0,  0,  0,  0,  0,  0,  0,  0,  0,  0,  0,  0,  0,  0,\n",
       "        0,  0,  0,  0,  0,  0,  0,  0,  0,  0,  0,  0,  0,  0,  0,  0,  0,\n",
       "        0,  0,  0,  0,  0,  0,  0,  0,  0,  0,  0,  0,  0,  0,  0,  0,  0,\n",
       "        0,  0,  0,  0,  0,  0,  0,  0,  0,  0,  0,  0,  0,  0,  0,  0,  0,\n",
       "        0,  0,  0,  0,  0,  0,  0,  0,  0,  0,  0,  0,  0,  0,  0,  0,  0,\n",
       "        0,  0,  0,  0,  0,  0,  0,  0,  0,  0,  0,  0,  0,  0,  0,  0,  0,\n",
       "        0,  0,  0,  0,  0,  0,  0,  0,  0,  0,  0,  0,  0])"
      ]
     },
     "execution_count": 246,
     "metadata": {},
     "output_type": "execute_result"
    }
   ],
   "source": [
    "X2[0]"
   ]
  },
  {
   "cell_type": "code",
   "execution_count": 247,
   "metadata": {},
   "outputs": [],
   "source": [
    "from sklearn.preprocessing import LabelEncoder\n",
    "from sklearn.preprocessing import OneHotEncoder\n",
    "\n",
    "values = df_new[\"new_group_75\"]\n",
    "label_encoder = LabelEncoder()\n",
    "integer_encoded = label_encoder.fit_transform(values)"
   ]
  },
  {
   "cell_type": "code",
   "execution_count": 248,
   "metadata": {},
   "outputs": [
    {
     "data": {
      "text/plain": [
       "array(['GRP_0', 'GRP_12', 'GRP_19', 'GRP_2', 'GRP_24', 'GRP_3', 'GRP_6',\n",
       "       'GRP_8', 'GRP_9', 'GRP_9999'], dtype=object)"
      ]
     },
     "execution_count": 248,
     "metadata": {},
     "output_type": "execute_result"
    }
   ],
   "source": [
    "label_encoder.classes_"
   ]
  },
  {
   "cell_type": "code",
   "execution_count": 249,
   "metadata": {},
   "outputs": [],
   "source": [
    "onehot_encoder = OneHotEncoder(sparse=False)\n",
    "integer_encoded = integer_encoded.reshape(len(integer_encoded), 1)\n",
    "onehot_encoded = onehot_encoder.fit_transform(integer_encoded)"
   ]
  },
  {
   "cell_type": "code",
   "execution_count": 250,
   "metadata": {},
   "outputs": [
    {
     "data": {
      "text/plain": [
       "(8373, 10)"
      ]
     },
     "execution_count": 250,
     "metadata": {},
     "output_type": "execute_result"
    }
   ],
   "source": [
    "onehot_encoded.shape"
   ]
  },
  {
   "cell_type": "code",
   "execution_count": 251,
   "metadata": {},
   "outputs": [
    {
     "data": {
      "text/plain": [
       "(8373, 1)"
      ]
     },
     "execution_count": 251,
     "metadata": {},
     "output_type": "execute_result"
    }
   ],
   "source": [
    "integer_encoded.shape"
   ]
  },
  {
   "cell_type": "code",
   "execution_count": 252,
   "metadata": {},
   "outputs": [
    {
     "name": "stdout",
     "output_type": "stream",
     "text": [
      "[[1. 0. 0. ... 0. 0. 0.]\n",
      " [1. 0. 0. ... 0. 0. 0.]\n",
      " [1. 0. 0. ... 0. 0. 0.]\n",
      " ...\n",
      " [1. 0. 0. ... 0. 0. 0.]\n",
      " [0. 0. 0. ... 0. 0. 1.]\n",
      " [0. 0. 0. ... 0. 0. 1.]]\n"
     ]
    }
   ],
   "source": [
    "y = onehot_encoded\n",
    "print(y)"
   ]
  },
  {
   "cell_type": "code",
   "execution_count": 253,
   "metadata": {},
   "outputs": [],
   "source": [
    "#Import all the required Libraries\n",
    "\n",
    "from tensorflow.keras.datasets import imdb\n",
    "from tensorflow.keras.models import Sequential\n",
    "from tensorflow.keras.layers import Dense\n",
    "from tensorflow.keras.layers import Flatten, Conv1D, MaxPooling1D\n",
    "from tensorflow.keras.layers import Embedding\n",
    "from tensorflow.keras.preprocessing import sequence\n",
    "from sklearn.model_selection import train_test_split\n",
    "from sklearn.metrics import classification_report, confusion_matrix\n",
    "from tensorflow.keras.metrics import Accuracy\n",
    "import matplotlib.pyplot as plt\n",
    "import collections\n",
    "import numpy as np\n",
    "from tensorflow.keras.preprocessing.text import Tokenizer\n",
    "from tensorflow.keras.preprocessing.sequence import pad_sequences\n",
    "from tensorflow.keras.layers import Dense, Input, LSTM, Embedding, Dropout, Activation, Flatten, Bidirectional, GlobalMaxPool1D, Add\n",
    "from tensorflow.keras.models import Model, Sequential\n",
    "\n",
    "%matplotlib inline"
   ]
  },
  {
   "cell_type": "code",
   "execution_count": 254,
   "metadata": {},
   "outputs": [
    {
     "data": {
      "text/plain": [
       "((6698, 200),\n",
       " (6698, 10),\n",
       " array([0., 0., 0., 0., 0., 0., 0., 0., 0., 1.]),\n",
       " (1675, 200),\n",
       " (1675, 10))"
      ]
     },
     "execution_count": 254,
     "metadata": {},
     "output_type": "execute_result"
    }
   ],
   "source": [
    "#Split the dataset into Train and test\n",
    "X_train,X_test,y_train,y_test = train_test_split(X2,y,test_size=0.2, random_state = 10, shuffle = True)\n",
    "X_train.shape,y_train.shape, y_train[10], X_test.shape, y_test.shape"
   ]
  },
  {
   "cell_type": "code",
   "execution_count": 255,
   "metadata": {},
   "outputs": [],
   "source": [
    "batch_size = 100\n",
    "epochs = 25"
   ]
  },
  {
   "cell_type": "code",
   "execution_count": 256,
   "metadata": {},
   "outputs": [
    {
     "data": {
      "text/plain": [
       "array([21, 17,  0,  0,  0,  0,  0,  0,  0,  0,  0,  0,  0,  0,  0,  0,  0,\n",
       "        0,  0,  0,  0,  0,  0,  0,  0,  0,  0,  0,  0,  0,  0,  0,  0,  0,\n",
       "        0,  0,  0,  0,  0,  0,  0,  0,  0,  0,  0,  0,  0,  0,  0,  0,  0,\n",
       "        0,  0,  0,  0,  0,  0,  0,  0,  0,  0,  0,  0,  0,  0,  0,  0,  0,\n",
       "        0,  0,  0,  0,  0,  0,  0,  0,  0,  0,  0,  0,  0,  0,  0,  0,  0,\n",
       "        0,  0,  0,  0,  0,  0,  0,  0,  0,  0,  0,  0,  0,  0,  0,  0,  0,\n",
       "        0,  0,  0,  0,  0,  0,  0,  0,  0,  0,  0,  0,  0,  0,  0,  0,  0,\n",
       "        0,  0,  0,  0,  0,  0,  0,  0,  0,  0,  0,  0,  0,  0,  0,  0,  0,\n",
       "        0,  0,  0,  0,  0,  0,  0,  0,  0,  0,  0,  0,  0,  0,  0,  0,  0,\n",
       "        0,  0,  0,  0,  0,  0,  0,  0,  0,  0,  0,  0,  0,  0,  0,  0,  0,\n",
       "        0,  0,  0,  0,  0,  0,  0,  0,  0,  0,  0,  0,  0,  0,  0,  0,  0,\n",
       "        0,  0,  0,  0,  0,  0,  0,  0,  0,  0,  0,  0,  0])"
      ]
     },
     "execution_count": 256,
     "metadata": {},
     "output_type": "execute_result"
    }
   ],
   "source": [
    "X2[0]"
   ]
  },
  {
   "cell_type": "code",
   "execution_count": 257,
   "metadata": {
    "scrolled": false
   },
   "outputs": [
    {
     "name": "stdout",
     "output_type": "stream",
     "text": [
      "WARNING:tensorflow:<tensorflow.python.keras.layers.recurrent.UnifiedLSTM object at 0x00000209B0F11BC8>: Note that this layer is not optimized for performance. Please use tf.keras.layers.CuDNNLSTM for better performance on GPU.\n",
      "WARNING:tensorflow:<tensorflow.python.keras.layers.recurrent.UnifiedLSTM object at 0x00000209B0F0B708>: Note that this layer is not optimized for performance. Please use tf.keras.layers.CuDNNLSTM for better performance on GPU.\n",
      "Model: \"sequential_1\"\n",
      "_________________________________________________________________\n",
      "Layer (type)                 Output Shape              Param #   \n",
      "=================================================================\n",
      "L1_Embedding (Embedding)     (None, 200, 200)          400000    \n",
      "_________________________________________________________________\n",
      "conv1d_1 (Conv1D)            (None, 198, 32)           19232     \n",
      "_________________________________________________________________\n",
      "max_pooling1d_1 (MaxPooling1 (None, 99, 32)            0         \n",
      "_________________________________________________________________\n",
      "dropout_1 (Dropout)          (None, 99, 32)            0         \n",
      "_________________________________________________________________\n",
      "L2_LSTM (Bidirectional)      (None, 99, 256)           164864    \n",
      "_________________________________________________________________\n",
      "L3_Flatten (Flatten)         (None, 25344)             0         \n",
      "_________________________________________________________________\n",
      "L4_Dense_relu (Dense)        (None, 254)               6437630   \n",
      "_________________________________________________________________\n",
      "L5_Dropout (Dropout)         (None, 254)               0         \n",
      "_________________________________________________________________\n",
      "L6_Dense_sigmoid (Dense)     (None, 10)                2550      \n",
      "=================================================================\n",
      "Total params: 7,024,276\n",
      "Trainable params: 7,024,276\n",
      "Non-trainable params: 0\n",
      "_________________________________________________________________\n",
      "Train on 5358 samples, validate on 1340 samples\n",
      "Epoch 1/25\n",
      "5358/5358 - 3s - loss: 1.6237 - accuracy: 0.4644 - mse: 0.1350 - val_loss: 1.4153 - val_accuracy: 0.4679 - val_mse: 0.1227\n",
      "Epoch 2/25\n",
      "5358/5358 - 2s - loss: 1.3467 - accuracy: 0.5293 - mse: 0.1152 - val_loss: 1.1678 - val_accuracy: 0.5896 - val_mse: 0.0933\n",
      "Epoch 3/25\n",
      "5358/5358 - 2s - loss: 1.1276 - accuracy: 0.6144 - mse: 0.0787 - val_loss: 1.1173 - val_accuracy: 0.5776 - val_mse: 0.0788\n",
      "Epoch 4/25\n",
      "5358/5358 - 2s - loss: 1.0145 - accuracy: 0.6278 - mse: 0.0697 - val_loss: 1.1604 - val_accuracy: 0.5582 - val_mse: 0.0745\n",
      "Epoch 5/25\n",
      "5358/5358 - 2s - loss: 0.9311 - accuracy: 0.6672 - mse: 0.0643 - val_loss: 1.0832 - val_accuracy: 0.6336 - val_mse: 0.0747\n",
      "Epoch 6/25\n",
      "5358/5358 - 2s - loss: 0.8602 - accuracy: 0.7001 - mse: 0.0596 - val_loss: 1.0784 - val_accuracy: 0.6485 - val_mse: 0.0643\n",
      "Epoch 7/25\n",
      "5358/5358 - 2s - loss: 0.7935 - accuracy: 0.7240 - mse: 0.0509 - val_loss: 1.1006 - val_accuracy: 0.6478 - val_mse: 0.0649\n",
      "Epoch 8/25\n",
      "5358/5358 - 2s - loss: 0.7420 - accuracy: 0.7424 - mse: 0.0469 - val_loss: 1.1216 - val_accuracy: 0.6507 - val_mse: 0.0622\n",
      "Epoch 9/25\n",
      "5358/5358 - 2s - loss: 0.6924 - accuracy: 0.7576 - mse: 0.0441 - val_loss: 1.1631 - val_accuracy: 0.6493 - val_mse: 0.0603\n",
      "Epoch 10/25\n",
      "5358/5358 - 2s - loss: 0.6617 - accuracy: 0.7701 - mse: 0.0442 - val_loss: 1.1811 - val_accuracy: 0.6522 - val_mse: 0.0614\n",
      "Epoch 11/25\n",
      "5358/5358 - 2s - loss: 0.6274 - accuracy: 0.7779 - mse: 0.0428 - val_loss: 1.2548 - val_accuracy: 0.6507 - val_mse: 0.0606\n",
      "Epoch 12/25\n",
      "5358/5358 - 2s - loss: 0.6067 - accuracy: 0.7848 - mse: 0.0421 - val_loss: 1.3079 - val_accuracy: 0.6358 - val_mse: 0.0617\n",
      "Epoch 13/25\n",
      "5358/5358 - 2s - loss: 0.5907 - accuracy: 0.7904 - mse: 0.0433 - val_loss: 1.2857 - val_accuracy: 0.6478 - val_mse: 0.0643\n",
      "Epoch 14/25\n",
      "5358/5358 - 2s - loss: 0.5727 - accuracy: 0.7938 - mse: 0.0412 - val_loss: 1.3408 - val_accuracy: 0.6440 - val_mse: 0.0634\n",
      "Epoch 15/25\n",
      "5358/5358 - 2s - loss: 0.5460 - accuracy: 0.8033 - mse: 0.0399 - val_loss: 1.4046 - val_accuracy: 0.6552 - val_mse: 0.0586\n",
      "Epoch 16/25\n",
      "5358/5358 - 2s - loss: 0.5399 - accuracy: 0.8072 - mse: 0.0382 - val_loss: 1.3929 - val_accuracy: 0.6358 - val_mse: 0.0595\n",
      "Epoch 17/25\n",
      "5358/5358 - 2s - loss: 0.5158 - accuracy: 0.8115 - mse: 0.0377 - val_loss: 1.4434 - val_accuracy: 0.6448 - val_mse: 0.0612\n",
      "Epoch 18/25\n",
      "5358/5358 - 2s - loss: 0.5049 - accuracy: 0.8182 - mse: 0.0385 - val_loss: 1.4995 - val_accuracy: 0.6410 - val_mse: 0.0599\n",
      "Epoch 19/25\n",
      "5358/5358 - 2s - loss: 0.4935 - accuracy: 0.8184 - mse: 0.0357 - val_loss: 1.5330 - val_accuracy: 0.6455 - val_mse: 0.0594\n",
      "Epoch 20/25\n",
      "5358/5358 - 2s - loss: 0.4732 - accuracy: 0.8255 - mse: 0.0367 - val_loss: 1.5624 - val_accuracy: 0.6313 - val_mse: 0.0614\n",
      "Epoch 21/25\n",
      "5358/5358 - 2s - loss: 0.4782 - accuracy: 0.8205 - mse: 0.0362 - val_loss: 1.5740 - val_accuracy: 0.6440 - val_mse: 0.0593\n",
      "Epoch 22/25\n",
      "5358/5358 - 2s - loss: 0.4628 - accuracy: 0.8303 - mse: 0.0359 - val_loss: 1.6613 - val_accuracy: 0.6336 - val_mse: 0.0596\n",
      "Epoch 23/25\n",
      "5358/5358 - 2s - loss: 0.4487 - accuracy: 0.8346 - mse: 0.0361 - val_loss: 1.7632 - val_accuracy: 0.6373 - val_mse: 0.0619\n",
      "Epoch 24/25\n",
      "5358/5358 - 2s - loss: 0.4457 - accuracy: 0.8343 - mse: 0.0354 - val_loss: 1.7120 - val_accuracy: 0.6373 - val_mse: 0.0615\n",
      "Epoch 25/25\n",
      "5358/5358 - 2s - loss: 0.4411 - accuracy: 0.8371 - mse: 0.0344 - val_loss: 1.6816 - val_accuracy: 0.6343 - val_mse: 0.0602\n"
     ]
    },
    {
     "data": {
      "image/png": "[encoded data removed]",
      "text/plain": [
       "<Figure size 432x288 with 1 Axes>"
      ]
     },
     "metadata": {
      "needs_background": "light"
     },
     "output_type": "display_data"
    },
    {
     "data": {
      "image/png": "[encoded data removed]",
      "text/plain": [
       "<Figure size 432x288 with 1 Axes>"
      ]
     },
     "metadata": {
      "needs_background": "light"
     },
     "output_type": "display_data"
    }
   ],
   "source": [
    "embedding_size = 200\n",
    "maxlen = 200\n",
    "\n",
    "# Crete a Sequential Model\n",
    "model1 = Sequential()\n",
    "\n",
    "# Add embedding as the first layer. We are going to initiate with the pre trained Glove vector. Since they are already trained embeddings\n",
    "# We are going to make the trainable parameter 'false'\n",
    "model1.add(Embedding(t.num_words, embedding_size, input_length = maxlen, trainable = True, name='L1_Embedding'))\n",
    "\n",
    "#These embeddings are made non-trainable as they are pre trained to highly optimized values\n",
    "model1.add(Conv1D(32,3,activation=\"relu\"))\n",
    "model1.add(MaxPooling1D(pool_size=2))\n",
    "\n",
    "#Adding a Dropout ensures the model is not overfitting\n",
    "model1.add(Dropout(0.5))\n",
    "\n",
    "#Add Bi-Directional LSTM\n",
    "model1.add(Bidirectional(LSTM(128, return_sequences = True, dropout = 0.2),name='L2_LSTM'))\n",
    "model1.add(Flatten(name='L3_Flatten'))\n",
    "\n",
    "# Add dense and Dropout \n",
    "model1.add(Dense(254, activation='relu',name='L4_Dense_relu'))\n",
    "model1.add(Dropout(0.2, name  = \"L5_Dropout\"))\n",
    "\n",
    "#Since this is a binary classification, we add the last layer as Dense with single neuron with Sigmoid. Based on the probability we can decide if the output is 0 or 1\n",
    "model1.add(Dense(10, activation='sigmoid',name='L6_Dense_sigmoid'))\n",
    "\n",
    "#Compile the model with binary cross entrophy and adam optimizer\n",
    "model1.compile(loss='categorical_crossentropy', optimizer='adam', metrics=['accuracy', 'mse'])\n",
    "model1.summary()\n",
    "\n",
    "# We are going to use validation split of 20%\n",
    "history1 = model1.fit(X_train, y_train,\n",
    "          batch_size=batch_size,\n",
    "          epochs=epochs,\n",
    "          validation_split = 0.2, verbose = 2)\n",
    "\n",
    "#Predect on the test data\n",
    "y_pred = model1.predict(X_test)\n",
    "#y_pred = (y_pred>0.5).astype(np.int)\n",
    "\n",
    "#print results\n",
    "#print(\"\\n\",\"Confusion Matrix :\",\"\\n\",confusion_matrix(y_test,y_pred))\n",
    "#print(\"\\n\",\"Classification Report :\",\"\\n\",classification_report(y_test,y_pred))\n",
    "\n",
    "# Print plot of Training and Validation Accuracy\n",
    "plt.plot(history1.history['accuracy'])\n",
    "plt.plot(history1.history['val_accuracy'])\n",
    "\n",
    "plt.title('Model accuracy')\n",
    "plt.ylabel('Accuracy')\n",
    "plt.xlabel('Epoch')\n",
    "plt.legend(['Train', 'Test'], loc='upper left')\n",
    "plt.show()\n",
    "\n",
    "# Print plot of Training and Validation Loss\n",
    "plt.plot(history1.history['loss'])\n",
    "plt.plot(history1.history['val_loss'])\n",
    "\n",
    "plt.title('Model loss')\n",
    "plt.ylabel('Loss')\n",
    "plt.xlabel('Epoch')\n",
    "plt.legend(['Train', 'Test'], loc='upper left')\n",
    "plt.show()"
   ]
  },
  {
   "cell_type": "code",
   "execution_count": 258,
   "metadata": {},
   "outputs": [
    {
     "data": {
      "text/plain": [
       "(array([  41,  498, 1510,   20,    0,    0,    0,    0,    0,    0,    0,\n",
       "           0,    0,    0,    0,    0,    0,    0,    0,    0,    0,    0,\n",
       "           0,    0,    0,    0,    0,    0,    0,    0,    0,    0,    0,\n",
       "           0,    0,    0,    0,    0,    0,    0,    0,    0,    0,    0,\n",
       "           0,    0,    0,    0,    0,    0,    0,    0,    0,    0,    0,\n",
       "           0,    0,    0,    0,    0,    0,    0,    0,    0,    0,    0,\n",
       "           0,    0,    0,    0,    0,    0,    0,    0,    0,    0,    0,\n",
       "           0,    0,    0,    0,    0,    0,    0,    0,    0,    0,    0,\n",
       "           0,    0,    0,    0,    0,    0,    0,    0,    0,    0,    0,\n",
       "           0,    0,    0,    0,    0,    0,    0,    0,    0,    0,    0,\n",
       "           0,    0,    0,    0,    0,    0,    0,    0,    0,    0,    0,\n",
       "           0,    0,    0,    0,    0,    0,    0,    0,    0,    0,    0,\n",
       "           0,    0,    0,    0,    0,    0,    0,    0,    0,    0,    0,\n",
       "           0,    0,    0,    0,    0,    0,    0,    0,    0,    0,    0,\n",
       "           0,    0,    0,    0,    0,    0,    0,    0,    0,    0,    0,\n",
       "           0,    0,    0,    0,    0,    0,    0,    0,    0,    0,    0,\n",
       "           0,    0,    0,    0,    0,    0,    0,    0,    0,    0,    0,\n",
       "           0,    0,    0,    0,    0,    0,    0,    0,    0,    0,    0,\n",
       "           0,    0]), array([1., 0., 0., 0., 0., 0., 0., 0., 0., 0.]))"
      ]
     },
     "execution_count": 258,
     "metadata": {},
     "output_type": "execute_result"
    }
   ],
   "source": [
    "X_test[0], y_test[0]"
   ]
  },
  {
   "cell_type": "code",
   "execution_count": 259,
   "metadata": {},
   "outputs": [
    {
     "name": "stderr",
     "output_type": "stream",
     "text": [
      "100%|██████████| 1675/1675 [00:00<00:00, 335056.24it/s]\n"
     ]
    }
   ],
   "source": [
    "y_pred1 = np.zeros(shape = y_pred.shape)\n",
    "for i in tqdm(range(len(y_pred1))):\n",
    "    y_pred1[i][np.argmax(y_pred[i])]=1    "
   ]
  },
  {
   "cell_type": "code",
   "execution_count": 260,
   "metadata": {},
   "outputs": [
    {
     "data": {
      "text/plain": [
       "array([1., 0., 0., 0., 0., 0., 0., 0., 0., 0.])"
      ]
     },
     "execution_count": 260,
     "metadata": {},
     "output_type": "execute_result"
    }
   ],
   "source": [
    "y_pred1[0]"
   ]
  },
  {
   "cell_type": "code",
   "execution_count": 261,
   "metadata": {},
   "outputs": [
    {
     "name": "stdout",
     "output_type": "stream",
     "text": [
      "\n",
      " Classification Report : \n",
      "               precision    recall  f1-score   support\n",
      "\n",
      "           0       0.80      0.84      0.82       803\n",
      "           1       0.50      0.40      0.44        53\n",
      "           2       0.00      0.00      0.00        39\n",
      "           3       0.57      0.39      0.47        51\n",
      "           4       0.77      0.59      0.67        56\n",
      "           5       0.15      0.11      0.13        37\n",
      "           6       0.62      0.13      0.21        39\n",
      "           7       0.51      0.89      0.64       134\n",
      "           8       0.00      0.00      0.00        43\n",
      "           9       0.58      0.60      0.59       420\n",
      "\n",
      "   micro avg       0.67      0.67      0.67      1675\n",
      "   macro avg       0.45      0.39      0.40      1675\n",
      "weighted avg       0.65      0.67      0.65      1675\n",
      " samples avg       0.67      0.67      0.67      1675\n",
      "\n"
     ]
    },
    {
     "name": "stderr",
     "output_type": "stream",
     "text": [
      "C:\\ProgramData\\Anaconda3\\envs\\gpu_test\\lib\\site-packages\\sklearn\\metrics\\_classification.py:1272: UndefinedMetricWarning: Precision and F-score are ill-defined and being set to 0.0 in labels with no predicted samples. Use `zero_division` parameter to control this behavior.\n",
      "  _warn_prf(average, modifier, msg_start, len(result))\n"
     ]
    }
   ],
   "source": [
    "print(\"\\n\",\"Classification Report :\",\"\\n\",classification_report(y_test,y_pred1))"
   ]
  },
  {
   "cell_type": "code",
   "execution_count": 262,
   "metadata": {},
   "outputs": [],
   "source": [
    "a_t = onehot_encoder.inverse_transform(y_test)\n",
    "a_t1= onehot_encoder.inverse_transform(y_pred1)"
   ]
  },
  {
   "cell_type": "code",
   "execution_count": 263,
   "metadata": {},
   "outputs": [
    {
     "name": "stdout",
     "output_type": "stream",
     "text": [
      "\n",
      " Confusion Matrix : \n",
      " [[673   6   8   5   2   9   0   1   0  99]\n",
      " [  7  21   0   0   4   0   0   6   0  15]\n",
      " [ 20   1   0   1   1   3   0   0   0  13]\n",
      " [ 19   1   0  20   0   1   0   0   0  10]\n",
      " [ 13   1   2   0  33   2   0   1   0   4]\n",
      " [ 16   0   3   1   1   4   0   0   0  12]\n",
      " [  0   0   0   0   0   0   5  24   0  10]\n",
      " [  1   1   0   0   0   0   0 119   0  13]\n",
      " [  1   0   0   0   0   0   0  38   0   4]\n",
      " [ 91  11   2   8   2   7   3  46   0 250]]\n"
     ]
    }
   ],
   "source": [
    "print(\"\\n\",\"Confusion Matrix :\",\"\\n\",confusion_matrix(a_t,a_t1))"
   ]
  },
  {
   "cell_type": "code",
   "execution_count": 264,
   "metadata": {},
   "outputs": [
    {
     "data": {
      "text/plain": [
       "<matplotlib.axes._subplots.AxesSubplot at 0x20ab2342848>"
      ]
     },
     "execution_count": 264,
     "metadata": {},
     "output_type": "execute_result"
    },
    {
     "data": {
      "image/png": "[encoded data removed]",
      "text/plain": [
       "<Figure size 432x288 with 2 Axes>"
      ]
     },
     "metadata": {
      "needs_background": "light"
     },
     "output_type": "display_data"
    }
   ],
   "source": [
    "sns.heatmap(confusion_matrix(a_t,a_t1), cmap=\"Blues\")"
   ]
  },
  {
   "cell_type": "code",
   "execution_count": null,
   "metadata": {},
   "outputs": [],
   "source": []
  }
 ],
 "metadata": {
  "accelerator": "GPU",
  "colab": {
   "name": "Capstone_Project_NLP_EDA.ipynb",
   "provenance": []
  },
  "kernelspec": {
   "display_name": "Python 3",
   "language": "python",
   "name": "python3"
  },
  "language_info": {
   "codemirror_mode": {
    "name": "ipython",
    "version": 3
   },
   "file_extension": ".py",
   "mimetype": "text/x-python",
   "name": "python",
   "nbconvert_exporter": "python",
   "pygments_lexer": "ipython3",
   "version": "3.7.6"
  }
 },
 "nbformat": 4,
 "nbformat_minor": 1
}
