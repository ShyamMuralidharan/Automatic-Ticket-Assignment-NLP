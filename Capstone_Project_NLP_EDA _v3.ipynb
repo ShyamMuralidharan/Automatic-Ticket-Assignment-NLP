{
 "cells": [
  {
   "cell_type": "markdown",
   "metadata": {
    "colab": {
     "base_uri": "https://localhost:8080/",
     "height": 71
    },
    "colab_type": "code",
    "id": "9odi7jJoeNkD",
    "outputId": "3ad69182-b4bc-490f-d4cb-397480c87a6e"
   },
   "source": [
    "### Data pre-processing"
   ]
  },
  {
   "cell_type": "code",
   "execution_count": 315,
   "metadata": {},
   "outputs": [],
   "source": [
    "# Import all libraries\n",
    "import pandas as pd\n",
    "import numpy as np\n",
    "import matplotlib.pyplot as plt\n",
    "%matplotlib inline\n",
    "import seaborn as sns\n",
    "from langdetect import detect, detect_langs\n",
    "import googletrans\n",
    "from googletrans import Translator\n",
    "import re\n",
    "import translate\n",
    "from tensorflow.keras.preprocessing.text import Tokenizer\n",
    "#from googletranslate import Translator\n",
    "from nltk.corpus import stopwords \n",
    "stop_words = set(stopwords.words('english')) \n",
    "from tqdm import tqdm\n",
    "from time import sleep"
   ]
  },
  {
   "cell_type": "code",
   "execution_count": 316,
   "metadata": {
    "colab": {
     "base_uri": "https://localhost:8080/",
     "height": 51
    },
    "colab_type": "code",
    "id": "guINebatlmw5",
    "outputId": "024c6e6e-3a48-417e-b9f6-56ebb8457cd8"
   },
   "outputs": [
    {
     "name": "stdout",
     "output_type": "stream",
     "text": [
      "Your Computer Name is:Prasad-Dell-LT\n",
      "Your Computer IP Address is:192.168.0.2\n"
     ]
    }
   ],
   "source": [
    "import socket    \n",
    "hostname = socket.gethostname()    \n",
    "IPAddr = socket.gethostbyname(hostname)    \n",
    "print(\"Your Computer Name is:\" + hostname)    \n",
    "print(\"Your Computer IP Address is:\" + IPAddr) "
   ]
  },
  {
   "cell_type": "markdown",
   "metadata": {
    "colab": {
     "base_uri": "https://localhost:8080/",
     "height": 122
    },
    "colab_type": "code",
    "id": "5YBuEG6nuxjz",
    "outputId": "46e0b7b2-766b-488d-e0d9-3fdc79371624"
   },
   "source": [
    "#### Use when running through google collab\n",
    "from google.colab import drive\n",
    "drive.mount('/drive', force_remount=True)"
   ]
  },
  {
   "cell_type": "markdown",
   "metadata": {
    "colab": {},
    "colab_type": "code",
    "id": "lPABEjd2vpOe"
   },
   "source": [
    "project_path = \"/drive/My Drive/AIML_Project_Files_Final/10.Capstone Project\""
   ]
  },
  {
   "cell_type": "code",
   "execution_count": 317,
   "metadata": {
    "colab": {},
    "colab_type": "code",
    "id": "lsP4yarwv_L4"
   },
   "outputs": [],
   "source": [
    "# Please note that this Dataset has 4 more extra columns to identify the language and transilate to English\n",
    "# Tried this transilation in Python using googletrans API but there is limitation on the numbers of calls, hence \n",
    "# googl sheets was used \n",
    "df = pd.read_excel(\"input_data_translated.xlsx\", encoding=\"utf-8\",dtype=\"str\")"
   ]
  },
  {
   "cell_type": "code",
   "execution_count": 318,
   "metadata": {},
   "outputs": [
    {
     "data": {
      "text/plain": [
       "Short description    object\n",
       "Description          object\n",
       "short_desc_lang      object\n",
       "short_desc_en        object\n",
       "description_lang     object\n",
       "description_en       object\n",
       "Caller               object\n",
       "Assignment group     object\n",
       "dtype: object"
      ]
     },
     "execution_count": 318,
     "metadata": {},
     "output_type": "execute_result"
    }
   ],
   "source": [
    "df.dtypes"
   ]
  },
  {
   "cell_type": "code",
   "execution_count": 319,
   "metadata": {},
   "outputs": [
    {
     "data": {
      "text/html": [
       "<div>\n",
       "<style scoped>\n",
       "    .dataframe tbody tr th:only-of-type {\n",
       "        vertical-align: middle;\n",
       "    }\n",
       "\n",
       "    .dataframe tbody tr th {\n",
       "        vertical-align: top;\n",
       "    }\n",
       "\n",
       "    .dataframe thead th {\n",
       "        text-align: right;\n",
       "    }\n",
       "</style>\n",
       "<table border=\"1\" class=\"dataframe\">\n",
       "  <thead>\n",
       "    <tr style=\"text-align: right;\">\n",
       "      <th></th>\n",
       "      <th>Short description</th>\n",
       "      <th>Description</th>\n",
       "      <th>short_desc_lang</th>\n",
       "      <th>short_desc_en</th>\n",
       "      <th>description_lang</th>\n",
       "      <th>description_en</th>\n",
       "      <th>Caller</th>\n",
       "      <th>Assignment group</th>\n",
       "    </tr>\n",
       "  </thead>\n",
       "  <tbody>\n",
       "    <tr>\n",
       "      <th>count</th>\n",
       "      <td>8492</td>\n",
       "      <td>8499</td>\n",
       "      <td>8492</td>\n",
       "      <td>8492</td>\n",
       "      <td>8497</td>\n",
       "      <td>8497</td>\n",
       "      <td>8500</td>\n",
       "      <td>8500</td>\n",
       "    </tr>\n",
       "    <tr>\n",
       "      <th>unique</th>\n",
       "      <td>7481</td>\n",
       "      <td>7817</td>\n",
       "      <td>50</td>\n",
       "      <td>7379</td>\n",
       "      <td>36</td>\n",
       "      <td>7752</td>\n",
       "      <td>2950</td>\n",
       "      <td>74</td>\n",
       "    </tr>\n",
       "    <tr>\n",
       "      <th>top</th>\n",
       "      <td>password reset</td>\n",
       "      <td>the</td>\n",
       "      <td>en</td>\n",
       "      <td>password reset</td>\n",
       "      <td>en</td>\n",
       "      <td>the</td>\n",
       "      <td>bpctwhsn kzqsbmtp</td>\n",
       "      <td>GRP_0</td>\n",
       "    </tr>\n",
       "    <tr>\n",
       "      <th>freq</th>\n",
       "      <td>38</td>\n",
       "      <td>56</td>\n",
       "      <td>7613</td>\n",
       "      <td>48</td>\n",
       "      <td>7768</td>\n",
       "      <td>56</td>\n",
       "      <td>810</td>\n",
       "      <td>3976</td>\n",
       "    </tr>\n",
       "  </tbody>\n",
       "</table>\n",
       "</div>"
      ],
      "text/plain": [
       "       Short description Description short_desc_lang   short_desc_en  \\\n",
       "count               8492        8499            8492            8492   \n",
       "unique              7481        7817              50            7379   \n",
       "top       password reset         the              en  password reset   \n",
       "freq                  38          56            7613              48   \n",
       "\n",
       "       description_lang description_en             Caller Assignment group  \n",
       "count              8497           8497               8500             8500  \n",
       "unique               36           7752               2950               74  \n",
       "top                  en            the  bpctwhsn kzqsbmtp            GRP_0  \n",
       "freq               7768             56                810             3976  "
      ]
     },
     "execution_count": 319,
     "metadata": {},
     "output_type": "execute_result"
    }
   ],
   "source": [
    "df.describe()"
   ]
  },
  {
   "cell_type": "code",
   "execution_count": 320,
   "metadata": {},
   "outputs": [
    {
     "data": {
      "text/html": [
       "<div>\n",
       "<style scoped>\n",
       "    .dataframe tbody tr th:only-of-type {\n",
       "        vertical-align: middle;\n",
       "    }\n",
       "\n",
       "    .dataframe tbody tr th {\n",
       "        vertical-align: top;\n",
       "    }\n",
       "\n",
       "    .dataframe thead th {\n",
       "        text-align: right;\n",
       "    }\n",
       "</style>\n",
       "<table border=\"1\" class=\"dataframe\">\n",
       "  <thead>\n",
       "    <tr style=\"text-align: right;\">\n",
       "      <th></th>\n",
       "      <th>Short description</th>\n",
       "      <th>Description</th>\n",
       "      <th>Caller</th>\n",
       "      <th>Assignment group</th>\n",
       "    </tr>\n",
       "  </thead>\n",
       "  <tbody>\n",
       "    <tr>\n",
       "      <th>0</th>\n",
       "      <td>login issue</td>\n",
       "      <td>-verified user details.(employee# &amp; manager na...</td>\n",
       "      <td>spxjnwir pjlcoqds</td>\n",
       "      <td>GRP_0</td>\n",
       "    </tr>\n",
       "    <tr>\n",
       "      <th>1</th>\n",
       "      <td>outlook</td>\n",
       "      <td>\\r\\n\\r\\nreceived from: hmjdrvpb.komuaywn@gmail...</td>\n",
       "      <td>hmjdrvpb komuaywn</td>\n",
       "      <td>GRP_0</td>\n",
       "    </tr>\n",
       "    <tr>\n",
       "      <th>2</th>\n",
       "      <td>cant log in to vpn</td>\n",
       "      <td>\\r\\n\\r\\nreceived from: eylqgodm.ybqkwiam@gmail...</td>\n",
       "      <td>eylqgodm ybqkwiam</td>\n",
       "      <td>GRP_0</td>\n",
       "    </tr>\n",
       "    <tr>\n",
       "      <th>3</th>\n",
       "      <td>unable to access hr_tool page</td>\n",
       "      <td>unable to access hr_tool page</td>\n",
       "      <td>xbkucsvz gcpydteq</td>\n",
       "      <td>GRP_0</td>\n",
       "    </tr>\n",
       "    <tr>\n",
       "      <th>4</th>\n",
       "      <td>skype error</td>\n",
       "      <td>skype error</td>\n",
       "      <td>owlgqjme qhcozdfx</td>\n",
       "      <td>GRP_0</td>\n",
       "    </tr>\n",
       "  </tbody>\n",
       "</table>\n",
       "</div>"
      ],
      "text/plain": [
       "               Short description  \\\n",
       "0                    login issue   \n",
       "1                        outlook   \n",
       "2             cant log in to vpn   \n",
       "3  unable to access hr_tool page   \n",
       "4                   skype error    \n",
       "\n",
       "                                         Description             Caller  \\\n",
       "0  -verified user details.(employee# & manager na...  spxjnwir pjlcoqds   \n",
       "1  \\r\\n\\r\\nreceived from: hmjdrvpb.komuaywn@gmail...  hmjdrvpb komuaywn   \n",
       "2  \\r\\n\\r\\nreceived from: eylqgodm.ybqkwiam@gmail...  eylqgodm ybqkwiam   \n",
       "3                      unable to access hr_tool page  xbkucsvz gcpydteq   \n",
       "4                                       skype error   owlgqjme qhcozdfx   \n",
       "\n",
       "  Assignment group  \n",
       "0            GRP_0  \n",
       "1            GRP_0  \n",
       "2            GRP_0  \n",
       "3            GRP_0  \n",
       "4            GRP_0  "
      ]
     },
     "execution_count": 320,
     "metadata": {},
     "output_type": "execute_result"
    }
   ],
   "source": [
    "# Load original dataset gven in the project \n",
    "df1 = pd.read_excel(\"input_data.xlsx\")\n",
    "df1.head(5)"
   ]
  },
  {
   "cell_type": "code",
   "execution_count": 321,
   "metadata": {},
   "outputs": [
    {
     "data": {
      "text/plain": [
       "': ticket_no1559458 : wireless guest access- hr_tool trainer'"
      ]
     },
     "execution_count": 321,
     "metadata": {},
     "output_type": "execute_result"
    }
   ],
   "source": [
    "#Remove Junk charaters from the text.. below is an example\n",
    "\"ç­”å¤: ticket_no1559458 : wireless guest access- hr_tool trainer\".encode('ascii','ignore').decode()"
   ]
  },
  {
   "cell_type": "code",
   "execution_count": 322,
   "metadata": {
    "colab": {
     "base_uri": "https://localhost:8080/",
     "height": 171
    },
    "colab_type": "code",
    "id": "ny_hZ9cBxap8",
    "outputId": "cd869ff4-40f6-4f70-93fc-69eb6217add7"
   },
   "outputs": [
    {
     "data": {
      "text/html": [
       "<div>\n",
       "<style scoped>\n",
       "    .dataframe tbody tr th:only-of-type {\n",
       "        vertical-align: middle;\n",
       "    }\n",
       "\n",
       "    .dataframe tbody tr th {\n",
       "        vertical-align: top;\n",
       "    }\n",
       "\n",
       "    .dataframe thead th {\n",
       "        text-align: right;\n",
       "    }\n",
       "</style>\n",
       "<table border=\"1\" class=\"dataframe\">\n",
       "  <thead>\n",
       "    <tr style=\"text-align: right;\">\n",
       "      <th></th>\n",
       "      <th>Short description</th>\n",
       "      <th>Description</th>\n",
       "      <th>short_desc_lang</th>\n",
       "      <th>short_desc_en</th>\n",
       "      <th>description_lang</th>\n",
       "      <th>description_en</th>\n",
       "      <th>Caller</th>\n",
       "      <th>Assignment group</th>\n",
       "    </tr>\n",
       "  </thead>\n",
       "  <tbody>\n",
       "    <tr>\n",
       "      <th>count</th>\n",
       "      <td>8492</td>\n",
       "      <td>8499</td>\n",
       "      <td>8492</td>\n",
       "      <td>8492</td>\n",
       "      <td>8497</td>\n",
       "      <td>8497</td>\n",
       "      <td>8500</td>\n",
       "      <td>8500</td>\n",
       "    </tr>\n",
       "    <tr>\n",
       "      <th>unique</th>\n",
       "      <td>7481</td>\n",
       "      <td>7817</td>\n",
       "      <td>50</td>\n",
       "      <td>7379</td>\n",
       "      <td>36</td>\n",
       "      <td>7752</td>\n",
       "      <td>2950</td>\n",
       "      <td>74</td>\n",
       "    </tr>\n",
       "    <tr>\n",
       "      <th>top</th>\n",
       "      <td>password reset</td>\n",
       "      <td>the</td>\n",
       "      <td>en</td>\n",
       "      <td>password reset</td>\n",
       "      <td>en</td>\n",
       "      <td>the</td>\n",
       "      <td>bpctwhsn kzqsbmtp</td>\n",
       "      <td>GRP_0</td>\n",
       "    </tr>\n",
       "    <tr>\n",
       "      <th>freq</th>\n",
       "      <td>38</td>\n",
       "      <td>56</td>\n",
       "      <td>7613</td>\n",
       "      <td>48</td>\n",
       "      <td>7768</td>\n",
       "      <td>56</td>\n",
       "      <td>810</td>\n",
       "      <td>3976</td>\n",
       "    </tr>\n",
       "  </tbody>\n",
       "</table>\n",
       "</div>"
      ],
      "text/plain": [
       "       Short description Description short_desc_lang   short_desc_en  \\\n",
       "count               8492        8499            8492            8492   \n",
       "unique              7481        7817              50            7379   \n",
       "top       password reset         the              en  password reset   \n",
       "freq                  38          56            7613              48   \n",
       "\n",
       "       description_lang description_en             Caller Assignment group  \n",
       "count              8497           8497               8500             8500  \n",
       "unique               36           7752               2950               74  \n",
       "top                  en            the  bpctwhsn kzqsbmtp            GRP_0  \n",
       "freq               7768             56                810             3976  "
      ]
     },
     "execution_count": 322,
     "metadata": {},
     "output_type": "execute_result"
    }
   ],
   "source": [
    "# We are going to use the DataFrame df for further processing \n",
    "df.describe()"
   ]
  },
  {
   "cell_type": "code",
   "execution_count": 323,
   "metadata": {
    "colab": {
     "base_uri": "https://localhost:8080/",
     "height": 51
    },
    "colab_type": "code",
    "id": "4qpWuek_ANfp",
    "outputId": "329703c8-3cf1-4561-dfdb-3b90d0cf566f"
   },
   "outputs": [
    {
     "name": "stdout",
     "output_type": "stream",
     "text": [
      "['eylqgodm.ybqkwiam@gmail.com']\n",
      "['john.doe@somecompany.co.uk', 'jane_doe124@gmail.com']\n"
     ]
    }
   ],
   "source": [
    "# There is Email ID in the Description field . we need to saperate this and store in another column \n",
    "#RegEx to find email form the text .. an example below\n",
    "emails = re.findall(r\"[a-z0-9\\.\\-+_]+@[a-z0-9\\.\\-+_]+\\.[a-z]+\", df[\"Description\"][2])\n",
    "print(emails)\n",
    "my_str = \"Hi my name is John and email address is john.doe@somecompany.co.uk and my friend's email is jane_doe124@gmail.com\"\n",
    "emails = re.findall(\"([a-zA-Z0-9_.+-]+@[a-zA-Z0-9-]+\\.[a-zA-Z0-9-.]+)\", my_str)\n",
    "print(emails)\n"
   ]
  },
  {
   "cell_type": "code",
   "execution_count": 324,
   "metadata": {
    "colab": {
     "base_uri": "https://localhost:8080/",
     "height": 239
    },
    "colab_type": "code",
    "id": "BkBjToRrJlPD",
    "outputId": "58f99af6-8c65-4753-c9dc-d492b19ffb82"
   },
   "outputs": [
    {
     "name": "stdout",
     "output_type": "stream",
     "text": [
      "Remove all spaces using RegEx:\n",
      " received from: eylqgodm.ybqkwiam@gmail.com hi i cannot log on to vpn best \n",
      "probleme mit bluescreen .\n",
      "shortcut opening multiple folders    shortcut opening multiple folders\n"
     ]
    }
   ],
   "source": [
    "#RegEx to remove spaces from the text.. an example below\n",
    "t1 = '       Hello  World       From Pankaj \\t\\n\\r\\t \\t /**  Hi There             '\n",
    "print('Remove all spaces using RegEx:\\n', re.sub(r\"\\s+\", \" \", df[\"Description\"][2]), sep='')  # \\s matches all white spaces\n",
    "\n",
    "a = ' '.join([item for item in df[\"Description\"][342].split() if '@' not in item])\n",
    "b = re.sub(r\"received from:\",\"\",a)\n",
    "\n",
    "print(df[\"Short description\"][223])\n",
    "print (a,\"  \",b)\n",
    "#print(df[\"Description\"][223])\n"
   ]
  },
  {
   "cell_type": "code",
   "execution_count": 325,
   "metadata": {
    "colab": {
     "base_uri": "https://localhost:8080/",
     "height": 202
    },
    "colab_type": "code",
    "id": "lbMReq-y652d",
    "outputId": "583a24be-0adc-43f6-da49-7e7a3c0ae2a5"
   },
   "outputs": [
    {
     "data": {
      "text/html": [
       "<div>\n",
       "<style scoped>\n",
       "    .dataframe tbody tr th:only-of-type {\n",
       "        vertical-align: middle;\n",
       "    }\n",
       "\n",
       "    .dataframe tbody tr th {\n",
       "        vertical-align: top;\n",
       "    }\n",
       "\n",
       "    .dataframe thead th {\n",
       "        text-align: right;\n",
       "    }\n",
       "</style>\n",
       "<table border=\"1\" class=\"dataframe\">\n",
       "  <thead>\n",
       "    <tr style=\"text-align: right;\">\n",
       "      <th></th>\n",
       "      <th>Short description</th>\n",
       "      <th>Description</th>\n",
       "      <th>short_desc_lang</th>\n",
       "      <th>short_desc_en</th>\n",
       "      <th>description_lang</th>\n",
       "      <th>description_en</th>\n",
       "      <th>Caller</th>\n",
       "      <th>Assignment group</th>\n",
       "    </tr>\n",
       "  </thead>\n",
       "  <tbody>\n",
       "    <tr>\n",
       "      <th>0</th>\n",
       "      <td>login issue</td>\n",
       "      <td>-verified user details.(employee# &amp; manager na...</td>\n",
       "      <td>en</td>\n",
       "      <td>login issue</td>\n",
       "      <td>en</td>\n",
       "      <td>-verified user details.(employee# &amp; manager na...</td>\n",
       "      <td>spxjnwir pjlcoqds</td>\n",
       "      <td>GRP_0</td>\n",
       "    </tr>\n",
       "    <tr>\n",
       "      <th>1</th>\n",
       "      <td>outlook</td>\n",
       "      <td>\\r\\n\\r\\nreceived from: hmjdrvpb.komuaywn@gmail...</td>\n",
       "      <td>en</td>\n",
       "      <td>outlook</td>\n",
       "      <td>en</td>\n",
       "      <td>\\n\\nreceived from: hmjdrvpb.komuaywn@gmail.com...</td>\n",
       "      <td>hmjdrvpb komuaywn</td>\n",
       "      <td>GRP_0</td>\n",
       "    </tr>\n",
       "    <tr>\n",
       "      <th>2</th>\n",
       "      <td>cant log in to vpn</td>\n",
       "      <td>\\r\\n\\r\\nreceived from: eylqgodm.ybqkwiam@gmail...</td>\n",
       "      <td>en</td>\n",
       "      <td>cant log in to vpn</td>\n",
       "      <td>en</td>\n",
       "      <td>\\n\\nreceived from: eylqgodm.ybqkwiam@gmail.com...</td>\n",
       "      <td>eylqgodm ybqkwiam</td>\n",
       "      <td>GRP_0</td>\n",
       "    </tr>\n",
       "    <tr>\n",
       "      <th>3</th>\n",
       "      <td>unable to access hr_tool page</td>\n",
       "      <td>unable to access hr_tool page</td>\n",
       "      <td>en</td>\n",
       "      <td>unable to access hr_tool page</td>\n",
       "      <td>en</td>\n",
       "      <td>unable to access hr_tool page</td>\n",
       "      <td>xbkucsvz gcpydteq</td>\n",
       "      <td>GRP_0</td>\n",
       "    </tr>\n",
       "    <tr>\n",
       "      <th>4</th>\n",
       "      <td>skype error</td>\n",
       "      <td>skype error</td>\n",
       "      <td>en</td>\n",
       "      <td>skype error</td>\n",
       "      <td>en</td>\n",
       "      <td>skype error</td>\n",
       "      <td>owlgqjme qhcozdfx</td>\n",
       "      <td>GRP_0</td>\n",
       "    </tr>\n",
       "  </tbody>\n",
       "</table>\n",
       "</div>"
      ],
      "text/plain": [
       "               Short description  \\\n",
       "0                    login issue   \n",
       "1                        outlook   \n",
       "2             cant log in to vpn   \n",
       "3  unable to access hr_tool page   \n",
       "4                   skype error    \n",
       "\n",
       "                                         Description short_desc_lang  \\\n",
       "0  -verified user details.(employee# & manager na...              en   \n",
       "1  \\r\\n\\r\\nreceived from: hmjdrvpb.komuaywn@gmail...              en   \n",
       "2  \\r\\n\\r\\nreceived from: eylqgodm.ybqkwiam@gmail...              en   \n",
       "3                      unable to access hr_tool page              en   \n",
       "4                                       skype error               en   \n",
       "\n",
       "                   short_desc_en description_lang  \\\n",
       "0                    login issue               en   \n",
       "1                        outlook               en   \n",
       "2             cant log in to vpn               en   \n",
       "3  unable to access hr_tool page               en   \n",
       "4                    skype error               en   \n",
       "\n",
       "                                      description_en             Caller  \\\n",
       "0  -verified user details.(employee# & manager na...  spxjnwir pjlcoqds   \n",
       "1  \\n\\nreceived from: hmjdrvpb.komuaywn@gmail.com...  hmjdrvpb komuaywn   \n",
       "2  \\n\\nreceived from: eylqgodm.ybqkwiam@gmail.com...  eylqgodm ybqkwiam   \n",
       "3                      unable to access hr_tool page  xbkucsvz gcpydteq   \n",
       "4                                        skype error  owlgqjme qhcozdfx   \n",
       "\n",
       "  Assignment group  \n",
       "0            GRP_0  \n",
       "1            GRP_0  \n",
       "2            GRP_0  \n",
       "3            GRP_0  \n",
       "4            GRP_0  "
      ]
     },
     "execution_count": 325,
     "metadata": {},
     "output_type": "execute_result"
    }
   ],
   "source": [
    "df.head(5)"
   ]
  },
  {
   "cell_type": "code",
   "execution_count": 326,
   "metadata": {},
   "outputs": [
    {
     "name": "stdout",
     "output_type": "stream",
     "text": [
      "Int64Index([2604, 3383, 3906, 3910, 3915, 3921, 3924, 4341], dtype='int64')\n"
     ]
    }
   ],
   "source": [
    "#Find and impute Null values from Short description \n",
    "short_null = df[pd.isnull(df[\"Short description\"]) == True].index\n",
    "print(short_null)"
   ]
  },
  {
   "cell_type": "code",
   "execution_count": 327,
   "metadata": {},
   "outputs": [
    {
     "name": "stdout",
     "output_type": "stream",
     "text": [
      "                                            Description Assignment group\n",
      "2604  \\r\\n\\r\\nreceived from: ohdrnswl.rezuibdt@gmail...           GRP_34\n",
      "3383  \\r\\n-connected to the user system using teamvi...            GRP_0\n",
      "3906  -user unable  tologin to vpn.\\r\\n-connected to...            GRP_0\n",
      "3910  -user unable  tologin to vpn.\\r\\n-connected to...            GRP_0\n",
      "3915  -user unable  tologin to vpn.\\r\\n-connected to...            GRP_0\n",
      "3921  -user unable  tologin to vpn.\\r\\n-connected to...            GRP_0\n",
      "3924  name:wvqgbdhm fwchqjor\\nlanguage:\\nbrowser:mic...            GRP_0\n",
      "4341  \\r\\n\\r\\nreceived from: eqmuniov.ehxkcbgj@gmail...            GRP_0\n"
     ]
    }
   ],
   "source": [
    "print(str(df[pd.isnull(df[\"Short description\"]) == True][[\"Description\",\"Assignment group\"]]))"
   ]
  },
  {
   "cell_type": "code",
   "execution_count": 328,
   "metadata": {},
   "outputs": [
    {
     "name": "stdout",
     "output_type": "stream",
     "text": [
      "2604 - GRP_34  -  received from: ohdrnswl.rezuibdt@gmail.com hi, link is not working. kindly resolve yhe issue on urgent basis. best \n",
      "\n",
      "3383 - GRP_0  -  -connected to the user system using teamviewer. -help the user login to the portal. -issue resolved. \n",
      "\n",
      "3906 - GRP_0  -  -user unable tologin to vpn. -connected to the user system using teamviewer. -help the user login to the company vpn using the vpn company vpn link. -issue resolved. \n",
      "\n",
      "3910 - GRP_0  -  -user unable tologin to vpn. -connected to the user system using teamviewer. -help the user login to the company vpn using the vpn company vpn link. -issue resolved. \n",
      "\n",
      "3915 - GRP_0  -  -user unable tologin to vpn. -connected to the user system using teamviewer. -help the user login to the company vpn using the vpn company vpn link. -issue resolved. \n",
      "\n",
      "3921 - GRP_0  -  -user unable tologin to vpn. -connected to the user system using teamviewer. -help the user login to the company vpn using the vpn company vpn link. -issue resolved. \n",
      "\n",
      "3924 - GRP_0  -  name:wvqgbdhm fwchqjor language: browser:microsoft internet explorer email:wvqgbdhm.fwchqjor@gmail.com customer number: telephone:-not available summary:can't get into vpn - need to be on at 4:30 est and it wont' happen please help aerp! \n",
      "\n",
      "4341 - GRP_0  -  received from: eqmuniov.ehxkcbgj@gmail.com good morning, when trying to log on to erp i get this error below. please help urgently as i can not process customer order. [cid:image001.png@01d20f2e.751db880] \n",
      "\n"
     ]
    }
   ],
   "source": [
    "for i in short_null:\n",
    "    print(i,\"-\",df[\"Assignment group\"][i],\" - \", \" \".join(df[\"Description\"][i].split()),\"\\n\")"
   ]
  },
  {
   "cell_type": "markdown",
   "metadata": {},
   "source": [
    "*Seems like the most of the above examples are tickets created by agents themselves and self assigned. We dont need to classify them and hence, can delete them from the training records.*\n",
    "\n",
    "*-Later in the code lets mark them as 'mark_for_delete'*"
   ]
  },
  {
   "cell_type": "code",
   "execution_count": 329,
   "metadata": {},
   "outputs": [],
   "source": [
    "#Impute Null values of short description with the column 'Description'\n",
    "for i in df[pd.isnull(df[\"Short description\"]) == True].index :\n",
    "  df.loc[i,\"Short description\"] = df[\"Description\"][i]\n",
    "  df.loc[i,\"short_desc_lang\"] = df[\"description_lang\"][i]\n",
    "  df.loc[i,\"short_desc_en\"] = df[\"description_en\"][i]"
   ]
  },
  {
   "cell_type": "code",
   "execution_count": 330,
   "metadata": {},
   "outputs": [
    {
     "data": {
      "text/plain": [
       "Int64Index([4395], dtype='int64')"
      ]
     },
     "execution_count": 330,
     "metadata": {},
     "output_type": "execute_result"
    }
   ],
   "source": [
    "# Find Null values in the field \"Description\"\n",
    "df[pd.isnull(df[\"Description\"]) == True].index"
   ]
  },
  {
   "cell_type": "code",
   "execution_count": 331,
   "metadata": {},
   "outputs": [],
   "source": [
    "# Impute Null values with \"Short Description \"\n",
    "for i in df[pd.isnull(df[\"Description\"]) == True].index :\n",
    "  df[\"Description\"][i] = df[\"Short description\"][i]\n",
    "  df[\"description_lang\"][i] = df[\"short_desc_lang\"][i]\n",
    "  df[\"description_en\"][i] = df[\"short_desc_en\"][i]"
   ]
  },
  {
   "cell_type": "code",
   "execution_count": 332,
   "metadata": {},
   "outputs": [],
   "source": [
    "for i in df[pd.isnull(df[\"description_lang\"]) == True].index :\n",
    "  df[\"Description\"][i] = df[\"Short description\"][i]\n",
    "  df[\"description_lang\"][i] = df[\"short_desc_lang\"][i]\n",
    "  df[\"description_en\"][i] = df[\"short_desc_en\"][i]"
   ]
  },
  {
   "cell_type": "code",
   "execution_count": 333,
   "metadata": {
    "colab": {
     "base_uri": "https://localhost:8080/",
     "height": 102
    },
    "colab_type": "code",
    "id": "HgdRkio-750W",
    "outputId": "1e9adbee-1c3a-44c6-cc68-efe38ac5d00d"
   },
   "outputs": [
    {
     "data": {
      "text/plain": [
       "Short description    8500\n",
       "Description          8500\n",
       "short_desc_lang      8500\n",
       "short_desc_en        8500\n",
       "description_lang     8500\n",
       "description_en       8500\n",
       "Caller               8500\n",
       "Assignment group     8500\n",
       "dtype: int64"
      ]
     },
     "execution_count": 333,
     "metadata": {},
     "output_type": "execute_result"
    }
   ],
   "source": [
    "df.count()"
   ]
  },
  {
   "cell_type": "code",
   "execution_count": 334,
   "metadata": {},
   "outputs": [],
   "source": [
    "# Remove the caller names form the description. This can be done by adding the users list to the stop words\n",
    "users = list(df[\"Caller\"])\n",
    "users = np.hstack(np.unique(users))\n",
    "stop_words1 = list(stop_words) + list(users)"
   ]
  },
  {
   "cell_type": "code",
   "execution_count": 335,
   "metadata": {
    "colab": {
     "base_uri": "https://localhost:8080/",
     "height": 376
    },
    "colab_type": "code",
    "id": "E9EFXVBV8OJQ",
    "outputId": "5264f8da-9e6f-4c83-b0e7-9a9b9b16d057"
   },
   "outputs": [
    {
     "name": "stderr",
     "output_type": "stream",
     "text": [
      "100%|██████████| 8500/8500 [01:20<00:00, 105.22it/s]\n"
     ]
    }
   ],
   "source": [
    "#df[\"short_desc_lang\"] = \"\"\n",
    "#df[\"short_desc_en\"] = \"\"\n",
    "#df[\"description_lang\"]=\"\"\n",
    "#df[\"description_en\"] = \"\"\n",
    "df[\"emails\"] = \"\"\n",
    "df[\"email_type\"]=\"\"\n",
    "df[\"short_desc_spl\"] = \"\"\n",
    "df[\"description_spl\"] = \"\"\n",
    "df[\"short_desc_len\"] = \"\"\n",
    "df[\"description_len\"] = \"\"\n",
    "df[\"no_of_splch_removed1\"]=\"\"\n",
    "df[\"no_of_splch_removed1_pct\"]=\"\"\n",
    "df[\"no_of_splch_removed2\"]=\"\"\n",
    "df[\"no_of_splch_removed2_pct\"]=\"\"\n",
    "df[\"short_desc_en_spl\"] = \"\"\n",
    "df[\"description_en_spl\"] = \"\"\n",
    "df[\"short_desc_en_len\"] = \"\"\n",
    "df[\"description_en_len\"] = \"\"\n",
    "df[\"trimmed_words\"] = \"\"\n",
    "df[\"trimmed_words_len\"] = \"\"\n",
    "df[\"trimmed_words_short\"] = \"\"\n",
    "df[\"trimmed_words_long\"] = \"\"\n",
    "df[\"mark_for_delete\"]=0\n",
    "\n",
    "x = 0\n",
    "\n",
    "for i in tqdm(range(len(df))):  \n",
    "  short_desc = str(df[\"Short description\"][i]).encode('ascii','ignore').decode()\n",
    "  df.loc[i,\"no_of_splch_removed1\"] = len(df[\"Short description\"][i]) - len(str(df[\"Short description\"][i]).encode('ascii','ignore').decode())\n",
    "  df.loc[i,\"no_of_splch_removed1_pct\"] = np.round((df.loc[i,\"no_of_splch_removed1\"]*100 / len(df[\"Short description\"][i])),1)\n",
    "  desc = str(df[\"Description\"][i]).encode('ascii','ignore').decode()\n",
    "  df.loc[i,\"no_of_splch_removed2\"] = len(df[\"Description\"][i]) - len(str(df[\"Description\"][i]).encode('ascii','ignore').decode())\n",
    "  df.loc[i,\"no_of_splch_removed2_pct\"] = np.round((df.loc[i,\"no_of_splch_removed2\"]*100 / len(df[\"Description\"][i])),1)\n",
    "    \n",
    "  # The below Funtion is to transilate the sentances to English but this free API has miliation. Hence not used. \n",
    "  # We used the pre transilated input data (using Googl sheet)\n",
    "  #if b == \"en\" :\n",
    "  #      trn = Translator().translate(short_desc, dest = \"en\", src = \"auto\")\n",
    "  #      short_desc_en = trn.text \n",
    "  #      trn1 = Translator().translate(desc, dest = \"en\", src = \"auto\")\n",
    "  #      Description_en = trn1.text\n",
    "  #else :\n",
    "  \n",
    "  #The below function is to remove Junk Characters from text \n",
    "  short_desc_en = str(df[\"short_desc_en\"][i]).encode('ascii','ignore').decode()\n",
    "  Description_en =str(df[\"description_en\"][i]).encode('ascii','ignore').decode()\n",
    "  \n",
    "  # Finding the first Email Address from the 'Description' column. \n",
    "  if(len(re.findall(r\"[a-z0-9\\.\\-+_]+@[a-z0-9\\.\\-+_]+\\.[a-z]+\", df[\"Description\"][i]))) > 0:\n",
    "      df.loc[i,\"emails\"] = re.findall(r\"[a-z0-9\\.\\-+_]+@[a-z0-9\\.\\-+_]+\\.[a-z]+\", df[\"Description\"][i])[0]\n",
    "    #df[\"emails\"][i] = re.findall(r\"[a-z0-9\\.\\-+_]+@[a-z0-9\\.\\-+_]+\\.[a-z]+\", df[\"Description\"][i])\n",
    "  \n",
    "  #Removing the Email ID from the short description ------------------------------------\n",
    "  fltr_txt = ' '.join([item for item in short_desc.split() if '@' not in item])\n",
    "  fltr_txt = re.sub(r\"received from:\",\"\",fltr_txt)\n",
    "  alpha = \"\"\n",
    "  for char in fltr_txt:\n",
    "    if char.isspace():\n",
    "      alpha+= \" \"\n",
    "    if char.isalnum():\n",
    "      alpha+= char.lower()\n",
    "  df.loc[i,\"short_desc_spl\"] = str(\" \".join(alpha.split()))\n",
    "  df.loc[i,\"short_desc_len\"] = len(alpha.split()) \n",
    "  #df.loc[i,\"no_splch_removed\"] = len(fltr_txt)-len(alpha.split())  \n",
    "  #Removing the Email ID from the Description-------------------------------------------------\n",
    "  fltr_txt1 = ' '.join([item for item in desc.split() if '@' not in item])\n",
    "  fltr_txt1 = re.sub(r\"received from:\",\"\",fltr_txt1)\n",
    "  alpha1 = \"\"\n",
    "  for char in fltr_txt1:\n",
    "    if char.isspace():\n",
    "      alpha1+= \" \"\n",
    "    if char.isalnum():\n",
    "      alpha1+= char.lower()\n",
    "  df.loc[i,\"description_spl\"] = str(\" \".join(alpha1.split()))\n",
    "  df.loc[i,\"description_len\"] = len(alpha1.split())  \n",
    "  #----------------------------   \n",
    "  fltr_txt = ' '.join([item for item in short_desc_en.split() if '@' not in item])\n",
    "  fltr_txt = re.sub(r\"received from:\",\"\",fltr_txt)\n",
    "  alpha = \"\"\n",
    "  for char in fltr_txt:\n",
    "    if char.isspace():\n",
    "      alpha+= \" \"\n",
    "    if char.isalnum():\n",
    "      alpha+= char.lower()\n",
    "  df.loc[i,\"short_desc_en_spl\"] = str(\" \".join(alpha.split()))\n",
    "  df.loc[i,\"short_desc_en_len\"] = len(alpha.split()) \n",
    "  #---------------------------------\n",
    "  fltr_txt1 = ' '.join([item for item in Description_en.split() if '@' not in item])\n",
    "  fltr_txt1 = re.sub(r\"received from:\",\"\",fltr_txt1)\n",
    "  alpha1 = \"\"\n",
    "  for char in fltr_txt1:\n",
    "    if char.isspace():\n",
    "      alpha1+= \" \"\n",
    "    if char.isalnum():\n",
    "      alpha1+= char.lower()\n",
    "  df.loc[i,\"description_en_spl\"] = str(\" \".join(alpha1.split())) \n",
    "  df.loc[i,\"description_en_len\"] = len(alpha1.split())\n",
    "  \n",
    "  #--------------------------------------  \n",
    "  # Final Text after stop word removal and combining both short and long description\n",
    "  \n",
    "  df.loc[i,\"trimmed_words_short\"] = \" \".join([item for item in df[\"short_desc_en_spl\"][i].split() if item not in stop_words1])\n",
    "  df.loc[i,\"trimmed_words_long\"] = \" \".join([item for item in df[\"description_en_spl\"][i].split() if item not in stop_words1])\n",
    "\n",
    "  if df[\"short_desc_en_spl\"][i] == df[\"description_en_spl\"][i] : \n",
    "    df.loc[i,\"trimmed_words\"] = \" \".join([item for item in df[\"short_desc_en_spl\"][i].split() if item not in stop_words1])\n",
    "  else :\n",
    "    df.loc[i,\"trimmed_words\"] = \" \".join([item for item in df[\"short_desc_en_spl\"][i].split() if item not in stop_words1])+\" \"+\" \".join([item for item in df[\"description_en_spl\"][i].split() if item not in stop_words1])\n",
    "  #Mark records with lot of junk characters for  delete -----------------------------------------------\n",
    "  df.loc[i,\"trimmed_words_len\"] = len(df[\"trimmed_words\"][i].split())\n",
    "  if df[\"trimmed_words_len\"][i] <= 1:\n",
    "    df.loc[i,\"mark_for_delete\"]= 1\n",
    "  if df[\"no_of_splch_removed1_pct\"][i]>50: # sentances with more than 50% junk\n",
    "    df.loc[i,\"mark_for_delete\"]= 1\n",
    "  if i in short_null :\n",
    "    df.loc[i,\"mark_for_delete\"]= 1\n"
   ]
  },
  {
   "cell_type": "code",
   "execution_count": 336,
   "metadata": {},
   "outputs": [
    {
     "data": {
      "text/plain": [
       "'engineering tool says connected unable submit reports'"
      ]
     },
     "execution_count": 336,
     "metadata": {},
     "output_type": "execute_result"
    }
   ],
   "source": [
    "df[\"trimmed_words\"][10]"
   ]
  },
  {
   "cell_type": "code",
   "execution_count": 337,
   "metadata": {},
   "outputs": [],
   "source": [
    "#Word Tokenizer\n",
    "numword = 2000\n",
    "t = Tokenizer(num_words=numword)\n",
    "t.fit_on_texts((df[\"short_desc_en_spl\"]))\n",
    "t1 = Tokenizer(num_words=numword)\n",
    "t1.fit_on_texts((df[\"description_en_spl\"]))\n"
   ]
  },
  {
   "cell_type": "code",
   "execution_count": 338,
   "metadata": {},
   "outputs": [
    {
     "name": "stderr",
     "output_type": "stream",
     "text": [
      "100%|██████████| 8475/8475 [00:04<00:00, 1958.26it/s]\n",
      "100%|██████████| 20446/20446 [00:04<00:00, 4390.14it/s]\n"
     ]
    }
   ],
   "source": [
    "#build a word Corpus\n",
    "short_desc_words = pd.DataFrame()\n",
    "short_desc_words[\"word_index\"] = \"\"\n",
    "short_desc_words[\"word\"] = \"\"\n",
    "short_desc_words[\"word_count\"] = \"\"\n",
    "\n",
    "desc_words = pd.DataFrame()\n",
    "desc_words[\"word_index\"] = \"\"\n",
    "desc_words[\"word\"] = \"\"\n",
    "desc_words[\"word_count\"] = \"\"\n",
    "\n",
    "\n",
    "i = 0\n",
    "for word in tqdm(t.word_index):\n",
    "    if not word in stop_words1:\n",
    "        if i<= 1500 :\n",
    "            new_row = {'word_index':t.word_index[word], 'word':word, 'word_count':t.word_counts[word]}\n",
    "            short_desc_words = short_desc_words.append(new_row, ignore_index=True)\n",
    "            i = i+1\n",
    "\n",
    "        \n",
    "i = 0\n",
    "for word in tqdm(t1.word_index):\n",
    "    if not word in stop_words1:\n",
    "        if i<= 1500 :\n",
    "            new_row = {'word_index':t1.word_index[word], 'word':word, 'word_count':t1.word_counts[word]}\n",
    "            desc_words = desc_words.append(new_row, ignore_index=True)\n",
    "            i = i+1\n"
   ]
  },
  {
   "cell_type": "code",
   "execution_count": 339,
   "metadata": {},
   "outputs": [
    {
     "data": {
      "text/html": [
       "<div>\n",
       "<style scoped>\n",
       "    .dataframe tbody tr th:only-of-type {\n",
       "        vertical-align: middle;\n",
       "    }\n",
       "\n",
       "    .dataframe tbody tr th {\n",
       "        vertical-align: top;\n",
       "    }\n",
       "\n",
       "    .dataframe thead th {\n",
       "        text-align: right;\n",
       "    }\n",
       "</style>\n",
       "<table border=\"1\" class=\"dataframe\">\n",
       "  <thead>\n",
       "    <tr style=\"text-align: right;\">\n",
       "      <th></th>\n",
       "      <th>word_index</th>\n",
       "      <th>word</th>\n",
       "      <th>word_count</th>\n",
       "    </tr>\n",
       "  </thead>\n",
       "  <tbody>\n",
       "    <tr>\n",
       "      <th>0</th>\n",
       "      <td>5</td>\n",
       "      <td>job</td>\n",
       "      <td>978</td>\n",
       "    </tr>\n",
       "    <tr>\n",
       "      <th>1</th>\n",
       "      <td>7</td>\n",
       "      <td>jobscheduler</td>\n",
       "      <td>959</td>\n",
       "    </tr>\n",
       "    <tr>\n",
       "      <th>2</th>\n",
       "      <td>9</td>\n",
       "      <td>password</td>\n",
       "      <td>889</td>\n",
       "    </tr>\n",
       "    <tr>\n",
       "      <th>3</th>\n",
       "      <td>10</td>\n",
       "      <td>erp</td>\n",
       "      <td>854</td>\n",
       "    </tr>\n",
       "    <tr>\n",
       "      <th>4</th>\n",
       "      <td>11</td>\n",
       "      <td>failed</td>\n",
       "      <td>829</td>\n",
       "    </tr>\n",
       "    <tr>\n",
       "      <th>...</th>\n",
       "      <td>...</td>\n",
       "      <td>...</td>\n",
       "      <td>...</td>\n",
       "    </tr>\n",
       "    <tr>\n",
       "      <th>1496</th>\n",
       "      <td>1603</td>\n",
       "      <td>plug</td>\n",
       "      <td>3</td>\n",
       "    </tr>\n",
       "    <tr>\n",
       "      <th>1497</th>\n",
       "      <td>1604</td>\n",
       "      <td>previous</td>\n",
       "      <td>3</td>\n",
       "    </tr>\n",
       "    <tr>\n",
       "      <th>1498</th>\n",
       "      <td>1605</td>\n",
       "      <td>dns</td>\n",
       "      <td>3</td>\n",
       "    </tr>\n",
       "    <tr>\n",
       "      <th>1499</th>\n",
       "      <td>1606</td>\n",
       "      <td>hardcopy</td>\n",
       "      <td>3</td>\n",
       "    </tr>\n",
       "    <tr>\n",
       "      <th>1500</th>\n",
       "      <td>1607</td>\n",
       "      <td>lndypaqg</td>\n",
       "      <td>3</td>\n",
       "    </tr>\n",
       "  </tbody>\n",
       "</table>\n",
       "<p>1501 rows × 3 columns</p>\n",
       "</div>"
      ],
      "text/plain": [
       "     word_index          word word_count\n",
       "0             5           job        978\n",
       "1             7  jobscheduler        959\n",
       "2             9      password        889\n",
       "3            10           erp        854\n",
       "4            11        failed        829\n",
       "...         ...           ...        ...\n",
       "1496       1603          plug          3\n",
       "1497       1604      previous          3\n",
       "1498       1605           dns          3\n",
       "1499       1606      hardcopy          3\n",
       "1500       1607      lndypaqg          3\n",
       "\n",
       "[1501 rows x 3 columns]"
      ]
     },
     "execution_count": 339,
     "metadata": {},
     "output_type": "execute_result"
    }
   ],
   "source": [
    "short_desc_words"
   ]
  },
  {
   "cell_type": "code",
   "execution_count": 340,
   "metadata": {},
   "outputs": [
    {
     "data": {
      "text/html": [
       "<div>\n",
       "<style scoped>\n",
       "    .dataframe tbody tr th:only-of-type {\n",
       "        vertical-align: middle;\n",
       "    }\n",
       "\n",
       "    .dataframe tbody tr th {\n",
       "        vertical-align: top;\n",
       "    }\n",
       "\n",
       "    .dataframe thead th {\n",
       "        text-align: right;\n",
       "    }\n",
       "</style>\n",
       "<table border=\"1\" class=\"dataframe\">\n",
       "  <thead>\n",
       "    <tr style=\"text-align: right;\">\n",
       "      <th></th>\n",
       "      <th>word_index</th>\n",
       "      <th>word</th>\n",
       "      <th>word_count</th>\n",
       "    </tr>\n",
       "  </thead>\n",
       "  <tbody>\n",
       "    <tr>\n",
       "      <th>0</th>\n",
       "      <td>9</td>\n",
       "      <td>please</td>\n",
       "      <td>2074</td>\n",
       "    </tr>\n",
       "    <tr>\n",
       "      <th>1</th>\n",
       "      <td>14</td>\n",
       "      <td>yesnona</td>\n",
       "      <td>1568</td>\n",
       "    </tr>\n",
       "    <tr>\n",
       "      <th>2</th>\n",
       "      <td>17</td>\n",
       "      <td>password</td>\n",
       "      <td>1205</td>\n",
       "    </tr>\n",
       "    <tr>\n",
       "      <th>3</th>\n",
       "      <td>20</td>\n",
       "      <td>user</td>\n",
       "      <td>1161</td>\n",
       "    </tr>\n",
       "    <tr>\n",
       "      <th>4</th>\n",
       "      <td>21</td>\n",
       "      <td>erp</td>\n",
       "      <td>1145</td>\n",
       "    </tr>\n",
       "    <tr>\n",
       "      <th>...</th>\n",
       "      <td>...</td>\n",
       "      <td>...</td>\n",
       "      <td>...</td>\n",
       "    </tr>\n",
       "    <tr>\n",
       "      <th>1496</th>\n",
       "      <td>1613</td>\n",
       "      <td>second</td>\n",
       "      <td>13</td>\n",
       "    </tr>\n",
       "    <tr>\n",
       "      <th>1497</th>\n",
       "      <td>1614</td>\n",
       "      <td>ph</td>\n",
       "      <td>13</td>\n",
       "    </tr>\n",
       "    <tr>\n",
       "      <th>1498</th>\n",
       "      <td>1615</td>\n",
       "      <td>sometimes</td>\n",
       "      <td>13</td>\n",
       "    </tr>\n",
       "    <tr>\n",
       "      <th>1499</th>\n",
       "      <td>1616</td>\n",
       "      <td>across</td>\n",
       "      <td>13</td>\n",
       "    </tr>\n",
       "    <tr>\n",
       "      <th>1500</th>\n",
       "      <td>1617</td>\n",
       "      <td>16</td>\n",
       "      <td>13</td>\n",
       "    </tr>\n",
       "  </tbody>\n",
       "</table>\n",
       "<p>1501 rows × 3 columns</p>\n",
       "</div>"
      ],
      "text/plain": [
       "     word_index       word word_count\n",
       "0             9     please       2074\n",
       "1            14    yesnona       1568\n",
       "2            17   password       1205\n",
       "3            20       user       1161\n",
       "4            21        erp       1145\n",
       "...         ...        ...        ...\n",
       "1496       1613     second         13\n",
       "1497       1614         ph         13\n",
       "1498       1615  sometimes         13\n",
       "1499       1616     across         13\n",
       "1500       1617         16         13\n",
       "\n",
       "[1501 rows x 3 columns]"
      ]
     },
     "execution_count": 340,
     "metadata": {},
     "output_type": "execute_result"
    }
   ],
   "source": [
    "desc_words"
   ]
  },
  {
   "cell_type": "code",
   "execution_count": 341,
   "metadata": {},
   "outputs": [],
   "source": [
    "short_desc_words.to_csv(\"short_desc_words.csv\")\n",
    "desc_words.to_csv(\"desc_words.csv\")"
   ]
  },
  {
   "cell_type": "code",
   "execution_count": 342,
   "metadata": {},
   "outputs": [],
   "source": [
    "df[\"flg_account_related\"]=0\n",
    "df[\"flg_crm\"]=0\n",
    "df[\"flg_engineering\"]=0\n",
    "df[\"flg_erp\"]=0\n",
    "df[\"flg_failed\"]=0\n",
    "df[\"flg_help\"]=0\n",
    "df[\"flg_install\"]=0\n",
    "df[\"flg_job\"]=0\n",
    "df[\"flg_laptop\"]=0\n",
    "df[\"flg_mobile\"]=0\n",
    "df[\"flg_network\"]=0\n",
    "df[\"flg_outlook\"]=0\n",
    "df[\"flg_printer\"]=0\n",
    "df[\"flg_skype\"]=0\n",
    "df[\"flg_ticket_update\"]=0\n",
    "df[\"flg_vpn\"]=0\n",
    "df[\"flg_windows\"]=0\n",
    "df[\"host_related\"]=0\n",
    "#df[\"mobile\"]=0\n",
    "df[\"blank_call\"]=0\n",
    "df[\"setup_ws\"]=0"
   ]
  },
  {
   "cell_type": "code",
   "execution_count": 343,
   "metadata": {},
   "outputs": [
    {
     "name": "stderr",
     "output_type": "stream",
     "text": [
      "100%|██████████| 8500/8500 [00:15<00:00, 536.11it/s]\n"
     ]
    }
   ],
   "source": [
    "\n",
    "for i in tqdm(range(len(df))):\n",
    "#---------------------------------------------------------------------\n",
    "    if df[\"emails\"][i].find(\"gmail\") >= 0:\n",
    "        df.loc[i,\"email_type\"] = \"gmail\"\n",
    "    elif df[\"emails\"][i].find(\"monitoring_tool@\") >=0:\n",
    "        df.loc[i,\"email_type\"] = \"monitoring_tool\"\n",
    "    elif df[\"emails\"][i].find(\"company\") >=0:\n",
    "        df.loc[i,\"email_type\"] = \"company\"\n",
    "    elif df.loc[i,\"email_type\"] = \"others\":\n",
    "        \n",
    "    \n",
    "    if df[\"trimmed_words\"][i].find(\"access\") >= 0 :\n",
    "        df.loc[i,\"flg_account_related\"] = 1\n",
    "    if df[\"trimmed_words\"][i].find(\"account\") >= 0 :\n",
    "        df.loc[i,\"flg_account_related\"] = 1\n",
    "    if df[\"trimmed_words\"][i].find(\"locked\") >= 0 :\n",
    "        df.loc[i,\"flg_account_related\"] = 1\n",
    "    if df[\"trimmed_words\"][i].find(\"login\") >= 0 :\n",
    "        df.loc[i,\"flg_account_related\"] = 1\n",
    "    if df[\"trimmed_words\"][i].find(\"logon\") >= 0 :\n",
    "        df.loc[i,\"flg_account_related\"] = 1\n",
    "    if df[\"trimmed_words\"][i].find(\"password\") >= 0 :\n",
    "        df.loc[i,\"flg_account_related\"] = 1\n",
    "    if df[\"trimmed_words\"][i].find(\"passwordmanagementtool\") >= 0 :\n",
    "        df.loc[i,\"flg_account_related\"] = 1\n",
    "    if df[\"trimmed_words\"][i].find(\"passwords\") >= 0 :\n",
    "        df.loc[i,\"flg_account_related\"] = 1\n",
    "    if df[\"trimmed_words\"][i].find(\"reset\") >= 0 :\n",
    "        df.loc[i,\"flg_account_related\"] = 1\n",
    "    if df[\"trimmed_words\"][i].find(\"tologin\") >= 0 :\n",
    "        df.loc[i,\"flg_account_related\"] = 1\n",
    "    if df[\"trimmed_words\"][i].find(\"unlock\") >= 0 :\n",
    "        df.loc[i,\"flg_account_related\"] = 1\n",
    "    if df[\"trimmed_words\"][i].find(\"user\") >= 0 :\n",
    "        df.loc[i,\"flg_account_related\"] = 1\n",
    "#---------------------------------------------------------------------    \n",
    "    if df[\"trimmed_words\"][i].find(\"circuit\") >= 0 :\n",
    "        df.loc[i,\"flg_network\"] = 1\n",
    "    if df[\"trimmed_words\"][i].find(\"connection\") >= 0 :\n",
    "        df.loc[i,\"flg_network\"] = 1\n",
    "    if df[\"trimmed_words\"][i].find(\"network\") >= 0 :\n",
    "        df.loc[i,\"flg_network\"] = 1\n",
    "    if df[\"trimmed_words\"][i].find(\"outage\") >= 0 :\n",
    "        df.loc[i,\"flg_network\"] = 1\n",
    "    if df[\"trimmed_words\"][i].find(\"server\") >= 0 :\n",
    "        df.loc[i,\"flg_network\"] = 1\n",
    "#---------------------------------------------------------------------    \n",
    "    if df[\"trimmed_words\"][i].find(\"vpn\") >= 0 :\n",
    "        df.loc[i,\"flg_vpn\"] = 1\n",
    "    if df[\"trimmed_words\"][i].find(\"vpncompanycom\") >= 0 :\n",
    "        df.loc[i,\"flg_vpn\"] = 1\n",
    "#---------------------------------------------------------------------    \n",
    "    if df[\"trimmed_words\"][i].find(\"computer\") >= 0 :\n",
    "        df.loc[i,\"flg_laptop\"] = 1\n",
    "#---------------------------------------------------------------------    \n",
    "    if df[\"trimmed_words\"][i].find(\"crm\") >= 0 :\n",
    "        df.loc[i,\"flg_crm\"] = 1\n",
    "#---------------------------------------------------------------------    \n",
    "    if df[\"trimmed_words\"][i].find(\"email\") >= 0 :\n",
    "        df.loc[i,\"flg_outlook\"] = 1\n",
    "    if df[\"trimmed_words\"][i].find(\"emails\") >= 0 :\n",
    "        df.loc[i,\"flg_outlook\"] = 1\n",
    "#---------------------------------------------------------------------    \n",
    "    if df[\"trimmed_words\"][i].find(\"outlook\") >= 0 :\n",
    "        df.loc[i,\"flg_outlook\"] = 1\n",
    "#---------------------------------------------------------------------    \n",
    "    if df[\"trimmed_words\"][i].find(\"error\") >= 0 :\n",
    "        df.loc[i,\"flg_failed\"] = 1\n",
    "    if df[\"trimmed_words\"][i].find(\"failed\") >= 0 :\n",
    "        df.loc[i,\"flg_failed\"] = 1\n",
    "    if df[\"trimmed_words\"][i].find(\"issue\") >= 0 :\n",
    "        df.loc[i,\"flg_failed\"] = 1\n",
    "#---------------------------------------------------------------------    \n",
    "    if df[\"trimmed_words\"][i].find(\"engineering\") >= 0 :\n",
    "        df.loc[i,\"flg_engineering\"] = 1\n",
    "    if df[\"trimmed_words\"][i].find(\"engineeringtool\") >= 0 :\n",
    "        df.loc[i,\"flg_engineering\"] = 1\n",
    "#---------------------------------------------------------------------    \n",
    "    if df[\"trimmed_words\"][i].find(\"erp\") >= 0 :\n",
    "        df.loc[i,\"flg_erp\"] = 1\n",
    "#---------------------------------------------------------------------    \n",
    "    if df[\"trimmed_words\"][i].find(\"help\") >= 0 :\n",
    "        df.loc[i,\"flg_help\"] = 1\n",
    "#---------------------------------------------------------------------    \n",
    "    if df[\"trimmed_words\"][i].find(\"install\") >= 0 :\n",
    "        df.loc[i,\"flg_install\"] = 1\n",
    "#---------------------------------------------------------------------    \n",
    "    if df[\"trimmed_words\"][i].find(\"job\") >= 0 :\n",
    "        df.loc[i,\"flg_job\"] = 1\n",
    "    if df[\"trimmed_words\"][i].find(\"jobscheduler\") >= 0 :\n",
    "        df.loc[i,\"flg_job\"] = 1\n",
    "#---------------------------------------------------------------------    \n",
    "    if df[\"trimmed_words\"][i].find(\"laptop\") >= 0 :\n",
    "        df.loc[i,\"flg_laptop\"] = 1\n",
    "    if df[\"trimmed_words\"][i].find(\"pc\") >= 0 :\n",
    "        df.loc[i,\"flg_laptop\"] = 1    \n",
    "#---------------------------------------------------------------------    \n",
    "    if df[\"trimmed_words\"][i].find(\"phone\") >= 0 :\n",
    "        df.loc[i,\"flg_mobile\"] = 1\n",
    "    if df[\"trimmed_words\"][i].find(\"telephonysoftware\") >= 0 :\n",
    "        df.loc[i,\"flg_mobile\"] = 1\n",
    "    if df[\"trimmed_words\"][i].find(\"mobile\") >= 0 :\n",
    "        df.loc[i,\"flg_mobile\"] = 1\n",
    "#---------------------------------------------------------------------    \n",
    "    if df[\"trimmed_words\"][i].find(\"print\") >= 0 :\n",
    "        df.loc[i,\"flg_printer\"] = 1\n",
    "    if df[\"trimmed_words\"][i].find(\"printer\") >= 0 :\n",
    "        df.loc[i,\"flg_printer\"] = 1\n",
    "#---------------------------------------------------------------------    \n",
    "    if df[\"trimmed_words\"][i].find(\"skype\") >= 0 :\n",
    "        df.loc[i,\"flg_skype\"] = 1\n",
    "#---------------------------------------------------------------------    \n",
    "    if df[\"trimmed_words\"][i].find(\"problems\") >= 0 :\n",
    "        df.loc[i,\"flg_failed\"] = 1\n",
    "    if df[\"trimmed_words\"][i].find(\"unable\") >= 0 :\n",
    "        df.loc[i,\"flg_failed\"] = 1\n",
    "#---------------------------------------------------------------------    \n",
    "    if df[\"trimmed_words\"][i].find(\"ticket\") >= 0 :\n",
    "        df.loc[i,\"flg_ticket_update\"] = 1\n",
    "    if df[\"trimmed_words\"][i].find(\"update\") >= 0 :\n",
    "        df.loc[i,\"flg_ticket_update\"] = 1\n",
    "#---------------------------------------------------------------------    \n",
    "    if df[\"trimmed_words\"][i].find(\"windows\") >= 0 :\n",
    "        df.loc[i,\"flg_windows\"] = 1\n",
    "#---------------------------------------------------------------------    \n",
    "    if df[\"trimmed_words\"][i].find(\"hostname\") >= 0 :\n",
    "        df.loc[i,\"host_related\"] = 1\n",
    "#---------------------------------------------------------------------    \n",
    "   \n",
    "#---------------------------------------------------------------------    \n",
    "    if df[\"trimmed_words\"][i].find(\"blank call\") >= 0 :\n",
    "        df.loc[i,\"blank_call\"] = 1\n",
    "#---------------------------------------------------------------------    \n",
    "    if df[\"trimmed_words\"][i].find(\"setup new ws\") >= 0 :\n",
    "        df.loc[i,\"setup_ws\"] = 1\n",
    "#---------------------------------------------------------------------    \n",
    "    #if np.mod(i,1000) == 0:\n",
    "     #print(\"\\n\")\n",
    "    #  print(np.round((i*100/len(df))),\"% \", end = \"\")\n",
    "    #if np.mod(i,100) == 0:\n",
    "    #  print(\"=\", end = \"\")\n",
    "  "
   ]
  },
  {
   "cell_type": "code",
   "execution_count": 344,
   "metadata": {},
   "outputs": [
    {
     "data": {
      "text/plain": [
       "Short description           object\n",
       "Description                 object\n",
       "short_desc_lang             object\n",
       "short_desc_en               object\n",
       "description_lang            object\n",
       "description_en              object\n",
       "Caller                      object\n",
       "Assignment group            object\n",
       "emails                      object\n",
       "email_type                  object\n",
       "short_desc_spl              object\n",
       "description_spl             object\n",
       "short_desc_len              object\n",
       "description_len             object\n",
       "no_of_splch_removed1        object\n",
       "no_of_splch_removed1_pct    object\n",
       "no_of_splch_removed2        object\n",
       "no_of_splch_removed2_pct    object\n",
       "short_desc_en_spl           object\n",
       "description_en_spl          object\n",
       "short_desc_en_len           object\n",
       "description_en_len          object\n",
       "trimmed_words               object\n",
       "trimmed_words_len           object\n",
       "trimmed_words_short         object\n",
       "trimmed_words_long          object\n",
       "mark_for_delete              int64\n",
       "flg_account_related          int64\n",
       "flg_crm                      int64\n",
       "flg_engineering              int64\n",
       "flg_erp                      int64\n",
       "flg_failed                   int64\n",
       "flg_help                     int64\n",
       "flg_install                  int64\n",
       "flg_job                      int64\n",
       "flg_laptop                   int64\n",
       "flg_mobile                   int64\n",
       "flg_network                  int64\n",
       "flg_outlook                  int64\n",
       "flg_printer                  int64\n",
       "flg_skype                    int64\n",
       "flg_ticket_update            int64\n",
       "flg_vpn                      int64\n",
       "flg_windows                  int64\n",
       "host_related                 int64\n",
       "blank_call                   int64\n",
       "setup_ws                     int64\n",
       "dtype: object"
      ]
     },
     "execution_count": 344,
     "metadata": {},
     "output_type": "execute_result"
    }
   ],
   "source": [
    "df.dtypes"
   ]
  },
  {
   "cell_type": "code",
   "execution_count": 345,
   "metadata": {},
   "outputs": [
    {
     "data": {
      "text/plain": [
       "<matplotlib.axes._subplots.AxesSubplot at 0x18f50e1a388>"
      ]
     },
     "execution_count": 345,
     "metadata": {},
     "output_type": "execute_result"
    },
    {
     "data": {
      "image/png": "[encoded data removed]",
      "text/plain": [
       "<Figure size 432x288 with 1 Axes>"
      ]
     },
     "metadata": {
      "needs_background": "light"
     },
     "output_type": "display_data"
    }
   ],
   "source": [
    "sns.distplot(df[\"trimmed_words_len\"])"
   ]
  },
  {
   "cell_type": "code",
   "execution_count": 346,
   "metadata": {},
   "outputs": [
    {
     "data": {
      "text/plain": [
       "<matplotlib.axes._subplots.AxesSubplot at 0x190352e8448>"
      ]
     },
     "execution_count": 346,
     "metadata": {},
     "output_type": "execute_result"
    },
    {
     "data": {
      "image/png": "[encoded data removed]",
      "text/plain": [
       "<Figure size 432x288 with 1 Axes>"
      ]
     },
     "metadata": {
      "needs_background": "light"
     },
     "output_type": "display_data"
    }
   ],
   "source": [
    "sns.distplot(df[\"short_desc_len\"])"
   ]
  },
  {
   "cell_type": "code",
   "execution_count": 347,
   "metadata": {},
   "outputs": [
    {
     "data": {
      "text/plain": [
       "<matplotlib.axes._subplots.AxesSubplot at 0x18f50d1c748>"
      ]
     },
     "execution_count": 347,
     "metadata": {},
     "output_type": "execute_result"
    },
    {
     "data": {
      "image/png": "[encoded data removed]",
      "text/plain": [
       "<Figure size 432x288 with 1 Axes>"
      ]
     },
     "metadata": {
      "needs_background": "light"
     },
     "output_type": "display_data"
    }
   ],
   "source": [
    "sns.distplot(df[\"description_len\"])"
   ]
  },
  {
   "cell_type": "code",
   "execution_count": 348,
   "metadata": {},
   "outputs": [
    {
     "data": {
      "text/plain": [
       "<matplotlib.axes._subplots.AxesSubplot at 0x18f50b363c8>"
      ]
     },
     "execution_count": 348,
     "metadata": {},
     "output_type": "execute_result"
    },
    {
     "data": {
      "image/png": "[encoded data removed]",
      "text/plain": [
       "<Figure size 432x288 with 1 Axes>"
      ]
     },
     "metadata": {
      "needs_background": "light"
     },
     "output_type": "display_data"
    }
   ],
   "source": [
    "sns.countplot(df[\"email_type\"])"
   ]
  },
  {
   "cell_type": "code",
   "execution_count": 349,
   "metadata": {},
   "outputs": [
    {
     "data": {
      "text/plain": [
       "<matplotlib.axes._subplots.AxesSubplot at 0x18f50a17188>"
      ]
     },
     "execution_count": 349,
     "metadata": {},
     "output_type": "execute_result"
    },
    {
     "data": {
      "image/png": "[encoded data removed]",
      "text/plain": [
       "<Figure size 432x288 with 1 Axes>"
      ]
     },
     "metadata": {
      "needs_background": "light"
     },
     "output_type": "display_data"
    }
   ],
   "source": [
    "sns.countplot(df[\"Assignment group\"])"
   ]
  },
  {
   "cell_type": "code",
   "execution_count": 350,
   "metadata": {},
   "outputs": [
    {
     "data": {
      "text/plain": [
       "Assignment group\n",
       "GRP_0     3976\n",
       "GRP_8      661\n",
       "GRP_24     289\n",
       "GRP_12     257\n",
       "GRP_9      252\n",
       "          ... \n",
       "GRP_67       1\n",
       "GRP_61       1\n",
       "GRP_73       1\n",
       "GRP_35       1\n",
       "GRP_70       1\n",
       "Name: Assignment group, Length: 74, dtype: int64"
      ]
     },
     "execution_count": 350,
     "metadata": {},
     "output_type": "execute_result"
    }
   ],
   "source": [
    "a = df.groupby(\"Assignment group\")\n",
    "a[\"Assignment group\"].count().sort_values(ascending = False)"
   ]
  },
  {
   "cell_type": "code",
   "execution_count": 351,
   "metadata": {},
   "outputs": [
    {
     "name": "stdout",
     "output_type": "stream",
     "text": [
      "Short description\n",
      "password reset               38\n",
      "windows password reset       29\n",
      "account locked in ad         24\n",
      "windows account locked       23\n",
      "erp SID_34 account unlock    19\n",
      "login issue                  18\n",
      "blank call                   18\n",
      "account locked.              18\n",
      "unable to connect to vpn     18\n",
      "account unlock               17\n",
      "Name: Short description, dtype: int64\n"
     ]
    }
   ],
   "source": [
    "b = df.groupby(\"Short description\")\n",
    "print(b[\"Short description\"].count().sort_values(ascending = False).head(10))"
   ]
  },
  {
   "cell_type": "code",
   "execution_count": 352,
   "metadata": {},
   "outputs": [
    {
     "name": "stdout",
     "output_type": "stream",
     "text": [
      "Caller\n",
      "bpctwhsn kzqsbmtp    810\n",
      "ZkBogxib QsEJzdZO    151\n",
      "fumkcsji sarmtlhy    134\n",
      "rbozivdq gmlhrtvp     87\n",
      "rkupnshb gsmzfojw     71\n",
      "jloygrwh acvztedi     64\n",
      "spxqmiry zpwgoqju     63\n",
      "oldrctiu bxurpsyi     57\n",
      "olckhmvx pcqobjnd     54\n",
      "dkmcfreg anwmfvlg     51\n",
      "Name: Caller, dtype: int64\n"
     ]
    }
   ],
   "source": [
    "b = df.groupby(\"Caller\")\n",
    "print(b[\"Caller\"].count().sort_values(ascending = False).head(10))"
   ]
  },
  {
   "cell_type": "code",
   "execution_count": 353,
   "metadata": {},
   "outputs": [
    {
     "data": {
      "text/html": [
       "<div>\n",
       "<style scoped>\n",
       "    .dataframe tbody tr th:only-of-type {\n",
       "        vertical-align: middle;\n",
       "    }\n",
       "\n",
       "    .dataframe tbody tr th {\n",
       "        vertical-align: top;\n",
       "    }\n",
       "\n",
       "    .dataframe thead th {\n",
       "        text-align: right;\n",
       "    }\n",
       "</style>\n",
       "<table border=\"1\" class=\"dataframe\">\n",
       "  <thead>\n",
       "    <tr style=\"text-align: right;\">\n",
       "      <th></th>\n",
       "      <th>Short description</th>\n",
       "      <th>Description</th>\n",
       "      <th>trimmed_words</th>\n",
       "      <th>description_en_len</th>\n",
       "      <th>description_en_spl</th>\n",
       "      <th>trimmed_words_len</th>\n",
       "      <th>no_of_splch_removed1</th>\n",
       "      <th>no_of_splch_removed1_pct</th>\n",
       "      <th>no_of_splch_removed2_pct</th>\n",
       "    </tr>\n",
       "  </thead>\n",
       "  <tbody>\n",
       "    <tr>\n",
       "      <th>186</th>\n",
       "      <td>é’å²›å…´åˆæœºç”µshipment notificationé‚®ç®±è...</td>\n",
       "      <td>from:  \\nsent: friday, october 28, 2016 7:20 a...</td>\n",
       "      <td>shipment notification sent friday october 28 2...</td>\n",
       "      <td>27</td>\n",
       "      <td>from sent friday october 28 2016 720 am to nwf...</td>\n",
       "      <td>24</td>\n",
       "      <td>30</td>\n",
       "      <td>58.8</td>\n",
       "      <td>13.5</td>\n",
       "    </tr>\n",
       "    <tr>\n",
       "      <th>276</th>\n",
       "      <td>outlookæ”¶åˆ°ç®±ä¸­folderå˜ä¸ºæ¯å¤©ä¸€ä¸ªfol...</td>\n",
       "      <td>outlookæ”¶åˆ°ç®±ä¸­folderå˜ä¸ºæ¯å¤©ä¸€ä¸ªfol...</td>\n",
       "      <td>outlook c folder folderoffice</td>\n",
       "      <td>4</td>\n",
       "      <td>outlook c folder folderoffice</td>\n",
       "      <td>4</td>\n",
       "      <td>48</td>\n",
       "      <td>65.8</td>\n",
       "      <td>65.8</td>\n",
       "    </tr>\n",
       "    <tr>\n",
       "      <th>469</th>\n",
       "      <td>ieæµè§ˆå™¨æ‰“å¼€crmç³»ç»ŸåŽæç¤ºç”¨æˆ·å·²è¢...</td>\n",
       "      <td>ieæµè§ˆå™¨æ‰“å¼€crmç³»ç»ŸåŽæç¤ºç”¨æˆ·å·²è¢...</td>\n",
       "      <td>ie crm zae crm ya</td>\n",
       "      <td>6</td>\n",
       "      <td>ie crm there zae crm ya</td>\n",
       "      <td>5</td>\n",
       "      <td>72</td>\n",
       "      <td>90</td>\n",
       "      <td>90</td>\n",
       "    </tr>\n",
       "    <tr>\n",
       "      <th>487</th>\n",
       "      <td>msd - office 2013 outlook æ‰“ä¸å¼€ï¼Œæ˜¾ç¤ºæ—...</td>\n",
       "      <td>please provide details of the issue.\\n[â€Ž2016...</td>\n",
       "      <td>msd office 2013 outlook cs please provide deta...</td>\n",
       "      <td>38</td>\n",
       "      <td>please provide details of the issue 2016 z10 z...</td>\n",
       "      <td>37</td>\n",
       "      <td>54</td>\n",
       "      <td>67.5</td>\n",
       "      <td>46.6</td>\n",
       "    </tr>\n",
       "    <tr>\n",
       "      <th>618</th>\n",
       "      <td>outlookæ‰“ä¸å¼€</td>\n",
       "      <td>æ‰“å¼€outlookæ—¶ï¼Œæ˜¾ç¤ºoutlook.ostæ–‡ä»¶é”™è...</td>\n",
       "      <td>outlook outlookoutlookost</td>\n",
       "      <td>2</td>\n",
       "      <td>outlookoutlookost is</td>\n",
       "      <td>2</td>\n",
       "      <td>9</td>\n",
       "      <td>56.2</td>\n",
       "      <td>75</td>\n",
       "    </tr>\n",
       "    <tr>\n",
       "      <th>...</th>\n",
       "      <td>...</td>\n",
       "      <td>...</td>\n",
       "      <td>...</td>\n",
       "      <td>...</td>\n",
       "      <td>...</td>\n",
       "      <td>...</td>\n",
       "      <td>...</td>\n",
       "      <td>...</td>\n",
       "      <td>...</td>\n",
       "    </tr>\n",
       "    <tr>\n",
       "      <th>8266</th>\n",
       "      <td>erpæ— æ³•è¿›è¡Œé‡‡è´­ï¼ˆè½¬ç»™è´ºæ­£å¹³ï¼‰</td>\n",
       "      <td>è¿›è¡Œé‡‡è´­æ—¶æ˜¾ç¤º\"æ‰¾ä¸åˆ°å‘˜å·¥111115483...</td>\n",
       "      <td>erp 1111154833 scy c</td>\n",
       "      <td>4</td>\n",
       "      <td>1111154833 is scy c</td>\n",
       "      <td>4</td>\n",
       "      <td>39</td>\n",
       "      <td>92.9</td>\n",
       "      <td>85.7</td>\n",
       "    </tr>\n",
       "    <tr>\n",
       "      <th>8270</th>\n",
       "      <td>å¯†ç æ›´æ”¹åŽï¼Œoutlookæ— æ³•ç™»é™†</td>\n",
       "      <td>å¯†ç æ›´æ”¹åŽï¼Œoutlookæ— æ³•ç™»é™†</td>\n",
       "      <td>outlook</td>\n",
       "      <td>3</td>\n",
       "      <td>the outlook is</td>\n",
       "      <td>1</td>\n",
       "      <td>30</td>\n",
       "      <td>81.1</td>\n",
       "      <td>81.1</td>\n",
       "    </tr>\n",
       "    <tr>\n",
       "      <th>8457</th>\n",
       "      <td>æ— æ³•ç™»é™†hr_toolè€ƒå‹¤ç³»ç»Ÿ</td>\n",
       "      <td>æ˜¾ç¤ºjavaæ’ä»¶æ— æ³•åŠ è½½ï¼Œæ‰€éœ€ç‰ˆæœ¬1.8...</td>\n",
       "      <td>hrtool java pushkin 18045</td>\n",
       "      <td>5</td>\n",
       "      <td>java as pushkin 18045 is</td>\n",
       "      <td>4</td>\n",
       "      <td>24</td>\n",
       "      <td>77.4</td>\n",
       "      <td>81.4</td>\n",
       "    </tr>\n",
       "    <tr>\n",
       "      <th>8465</th>\n",
       "      <td>vpn è¿žæŽ¥ä¸ä¸Š</td>\n",
       "      <td>vpnè¿žä¸ä¸Šï¼Œè¯·è½¬ç»™ è´ºæ­£å¹³ atcbvglq.bd...</td>\n",
       "      <td>vpn vpn</td>\n",
       "      <td>1</td>\n",
       "      <td>vpn</td>\n",
       "      <td>2</td>\n",
       "      <td>12</td>\n",
       "      <td>75</td>\n",
       "      <td>48.4</td>\n",
       "    </tr>\n",
       "    <tr>\n",
       "      <th>8471</th>\n",
       "      <td>ç”µè„‘å¼€æœºå¼€ä¸å‡ºæ¥</td>\n",
       "      <td>to å°è´ºï¼Œæ—©ä¸Šç”µè„‘å¼€æœºå¼€ä¸å‡ºæ¥</td>\n",
       "      <td>asc</td>\n",
       "      <td>3</td>\n",
       "      <td>to asc to</td>\n",
       "      <td>1</td>\n",
       "      <td>24</td>\n",
       "      <td>100</td>\n",
       "      <td>92.9</td>\n",
       "    </tr>\n",
       "  </tbody>\n",
       "</table>\n",
       "<p>118 rows × 9 columns</p>\n",
       "</div>"
      ],
      "text/plain": [
       "                                      Short description  \\\n",
       "186   é’å²›å…´åˆæœºç”µshipment notificationé‚®ç®±è...   \n",
       "276   outlookæ”¶åˆ°ç®±ä¸­folderå˜ä¸ºæ¯å¤©ä¸€ä¸ªfol...   \n",
       "469   ieæµè§ˆå™¨æ‰“å¼€crmç³»ç»ŸåŽæç¤ºç”¨æˆ·å·²è¢...   \n",
       "487   msd - office 2013 outlook æ‰“ä¸å¼€ï¼Œæ˜¾ç¤ºæ—...   \n",
       "618                                    outlookæ‰“ä¸å¼€   \n",
       "...                                                 ...   \n",
       "8266         erpæ— æ³•è¿›è¡Œé‡‡è´­ï¼ˆè½¬ç»™è´ºæ­£å¹³ï¼‰   \n",
       "8270              å¯†ç æ›´æ”¹åŽï¼Œoutlookæ— æ³•ç™»é™†   \n",
       "8457                    æ— æ³•ç™»é™†hr_toolè€ƒå‹¤ç³»ç»Ÿ   \n",
       "8465                                   vpn è¿žæŽ¥ä¸ä¸Š   \n",
       "8471                           ç”µè„‘å¼€æœºå¼€ä¸å‡ºæ¥   \n",
       "\n",
       "                                            Description  \\\n",
       "186   from:  \\nsent: friday, october 28, 2016 7:20 a...   \n",
       "276   outlookæ”¶åˆ°ç®±ä¸­folderå˜ä¸ºæ¯å¤©ä¸€ä¸ªfol...   \n",
       "469   ieæµè§ˆå™¨æ‰“å¼€crmç³»ç»ŸåŽæç¤ºç”¨æˆ·å·²è¢...   \n",
       "487   please provide details of the issue.\\n[â€Ž2016...   \n",
       "618   æ‰“å¼€outlookæ—¶ï¼Œæ˜¾ç¤ºoutlook.ostæ–‡ä»¶é”™è...   \n",
       "...                                                 ...   \n",
       "8266  è¿›è¡Œé‡‡è´­æ—¶æ˜¾ç¤º\"æ‰¾ä¸åˆ°å‘˜å·¥111115483...   \n",
       "8270              å¯†ç æ›´æ”¹åŽï¼Œoutlookæ— æ³•ç™»é™†   \n",
       "8457  æ˜¾ç¤ºjavaæ’ä»¶æ— æ³•åŠ è½½ï¼Œæ‰€éœ€ç‰ˆæœ¬1.8...   \n",
       "8465  vpnè¿žä¸ä¸Šï¼Œè¯·è½¬ç»™ è´ºæ­£å¹³ atcbvglq.bd...   \n",
       "8471         to å°è´ºï¼Œæ—©ä¸Šç”µè„‘å¼€æœºå¼€ä¸å‡ºæ¥   \n",
       "\n",
       "                                          trimmed_words description_en_len  \\\n",
       "186   shipment notification sent friday october 28 2...                 27   \n",
       "276                       outlook c folder folderoffice                  4   \n",
       "469                                   ie crm zae crm ya                  6   \n",
       "487   msd office 2013 outlook cs please provide deta...                 38   \n",
       "618                           outlook outlookoutlookost                  2   \n",
       "...                                                 ...                ...   \n",
       "8266                               erp 1111154833 scy c                  4   \n",
       "8270                                            outlook                  3   \n",
       "8457                          hrtool java pushkin 18045                  5   \n",
       "8465                                            vpn vpn                  1   \n",
       "8471                                                asc                  3   \n",
       "\n",
       "                                     description_en_spl trimmed_words_len  \\\n",
       "186   from sent friday october 28 2016 720 am to nwf...                24   \n",
       "276                       outlook c folder folderoffice                 4   \n",
       "469                             ie crm there zae crm ya                 5   \n",
       "487   please provide details of the issue 2016 z10 z...                37   \n",
       "618                                outlookoutlookost is                 2   \n",
       "...                                                 ...               ...   \n",
       "8266                                1111154833 is scy c                 4   \n",
       "8270                                     the outlook is                 1   \n",
       "8457                           java as pushkin 18045 is                 4   \n",
       "8465                                                vpn                 2   \n",
       "8471                                          to asc to                 1   \n",
       "\n",
       "     no_of_splch_removed1 no_of_splch_removed1_pct no_of_splch_removed2_pct  \n",
       "186                    30                     58.8                     13.5  \n",
       "276                    48                     65.8                     65.8  \n",
       "469                    72                       90                       90  \n",
       "487                    54                     67.5                     46.6  \n",
       "618                     9                     56.2                       75  \n",
       "...                   ...                      ...                      ...  \n",
       "8266                   39                     92.9                     85.7  \n",
       "8270                   30                     81.1                     81.1  \n",
       "8457                   24                     77.4                     81.4  \n",
       "8465                   12                       75                     48.4  \n",
       "8471                   24                      100                     92.9  \n",
       "\n",
       "[118 rows x 9 columns]"
      ]
     },
     "execution_count": 353,
     "metadata": {},
     "output_type": "execute_result"
    }
   ],
   "source": [
    "df[df[\"mark_for_delete\"]==1][[\"Short description\",\"Description\",\"trimmed_words\",\"description_en_len\",\"description_en_spl\",\"trimmed_words_len\",\"no_of_splch_removed1\",\"no_of_splch_removed1_pct\",\"no_of_splch_removed2_pct\"]]"
   ]
  },
  {
   "cell_type": "code",
   "execution_count": 354,
   "metadata": {},
   "outputs": [],
   "source": [
    "df.to_excel(\"processed_data.xlsx\")"
   ]
  },
  {
   "attachments": {
    "image.png": {
     "image/png": "[encoded data removed]"
    }
   },
   "cell_type": "markdown",
   "metadata": {},
   "source": [
    "## Summary of Columns : \n",
    "\n",
    "* Input file was loaded into a DataFrame. \n",
    "* It was observed that there are some records whcih are not in English. Tried to use googletran/ Transilator package in Python. However, they have limitation for no of free calls. Hence, loaded the data into google sheets and transilated\n",
    "* In order to proces the data several new columns were created to undersatnd the no of special characters..etc\n",
    "* Using tokenizer, word corpus was built with Max 1500 words. \n",
    "* Both short and long description was combined after removing special characters/ transilation to english/ applying Tokenizer\n",
    "* Records where more than 50% characters are junk are marked for delete\n",
    "* below is the list of new columns created\n",
    "\n",
    "\n",
    "![image.png](attachment:image.png)\n"
   ]
  },
  {
   "cell_type": "markdown",
   "metadata": {},
   "source": [
    "### Further processing \n",
    "\n",
    "Groups which ahve less than 30 tickets should be combined as one group as we can not really make sence of them\n"
   ]
  },
  {
   "cell_type": "code",
   "execution_count": 630,
   "metadata": {},
   "outputs": [
    {
     "name": "stdout",
     "output_type": "stream",
     "text": [
      "Upto 75 % tickets Assignment Groups list : \n",
      "  Index(['GRP_0', 'GRP_8', 'GRP_24', 'GRP_12', 'GRP_9', 'GRP_2', 'GRP_19',\n",
      "       'GRP_3', 'GRP_6'],\n",
      "      dtype='object', name='Assignment group')\n",
      "\n",
      " No of Selected groups :  9  out of  74  total no of groups \n",
      "\n",
      "\n",
      " Assignment group\n",
      "GRP_0      46.78\n",
      "GRP_8      54.55\n",
      "GRP_24     57.95\n",
      "GRP_12     60.98\n",
      "GRP_9      63.94\n",
      "           ...  \n",
      "GRP_67     99.95\n",
      "GRP_61     99.96\n",
      "GRP_73     99.98\n",
      "GRP_35     99.99\n",
      "GRP_70    100.00\n",
      "Name: Assignment group, Length: 74, dtype: float64\n"
     ]
    }
   ],
   "source": [
    "a1 = df.groupby(\"Assignment group\")[\"Assignment group\"].count().sort_values(ascending = False)\n",
    "thr = 75\n",
    "print(\"Upto\",thr,\"% tickets Assignment Groups list :\",\"\\n \",np.round(np.cumsum(a1[np.cumsum(a1*100/8500)<=thr]*100/8500),2).index)\n",
    "new_group = np.round(np.cumsum(a1[np.cumsum(a1*100/8500)<=thr]*100/8500),2).index\n",
    "print(\"\\n No of Selected groups : \",len(new_group), \" out of \", len(a1), \" total no of groups \\n\")\n",
    "print(\"\\n\",np.round(np.cumsum(a1[np.cumsum(a1*100/8500)<=101]*100/8500),2))"
   ]
  },
  {
   "cell_type": "code",
   "execution_count": 631,
   "metadata": {},
   "outputs": [],
   "source": [
    "df[\"new_group\"] = \"\"\n",
    "\n",
    "for i in range(len(df)):\n",
    "    if df[\"Assignment group\"][i] in new_group:\n",
    "        df.loc[i,\"new_group\"] = df[\"Assignment group\"][i]\n",
    "    else :\n",
    "        df.loc[i,\"new_group\"] = \"GRP_9999\""
   ]
  },
  {
   "cell_type": "code",
   "execution_count": 632,
   "metadata": {},
   "outputs": [
    {
     "name": "stdout",
     "output_type": "stream",
     "text": [
      "           new_group\n",
      "new_group           \n",
      "GRP_0           3976\n",
      "GRP_9999        2225\n",
      "GRP_8            661\n",
      "GRP_24           289\n",
      "GRP_12           257\n",
      "GRP_9            252\n",
      "GRP_2            241\n",
      "GRP_19           215\n",
      "GRP_3            200\n",
      "GRP_6            184\n"
     ]
    }
   ],
   "source": [
    "a = df.groupby(\"new_group\")\n",
    "a = pd.DataFrame(a[\"new_group\"].count().sort_values(ascending = False))\n",
    "print(a)"
   ]
  },
  {
   "cell_type": "code",
   "execution_count": 633,
   "metadata": {},
   "outputs": [
    {
     "data": {
      "text/plain": [
       "new_group\n",
       "GRP_0        46.776471\n",
       "GRP_9999     72.952941\n",
       "GRP_8        80.729412\n",
       "GRP_24       84.129412\n",
       "GRP_12       87.152941\n",
       "GRP_9        90.117647\n",
       "GRP_2        92.952941\n",
       "GRP_19       95.482353\n",
       "GRP_3        97.835294\n",
       "GRP_6       100.000000\n",
       "Name: new_group, dtype: float64"
      ]
     },
     "execution_count": 633,
     "metadata": {},
     "output_type": "execute_result"
    }
   ],
   "source": [
    "np.cumsum(a.new_group*100/8500)"
   ]
  },
  {
   "cell_type": "markdown",
   "metadata": {},
   "source": [
    "### Delete records marked for deletion\n"
   ]
  },
  {
   "cell_type": "code",
   "execution_count": 634,
   "metadata": {},
   "outputs": [
    {
     "name": "stdout",
     "output_type": "stream",
     "text": [
      "(8382, 48)\n"
     ]
    }
   ],
   "source": [
    "df_new = df[df[\"mark_for_delete\"]==0]\n",
    "print(df_new.shape)"
   ]
  },
  {
   "cell_type": "code",
   "execution_count": 635,
   "metadata": {},
   "outputs": [
    {
     "data": {
      "text/plain": [
       "118"
      ]
     },
     "execution_count": 635,
     "metadata": {},
     "output_type": "execute_result"
    }
   ],
   "source": [
    "len(df[df[\"mark_for_delete\"]==1][\"mark_for_delete\"])"
   ]
  },
  {
   "cell_type": "code",
   "execution_count": 636,
   "metadata": {},
   "outputs": [],
   "source": [
    "X = df_new[\"trimmed_words_short\"]\n",
    "y = df_new[\"new_group\"]"
   ]
  },
  {
   "cell_type": "code",
   "execution_count": 637,
   "metadata": {},
   "outputs": [
    {
     "name": "stdout",
     "output_type": "stream",
     "text": [
      "Review length: \n",
      "Mean 37.85 words (20.563641)\n"
     ]
    },
    {
     "data": {
      "image/png": "[encoded data removed]",
      "text/plain": [
       "<Figure size 432x288 with 1 Axes>"
      ]
     },
     "metadata": {
      "needs_background": "light"
     },
     "output_type": "display_data"
    }
   ],
   "source": [
    "import numpy\n",
    "import matplotlib.pyplot as plt\n",
    "from keras.preprocessing.sequence import pad_sequences\n",
    "\n",
    "%matplotlib inline\n",
    "# Summarize review length\n",
    "print(\"Review length: \")\n",
    "result = [len(x) for x in X]\n",
    "print(\"Mean %.2f words (%f)\" % (numpy.mean(result), numpy.std(result)))\n",
    "# plot review length\n",
    "plt.boxplot(result)\n",
    "plt.show()"
   ]
  },
  {
   "cell_type": "code",
   "execution_count": 638,
   "metadata": {},
   "outputs": [],
   "source": [
    "X1 = t.texts_to_sequences(X)"
   ]
  },
  {
   "cell_type": "code",
   "execution_count": 639,
   "metadata": {},
   "outputs": [],
   "source": [
    "X2 = pad_sequences(X1, maxlen=200, padding = 'post', truncating = 'post') \n",
    "#X_test =  pad_sequences(X_test, maxlen=100, padding = 'post', truncating = 'post')"
   ]
  },
  {
   "cell_type": "code",
   "execution_count": 640,
   "metadata": {},
   "outputs": [
    {
     "data": {
      "text/plain": [
       "(8382, 200)"
      ]
     },
     "execution_count": 640,
     "metadata": {},
     "output_type": "execute_result"
    }
   ],
   "source": [
    "X2.shape"
   ]
  },
  {
   "cell_type": "code",
   "execution_count": 641,
   "metadata": {},
   "outputs": [
    {
     "data": {
      "text/plain": [
       "array([21, 17,  0,  0,  0,  0,  0,  0,  0,  0,  0,  0,  0,  0,  0,  0,  0,\n",
       "        0,  0,  0,  0,  0,  0,  0,  0,  0,  0,  0,  0,  0,  0,  0,  0,  0,\n",
       "        0,  0,  0,  0,  0,  0,  0,  0,  0,  0,  0,  0,  0,  0,  0,  0,  0,\n",
       "        0,  0,  0,  0,  0,  0,  0,  0,  0,  0,  0,  0,  0,  0,  0,  0,  0,\n",
       "        0,  0,  0,  0,  0,  0,  0,  0,  0,  0,  0,  0,  0,  0,  0,  0,  0,\n",
       "        0,  0,  0,  0,  0,  0,  0,  0,  0,  0,  0,  0,  0,  0,  0,  0,  0,\n",
       "        0,  0,  0,  0,  0,  0,  0,  0,  0,  0,  0,  0,  0,  0,  0,  0,  0,\n",
       "        0,  0,  0,  0,  0,  0,  0,  0,  0,  0,  0,  0,  0,  0,  0,  0,  0,\n",
       "        0,  0,  0,  0,  0,  0,  0,  0,  0,  0,  0,  0,  0,  0,  0,  0,  0,\n",
       "        0,  0,  0,  0,  0,  0,  0,  0,  0,  0,  0,  0,  0,  0,  0,  0,  0,\n",
       "        0,  0,  0,  0,  0,  0,  0,  0,  0,  0,  0,  0,  0,  0,  0,  0,  0,\n",
       "        0,  0,  0,  0,  0,  0,  0,  0,  0,  0,  0,  0,  0])"
      ]
     },
     "execution_count": 641,
     "metadata": {},
     "output_type": "execute_result"
    }
   ],
   "source": [
    "X2[0]"
   ]
  },
  {
   "cell_type": "code",
   "execution_count": 642,
   "metadata": {},
   "outputs": [],
   "source": [
    "from sklearn.preprocessing import LabelEncoder\n",
    "from sklearn.preprocessing import OneHotEncoder\n",
    "\n",
    "values = df_new[\"new_group\"]\n",
    "label_encoder = LabelEncoder()\n",
    "integer_encoded = label_encoder.fit_transform(values)"
   ]
  },
  {
   "cell_type": "code",
   "execution_count": 643,
   "metadata": {},
   "outputs": [
    {
     "data": {
      "text/plain": [
       "array(['GRP_0', 'GRP_12', 'GRP_19', 'GRP_2', 'GRP_24', 'GRP_3', 'GRP_6',\n",
       "       'GRP_8', 'GRP_9', 'GRP_9999'], dtype=object)"
      ]
     },
     "execution_count": 643,
     "metadata": {},
     "output_type": "execute_result"
    }
   ],
   "source": [
    "label_encoder.classes_"
   ]
  },
  {
   "cell_type": "code",
   "execution_count": 644,
   "metadata": {},
   "outputs": [],
   "source": [
    "onehot_encoder = OneHotEncoder(sparse=False)\n",
    "integer_encoded = integer_encoded.reshape(len(integer_encoded), 1)\n",
    "onehot_encoded = onehot_encoder.fit_transform(integer_encoded)"
   ]
  },
  {
   "cell_type": "code",
   "execution_count": 645,
   "metadata": {},
   "outputs": [
    {
     "data": {
      "text/plain": [
       "(8382, 10)"
      ]
     },
     "execution_count": 645,
     "metadata": {},
     "output_type": "execute_result"
    }
   ],
   "source": [
    "onehot_encoded.shape"
   ]
  },
  {
   "cell_type": "code",
   "execution_count": 646,
   "metadata": {},
   "outputs": [
    {
     "data": {
      "text/plain": [
       "(8382, 1)"
      ]
     },
     "execution_count": 646,
     "metadata": {},
     "output_type": "execute_result"
    }
   ],
   "source": [
    "integer_encoded.shape"
   ]
  },
  {
   "cell_type": "code",
   "execution_count": 647,
   "metadata": {},
   "outputs": [
    {
     "name": "stdout",
     "output_type": "stream",
     "text": [
      "[[1. 0. 0. ... 0. 0. 0.]\n",
      " [1. 0. 0. ... 0. 0. 0.]\n",
      " [1. 0. 0. ... 0. 0. 0.]\n",
      " ...\n",
      " [1. 0. 0. ... 0. 0. 0.]\n",
      " [0. 0. 0. ... 0. 0. 1.]\n",
      " [0. 0. 0. ... 0. 0. 1.]]\n"
     ]
    }
   ],
   "source": [
    "y = onehot_encoded\n",
    "print(y)"
   ]
  },
  {
   "cell_type": "code",
   "execution_count": 648,
   "metadata": {},
   "outputs": [],
   "source": [
    "#Import all the required Libraries\n",
    "\n",
    "from tensorflow.keras.datasets import imdb\n",
    "from tensorflow.keras.models import Sequential\n",
    "from tensorflow.keras.layers import Dense\n",
    "from tensorflow.keras.layers import Flatten, Conv1D, MaxPooling1D\n",
    "from tensorflow.keras.layers import Embedding\n",
    "from tensorflow.keras.preprocessing import sequence\n",
    "from sklearn.model_selection import train_test_split\n",
    "from sklearn.metrics import classification_report, confusion_matrix\n",
    "from tensorflow.keras.metrics import Accuracy\n",
    "import matplotlib.pyplot as plt\n",
    "import collections\n",
    "import numpy as np\n",
    "from tensorflow.keras.preprocessing.text import Tokenizer\n",
    "from tensorflow.keras.preprocessing.sequence import pad_sequences\n",
    "from tensorflow.keras.layers import Dense, Input, LSTM, Embedding, Dropout, Activation, Flatten, Bidirectional, GlobalMaxPool1D, Add\n",
    "from tensorflow.keras.models import Model, Sequential\n",
    "\n",
    "%matplotlib inline"
   ]
  },
  {
   "cell_type": "code",
   "execution_count": 649,
   "metadata": {},
   "outputs": [
    {
     "data": {
      "text/plain": [
       "((6705, 200),\n",
       " (6705, 10),\n",
       " array([0., 0., 0., 1., 0., 0., 0., 0., 0., 0.]),\n",
       " (1677, 200),\n",
       " (1677, 10))"
      ]
     },
     "execution_count": 649,
     "metadata": {},
     "output_type": "execute_result"
    }
   ],
   "source": [
    "#Split the dataset into Train and test\n",
    "X_train,X_test,y_train,y_test = train_test_split(X2,y,test_size=0.2, random_state = 10, shuffle = True)\n",
    "X_train.shape,y_train.shape, y_train[10], X_test.shape, y_test.shape"
   ]
  },
  {
   "cell_type": "code",
   "execution_count": 650,
   "metadata": {},
   "outputs": [],
   "source": [
    "batch_size = 100\n",
    "epochs = 25"
   ]
  },
  {
   "cell_type": "code",
   "execution_count": 651,
   "metadata": {},
   "outputs": [
    {
     "data": {
      "text/plain": [
       "array([21, 17,  0,  0,  0,  0,  0,  0,  0,  0,  0,  0,  0,  0,  0,  0,  0,\n",
       "        0,  0,  0,  0,  0,  0,  0,  0,  0,  0,  0,  0,  0,  0,  0,  0,  0,\n",
       "        0,  0,  0,  0,  0,  0,  0,  0,  0,  0,  0,  0,  0,  0,  0,  0,  0,\n",
       "        0,  0,  0,  0,  0,  0,  0,  0,  0,  0,  0,  0,  0,  0,  0,  0,  0,\n",
       "        0,  0,  0,  0,  0,  0,  0,  0,  0,  0,  0,  0,  0,  0,  0,  0,  0,\n",
       "        0,  0,  0,  0,  0,  0,  0,  0,  0,  0,  0,  0,  0,  0,  0,  0,  0,\n",
       "        0,  0,  0,  0,  0,  0,  0,  0,  0,  0,  0,  0,  0,  0,  0,  0,  0,\n",
       "        0,  0,  0,  0,  0,  0,  0,  0,  0,  0,  0,  0,  0,  0,  0,  0,  0,\n",
       "        0,  0,  0,  0,  0,  0,  0,  0,  0,  0,  0,  0,  0,  0,  0,  0,  0,\n",
       "        0,  0,  0,  0,  0,  0,  0,  0,  0,  0,  0,  0,  0,  0,  0,  0,  0,\n",
       "        0,  0,  0,  0,  0,  0,  0,  0,  0,  0,  0,  0,  0,  0,  0,  0,  0,\n",
       "        0,  0,  0,  0,  0,  0,  0,  0,  0,  0,  0,  0,  0])"
      ]
     },
     "execution_count": 651,
     "metadata": {},
     "output_type": "execute_result"
    }
   ],
   "source": [
    "X2[0]"
   ]
  },
  {
   "cell_type": "code",
   "execution_count": 652,
   "metadata": {
    "scrolled": false
   },
   "outputs": [
    {
     "name": "stdout",
     "output_type": "stream",
     "text": [
      "WARNING:tensorflow:<tensorflow.python.keras.layers.recurrent.UnifiedLSTM object at 0x00000190685BD6C8>: Note that this layer is not optimized for performance. Please use tf.keras.layers.CuDNNLSTM for better performance on GPU.\n",
      "WARNING:tensorflow:<tensorflow.python.keras.layers.recurrent.UnifiedLSTM object at 0x00000190492E2F08>: Note that this layer is not optimized for performance. Please use tf.keras.layers.CuDNNLSTM for better performance on GPU.\n",
      "Model: \"sequential_15\"\n",
      "_________________________________________________________________\n",
      "Layer (type)                 Output Shape              Param #   \n",
      "=================================================================\n",
      "L1_Embedding (Embedding)     (None, 200, 200)          400000    \n",
      "_________________________________________________________________\n",
      "conv1d_15 (Conv1D)           (None, 198, 32)           19232     \n",
      "_________________________________________________________________\n",
      "max_pooling1d_15 (MaxPooling (None, 99, 32)            0         \n",
      "_________________________________________________________________\n",
      "dropout_15 (Dropout)         (None, 99, 32)            0         \n",
      "_________________________________________________________________\n",
      "L2_LSTM (Bidirectional)      (None, 99, 256)           164864    \n",
      "_________________________________________________________________\n",
      "L3_Flatten (Flatten)         (None, 25344)             0         \n",
      "_________________________________________________________________\n",
      "L4_Dense_relu (Dense)        (None, 254)               6437630   \n",
      "_________________________________________________________________\n",
      "L5_Dropout (Dropout)         (None, 254)               0         \n",
      "_________________________________________________________________\n",
      "L6_Dense_sigmoid (Dense)     (None, 10)                2550      \n",
      "=================================================================\n",
      "Total params: 7,024,276\n",
      "Trainable params: 7,024,276\n",
      "Non-trainable params: 0\n",
      "_________________________________________________________________\n",
      "Train on 5364 samples, validate on 1341 samples\n",
      "Epoch 1/25\n",
      "5364/5364 - 3s - loss: 1.6328 - accuracy: 0.4586 - mse: 0.1439 - val_loss: 1.3606 - val_accuracy: 0.4966 - val_mse: 0.1161\n",
      "Epoch 2/25\n",
      "5364/5364 - 2s - loss: 1.3266 - accuracy: 0.4896 - mse: 0.1257 - val_loss: 1.1541 - val_accuracy: 0.5831 - val_mse: 0.1270\n",
      "Epoch 3/25\n",
      "5364/5364 - 2s - loss: 1.1492 - accuracy: 0.5625 - mse: 0.1073 - val_loss: 1.0479 - val_accuracy: 0.5996 - val_mse: 0.0872\n",
      "Epoch 4/25\n",
      "5364/5364 - 2s - loss: 1.0022 - accuracy: 0.6264 - mse: 0.0760 - val_loss: 0.9921 - val_accuracy: 0.6227 - val_mse: 0.0715\n",
      "Epoch 5/25\n",
      "5364/5364 - 2s - loss: 0.9083 - accuracy: 0.6559 - mse: 0.0645 - val_loss: 0.9709 - val_accuracy: 0.6383 - val_mse: 0.0675\n",
      "Epoch 6/25\n",
      "5364/5364 - 2s - loss: 0.8158 - accuracy: 0.6814 - mse: 0.0592 - val_loss: 0.9727 - val_accuracy: 0.6488 - val_mse: 0.0637\n",
      "Epoch 7/25\n",
      "5364/5364 - 2s - loss: 0.7736 - accuracy: 0.7094 - mse: 0.0555 - val_loss: 0.9977 - val_accuracy: 0.6965 - val_mse: 0.0660\n",
      "Epoch 8/25\n",
      "5364/5364 - 2s - loss: 0.7156 - accuracy: 0.7440 - mse: 0.0478 - val_loss: 1.0352 - val_accuracy: 0.6861 - val_mse: 0.0505\n",
      "Epoch 9/25\n",
      "5364/5364 - 2s - loss: 0.6683 - accuracy: 0.7582 - mse: 0.0415 - val_loss: 1.0527 - val_accuracy: 0.6808 - val_mse: 0.0576\n",
      "Epoch 10/25\n",
      "5364/5364 - 2s - loss: 0.6357 - accuracy: 0.7729 - mse: 0.0389 - val_loss: 1.0890 - val_accuracy: 0.6905 - val_mse: 0.0523\n",
      "Epoch 11/25\n",
      "5364/5364 - 2s - loss: 0.5979 - accuracy: 0.7828 - mse: 0.0376 - val_loss: 1.0988 - val_accuracy: 0.6950 - val_mse: 0.0506\n",
      "Epoch 12/25\n",
      "5364/5364 - 2s - loss: 0.5951 - accuracy: 0.7871 - mse: 0.0379 - val_loss: 1.0836 - val_accuracy: 0.6846 - val_mse: 0.0532\n",
      "Epoch 13/25\n",
      "5364/5364 - 2s - loss: 0.5674 - accuracy: 0.7929 - mse: 0.0384 - val_loss: 1.1825 - val_accuracy: 0.6816 - val_mse: 0.0534\n",
      "Epoch 14/25\n",
      "5364/5364 - 2s - loss: 0.5284 - accuracy: 0.8113 - mse: 0.0352 - val_loss: 1.1877 - val_accuracy: 0.6875 - val_mse: 0.0519\n",
      "Epoch 15/25\n",
      "5364/5364 - 2s - loss: 0.5112 - accuracy: 0.8162 - mse: 0.0322 - val_loss: 1.2447 - val_accuracy: 0.6920 - val_mse: 0.0511\n",
      "Epoch 16/25\n",
      "5364/5364 - 2s - loss: 0.5035 - accuracy: 0.8167 - mse: 0.0327 - val_loss: 1.1553 - val_accuracy: 0.7002 - val_mse: 0.0497\n",
      "Epoch 17/25\n",
      "5364/5364 - 2s - loss: 0.4913 - accuracy: 0.8249 - mse: 0.0308 - val_loss: 1.2483 - val_accuracy: 0.6965 - val_mse: 0.0481\n",
      "Epoch 18/25\n",
      "5364/5364 - 2s - loss: 0.4599 - accuracy: 0.8372 - mse: 0.0295 - val_loss: 1.2373 - val_accuracy: 0.6920 - val_mse: 0.0474\n",
      "Epoch 19/25\n",
      "5364/5364 - 2s - loss: 0.4477 - accuracy: 0.8378 - mse: 0.0300 - val_loss: 1.3138 - val_accuracy: 0.6995 - val_mse: 0.0485\n",
      "Epoch 20/25\n",
      "5364/5364 - 2s - loss: 0.4339 - accuracy: 0.8469 - mse: 0.0292 - val_loss: 1.3248 - val_accuracy: 0.6935 - val_mse: 0.0488\n",
      "Epoch 21/25\n",
      "5364/5364 - 2s - loss: 0.4180 - accuracy: 0.8516 - mse: 0.0294 - val_loss: 1.3463 - val_accuracy: 0.7136 - val_mse: 0.0493\n",
      "Epoch 22/25\n",
      "5364/5364 - 2s - loss: 0.4079 - accuracy: 0.8522 - mse: 0.0286 - val_loss: 1.3740 - val_accuracy: 0.7107 - val_mse: 0.0485\n",
      "Epoch 23/25\n",
      "5364/5364 - 2s - loss: 0.4076 - accuracy: 0.8557 - mse: 0.0289 - val_loss: 1.3812 - val_accuracy: 0.7062 - val_mse: 0.0494\n",
      "Epoch 24/25\n",
      "5364/5364 - 2s - loss: 0.3839 - accuracy: 0.8639 - mse: 0.0283 - val_loss: 1.4089 - val_accuracy: 0.7114 - val_mse: 0.0481\n",
      "Epoch 25/25\n",
      "5364/5364 - 2s - loss: 0.3903 - accuracy: 0.8576 - mse: 0.0276 - val_loss: 1.4085 - val_accuracy: 0.7136 - val_mse: 0.0489\n"
     ]
    },
    {
     "data": {
      "image/png": "[encoded data removed]",
      "text/plain": [
       "<Figure size 432x288 with 1 Axes>"
      ]
     },
     "metadata": {
      "needs_background": "light"
     },
     "output_type": "display_data"
    },
    {
     "data": {
      "image/png": "[encoded data removed]",
      "text/plain": [
       "<Figure size 432x288 with 1 Axes>"
      ]
     },
     "metadata": {
      "needs_background": "light"
     },
     "output_type": "display_data"
    }
   ],
   "source": [
    "embedding_size = 200\n",
    "maxlen = 200\n",
    "\n",
    "# Crete a Sequential Model\n",
    "model1 = Sequential()\n",
    "\n",
    "# Add embedding as the first layer. We are going to initiate with the pre trained Glove vector. Since they are already trained embeddings\n",
    "# We are going to make the trainable parameter 'false'\n",
    "model1.add(Embedding(t.num_words, embedding_size, input_length = maxlen, trainable = True, name='L1_Embedding'))\n",
    "\n",
    "#These embeddings are made non-trainable as they are pre trained to highly optimized values\n",
    "model1.add(Conv1D(32,3,activation=\"relu\"))\n",
    "model1.add(MaxPooling1D(pool_size=2))\n",
    "\n",
    "#Adding a Dropout ensures the model is not overfitting\n",
    "model1.add(Dropout(0.5))\n",
    "\n",
    "#Add Bi-Directional LSTM\n",
    "model1.add(Bidirectional(LSTM(128, return_sequences = True, dropout = 0.2),name='L2_LSTM'))\n",
    "model1.add(Flatten(name='L3_Flatten'))\n",
    "\n",
    "# Add dense and Dropout \n",
    "model1.add(Dense(254, activation='relu',name='L4_Dense_relu'))\n",
    "model1.add(Dropout(0.2, name  = \"L5_Dropout\"))\n",
    "\n",
    "#Since this is a binary classification, we add the last layer as Dense with single neuron with Sigmoid. Based on the probability we can decide if the output is 0 or 1\n",
    "model1.add(Dense(10, activation='sigmoid',name='L6_Dense_sigmoid'))\n",
    "\n",
    "#Compile the model with binary cross entrophy and adam optimizer\n",
    "model1.compile(loss='categorical_crossentropy', optimizer='adam', metrics=['accuracy', 'mse'])\n",
    "model1.summary()\n",
    "\n",
    "# We are going to use validation split of 20%\n",
    "history1 = model1.fit(X_train, y_train,\n",
    "          batch_size=batch_size,\n",
    "          epochs=epochs,\n",
    "          validation_split = 0.2, verbose = 2)\n",
    "\n",
    "#Predect on the test data\n",
    "y_pred = model1.predict(X_test)\n",
    "#y_pred = (y_pred>0.5).astype(np.int)\n",
    "\n",
    "#print results\n",
    "#print(\"\\n\",\"Confusion Matrix :\",\"\\n\",confusion_matrix(y_test,y_pred))\n",
    "#print(\"\\n\",\"Classification Report :\",\"\\n\",classification_report(y_test,y_pred))\n",
    "\n",
    "# Print plot of Training and Validation Accuracy\n",
    "plt.plot(history1.history['accuracy'])\n",
    "plt.plot(history1.history['val_accuracy'])\n",
    "\n",
    "plt.title('Model accuracy')\n",
    "plt.ylabel('Accuracy')\n",
    "plt.xlabel('Epoch')\n",
    "plt.legend(['Train', 'Test'], loc='upper left')\n",
    "plt.show()\n",
    "\n",
    "# Print plot of Training and Validation Loss\n",
    "plt.plot(history1.history['loss'])\n",
    "plt.plot(history1.history['val_loss'])\n",
    "\n",
    "plt.title('Model loss')\n",
    "plt.ylabel('Loss')\n",
    "plt.xlabel('Epoch')\n",
    "plt.legend(['Train', 'Test'], loc='upper left')\n",
    "plt.show()"
   ]
  },
  {
   "cell_type": "code",
   "execution_count": 653,
   "metadata": {},
   "outputs": [
    {
     "data": {
      "text/plain": [
       "(array([ 15,   9, 104,   0,   0,   0,   0,   0,   0,   0,   0,   0,   0,\n",
       "          0,   0,   0,   0,   0,   0,   0,   0,   0,   0,   0,   0,   0,\n",
       "          0,   0,   0,   0,   0,   0,   0,   0,   0,   0,   0,   0,   0,\n",
       "          0,   0,   0,   0,   0,   0,   0,   0,   0,   0,   0,   0,   0,\n",
       "          0,   0,   0,   0,   0,   0,   0,   0,   0,   0,   0,   0,   0,\n",
       "          0,   0,   0,   0,   0,   0,   0,   0,   0,   0,   0,   0,   0,\n",
       "          0,   0,   0,   0,   0,   0,   0,   0,   0,   0,   0,   0,   0,\n",
       "          0,   0,   0,   0,   0,   0,   0,   0,   0,   0,   0,   0,   0,\n",
       "          0,   0,   0,   0,   0,   0,   0,   0,   0,   0,   0,   0,   0,\n",
       "          0,   0,   0,   0,   0,   0,   0,   0,   0,   0,   0,   0,   0,\n",
       "          0,   0,   0,   0,   0,   0,   0,   0,   0,   0,   0,   0,   0,\n",
       "          0,   0,   0,   0,   0,   0,   0,   0,   0,   0,   0,   0,   0,\n",
       "          0,   0,   0,   0,   0,   0,   0,   0,   0,   0,   0,   0,   0,\n",
       "          0,   0,   0,   0,   0,   0,   0,   0,   0,   0,   0,   0,   0,\n",
       "          0,   0,   0,   0,   0,   0,   0,   0,   0,   0,   0,   0,   0,\n",
       "          0,   0,   0,   0,   0]),\n",
       " array([0., 0., 0., 0., 0., 0., 0., 0., 0., 1.]))"
      ]
     },
     "execution_count": 653,
     "metadata": {},
     "output_type": "execute_result"
    }
   ],
   "source": [
    "X_test[0], y_test[0]"
   ]
  },
  {
   "cell_type": "code",
   "execution_count": 654,
   "metadata": {},
   "outputs": [
    {
     "name": "stderr",
     "output_type": "stream",
     "text": [
      "100%|██████████| 1677/1677 [00:00<00:00, 336805.58it/s]\n"
     ]
    }
   ],
   "source": [
    "y_pred1 = np.zeros(shape = y_pred.shape)\n",
    "for i in tqdm(range(len(y_pred1))):\n",
    "    y_pred1[i][np.argmax(y_pred[i])]=1    "
   ]
  },
  {
   "cell_type": "code",
   "execution_count": 655,
   "metadata": {},
   "outputs": [
    {
     "data": {
      "text/plain": [
       "array([0., 0., 0., 0., 0., 0., 0., 0., 0., 1.])"
      ]
     },
     "execution_count": 655,
     "metadata": {},
     "output_type": "execute_result"
    }
   ],
   "source": [
    "y_pred1[0]"
   ]
  },
  {
   "cell_type": "code",
   "execution_count": 656,
   "metadata": {},
   "outputs": [
    {
     "name": "stdout",
     "output_type": "stream",
     "text": [
      "\n",
      " Classification Report : \n",
      "               precision    recall  f1-score   support\n",
      "\n",
      "           0       0.79      0.86      0.82       792\n",
      "           1       0.40      0.34      0.37        50\n",
      "           2       0.24      0.11      0.15        55\n",
      "           3       0.46      0.33      0.39        51\n",
      "           4       0.81      0.54      0.64        54\n",
      "           5       0.25      0.14      0.18        50\n",
      "           6       0.45      0.14      0.21        36\n",
      "           7       0.55      0.81      0.65       109\n",
      "           8       0.70      0.65      0.67        54\n",
      "           9       0.60      0.59      0.60       426\n",
      "\n",
      "   micro avg       0.68      0.68      0.68      1677\n",
      "   macro avg       0.52      0.45      0.47      1677\n",
      "weighted avg       0.66      0.68      0.66      1677\n",
      " samples avg       0.68      0.68      0.68      1677\n",
      "\n"
     ]
    }
   ],
   "source": [
    "print(\"\\n\",\"Classification Report :\",\"\\n\",classification_report(y_test,y_pred1))"
   ]
  },
  {
   "cell_type": "code",
   "execution_count": 657,
   "metadata": {},
   "outputs": [],
   "source": [
    "a_t = onehot_encoder.inverse_transform(y_test)\n",
    "a_t1= onehot_encoder.inverse_transform(y_pred1)"
   ]
  },
  {
   "cell_type": "code",
   "execution_count": 658,
   "metadata": {},
   "outputs": [
    {
     "name": "stdout",
     "output_type": "stream",
     "text": [
      "\n",
      " Confusion Matrix : \n",
      " [[682   8   8   7   2   2   1   1   1  80]\n",
      " [  7  17   0   2   0   2   0   5   2  15]\n",
      " [ 25   0   6   0   0   7   0   0   0  17]\n",
      " [ 19   0   0  17   0   1   0   0   0  14]\n",
      " [  4   1   2   5  29   5   0   0   0   8]\n",
      " [ 27   0   4   3   0   7   0   0   0   9]\n",
      " [  0   0   0   0   0   0   5  15   6  10]\n",
      " [  2   1   0   0   0   0   3  88   4  11]\n",
      " [  5   1   1   0   1   0   0   5  35   6]\n",
      " [ 92  15   4   3   4   4   2  47   2 253]]\n"
     ]
    }
   ],
   "source": [
    "print(\"\\n\",\"Confusion Matrix :\",\"\\n\",confusion_matrix(a_t,a_t1))"
   ]
  },
  {
   "cell_type": "code",
   "execution_count": 659,
   "metadata": {},
   "outputs": [
    {
     "data": {
      "text/plain": [
       "<matplotlib.axes._subplots.AxesSubplot at 0x1906e05de08>"
      ]
     },
     "execution_count": 659,
     "metadata": {},
     "output_type": "execute_result"
    },
    {
     "data": {
      "image/png": "[encoded data removed]",
      "text/plain": [
       "<Figure size 432x288 with 2 Axes>"
      ]
     },
     "metadata": {
      "needs_background": "light"
     },
     "output_type": "display_data"
    }
   ],
   "source": [
    "sns.heatmap(confusion_matrix(a_t,a_t1), cmap=\"Blues\")"
   ]
  },
  {
   "cell_type": "code",
   "execution_count": 1,
   "metadata": {},
   "outputs": [],
   "source": [
    "from PreProcessor.Preprocessor import Data\n",
    "data = Data()"
   ]
  }
 ],
 "metadata": {
  "accelerator": "GPU",
  "colab": {
   "name": "Capstone_Project_NLP_EDA.ipynb",
   "provenance": []
  },
  "kernelspec": {
   "display_name": "Python 3",
   "language": "python",
   "name": "python3"
  },
  "language_info": {
   "codemirror_mode": {
    "name": "ipython",
    "version": 3
   },
   "file_extension": ".py",
   "mimetype": "text/x-python",
   "name": "python",
   "nbconvert_exporter": "python",
   "pygments_lexer": "ipython3",
   "version": "3.7.3"
  }
 },
 "nbformat": 4,
 "nbformat_minor": 1
}
