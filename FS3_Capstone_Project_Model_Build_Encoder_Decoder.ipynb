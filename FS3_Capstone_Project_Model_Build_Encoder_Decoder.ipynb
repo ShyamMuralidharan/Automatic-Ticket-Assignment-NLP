{
 "cells": [
  {
   "cell_type": "markdown",
   "metadata": {
    "colab_type": "text",
    "id": "XOGDnlzvIINi"
   },
   "source": [
    "### Model Building "
   ]
  },
  {
   "cell_type": "code",
   "execution_count": 1,
   "metadata": {
    "colab": {},
    "colab_type": "code",
    "id": "x6viTKPwIINj"
   },
   "outputs": [
    {
     "name": "stderr",
     "output_type": "stream",
     "text": [
      "Using TensorFlow backend.\n"
     ]
    }
   ],
   "source": [
    "# Import all libraries\n",
    "import pandas as pd\n",
    "import numpy as np\n",
    "import matplotlib.pyplot as plt\n",
    "%matplotlib inline\n",
    "from tensorflow.keras.preprocessing.text import Tokenizer\n",
    "from tqdm import tqdm\n",
    "from sklearn.model_selection import train_test_split\n",
    "from tensorflow.keras.preprocessing.sequence import pad_sequences\n",
    "from tensorflow.keras.layers import Conv1D, MaxPooling1D,Layer,Dense, Input, LSTM, Embedding, Dropout, Activation, Flatten, Bidirectional, GlobalMaxPool1D, Add, RepeatVector, TimeDistributed,concatenate\n",
    "from tensorflow.keras.models import Model, Sequential\n",
    "from sklearn.preprocessing import OneHotEncoder\n",
    "from tensorflow.keras.callbacks import EarlyStopping, ReduceLROnPlateau\n",
    "import keras.backend as K\n",
    "from tensorflow.keras.optimizers import Adam \n",
    "from tensorflow.keras import regularizers\n",
    "#from tensorflow.compact.v1.keras.layers import Attention"
   ]
  },
  {
   "cell_type": "markdown",
   "metadata": {
    "colab": {
     "base_uri": "https://localhost:8080/",
     "height": 34
    },
    "colab_type": "code",
    "id": "LAZDn3XpIbxA",
    "outputId": "80fbc1ff-bd5a-4d8b-8620-dd6241818e3f"
   },
   "source": [
    "from google.colab import drive\n",
    "drive.mount('/content/drive')"
   ]
  },
  {
   "cell_type": "code",
   "execution_count": 2,
   "metadata": {
    "colab": {},
    "colab_type": "code",
    "id": "ONr3hvqNIINo"
   },
   "outputs": [],
   "source": [
    "df = pd.read_excel('D5(InputData)_processed_trimmed_data.xlsx',sheet_name='Sheet1',encoding=\"utf-8\",dtype=\"str\")"
   ]
  },
  {
   "cell_type": "code",
   "execution_count": 15,
   "metadata": {
    "colab": {},
    "colab_type": "code",
    "id": "AOQ8hatjIINq"
   },
   "outputs": [],
   "source": [
    "maxlen_s = 50\n",
    "maxlen_l = 100\n",
    "embedding_size = 200\n",
    "numword1 = 6000\n",
    "numword2 = 8000\n",
    "numword3 = 13000"
   ]
  },
  {
   "cell_type": "code",
   "execution_count": 16,
   "metadata": {
    "colab": {},
    "colab_type": "code",
    "id": "EJSapq5dIINs"
   },
   "outputs": [],
   "source": [
    "def prepare_token(data,numword):\n",
    "  t = Tokenizer(num_words=numword)\n",
    "  t.fit_on_texts(data)\n",
    "  print(\"Tokenization process...F1.2..\", len(t.word_index)) \n",
    "  return (t)"
   ]
  },
  {
   "cell_type": "code",
   "execution_count": 17,
   "metadata": {
    "colab": {},
    "colab_type": "code",
    "id": "nXb-1tM7aFc3"
   },
   "outputs": [],
   "source": [
    "class attention(Layer):\n",
    "    def __init__(self,**kwargs):\n",
    "        super(attention,self).__init__(**kwargs)\n",
    "\n",
    "    def build(self,input_shape):\n",
    "        self.W=self.add_weight(name=\"att_weight\",shape=(input_shape[-1],1),initializer=\"normal\")\n",
    "        self.b=self.add_weight(name=\"att_bias\",shape=(input_shape[1],1),initializer=\"zeros\")        \n",
    "        super(attention, self).build(input_shape)\n",
    "\n",
    "    def call(self,x):\n",
    "        et=K.squeeze(K.tanh(K.dot(x,self.W)+self.b),axis=-1)\n",
    "        at=K.softmax(et)\n",
    "        at=K.expand_dims(at,axis=-1)\n",
    "        output=x*at\n",
    "        return K.sum(output,axis=1)\n",
    "\n",
    "    def compute_output_shape(self,input_shape):\n",
    "        return (input_shape[0],input_shape[-1])\n",
    "\n",
    "    def get_config(self):\n",
    "        return super(attention,self).get_config()"
   ]
  },
  {
   "cell_type": "code",
   "execution_count": 18,
   "metadata": {},
   "outputs": [],
   "source": [
    "def Glv_model(data,t):\n",
    "  #print(\"Preparing GloVe vector...F1.3 .. token as input\", len(t.word_index))\n",
    "  embeddings = {}  \n",
    "  if len(embeddings)==0:\n",
    "    EMBEDDING_FILE = 'glove.6B.200d.txt'\n",
    "    embeddings = dict()\n",
    "    f = open(EMBEDDING_FILE,encoding='Latin-1')\n",
    "    for line in (f):\n",
    "        values = line.split()\n",
    "        word = values[0]\n",
    "        coefs = np.asarray(values[1:])\n",
    "        embeddings[word] = coefs\n",
    "    f.close()\n",
    "  print(\"Glove being used:\",len(embeddings))\n",
    "  \n",
    "  word_index = t.word_index\n",
    "  print(\"t.word_index shape\", len(t.word_index))  \n",
    "  embedding_matrix = np.zeros((t.num_words, embedding_size))\n",
    "  #print(\"Embedding Matrix Shape : \", embedding_matrix.shape )\n",
    "  for word, i in tqdm(word_index.items()):\n",
    "    if i < t.num_words:\n",
    "        embedding_vector = embeddings.get(word)\n",
    "        if embedding_vector is not None: \n",
    "            embedding_matrix[i] = embedding_vector\n",
    "            #if i < 2 : print(i,embedding_matrix[i])\n",
    "  return(embedding_matrix)"
   ]
  },
  {
   "cell_type": "code",
   "execution_count": 19,
   "metadata": {
    "colab": {
     "base_uri": "https://localhost:8080/",
     "height": 152
    },
    "colab_type": "code",
    "id": "VxoReVmtWtmE",
    "outputId": "9ddc46d2-c624-4ea1-9a1d-b59ea353291e"
   },
   "outputs": [
    {
     "name": "stdout",
     "output_type": "stream",
     "text": [
      "Tokenization process...F1.2.. 13923\n"
     ]
    },
    {
     "name": "stderr",
     "output_type": "stream",
     "text": [
      "  8%|▊         | 1117/13923 [00:00<00:01, 10742.27it/s]"
     ]
    },
    {
     "name": "stdout",
     "output_type": "stream",
     "text": [
      "Glove being used: 399955\n",
      "t.word_index shape 13923\n"
     ]
    },
    {
     "name": "stderr",
     "output_type": "stream",
     "text": [
      "100%|██████████| 13923/13923 [00:00<00:00, 25231.24it/s]\n"
     ]
    }
   ],
   "source": [
    "#Tokenization and Embedding Process\n",
    "\n",
    "#t1 = prepare_token(df[\"trimmed_words_short\"],numword1)\n",
    "#t2 = prepare_token(df[\"trimmed_words_long\"],numword2)\n",
    "t3 = prepare_token(df[\"trimmed_words_short\"]+\" \"+df[\"trimmed_words_long\"],numword3)\n",
    "\n",
    "#embedding_matrix1 = Glv_model(df[\"trimmed_words_short\"],t1)\n",
    "#embedding_matrix2 = Glv_model(df[\"trimmed_words_long\"],t2)\n",
    "embedding_matrix3 = Glv_model(df[\"trimmed_words_short\"]+\" \"+df[\"trimmed_words_long\"],t3)\n",
    "\n"
   ]
  },
  {
   "cell_type": "code",
   "execution_count": 20,
   "metadata": {},
   "outputs": [
    {
     "data": {
      "text/plain": [
       "8373"
      ]
     },
     "execution_count": 20,
     "metadata": {},
     "output_type": "execute_result"
    }
   ],
   "source": [
    "len(df[\"trimmed_words_short\"]+\" \"+df[\"trimmed_words_long\"])"
   ]
  },
  {
   "cell_type": "code",
   "execution_count": 21,
   "metadata": {},
   "outputs": [
    {
     "name": "stdout",
     "output_type": "stream",
     "text": [
      "13000\n",
      "13923\n"
     ]
    }
   ],
   "source": [
    "#print(t1.num_words)\n",
    "#print(len(t1.word_counts))\n",
    "#print(t2.num_words)\n",
    "#print(len(t2.word_counts))\n",
    "print(t3.num_words)\n",
    "print(len(t3.word_counts))\n",
    "\n"
   ]
  },
  {
   "cell_type": "code",
   "execution_count": 22,
   "metadata": {
    "colab": {
     "base_uri": "https://localhost:8080/",
     "height": 85
    },
    "colab_type": "code",
    "id": "TNplXyXlhW09",
    "outputId": "b3c8fe79-0607-4dbb-a606-52e15dfe781e"
   },
   "outputs": [
    {
     "name": "stdout",
     "output_type": "stream",
     "text": [
      "X_train_s Shape :  (6698, 50)\n",
      "X_train_l Shape :  (6698, 100)\n",
      "y_train Shape :  (6698, 74)\n",
      "Group counts :  74 10 18 36\n"
     ]
    }
   ],
   "source": [
    "## Data Preparation\n",
    "X_short_t = t3.texts_to_sequences(df[\"trimmed_words_short\"])\n",
    "X_long_t = t3.texts_to_sequences(df[\"trimmed_words_long\"])\n",
    "X_short = pad_sequences(X_short_t, maxlen=maxlen_s, padding = 'post', truncating = 'post')\n",
    "X_long = pad_sequences(X_long_t, maxlen=maxlen_l, padding = 'post', truncating = 'post')\n",
    "\n",
    "onehot_encoder = OneHotEncoder(sparse=False)\n",
    "#values = np.array(values).reshape(len(values),1)\n",
    "y = onehot_encoder.fit_transform(np.array(df[\"Assignment group\"]).reshape(len(df[\"Assignment group\"]),1))\n",
    "y_75 = onehot_encoder.fit_transform(np.array(df[\"new_group_75\"]).reshape(len(df[\"new_group_75\"]),1))\n",
    "y_85 = onehot_encoder.fit_transform(np.array(df[\"new_group_85\"]).reshape(len(df[\"new_group_85\"]),1))\n",
    "y_95 = onehot_encoder.fit_transform(np.array(df[\"new_group_95\"]).reshape(len(df[\"new_group_95\"]),1))\n",
    "\n",
    "Groups = len(df[\"Assignment group\"].value_counts())\n",
    "Groups_75 = len(df[\"new_group_75\"].value_counts())\n",
    "Groups_85 = len(df[\"new_group_85\"].value_counts())\n",
    "Groups_95 = len(df[\"new_group_95\"].value_counts())\n",
    "\n",
    "# Split features into training and validation sets\n",
    "X_train_s, X_val_s, X_train_l,  X_val_l, y_train, y_val,y_train_75,y_val_75,y_train_85,y_val_85,y_train_95,y_val_95 = train_test_split(X_short,X_long,y,y_75,y_85,y_95, test_size=0.20, random_state=15)\n",
    "\n",
    "print(\"X_train_s Shape : \",X_train_s.shape)\n",
    "print(\"X_train_l Shape : \",X_train_l.shape)\n",
    "print(\"y_train Shape : \",y_train.shape)\n",
    "print(\"Group counts : \",Groups,Groups_75,Groups_85,Groups_95)\n"
   ]
  },
  {
   "cell_type": "code",
   "execution_count": 23,
   "metadata": {},
   "outputs": [
    {
     "data": {
      "text/plain": [
       "(array([ 9, 20, 16, 46,  0,  0,  0,  0,  0,  0,  0,  0,  0,  0,  0,  0,  0,\n",
       "         0,  0,  0,  0,  0,  0,  0,  0,  0,  0,  0,  0,  0,  0,  0,  0,  0,\n",
       "         0,  0,  0,  0,  0,  0,  0,  0,  0,  0,  0,  0,  0,  0,  0,  0]),\n",
       " array([  48,    9,   20,   16,   46,  477,  183,   49,   35,  768,   65,\n",
       "         165,   39,   66,  291,   22,  989,   19,  404,  990,  220,  584,\n",
       "         508, 1662,    0,    0,    0,    0,    0,    0,    0,    0,    0,\n",
       "           0,    0,    0,    0,    0,    0,    0,    0,    0,    0,    0,\n",
       "           0,    0,    0,    0,    0,    0,    0,    0,    0,    0,    0,\n",
       "           0,    0,    0,    0,    0,    0,    0,    0,    0,    0,    0,\n",
       "           0,    0,    0,    0,    0,    0,    0,    0,    0,    0,    0,\n",
       "           0,    0,    0,    0,    0,    0,    0,    0,    0,    0,    0,\n",
       "           0,    0,    0,    0,    0,    0,    0,    0,    0,    0,    0,\n",
       "           0]),\n",
       " 'unable login company vpn')"
      ]
     },
     "execution_count": 23,
     "metadata": {},
     "output_type": "execute_result"
    }
   ],
   "source": [
    "X_short[16],X_long[16],df[\"trimmed_words_short\"][16]"
   ]
  },
  {
   "cell_type": "code",
   "execution_count": 24,
   "metadata": {},
   "outputs": [
    {
     "data": {
      "text/plain": [
       "GRP_0       3954\n",
       "GRP_9999    1174\n",
       "GRP_8        661\n",
       "GRP_24       289\n",
       "GRP_12       257\n",
       "GRP_9        252\n",
       "GRP_2        241\n",
       "GRP_19       213\n",
       "GRP_3        200\n",
       "GRP_6        184\n",
       "GRP_13       144\n",
       "GRP_10       139\n",
       "GRP_5        129\n",
       "GRP_14       118\n",
       "GRP_25       116\n",
       "GRP_33       106\n",
       "GRP_4        100\n",
       "GRP_29        96\n",
       "Name: new_group_85, dtype: int64"
      ]
     },
     "execution_count": 24,
     "metadata": {},
     "output_type": "execute_result"
    }
   ],
   "source": [
    "df[\"new_group_85\"].value_counts()"
   ]
  },
  {
   "cell_type": "code",
   "execution_count": 25,
   "metadata": {
    "colab": {
     "base_uri": "https://localhost:8080/",
     "height": 626
    },
    "colab_type": "code",
    "id": "TSr3Zn2T1dlq",
    "outputId": "194c1ba2-488c-4129-f029-ac93a1f352d4"
   },
   "outputs": [
    {
     "name": "stdout",
     "output_type": "stream",
     "text": [
      "Model: \"model_2\"\n",
      "__________________________________________________________________________________________________\n",
      "Layer (type)                    Output Shape         Param #     Connected to                     \n",
      "==================================================================================================\n",
      "1.0_Input_Layer (InputLayer)    [(None, 50)]         0                                            \n",
      "__________________________________________________________________________________________________\n",
      "2.0_Input_Layer (InputLayer)    [(None, 100)]        0                                            \n",
      "__________________________________________________________________________________________________\n",
      "1.1_Embedding (Embedding)       (None, 50, 200)      2600000     1.0_Input_Layer[0][0]            \n",
      "__________________________________________________________________________________________________\n",
      "2.1_Embedding (Embedding)       (None, 100, 200)     2600000     2.0_Input_Layer[0][0]            \n",
      "__________________________________________________________________________________________________\n",
      "1.2_Bidirectional (Bidirectiona (None, 50, 100)      100400      1.1_Embedding[0][0]              \n",
      "__________________________________________________________________________________________________\n",
      "2.2_Bidirectional (Bidirectiona (None, 100, 100)     100400      2.1_Embedding[0][0]              \n",
      "__________________________________________________________________________________________________\n",
      "1.3_TimeDense (TimeDistributed) (None, 50, 50)       5050        1.2_Bidirectional[0][0]          \n",
      "__________________________________________________________________________________________________\n",
      "2.3_Dense (Dense)               (None, 100, 50)      5050        2.2_Bidirectional[0][0]          \n",
      "__________________________________________________________________________________________________\n",
      "dropout_4 (Dropout)             (None, 50, 50)       0           1.3_TimeDense[0][0]              \n",
      "__________________________________________________________________________________________________\n",
      "dropout_5 (Dropout)             (None, 100, 50)      0           2.3_Dense[0][0]                  \n",
      "__________________________________________________________________________________________________\n",
      "1.5_Flatten (Flatten)           (None, 2500)         0           dropout_4[0][0]                  \n",
      "__________________________________________________________________________________________________\n",
      "2.4_Flatten (Flatten)           (None, 5000)         0           dropout_5[0][0]                  \n",
      "__________________________________________________________________________________________________\n",
      "3.1_concatenate_heading (Concat (None, 7500)         0           1.5_Flatten[0][0]                \n",
      "                                                                 2.4_Flatten[0][0]                \n",
      "__________________________________________________________________________________________________\n",
      "3.3_Dense (Dense)               (None, 10)           75010       3.1_concatenate_heading[0][0]    \n",
      "==================================================================================================\n",
      "Total params: 5,485,910\n",
      "Trainable params: 285,910\n",
      "Non-trainable params: 5,200,000\n",
      "__________________________________________________________________________________________________\n"
     ]
    }
   ],
   "source": [
    "## Build the Model\n",
    "\n",
    "# Model with Short description..............\n",
    "short_desc_input = Input(shape=(maxlen_s,), dtype='int32',name = \"1.0_Input_Layer\")\n",
    "embedded_sequences = Embedding(t3.num_words, embedding_size,weights = [embedding_matrix3], trainable = False, name='1.1_Embedding')(short_desc_input)\n",
    "short_lstm = Bidirectional(LSTM(50, return_sequences=True, dropout=0.2),name = \"1.2_Bidirectional\")(embedded_sequences)\n",
    "#attn = attention()(short_lstm)\n",
    "short_dense = TimeDistributed(Dense(50),name = \"1.3_TimeDense\")(short_lstm)\n",
    "#attn = attention(name = \"1.4_attention\")(short_dense)\n",
    "dropout1 = Dropout(0.3)(short_dense)\n",
    "short_flatten = Flatten(name=\"1.5_Flatten\")(dropout1)\n",
    "\n",
    "# Model with Long description..............\n",
    "long_input = Input(shape=(maxlen_l,), dtype='int32',name = \"2.0_Input_Layer\")\n",
    "long_embedded_sequences = Embedding(t3.num_words, embedding_size,weights = [embedding_matrix3], trainable = False, name='2.1_Embedding')(long_input)\n",
    "long_lstm = Bidirectional(LSTM(50, return_sequences=True, dropout = 0.2),name = \"2.2_Bidirectional\")(long_embedded_sequences)\n",
    "long_dense = Dense(50, activation='relu',name = \"2.3_Dense\",\n",
    "                   kernel_regularizer=regularizers.l1_l2(l1=0.001, l2=0.001))(long_lstm)\n",
    "dropout2 = Dropout(0.3)(long_dense)\n",
    "long_flatten = Flatten(name = \"2.4_Flatten\")(dropout2)\n",
    "\n",
    "#Concate both the end Layers ....................\n",
    "description_output = concatenate([short_flatten, long_flatten], name='3.1_concatenate_heading')\n",
    "preds = Dense(10, activation='softmax',name = \"3.3_Dense\")(description_output)\n",
    "\n",
    "#Final model and compiling.................\n",
    "model = Model([short_desc_input, long_input], [preds])\n",
    "model.compile(loss='categorical_crossentropy', optimizer=Adam(lr=0.001, beta_1=0.9, beta_2=0.999, decay=0.001), metrics=['accuracy', 'mse'])\n",
    "model.summary()  \n"
   ]
  },
  {
   "cell_type": "code",
   "execution_count": 26,
   "metadata": {
    "colab": {
     "base_uri": "https://localhost:8080/",
     "height": 865
    },
    "colab_type": "code",
    "id": "T8DSZr4iZLR3",
    "outputId": "2e007391-eecb-44bf-ac15-6021a8831e3f",
    "scrolled": false
   },
   "outputs": [
    {
     "name": "stdout",
     "output_type": "stream",
     "text": [
      "WARNING:tensorflow:From C:\\Users\\deppr\\.conda\\envs\\gpu_v2\\lib\\site-packages\\tensorflow_core\\python\\ops\\math_grad.py:1424: where (from tensorflow.python.ops.array_ops) is deprecated and will be removed in a future version.\n",
      "Instructions for updating:\n",
      "Use tf.where in 2.0, which has the same broadcast rule as np.where\n",
      "Train on 6698 samples, validate on 1675 samples\n",
      "Epoch 1/200\n",
      "6698/6698 [==============================] - 596s 89ms/sample - loss: 1.2658 - acc: 0.6266 - mean_squared_error: 0.0506 - val_loss: 1.0369 - val_acc: 0.6645 - val_mean_squared_error: 0.0459\n",
      "Epoch 2/200\n",
      "6698/6698 [==============================] - 595s 89ms/sample - loss: 0.9320 - acc: 0.6848 - mean_squared_error: 0.0425 - val_loss: 0.9613 - val_acc: 0.6794 - val_mean_squared_error: 0.0436\n",
      "Epoch 3/200\n",
      "6698/6698 [==============================] - 567s 85ms/sample - loss: 0.8451 - acc: 0.7081 - mean_squared_error: 0.0396 - val_loss: 0.9333 - val_acc: 0.6860 - val_mean_squared_error: 0.0426\n",
      "Epoch 4/200\n",
      "6698/6698 [==============================] - 562s 84ms/sample - loss: 0.7845 - acc: 0.7292 - mean_squared_error: 0.0373 - val_loss: 0.9127 - val_acc: 0.6979 - val_mean_squared_error: 0.0416\n",
      "Epoch 5/200\n",
      "6698/6698 [==============================] - 554s 83ms/sample - loss: 0.7470 - acc: 0.7425 - mean_squared_error: 0.0357 - val_loss: 0.9132 - val_acc: 0.7015 - val_mean_squared_error: 0.0419\n",
      "Epoch 6/200\n",
      "6698/6698 [==============================] - 610s 91ms/sample - loss: 0.7270 - acc: 0.7451 - mean_squared_error: 0.0349 - val_loss: 0.9186 - val_acc: 0.6973 - val_mean_squared_error: 0.0420\n",
      "Epoch 7/200\n",
      "6698/6698 [==============================] - 591s 88ms/sample - loss: 0.6838 - acc: 0.7631 - mean_squared_error: 0.0329 - val_loss: 0.8994 - val_acc: 0.7045 - val_mean_squared_error: 0.0412\n",
      "Epoch 8/200\n",
      "6698/6698 [==============================] - 637s 95ms/sample - loss: 0.6788 - acc: 0.7607 - mean_squared_error: 0.0328 - val_loss: 0.8984 - val_acc: 0.7081 - val_mean_squared_error: 0.0412\n",
      "Epoch 9/200\n",
      "6698/6698 [==============================] - 626s 94ms/sample - loss: 0.6753 - acc: 0.7602 - mean_squared_error: 0.0327 - val_loss: 0.8979 - val_acc: 0.7081 - val_mean_squared_error: 0.0411\n",
      "Epoch 10/200\n",
      "6698/6698 [==============================] - 609s 91ms/sample - loss: 0.6681 - acc: 0.7649 - mean_squared_error: 0.0324 - val_loss: 0.8979 - val_acc: 0.7075 - val_mean_squared_error: 0.0411\n",
      "Epoch 11/200\n",
      "6698/6698 [==============================] - 586s 88ms/sample - loss: 0.6759 - acc: 0.7632 - mean_squared_error: 0.0326 - val_loss: 0.8979 - val_acc: 0.7075 - val_mean_squared_error: 0.0411\n"
     ]
    }
   ],
   "source": [
    "# Run the model....\n",
    "reduce_lr = (ReduceLROnPlateau(monitor='val_acc', factor=0.1,\n",
    "                              patience=1, min_lr=0.00000001))\n",
    "early_stop = (EarlyStopping(monitor='val_acc', patience= 3))\n",
    "\n",
    "history = model.fit([X_train_s,X_train_l], [y_train_75], \n",
    "                    validation_data=[[X_val_s,X_val_l],[y_val_75]], \n",
    "                    epochs=200, batch_size=4,callbacks= ([reduce_lr,early_stop]), verbose = 1)"
   ]
  },
  {
   "cell_type": "code",
   "execution_count": 27,
   "metadata": {
    "colab": {},
    "colab_type": "code",
    "id": "x_wu8MN1IIN1"
   },
   "outputs": [
    {
     "data": {
      "image/png": "[encoded data removed]",
      "text/plain": [
       "<Figure size 1080x432 with 3 Axes>"
      ]
     },
     "metadata": {
      "needs_background": "light"
     },
     "output_type": "display_data"
    }
   ],
   "source": [
    "fig = plt.figure(figsize = (15, 6))\n",
    "plt.subplot(1, 3, 1)\n",
    "plt.plot(history.history['acc'], label='Train Acc')\n",
    "plt.plot(history.history['val_acc'], label='Validation Acc')\n",
    "#print(\"\\n Data set : \"+D+\" & \"+T+\";  No of Output Groups: \"+str(Groups)+\" ; GloVe vector used : \"+glv+\"; Attention :\"+attention1)\n",
    "plt.title(\"Accuracy\")\n",
    "plt.legend()\n",
    "plt.grid()\n",
    "\n",
    "plt.subplot(1, 3, 2)\n",
    "plt.plot(history.history['loss'], label='Train loss')\n",
    "plt.plot(history.history['val_loss'], label='Validation loss')\n",
    "plt.title(\"Loss\")\n",
    "plt.legend()\n",
    "plt.grid()\n",
    "\n",
    "plt.subplot(1, 3, 3)\n",
    "plt.plot(history.history['lr'], label='Learninig Rate')\n",
    "plt.title(\"Learning Rate\")\n",
    "plt.legend()\n",
    "plt.grid()\n",
    "\n",
    "\n",
    "plt.show()"
   ]
  },
  {
   "cell_type": "code",
   "execution_count": null,
   "metadata": {},
   "outputs": [],
   "source": []
  }
 ],
 "metadata": {
  "accelerator": "GPU",
  "colab": {
   "collapsed_sections": [],
   "name": "Capstone_Project_Model_Build_V8.ipynb",
   "provenance": []
  },
  "kernelspec": {
   "display_name": "Python 3",
   "language": "python",
   "name": "python3"
  },
  "language_info": {
   "codemirror_mode": {
    "name": "ipython",
    "version": 3
   },
   "file_extension": ".py",
   "mimetype": "text/x-python",
   "name": "python",
   "nbconvert_exporter": "python",
   "pygments_lexer": "ipython3",
   "version": "3.7.6"
  }
 },
 "nbformat": 4,
 "nbformat_minor": 1
}
