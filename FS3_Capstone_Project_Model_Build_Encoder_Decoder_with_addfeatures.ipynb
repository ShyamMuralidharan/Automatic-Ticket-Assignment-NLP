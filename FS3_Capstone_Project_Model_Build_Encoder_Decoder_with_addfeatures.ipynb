{
 "cells": [
  {
   "cell_type": "markdown",
   "metadata": {
    "colab_type": "text",
    "id": "XOGDnlzvIINi"
   },
   "source": [
    "### Model Building "
   ]
  },
  {
   "cell_type": "code",
   "execution_count": 23,
   "metadata": {
    "colab": {
     "base_uri": "https://localhost:8080/",
     "height": 34
    },
    "colab_type": "code",
    "id": "x6viTKPwIINj",
    "outputId": "c442052c-4cf0-4f3e-cb6c-e94ab90e7d23"
   },
   "outputs": [
    {
     "name": "stdout",
     "output_type": "stream",
     "text": [
      "2.1.0\n"
     ]
    }
   ],
   "source": [
    "# Import all libraries\n",
    "import pandas as pd\n",
    "import numpy as np\n",
    "import matplotlib.pyplot as plt\n",
    "%matplotlib inline\n",
    "from tensorflow.keras.preprocessing.text import Tokenizer\n",
    "from tqdm import tqdm\n",
    "from sklearn.model_selection import train_test_split\n",
    "from tensorflow.keras.preprocessing.sequence import pad_sequences\n",
    "from tensorflow.keras.layers import Conv1D, MaxPooling1D,Layer,Dense, Input, LSTM,Embedding, Dropout, Activation, Flatten, Bidirectional, GlobalMaxPool1D, Add, RepeatVector, TimeDistributed,concatenate\n",
    "from tensorflow.keras.models import Model, Sequential\n",
    "from sklearn.preprocessing import OneHotEncoder\n",
    "from tensorflow.keras.callbacks import EarlyStopping, ReduceLROnPlateau\n",
    "import keras.backend as K\n",
    "from tensorflow.keras.optimizers import Adam \n",
    "from tensorflow.keras import regularizers\n",
    "#from tensorflow.compact.v1.keras.layers import Attention\n",
    "from imblearn.over_sampling import SMOTE\n",
    "from imblearn.under_sampling import NearMiss\n",
    "import tensorflow as tf\n",
    "print(tf.__version__)"
   ]
  },
  {
   "cell_type": "code",
   "execution_count": 3,
   "metadata": {
    "colab": {
     "base_uri": "https://localhost:8080/",
     "height": 34
    },
    "colab_type": "code",
    "id": "LAZDn3XpIbxA",
    "outputId": "c94c1dd6-1b86-451c-b1c4-37446fd96542"
   },
   "outputs": [
    {
     "name": "stdout",
     "output_type": "stream",
     "text": [
      "Mounted at /content/drive\n"
     ]
    }
   ],
   "source": [
    "from google.colab import drive\n",
    "drive.mount('/content/drive', force_remount=True)"
   ]
  },
  {
   "cell_type": "code",
   "execution_count": 28,
   "metadata": {
    "colab": {},
    "colab_type": "code",
    "id": "ONr3hvqNIINo"
   },
   "outputs": [],
   "source": [
    "df = pd.read_excel('/content/drive/My Drive/D5.1(InputData)_processed_trimmed_data_all_columns.xlsx',sheet_name='Sheet1',encoding=\"utf-8\",dtype=\"str\")"
   ]
  },
  {
   "cell_type": "code",
   "execution_count": 29,
   "metadata": {
    "colab": {},
    "colab_type": "code",
    "id": "mCGiGRjmOi-N"
   },
   "outputs": [],
   "source": [
    "#df = df[df[\"email_type\"]!=\"monitoring_tool\"]\n",
    "#df = df[df[\"Assignment group\"]!=\"GRP_0\"]\n",
    "#df = df[df[\"new_group_75\"]!=\"GRP_9999\"]\n"
   ]
  },
  {
   "cell_type": "code",
   "execution_count": 30,
   "metadata": {
    "colab": {},
    "colab_type": "code",
    "id": "SDgVvxtEOi-Q"
   },
   "outputs": [],
   "source": [
    "df = df[[\"trimmed_words_short\",\n",
    "          \"trimmed_words_long\",\"Caller\",\"email_type\",\n",
    "         \"Assignment group\",\n",
    "         \"new_group_75\",\n",
    "         \"new_group_85\",\n",
    "         \"new_group_95\",\n",
    "         \"flg_account_related\",\n",
    "         \"flg_crm\",\n",
    "         \"flg_engineering\",\n",
    "         \"flg_erp\",\n",
    "         \"flg_failed\",\"flg_help\",\"flg_install\",\n",
    "        \"flg_job\",\"flg_laptop\",\"flg_mobile\",\n",
    "        \"flg_network\",\"flg_outlook\",\n",
    "        \"flg_printer\",\"flg_skype\",\n",
    "        \"flg_ticket_update\",\"flg_vpn\",\n",
    "        \"flg_windows\",\"host_related\",\n",
    "        \"blank_call\",\"setup_ws\"\n",
    "]]"
   ]
  },
  {
   "cell_type": "code",
   "execution_count": 31,
   "metadata": {
    "colab": {},
    "colab_type": "code",
    "id": "HGcr02OtOi-T"
   },
   "outputs": [],
   "source": [
    "df_features = df[[\"flg_account_related\",\n",
    "         \"flg_crm\",\n",
    "         \"flg_engineering\",\n",
    "         \"flg_erp\",\n",
    "         \"flg_failed\",\"flg_help\",\"flg_install\",\n",
    "        \"flg_job\",\"flg_laptop\",\"flg_mobile\",\n",
    "        \"flg_network\",\"flg_outlook\",\n",
    "        \"flg_printer\",\"flg_skype\",\n",
    "        \"flg_ticket_update\",\"flg_vpn\",\n",
    "        \"flg_windows\",\"host_related\",\n",
    "        \"blank_call\",\"setup_ws\"\n",
    "]]"
   ]
  },
  {
   "cell_type": "code",
   "execution_count": 32,
   "metadata": {
    "colab": {},
    "colab_type": "code",
    "id": "UomDReSTOi-W"
   },
   "outputs": [],
   "source": [
    "df[\"new_group_56\"] = df[\"new_group_75\"].apply(lambda x: \"GRP_0\" if x == \"GRP_8\" \n",
    "                                              else (\"GRP_0\" if x==\"GRP_0\" else \"GRP_L3\"))\n",
    "\n",
    "df1 = df[df[\"new_group_56\"]!=\"GRP_0\"]\n",
    "#df1 = df[df[\"new_group_56\"]!=\"GRP_9999\"]"
   ]
  },
  {
   "cell_type": "code",
   "execution_count": 33,
   "metadata": {
    "colab": {
     "base_uri": "https://localhost:8080/",
     "height": 205
    },
    "colab_type": "code",
    "id": "QzVKv6g6Oi-Z",
    "outputId": "d0821894-9fe9-4cfb-b734-802a0adeb9b7"
   },
   "outputs": [
    {
     "data": {
      "text/plain": [
       "GRP_0       3954\n",
       "GRP_9999    2122\n",
       "GRP_8        661\n",
       "GRP_24       289\n",
       "GRP_12       257\n",
       "GRP_9        252\n",
       "GRP_2        241\n",
       "GRP_19       213\n",
       "GRP_3        200\n",
       "GRP_6        184\n",
       "Name: new_group_75, dtype: int64"
      ]
     },
     "execution_count": 33,
     "metadata": {
      "tags": []
     },
     "output_type": "execute_result"
    }
   ],
   "source": [
    "df[\"new_group_75\"].value_counts()"
   ]
  },
  {
   "cell_type": "code",
   "execution_count": 34,
   "metadata": {
    "colab": {
     "base_uri": "https://localhost:8080/",
     "height": 68
    },
    "colab_type": "code",
    "id": "XRlA2f1cOi-f",
    "outputId": "8041aece-d07c-41c3-c4c8-403d43a99d29"
   },
   "outputs": [
    {
     "data": {
      "text/plain": [
       "GRP_0     4615\n",
       "GRP_L3    3758\n",
       "Name: new_group_56, dtype: int64"
      ]
     },
     "execution_count": 34,
     "metadata": {
      "tags": []
     },
     "output_type": "execute_result"
    }
   ],
   "source": [
    "df[\"new_group_56\"].value_counts()"
   ]
  },
  {
   "cell_type": "code",
   "execution_count": 35,
   "metadata": {
    "colab": {},
    "colab_type": "code",
    "id": "AOQ8hatjIINq"
   },
   "outputs": [],
   "source": [
    "maxlen_s = 30\n",
    "maxlen_l = 70\n",
    "maxlen_combo = 100\n",
    "embedding_size = 200\n",
    "numword1 = 2000\n",
    "numword2 = 2000\n",
    "numword3 = 3000"
   ]
  },
  {
   "cell_type": "code",
   "execution_count": 36,
   "metadata": {
    "colab": {},
    "colab_type": "code",
    "id": "EJSapq5dIINs"
   },
   "outputs": [],
   "source": [
    "def prepare_token(data,numword):\n",
    "  t = Tokenizer(num_words=numword)\n",
    "  t.fit_on_texts(data)\n",
    "  print(\"Tokenization process...F1.2..\", len(t.word_index)) \n",
    "  return (t)"
   ]
  },
  {
   "cell_type": "code",
   "execution_count": 37,
   "metadata": {
    "colab": {},
    "colab_type": "code",
    "id": "nXb-1tM7aFc3"
   },
   "outputs": [],
   "source": [
    "class attention(Layer):\n",
    "    def __init__(self,**kwargs):\n",
    "        super(attention,self).__init__(**kwargs)\n",
    "\n",
    "    def build(self,input_shape):\n",
    "        self.W=self.add_weight(name=\"att_weight\",shape=(input_shape[-1],1),initializer=\"normal\")\n",
    "        self.b=self.add_weight(name=\"att_bias\",shape=(input_shape[1],1),initializer=\"zeros\")        \n",
    "        super(attention, self).build(input_shape)\n",
    "\n",
    "    def call(self,x):\n",
    "        et=K.squeeze(K.tanh(K.dot(x,self.W)+self.b),axis=-1)\n",
    "        at=K.softmax(et)\n",
    "        at=K.expand_dims(at,axis=-1)\n",
    "        output=x*at\n",
    "        return K.sum(output,axis=1)\n",
    "\n",
    "    def compute_output_shape(self,input_shape):\n",
    "        return (input_shape[0],input_shape[-1])\n",
    "\n",
    "    def get_config(self):\n",
    "        return super(attention,self).get_config()"
   ]
  },
  {
   "cell_type": "code",
   "execution_count": 38,
   "metadata": {
    "colab": {},
    "colab_type": "code",
    "id": "r9DsCFEpOi-s"
   },
   "outputs": [],
   "source": [
    "def Glv_model(data,t):\n",
    "  #print(\"Preparing GloVe vector...F1.3 .. token as input\", len(t.word_index))\n",
    "  embeddings = {}  \n",
    "  if len(embeddings)==0:\n",
    "    EMBEDDING_FILE = '/content/drive/My Drive/AIML_Project_Files_Final/glove.6B.200d.txt'\n",
    "    embeddings = dict()\n",
    "    f = open(EMBEDDING_FILE,encoding='Latin-1')\n",
    "    for line in (f):\n",
    "        values = line.split()\n",
    "        word = values[0]\n",
    "        coefs = np.asarray(values[1:])\n",
    "        embeddings[word] = coefs\n",
    "    f.close()\n",
    "  print(\"Glove being used:\",len(embeddings))\n",
    "  \n",
    "  word_index = t.word_index\n",
    "  print(\"t.word_index shape\", len(t.word_index))  \n",
    "  embedding_matrix = np.zeros((t.num_words, embedding_size))\n",
    "  #print(\"Embedding Matrix Shape : \", embedding_matrix.shape )\n",
    "  for word, i in tqdm(word_index.items()):\n",
    "    if i < t.num_words:\n",
    "        embedding_vector = embeddings.get(word)\n",
    "        if embedding_vector is not None: \n",
    "            embedding_matrix[i] = embedding_vector\n",
    "            #if i < 2 : print(i,embedding_matrix[i])\n",
    "  return(embedding_matrix)"
   ]
  },
  {
   "cell_type": "code",
   "execution_count": 39,
   "metadata": {
    "colab": {
     "base_uri": "https://localhost:8080/",
     "height": 222
    },
    "colab_type": "code",
    "id": "VxoReVmtWtmE",
    "outputId": "d252de97-aa9d-459b-e2a7-5f8e5e584bc3"
   },
   "outputs": [
    {
     "name": "stdout",
     "output_type": "stream",
     "text": [
      "Tokenization process...F1.2.. 5809\n",
      "Tokenization process...F1.2.. 12988\n",
      "Tokenization process...F1.2.. 18440\n"
     ]
    },
    {
     "name": "stderr",
     "output_type": "stream",
     "text": [
      "100%|██████████| 5809/5809 [00:00<00:00, 45877.75it/s]"
     ]
    },
    {
     "name": "stdout",
     "output_type": "stream",
     "text": [
      "Glove being used: 399955\n",
      "t.word_index shape 5809\n"
     ]
    },
    {
     "name": "stderr",
     "output_type": "stream",
     "text": [
      "\n",
      "100%|██████████| 12988/12988 [00:00<00:00, 93714.89it/s]"
     ]
    },
    {
     "name": "stdout",
     "output_type": "stream",
     "text": [
      "Glove being used: 399955\n",
      "t.word_index shape 12988\n"
     ]
    },
    {
     "name": "stderr",
     "output_type": "stream",
     "text": [
      "\n",
      "100%|██████████| 18440/18440 [00:00<00:00, 105036.74it/s]"
     ]
    },
    {
     "name": "stdout",
     "output_type": "stream",
     "text": [
      "Glove being used: 399955\n",
      "t.word_index shape 18440\n"
     ]
    },
    {
     "name": "stderr",
     "output_type": "stream",
     "text": [
      "\n"
     ]
    }
   ],
   "source": [
    "#Tokenization and Embedding Process\n",
    "\n",
    "t1 = prepare_token(df[\"trimmed_words_short\"],numword1)\n",
    "t2 = prepare_token(df[\"trimmed_words_long\"],numword2)\n",
    "t3 = prepare_token(df[\"Caller\"]+\" \"+df[\"trimmed_words_short\"]+\" \"+df[\"trimmed_words_long\"],numword3)\n",
    "\n",
    "embedding_matrix1 = Glv_model(df[\"trimmed_words_short\"],t1)\n",
    "embedding_matrix2 = Glv_model(df[\"trimmed_words_long\"],t2)\n",
    "embedding_matrix3 = Glv_model(df[\"trimmed_words_short\"]+\" \"+df[\"trimmed_words_long\"],t3)\n",
    "\n"
   ]
  },
  {
   "cell_type": "code",
   "execution_count": 40,
   "metadata": {
    "colab": {
     "base_uri": "https://localhost:8080/",
     "height": 34
    },
    "colab_type": "code",
    "id": "oTo2RgLrOi-1",
    "outputId": "4f899679-095a-4ef2-8a06-ae6ca9584183"
   },
   "outputs": [
    {
     "data": {
      "text/plain": [
       "8373"
      ]
     },
     "execution_count": 40,
     "metadata": {
      "tags": []
     },
     "output_type": "execute_result"
    }
   ],
   "source": [
    "len(df[\"trimmed_words_short\"]+\" \"+df[\"trimmed_words_long\"])"
   ]
  },
  {
   "cell_type": "code",
   "execution_count": 41,
   "metadata": {
    "colab": {
     "base_uri": "https://localhost:8080/",
     "height": 120
    },
    "colab_type": "code",
    "id": "jZ3-G69zOi-4",
    "outputId": "af853449-6e19-4c1d-c139-731b5fa0baa2"
   },
   "outputs": [
    {
     "name": "stdout",
     "output_type": "stream",
     "text": [
      "2000\n",
      "5809\n",
      "2000\n",
      "12988\n",
      "3000\n",
      "18440\n"
     ]
    }
   ],
   "source": [
    "print(t1.num_words)\n",
    "print(len(t1.word_counts))\n",
    "print(t2.num_words)\n",
    "print(len(t2.word_counts))\n",
    "print(t3.num_words)\n",
    "print(len(t3.word_counts))\n",
    "\n"
   ]
  },
  {
   "cell_type": "code",
   "execution_count": 42,
   "metadata": {
    "colab": {
     "base_uri": "https://localhost:8080/",
     "height": 102
    },
    "colab_type": "code",
    "id": "TNplXyXlhW09",
    "outputId": "f64ac75f-c3f4-4cae-915f-8bc7960fbbb1"
   },
   "outputs": [
    {
     "name": "stdout",
     "output_type": "stream",
     "text": [
      "X_train_s Shape :  (6698, 30)\n",
      "X_train_l Shape :  (6698, 70)\n",
      "X_train_combo Shape :  (6698, 100)\n",
      "y_train Shape :  (6698, 74)\n",
      "Group counts :  74 10 18 36\n"
     ]
    }
   ],
   "source": [
    "oversample = SMOTE()\n",
    "undersample = NearMiss()\n",
    "## Data Preparation\n",
    "X_short_t = t3.texts_to_sequences(df[\"trimmed_words_short\"])\n",
    "X_long_t = t3.texts_to_sequences(df[\"trimmed_words_long\"])\n",
    "X_combo_t = t3.texts_to_sequences(df[\"Caller\"]+\" \"+df[\"trimmed_words_short\"]+\" \"+df[\"trimmed_words_long\"])\n",
    "X_features = np.array(df_features)\n",
    "\n",
    "X_short = pad_sequences(X_short_t, maxlen=maxlen_s, padding = 'post', truncating = 'post')\n",
    "X_long = pad_sequences(X_long_t, maxlen=maxlen_l, padding = 'post', truncating = 'post')\n",
    "X_combo = pad_sequences(X_combo_t,maxlen= maxlen_combo, padding = 'post', truncating='post')\n",
    "\n",
    "#X_short_u,y_u = undersample.fit_resample(X_short,df[\"new_group_75\"])\n",
    "#X_short_o,y_o = oversample.fit_resample(X_short,df[\"new_group_75\"])\n",
    "\n",
    "onehot_encoder1 = OneHotEncoder(sparse=False)\n",
    "y = onehot_encoder1.fit_transform(np.array(df[\"Assignment group\"]).reshape(len(df[\"Assignment group\"]),1))\n",
    "onehot_encoder2 = OneHotEncoder(sparse=False)\n",
    "y_75 = onehot_encoder2.fit_transform(np.array(df[\"new_group_75\"]).reshape(len(df[\"new_group_75\"]),1))\n",
    "onehot_encoder3 = OneHotEncoder(sparse=False)\n",
    "y_85 = onehot_encoder3.fit_transform(np.array(df[\"new_group_85\"]).reshape(len(df[\"new_group_85\"]),1))\n",
    "onehot_encoder4 = OneHotEncoder(sparse=False)\n",
    "y_95 = onehot_encoder4.fit_transform(np.array(df[\"new_group_95\"]).reshape(len(df[\"new_group_95\"]),1))\n",
    "#onehot_encoder5 = OneHotEncoder(sparse=False)\n",
    "#y_55 = onehot_encoder5.fit_transform(np.array(df[\"new_group_55\"]).reshape(len(df[\"new_group_55\"]),1))\n",
    "onehot_encoder6 = OneHotEncoder(sparse=False)\n",
    "y_56 = onehot_encoder6.fit_transform(np.array(df[\"new_group_56\"]).reshape(len(df[\"new_group_56\"]),1))\n",
    "\n",
    "\n",
    "Groups = len(df[\"Assignment group\"].value_counts())\n",
    "Groups_75 = len(df[\"new_group_75\"].value_counts())\n",
    "Groups_85 = len(df[\"new_group_85\"].value_counts())\n",
    "Groups_95 = len(df[\"new_group_95\"].value_counts())\n",
    "\n",
    "# Split features into training and validation sets\n",
    "#X_train_s, X_val_s, X_train_l,X_val_l,X_train_combo,X_val_combo, y_train, y_val,y_train_75,y_val_75,y_train_85,y_val_85,y_train_95,y_val_95,y_train_55,y_val_55,y_train_56,y_val_56 = train_test_split(X_short,X_long,X_combo,y,y_75,y_85,y_95,y_55,y_56, test_size=0.20, random_state=15)\n",
    "X_train_s, X_val_s, X_train_l,X_val_l,X_train_combo,X_val_combo,X_train_features,X_val_features, y_train, y_val,y_train_75,y_val_75,y_train_85,y_val_85,y_train_95,y_val_95,y_train_56,y_val_56 = train_test_split(X_short,X_long,X_combo,X_features,y,y_75,y_85,y_95,y_56, test_size=0.20, random_state=15)\n",
    "\n",
    "print(\"X_train_s Shape : \",X_train_s.shape)\n",
    "print(\"X_train_l Shape : \",X_train_l.shape)\n",
    "print(\"X_train_combo Shape : \",X_train_combo.shape)\n",
    "\n",
    "print(\"y_train Shape : \",y_train.shape)\n",
    "print(\"Group counts : \",Groups,Groups_75,Groups_85,Groups_95)\n"
   ]
  },
  {
   "cell_type": "code",
   "execution_count": 43,
   "metadata": {
    "colab": {
     "base_uri": "https://localhost:8080/",
     "height": 68
    },
    "colab_type": "code",
    "id": "ayvkVyfDOi-9",
    "outputId": "4fb8a71f-d7f6-4330-9b50-cbe2b8c47bd9"
   },
   "outputs": [
    {
     "data": {
      "text/plain": [
       "GRP_0     4615\n",
       "GRP_L3    3758\n",
       "Name: new_group_56, dtype: int64"
      ]
     },
     "execution_count": 43,
     "metadata": {
      "tags": []
     },
     "output_type": "execute_result"
    }
   ],
   "source": [
    "df[\"new_group_56\"].value_counts()"
   ]
  },
  {
   "cell_type": "code",
   "execution_count": 44,
   "metadata": {
    "colab": {
     "base_uri": "https://localhost:8080/",
     "height": 820
    },
    "colab_type": "code",
    "id": "TSr3Zn2T1dlq",
    "outputId": "0a5cb040-66b6-4f0a-f352-11b321eb2fd9",
    "scrolled": false
   },
   "outputs": [
    {
     "name": "stdout",
     "output_type": "stream",
     "text": [
      "Tensor(\"1.0_Input_Layer_1:0\", shape=(None, 30), dtype=int32)\n",
      "Model: \"model_1\"\n",
      "__________________________________________________________________________________________________\n",
      "Layer (type)                    Output Shape         Param #     Connected to                     \n",
      "==================================================================================================\n",
      "1.0_Input_Layer (InputLayer)    [(None, 30)]         0                                            \n",
      "__________________________________________________________________________________________________\n",
      "2.0_Input_Layer (InputLayer)    [(None, 70)]         0                                            \n",
      "__________________________________________________________________________________________________\n",
      "1.1_Embedding (Embedding)       (None, 30, 200)      600000      1.0_Input_Layer[0][0]            \n",
      "__________________________________________________________________________________________________\n",
      "2.1_Embedding (Embedding)       (None, 70, 200)      600000      2.0_Input_Layer[0][0]            \n",
      "__________________________________________________________________________________________________\n",
      "1.2_Bidirectional (Bidirectiona (None, 30, 200)      240800      1.1_Embedding[0][0]              \n",
      "__________________________________________________________________________________________________\n",
      "2.2_Bidirectional (Bidirectiona (None, 70, 200)      240800      2.1_Embedding[0][0]              \n",
      "__________________________________________________________________________________________________\n",
      "1.3_TimeDense (TimeDistributed) (None, 30, 50)       10050       1.2_Bidirectional[0][0]          \n",
      "__________________________________________________________________________________________________\n",
      "2.3_Dense (Dense)               (None, 70, 20)       4020        2.2_Bidirectional[0][0]          \n",
      "__________________________________________________________________________________________________\n",
      "dropout_3 (Dropout)             (None, 30, 50)       0           1.3_TimeDense[0][0]              \n",
      "__________________________________________________________________________________________________\n",
      "dropout_4 (Dropout)             (None, 70, 20)       0           2.3_Dense[0][0]                  \n",
      "__________________________________________________________________________________________________\n",
      "ftrs_Input_layer (InputLayer)   [(None, 20)]         0                                            \n",
      "__________________________________________________________________________________________________\n",
      "1.5_Flatten (Flatten)           (None, 1500)         0           dropout_3[0][0]                  \n",
      "__________________________________________________________________________________________________\n",
      "2.4_Flatten (Flatten)           (None, 1400)         0           dropout_4[0][0]                  \n",
      "__________________________________________________________________________________________________\n",
      "ftrs_Dense (Dense)              (None, 100)          2100        ftrs_Input_layer[0][0]           \n",
      "__________________________________________________________________________________________________\n",
      "3.1_concatenate_heading (Concat (None, 3000)         0           1.5_Flatten[0][0]                \n",
      "                                                                 2.4_Flatten[0][0]                \n",
      "                                                                 ftrs_Dense[0][0]                 \n",
      "__________________________________________________________________________________________________\n",
      "dropout_5 (Dropout)             (None, 3000)         0           3.1_concatenate_heading[0][0]    \n",
      "__________________________________________________________________________________________________\n",
      "3.2_Dense (Dense)               (None, 50)           150050      dropout_5[0][0]                  \n",
      "__________________________________________________________________________________________________\n",
      "3.3_Dense (Dense)               (None, 10)           510         3.2_Dense[0][0]                  \n",
      "==================================================================================================\n",
      "Total params: 1,848,330\n",
      "Trainable params: 1,848,330\n",
      "Non-trainable params: 0\n",
      "__________________________________________________________________________________________________\n"
     ]
    }
   ],
   "source": [
    "# Build the Model\n",
    "import tensorflow as tf\n",
    "tf.compat.v1.disable_eager_execution()\n",
    "# Model with Short description..............\n",
    "short_desc_input = Input(shape=(maxlen_s,), dtype='int32',name = \"1.0_Input_Layer\")\n",
    "print(short_desc_input)\n",
    "embedded_sequences = Embedding(t3.num_words, embedding_size,weights = [embedding_matrix3], trainable = True, name='1.1_Embedding')(short_desc_input)\n",
    "short_lstm = Bidirectional(LSTM(100, return_sequences=True, dropout=0.2,recurrent_dropout=0.2),name = \"1.2_Bidirectional\")(embedded_sequences)\n",
    "#attn = attention()(short_lstm)\n",
    "short_dense = TimeDistributed(Dense(50),name = \"1.3_TimeDense\")(short_lstm)\n",
    "#attn = attention(name = \"1.4_attention\")(short_dense)\n",
    "dropout1 = Dropout(0.3)(short_dense)\n",
    "short_flatten = Flatten(name=\"1.5_Flatten\")(dropout1)\n",
    "\n",
    "# Model with Long description..............\n",
    "long_input = Input(shape=(maxlen_l,), dtype='int32',name = \"2.0_Input_Layer\")\n",
    "long_embedded_sequences = Embedding(t3.num_words, embedding_size,weights = [embedding_matrix3], trainable = True, name='2.1_Embedding')(long_input)\n",
    "long_lstm = Bidirectional(LSTM(100, return_sequences=True, dropout = 0.2, recurrent_dropout=0.2),name = \"2.2_Bidirectional\")(long_embedded_sequences)\n",
    "long_dense = Dense(20, activation='relu',name = \"2.3_Dense\",\n",
    "                   kernel_regularizer=regularizers.l1_l2(l1=0.001, l2=0.001))(long_lstm)\n",
    "dropout2 = Dropout(0.3)(long_dense)\n",
    "long_flatten = Flatten(name = \"2.4_Flatten\")(dropout2)\n",
    "\n",
    "# Model with Features extracted\n",
    "features_input = Input(shape=(20,), name = \"ftrs_Input_layer\")\n",
    "feature_dense = Dense(100, activation='relu',name = \"ftrs_Dense\")(features_input)\n",
    "\n",
    "#Concate both the end Layers ....................\n",
    "description_output = concatenate([short_flatten, long_flatten,feature_dense], name='3.1_concatenate_heading')\n",
    "dropout3 = Dropout(0.2)(description_output)\n",
    "description_vector = Dense(50, activation='relu',name = \"3.2_Dense\",\n",
    "                          kernel_regularizer=regularizers.l1_l2(l1=0.001, l2=0.001))(dropout3)\n",
    "preds = Dense(10, activation='softmax',name = \"3.3_Dense\")(description_vector)\n",
    "\n",
    "#Final model and compiling.................\n",
    "model_final = Model([short_desc_input, long_input,features_input], [preds])\n",
    "model_final.compile(loss='categorical_crossentropy', optimizer=Adam(lr=0.001, beta_1=0.9, beta_2=0.999, decay=0.001), \n",
    "                    metrics=['accuracy', 'mse'],experimental_run_tf_function=False)\n",
    "#model.compile(loss='categorical_crossentropy',optimizer='rmsprop',metrics=['acc'])\n",
    "model_final.summary()  \n",
    "\n"
   ]
  },
  {
   "cell_type": "code",
   "execution_count": 45,
   "metadata": {
    "colab": {
     "base_uri": "https://localhost:8080/",
     "height": 533
    },
    "colab_type": "code",
    "id": "T8DSZr4iZLR3",
    "outputId": "b7023e86-8c48-42d1-80d7-a844fe0cb507",
    "scrolled": false
   },
   "outputs": [
    {
     "name": "stdout",
     "output_type": "stream",
     "text": [
      "Train on 6698 samples, validate on 1675 samples\n",
      "Epoch 1/100\n",
      "6698/6698 [==============================] - 51s 8ms/sample - loss: 2.2072 - accuracy: 0.6042 - mse: 0.0533 - val_loss: 1.4032 - val_accuracy: 0.6561 - val_mse: 0.0457\n",
      "Epoch 2/100\n",
      "6698/6698 [==============================] - 46s 7ms/sample - loss: 1.2545 - accuracy: 0.6913 - mse: 0.0426 - val_loss: 1.1398 - val_accuracy: 0.7033 - val_mse: 0.0412\n",
      "Epoch 3/100\n",
      "6698/6698 [==============================] - 47s 7ms/sample - loss: 1.0377 - accuracy: 0.7290 - mse: 0.0375 - val_loss: 1.0559 - val_accuracy: 0.7069 - val_mse: 0.0395\n",
      "Epoch 4/100\n",
      "6698/6698 [==============================] - 47s 7ms/sample - loss: 0.9081 - accuracy: 0.7581 - mse: 0.0335 - val_loss: 1.0355 - val_accuracy: 0.7116 - val_mse: 0.0387\n",
      "Epoch 5/100\n",
      "6698/6698 [==============================] - 49s 7ms/sample - loss: 0.8197 - accuracy: 0.7829 - mse: 0.0303 - val_loss: 1.0108 - val_accuracy: 0.7236 - val_mse: 0.0386\n",
      "Epoch 6/100\n",
      "6698/6698 [==============================] - 47s 7ms/sample - loss: 0.7484 - accuracy: 0.7998 - mse: 0.0278 - val_loss: 1.0179 - val_accuracy: 0.7260 - val_mse: 0.0385\n",
      "Epoch 7/100\n",
      "6698/6698 [==============================] - 47s 7ms/sample - loss: 0.6996 - accuracy: 0.8135 - mse: 0.0260 - val_loss: 1.0172 - val_accuracy: 0.7266 - val_mse: 0.0383\n",
      "Epoch 8/100\n",
      "6698/6698 [==============================] - 46s 7ms/sample - loss: 0.6544 - accuracy: 0.8297 - mse: 0.0241 - val_loss: 1.0404 - val_accuracy: 0.7337 - val_mse: 0.0384\n",
      "Epoch 9/100\n",
      "6698/6698 [==============================] - 47s 7ms/sample - loss: 0.6060 - accuracy: 0.8446 - mse: 0.0221 - val_loss: 1.0430 - val_accuracy: 0.7367 - val_mse: 0.0389\n",
      "Epoch 10/100\n",
      "6698/6698 [==============================] - 46s 7ms/sample - loss: 0.5882 - accuracy: 0.8470 - mse: 0.0216 - val_loss: 1.0623 - val_accuracy: 0.7331 - val_mse: 0.0389\n",
      "Epoch 11/100\n",
      "6698/6698 [==============================] - 48s 7ms/sample - loss: 0.5520 - accuracy: 0.8525 - mse: 0.0203 - val_loss: 1.0837 - val_accuracy: 0.7260 - val_mse: 0.0400\n",
      "Epoch 12/100\n",
      "6698/6698 [==============================] - 48s 7ms/sample - loss: 0.4901 - accuracy: 0.8677 - mse: 0.0183 - val_loss: 1.0491 - val_accuracy: 0.7307 - val_mse: 0.0393\n",
      "Epoch 13/100\n",
      "6698/6698 [==============================] - 47s 7ms/sample - loss: 0.4753 - accuracy: 0.8721 - mse: 0.0182 - val_loss: 1.0516 - val_accuracy: 0.7284 - val_mse: 0.0393\n",
      "Epoch 14/100\n",
      "6698/6698 [==============================] - 46s 7ms/sample - loss: 0.4549 - accuracy: 0.8767 - mse: 0.0174 - val_loss: 1.0407 - val_accuracy: 0.7284 - val_mse: 0.0392\n"
     ]
    }
   ],
   "source": [
    "# Run the model....\n",
    "reduce_lr = (ReduceLROnPlateau(monitor='val_accuracy', factor=0.2,\n",
    "                              patience=2, min_lr=0.00000001))\n",
    "early_stop = (EarlyStopping(monitor='val_accuracy', patience= 5))\n",
    "\n",
    "history = model_final.fit([X_train_s,X_train_l,X_train_features], [y_train_75], \n",
    "                    validation_data=[[X_val_s,X_val_l,X_val_features],[y_val_75]], \n",
    "                    epochs=100, batch_size=32,callbacks= ([reduce_lr,early_stop]), verbose = 1)"
   ]
  },
  {
   "cell_type": "code",
   "execution_count": 47,
   "metadata": {
    "colab": {},
    "colab_type": "code",
    "id": "wxsYMAIiOi_H"
   },
   "outputs": [],
   "source": [
    "y_pred = model_final.predict([X_val_s,X_val_l,X_val_features])"
   ]
  },
  {
   "cell_type": "code",
   "execution_count": 52,
   "metadata": {
    "colab": {},
    "colab_type": "code",
    "id": "zFpNT0n7Oi_J"
   },
   "outputs": [],
   "source": [
    "a = np.argmax(y_pred,axis = 1)\n",
    "b = np.argmax(y_val_75,axis = 1)"
   ]
  },
  {
   "cell_type": "code",
   "execution_count": 53,
   "metadata": {
    "colab": {},
    "colab_type": "code",
    "id": "tLFqzKbROi_L"
   },
   "outputs": [],
   "source": [
    "from sklearn.metrics import * "
   ]
  },
  {
   "cell_type": "code",
   "execution_count": 54,
   "metadata": {
    "colab": {
     "base_uri": "https://localhost:8080/",
     "height": 188
    },
    "colab_type": "code",
    "id": "HTJ7pWw-Oi_O",
    "outputId": "ec2e9152-29a6-484f-e941-1e9e46d36956"
   },
   "outputs": [
    {
     "name": "stdout",
     "output_type": "stream",
     "text": [
      "[[719   5  19  15   4  16   0   0   4  82]\n",
      " [  7  31   1   1   1   0   0   1   0  10]\n",
      " [  8   3  11   0   0   8   0   0   0   4]\n",
      " [  4   0   0  19   0   1   0   0   0   8]\n",
      " [  2   1   3   0  42   0   0   0   0   0]\n",
      " [  4   1   3   0   0   7   0   0   0   3]\n",
      " [  0   0   0   0   0   0  15   1   0   0]\n",
      " [  0   5   0   0   0   0  17  95  29  28]\n",
      " [  2   0   0   0   0   0   2   8   9   4]\n",
      " [ 73  14   5  10   2  10   7  11   8 272]]\n"
     ]
    }
   ],
   "source": [
    "print(confusion_matrix(a,b))"
   ]
  },
  {
   "cell_type": "code",
   "execution_count": 55,
   "metadata": {
    "colab": {
     "base_uri": "https://localhost:8080/",
     "height": 308
    },
    "colab_type": "code",
    "id": "f_jQIj9bOi_Q",
    "outputId": "529c5a12-b979-4237-9c24-021206025852"
   },
   "outputs": [
    {
     "name": "stdout",
     "output_type": "stream",
     "text": [
      "              precision    recall  f1-score   support\n",
      "\n",
      "           0       0.88      0.83      0.85       864\n",
      "           1       0.52      0.60      0.55        52\n",
      "           2       0.26      0.32      0.29        34\n",
      "           3       0.42      0.59      0.49        32\n",
      "           4       0.86      0.88      0.87        48\n",
      "           5       0.17      0.39      0.23        18\n",
      "           6       0.37      0.94      0.53        16\n",
      "           7       0.82      0.55      0.66       174\n",
      "           8       0.18      0.36      0.24        25\n",
      "           9       0.66      0.66      0.66       412\n",
      "\n",
      "    accuracy                           0.73      1675\n",
      "   macro avg       0.51      0.61      0.54      1675\n",
      "weighted avg       0.76      0.73      0.74      1675\n",
      "\n"
     ]
    }
   ],
   "source": [
    "print(classification_report(a,b))"
   ]
  },
  {
   "cell_type": "code",
   "execution_count": 56,
   "metadata": {
    "colab": {
     "base_uri": "https://localhost:8080/",
     "height": 51
    },
    "colab_type": "code",
    "id": "l1J67g82Oi_U",
    "outputId": "029fef70-3672-40e9-adbb-bd1b8a05a447"
   },
   "outputs": [
    {
     "data": {
      "text/plain": [
       "[array(['GRP_0', 'GRP_12', 'GRP_19', 'GRP_2', 'GRP_24', 'GRP_3', 'GRP_6',\n",
       "        'GRP_8', 'GRP_9', 'GRP_9999'], dtype=object)]"
      ]
     },
     "execution_count": 56,
     "metadata": {
      "tags": []
     },
     "output_type": "execute_result"
    }
   ],
   "source": [
    "onehot_encoder2.categories_"
   ]
  },
  {
   "cell_type": "code",
   "execution_count": 58,
   "metadata": {
    "colab": {
     "base_uri": "https://localhost:8080/",
     "height": 390
    },
    "colab_type": "code",
    "id": "x_wu8MN1IIN1",
    "outputId": "21cf1df3-4ae9-4077-a352-f618a47ad884"
   },
   "outputs": [
    {
     "data": {
      "image/png": "[encoded data removed]",
      "text/plain": [
       "<Figure size 1080x432 with 3 Axes>"
      ]
     },
     "metadata": {
      "needs_background": "light",
      "tags": []
     },
     "output_type": "display_data"
    }
   ],
   "source": [
    "fig = plt.figure(figsize = (15, 6))\n",
    "plt.subplot(1, 3, 1)\n",
    "plt.plot(history.history['accuracy'], label='Train Acc')\n",
    "plt.plot(history.history['val_accuracy'], label='Validation Acc')\n",
    "#print(\"\\n Data set : \"+D+\" & \"+T+\";  No of Output Groups: \"+str(Groups)+\" ; GloVe vector used : \"+glv+\"; Attention :\"+attention1)\n",
    "plt.title(\"Accuracy\")\n",
    "plt.legend()\n",
    "plt.grid()\n",
    "\n",
    "plt.subplot(1, 3, 2)\n",
    "plt.plot(history.history['loss'], label='Train loss')\n",
    "plt.plot(history.history['val_loss'], label='Validation loss')\n",
    "plt.title(\"Loss\")\n",
    "plt.legend()\n",
    "plt.grid()\n",
    "\n",
    "plt.subplot(1, 3, 3)\n",
    "plt.plot(history.history['lr'], label='Learninig Rate')\n",
    "plt.title(\"Learning Rate\")\n",
    "plt.legend()\n",
    "plt.grid()\n",
    "\n",
    "\n",
    "plt.show()"
   ]
  },
  {
   "cell_type": "code",
   "execution_count": 60,
   "metadata": {
    "colab": {
     "base_uri": "https://localhost:8080/",
     "height": 820
    },
    "colab_type": "code",
    "id": "2IW1hFAPOi_Z",
    "outputId": "30b431d9-1519-424a-aba4-675d43900481"
   },
   "outputs": [
    {
     "name": "stdout",
     "output_type": "stream",
     "text": [
      "Tensor(\"1.0_Input_Layer_3:0\", shape=(None, 30), dtype=int32)\n",
      "Model: \"model_3\"\n",
      "__________________________________________________________________________________________________\n",
      "Layer (type)                    Output Shape         Param #     Connected to                     \n",
      "==================================================================================================\n",
      "1.0_Input_Layer (InputLayer)    [(None, 30)]         0                                            \n",
      "__________________________________________________________________________________________________\n",
      "2.0_Input_Layer (InputLayer)    [(None, 70)]         0                                            \n",
      "__________________________________________________________________________________________________\n",
      "1.1_Embedding (Embedding)       (None, 30, 200)      600000      1.0_Input_Layer[0][0]            \n",
      "__________________________________________________________________________________________________\n",
      "2.1_Embedding (Embedding)       (None, 70, 200)      600000      2.0_Input_Layer[0][0]            \n",
      "__________________________________________________________________________________________________\n",
      "1.2_Bidirectional (Bidirectiona (None, 30, 200)      240800      1.1_Embedding[0][0]              \n",
      "__________________________________________________________________________________________________\n",
      "2.2_Bidirectional (Bidirectiona (None, 70, 200)      240800      2.1_Embedding[0][0]              \n",
      "__________________________________________________________________________________________________\n",
      "1.3_TimeDense (TimeDistributed) (None, 30, 50)       10050       1.2_Bidirectional[0][0]          \n",
      "__________________________________________________________________________________________________\n",
      "2.3_Dense (Dense)               (None, 70, 20)       4020        2.2_Bidirectional[0][0]          \n",
      "__________________________________________________________________________________________________\n",
      "dropout_9 (Dropout)             (None, 30, 50)       0           1.3_TimeDense[0][0]              \n",
      "__________________________________________________________________________________________________\n",
      "dropout_10 (Dropout)            (None, 70, 20)       0           2.3_Dense[0][0]                  \n",
      "__________________________________________________________________________________________________\n",
      "ftrs_Input_layer (InputLayer)   [(None, 20)]         0                                            \n",
      "__________________________________________________________________________________________________\n",
      "1.5_Flatten (Flatten)           (None, 1500)         0           dropout_9[0][0]                  \n",
      "__________________________________________________________________________________________________\n",
      "2.4_Flatten (Flatten)           (None, 1400)         0           dropout_10[0][0]                 \n",
      "__________________________________________________________________________________________________\n",
      "ftrs_Dense (Dense)              (None, 100)          2100        ftrs_Input_layer[0][0]           \n",
      "__________________________________________________________________________________________________\n",
      "3.1_concatenate_heading (Concat (None, 3000)         0           1.5_Flatten[0][0]                \n",
      "                                                                 2.4_Flatten[0][0]                \n",
      "                                                                 ftrs_Dense[0][0]                 \n",
      "__________________________________________________________________________________________________\n",
      "dropout_11 (Dropout)            (None, 3000)         0           3.1_concatenate_heading[0][0]    \n",
      "__________________________________________________________________________________________________\n",
      "3.2_Dense (Dense)               (None, 50)           150050      dropout_11[0][0]                 \n",
      "__________________________________________________________________________________________________\n",
      "3.3_Dense (Dense)               (None, 10)           510         3.2_Dense[0][0]                  \n",
      "==================================================================================================\n",
      "Total params: 1,848,330\n",
      "Trainable params: 648,330\n",
      "Non-trainable params: 1,200,000\n",
      "__________________________________________________________________________________________________\n"
     ]
    }
   ],
   "source": [
    "# Building the same model with Glove embedding trainable as False\n",
    "import tensorflow as tf\n",
    "tf.compat.v1.disable_eager_execution()\n",
    "# Model with Short description..............\n",
    "short_desc_input = Input(shape=(maxlen_s,), dtype='int32',name = \"1.0_Input_Layer\")\n",
    "print(short_desc_input)\n",
    "embedded_sequences = Embedding(t3.num_words, embedding_size,weights = [embedding_matrix3], trainable = False, name='1.1_Embedding')(short_desc_input)\n",
    "short_lstm = Bidirectional(LSTM(100, return_sequences=True, dropout=0.2,recurrent_dropout=0.2),name = \"1.2_Bidirectional\")(embedded_sequences)\n",
    "#attn = attention()(short_lstm)\n",
    "short_dense = TimeDistributed(Dense(50),name = \"1.3_TimeDense\")(short_lstm)\n",
    "#attn = attention(name = \"1.4_attention\")(short_dense)\n",
    "dropout1 = Dropout(0.3)(short_dense)\n",
    "short_flatten = Flatten(name=\"1.5_Flatten\")(dropout1)\n",
    "\n",
    "# Model with Long description..............\n",
    "long_input = Input(shape=(maxlen_l,), dtype='int32',name = \"2.0_Input_Layer\")\n",
    "long_embedded_sequences = Embedding(t3.num_words, embedding_size,weights = [embedding_matrix3], trainable = False, name='2.1_Embedding')(long_input)\n",
    "long_lstm = Bidirectional(LSTM(100, return_sequences=True, dropout = 0.2, recurrent_dropout=0.2),name = \"2.2_Bidirectional\")(long_embedded_sequences)\n",
    "long_dense = Dense(20, activation='relu',name = \"2.3_Dense\",\n",
    "                   kernel_regularizer=regularizers.l1_l2(l1=0.001, l2=0.001))(long_lstm)\n",
    "dropout2 = Dropout(0.3)(long_dense)\n",
    "long_flatten = Flatten(name = \"2.4_Flatten\")(dropout2)\n",
    "\n",
    "# Model with Features extracted\n",
    "features_input = Input(shape=(20,), name = \"ftrs_Input_layer\")\n",
    "feature_dense = Dense(100, activation='relu',name = \"ftrs_Dense\")(features_input)\n",
    "\n",
    "#Concate both the end Layers ....................\n",
    "description_output = concatenate([short_flatten, long_flatten,feature_dense], name='3.1_concatenate_heading')\n",
    "dropout3 = Dropout(0.2)(description_output)\n",
    "description_vector = Dense(50, activation='relu',name = \"3.2_Dense\",\n",
    "                          kernel_regularizer=regularizers.l1_l2(l1=0.001, l2=0.001))(dropout3)\n",
    "preds = Dense(10, activation='softmax',name = \"3.3_Dense\")(description_vector)\n",
    "\n",
    "#Final model and compiling.................\n",
    "model_final = Model([short_desc_input, long_input,features_input], [preds])\n",
    "model_final.compile(loss='categorical_crossentropy', optimizer=Adam(lr=0.001, beta_1=0.9, beta_2=0.999, decay=0.001), \n",
    "                    metrics=['accuracy', 'mse'],experimental_run_tf_function=False)\n",
    "#model.compile(loss='categorical_crossentropy',optimizer='rmsprop',metrics=['acc'])\n",
    "model_final.summary()  "
   ]
  },
  {
   "cell_type": "code",
   "execution_count": 63,
   "metadata": {
    "colab": {
     "base_uri": "https://localhost:8080/",
     "height": 772
    },
    "colab_type": "code",
    "id": "l0yjd9R3hY38",
    "outputId": "1ce7fbcc-1894-4702-9c78-dc527fa031c2"
   },
   "outputs": [
    {
     "name": "stdout",
     "output_type": "stream",
     "text": [
      "Train on 6698 samples, validate on 1675 samples\n",
      "Epoch 1/100\n",
      "6698/6698 [==============================] - 44s 7ms/sample - loss: 2.3545 - accuracy: 0.5744 - mse: 0.0569 - val_loss: 1.5879 - val_accuracy: 0.6418 - val_mse: 0.0494\n",
      "Epoch 2/100\n",
      "6698/6698 [==============================] - 36s 5ms/sample - loss: 1.4230 - accuracy: 0.6390 - mse: 0.0489 - val_loss: 1.3192 - val_accuracy: 0.6424 - val_mse: 0.0478\n",
      "Epoch 3/100\n",
      "6698/6698 [==============================] - 39s 6ms/sample - loss: 1.2334 - accuracy: 0.6608 - mse: 0.0460 - val_loss: 1.1864 - val_accuracy: 0.6710 - val_mse: 0.0453\n",
      "Epoch 4/100\n",
      "6698/6698 [==============================] - 40s 6ms/sample - loss: 1.1353 - accuracy: 0.6804 - mse: 0.0443 - val_loss: 1.1484 - val_accuracy: 0.6657 - val_mse: 0.0453\n",
      "Epoch 5/100\n",
      "6698/6698 [==============================] - 39s 6ms/sample - loss: 1.0802 - accuracy: 0.6844 - mse: 0.0432 - val_loss: 1.1036 - val_accuracy: 0.6716 - val_mse: 0.0443\n",
      "Epoch 6/100\n",
      "6698/6698 [==============================] - 40s 6ms/sample - loss: 1.0202 - accuracy: 0.6917 - mse: 0.0417 - val_loss: 1.0742 - val_accuracy: 0.6800 - val_mse: 0.0441\n",
      "Epoch 7/100\n",
      "6698/6698 [==============================] - 40s 6ms/sample - loss: 0.9858 - accuracy: 0.7024 - mse: 0.0406 - val_loss: 1.0576 - val_accuracy: 0.6812 - val_mse: 0.0434\n",
      "Epoch 8/100\n",
      "6698/6698 [==============================] - 40s 6ms/sample - loss: 0.9505 - accuracy: 0.7080 - mse: 0.0396 - val_loss: 1.0393 - val_accuracy: 0.6836 - val_mse: 0.0429\n",
      "Epoch 9/100\n",
      "6698/6698 [==============================] - 40s 6ms/sample - loss: 0.9290 - accuracy: 0.7119 - mse: 0.0388 - val_loss: 1.0117 - val_accuracy: 0.6842 - val_mse: 0.0425\n",
      "Epoch 10/100\n",
      "6698/6698 [==============================] - 40s 6ms/sample - loss: 0.9003 - accuracy: 0.7208 - mse: 0.0381 - val_loss: 1.0195 - val_accuracy: 0.6890 - val_mse: 0.0429\n",
      "Epoch 11/100\n",
      "6698/6698 [==============================] - 41s 6ms/sample - loss: 0.8801 - accuracy: 0.7235 - mse: 0.0373 - val_loss: 1.0219 - val_accuracy: 0.6830 - val_mse: 0.0433\n",
      "Epoch 12/100\n",
      "6698/6698 [==============================] - 43s 6ms/sample - loss: 0.8622 - accuracy: 0.7326 - mse: 0.0365 - val_loss: 1.0128 - val_accuracy: 0.6782 - val_mse: 0.0428\n",
      "Epoch 13/100\n",
      "6698/6698 [==============================] - 40s 6ms/sample - loss: 0.8286 - accuracy: 0.7414 - mse: 0.0354 - val_loss: 0.9829 - val_accuracy: 0.6919 - val_mse: 0.0418\n",
      "Epoch 14/100\n",
      "6698/6698 [==============================] - 40s 6ms/sample - loss: 0.8048 - accuracy: 0.7443 - mse: 0.0346 - val_loss: 0.9843 - val_accuracy: 0.6949 - val_mse: 0.0418\n",
      "Epoch 15/100\n",
      "6698/6698 [==============================] - 40s 6ms/sample - loss: 0.8102 - accuracy: 0.7437 - mse: 0.0348 - val_loss: 0.9813 - val_accuracy: 0.6973 - val_mse: 0.0418\n",
      "Epoch 16/100\n",
      "6698/6698 [==============================] - 40s 6ms/sample - loss: 0.7941 - accuracy: 0.7501 - mse: 0.0341 - val_loss: 0.9801 - val_accuracy: 0.7003 - val_mse: 0.0418\n",
      "Epoch 17/100\n",
      "6698/6698 [==============================] - 40s 6ms/sample - loss: 0.7955 - accuracy: 0.7502 - mse: 0.0343 - val_loss: 0.9792 - val_accuracy: 0.6955 - val_mse: 0.0419\n",
      "Epoch 18/100\n",
      "6698/6698 [==============================] - 41s 6ms/sample - loss: 0.7924 - accuracy: 0.7456 - mse: 0.0344 - val_loss: 0.9790 - val_accuracy: 0.6979 - val_mse: 0.0417\n",
      "Epoch 19/100\n",
      "6698/6698 [==============================] - 41s 6ms/sample - loss: 0.7874 - accuracy: 0.7478 - mse: 0.0340 - val_loss: 0.9778 - val_accuracy: 0.6961 - val_mse: 0.0418\n",
      "Epoch 20/100\n",
      "6698/6698 [==============================] - 39s 6ms/sample - loss: 0.7879 - accuracy: 0.7480 - mse: 0.0341 - val_loss: 0.9764 - val_accuracy: 0.6985 - val_mse: 0.0417\n",
      "Epoch 21/100\n",
      "6698/6698 [==============================] - 40s 6ms/sample - loss: 0.7779 - accuracy: 0.7578 - mse: 0.0334 - val_loss: 0.9760 - val_accuracy: 0.7003 - val_mse: 0.0417\n"
     ]
    }
   ],
   "source": [
    "# Run the model....\n",
    "reduce_lr = (ReduceLROnPlateau(monitor='val_accuracy', factor=0.2,\n",
    "                              patience=2, min_lr=0.00000001))\n",
    "early_stop = (EarlyStopping(monitor='val_accuracy', patience= 15))\n",
    "\n",
    "history = model_final.fit([X_train_s,X_train_l,X_train_features], [y_train_75], \n",
    "                    validation_data=[[X_val_s,X_val_l,X_val_features],[y_val_75]], \n",
    "                    epochs=100, batch_size=32,callbacks= ([reduce_lr,early_stop]), verbose = 1)"
   ]
  },
  {
   "cell_type": "code",
   "execution_count": null,
   "metadata": {
    "colab": {},
    "colab_type": "code",
    "id": "t4EIgaLclqHt"
   },
   "outputs": [],
   "source": [
    "fig = plt.figure(figsize = (15, 6))\n",
    "plt.subplot(1, 3, 1)\n",
    "plt.plot(history.history['accuracy'], label='Train Acc')\n",
    "plt.plot(history.history['val_accuracy'], label='Validation Acc')\n",
    "#print(\"\\n Data set : \"+D+\" & \"+T+\";  No of Output Groups: \"+str(Groups)+\" ; GloVe vector used : \"+glv+\"; Attention :\"+attention1)\n",
    "plt.title(\"Accuracy\")\n",
    "plt.legend()\n",
    "plt.grid()\n",
    "\n",
    "plt.subplot(1, 3, 2)\n",
    "plt.plot(history.history['loss'], label='Train loss')\n",
    "plt.plot(history.history['val_loss'], label='Validation loss')\n",
    "plt.title(\"Loss\")\n",
    "plt.legend()\n",
    "plt.grid()\n",
    "\n",
    "plt.subplot(1, 3, 3)\n",
    "plt.plot(history.history['lr'], label='Learninig Rate')\n",
    "plt.title(\"Learning Rate\")\n",
    "plt.legend()\n",
    "plt.grid()\n",
    "\n",
    "\n",
    "plt.show()"
   ]
  },
  {
   "cell_type": "code",
   "execution_count": 65,
   "metadata": {
    "colab": {
     "base_uri": "https://localhost:8080/",
     "height": 855
    },
    "colab_type": "code",
    "id": "0tThOQKohfJG",
    "outputId": "f3076f4f-efcc-4331-a854-71e478f450e6"
   },
   "outputs": [
    {
     "name": "stdout",
     "output_type": "stream",
     "text": [
      "Tensor(\"1.0_Input_Layer_6:0\", shape=(None, 30), dtype=int32)\n",
      "Model: \"model_5\"\n",
      "__________________________________________________________________________________________________\n",
      "Layer (type)                    Output Shape         Param #     Connected to                     \n",
      "==================================================================================================\n",
      "1.0_Input_Layer (InputLayer)    [(None, 30)]         0                                            \n",
      "__________________________________________________________________________________________________\n",
      "1.1_Embedding (Embedding)       (None, 30, 200)      600000      1.0_Input_Layer[0][0]            \n",
      "__________________________________________________________________________________________________\n",
      "2.0_Input_Layer (InputLayer)    [(None, 70)]         0                                            \n",
      "__________________________________________________________________________________________________\n",
      "1.2_Bidirectional (Bidirectiona (None, 30, 200)      240800      1.1_Embedding[0][0]              \n",
      "__________________________________________________________________________________________________\n",
      "2.1_Embedding (Embedding)       (None, 70, 200)      600000      2.0_Input_Layer[0][0]            \n",
      "__________________________________________________________________________________________________\n",
      "1.3_TimeDense (TimeDistributed) (None, 30, 50)       10050       1.2_Bidirectional[0][0]          \n",
      "__________________________________________________________________________________________________\n",
      "2.2_Bidirectional (Bidirectiona (None, 70, 200)      240800      2.1_Embedding[0][0]              \n",
      "__________________________________________________________________________________________________\n",
      "1.4_attention (attention)       (None, 50)           80          1.3_TimeDense[0][0]              \n",
      "__________________________________________________________________________________________________\n",
      "2.3_Dense (Dense)               (None, 70, 20)       4020        2.2_Bidirectional[0][0]          \n",
      "__________________________________________________________________________________________________\n",
      "dropout_15 (Dropout)            (None, 50)           0           1.4_attention[0][0]              \n",
      "__________________________________________________________________________________________________\n",
      "dropout_16 (Dropout)            (None, 70, 20)       0           2.3_Dense[0][0]                  \n",
      "__________________________________________________________________________________________________\n",
      "ftrs_Input_layer (InputLayer)   [(None, 20)]         0                                            \n",
      "__________________________________________________________________________________________________\n",
      "1.5_Flatten (Flatten)           (None, 50)           0           dropout_15[0][0]                 \n",
      "__________________________________________________________________________________________________\n",
      "2.4_Flatten (Flatten)           (None, 1400)         0           dropout_16[0][0]                 \n",
      "__________________________________________________________________________________________________\n",
      "ftrs_Dense (Dense)              (None, 100)          2100        ftrs_Input_layer[0][0]           \n",
      "__________________________________________________________________________________________________\n",
      "3.1_concatenate_heading (Concat (None, 1550)         0           1.5_Flatten[0][0]                \n",
      "                                                                 2.4_Flatten[0][0]                \n",
      "                                                                 ftrs_Dense[0][0]                 \n",
      "__________________________________________________________________________________________________\n",
      "dropout_17 (Dropout)            (None, 1550)         0           3.1_concatenate_heading[0][0]    \n",
      "__________________________________________________________________________________________________\n",
      "3.2_Dense (Dense)               (None, 50)           77550       dropout_17[0][0]                 \n",
      "__________________________________________________________________________________________________\n",
      "3.3_Dense (Dense)               (None, 10)           510         3.2_Dense[0][0]                  \n",
      "==================================================================================================\n",
      "Total params: 1,775,910\n",
      "Trainable params: 575,910\n",
      "Non-trainable params: 1,200,000\n",
      "__________________________________________________________________________________________________\n"
     ]
    }
   ],
   "source": [
    "# Building the same model with Glove embedding trainable as False and attention Layer\n",
    "import tensorflow as tf\n",
    "tf.compat.v1.disable_eager_execution()\n",
    "# Model with Short description..............\n",
    "short_desc_input = Input(shape=(maxlen_s,), dtype='int32',name = \"1.0_Input_Layer\")\n",
    "print(short_desc_input)\n",
    "embedded_sequences = Embedding(t3.num_words, embedding_size,weights = [embedding_matrix3], trainable = False, name='1.1_Embedding')(short_desc_input)\n",
    "short_lstm = Bidirectional(LSTM(100, return_sequences=True, dropout=0.2,recurrent_dropout=0.2),name = \"1.2_Bidirectional\")(embedded_sequences)\n",
    "#attn = attention()(short_lstm)\n",
    "short_dense = TimeDistributed(Dense(50),name = \"1.3_TimeDense\")(short_lstm)\n",
    "attn = attention(name = \"1.4_attention\")(short_dense)\n",
    "dropout1 = Dropout(0.3)(attn)\n",
    "short_flatten = Flatten(name=\"1.5_Flatten\")(dropout1)\n",
    "\n",
    "# Model with Long description..............\n",
    "long_input = Input(shape=(maxlen_l,), dtype='int32',name = \"2.0_Input_Layer\")\n",
    "long_embedded_sequences = Embedding(t3.num_words, embedding_size,weights = [embedding_matrix3], trainable = False, name='2.1_Embedding')(long_input)\n",
    "long_lstm = Bidirectional(LSTM(100, return_sequences=True, dropout = 0.2, recurrent_dropout=0.2),name = \"2.2_Bidirectional\")(long_embedded_sequences)\n",
    "long_dense = Dense(20, activation='relu',name = \"2.3_Dense\",\n",
    "                   kernel_regularizer=regularizers.l1_l2(l1=0.001, l2=0.001))(long_lstm)\n",
    "dropout2 = Dropout(0.3)(long_dense)\n",
    "long_flatten = Flatten(name = \"2.4_Flatten\")(dropout2)\n",
    "\n",
    "# Model with Features extracted\n",
    "features_input = Input(shape=(20,), name = \"ftrs_Input_layer\")\n",
    "feature_dense = Dense(100, activation='relu',name = \"ftrs_Dense\")(features_input)\n",
    "\n",
    "#Concate both the end Layers ....................\n",
    "description_output = concatenate([short_flatten, long_flatten,feature_dense], name='3.1_concatenate_heading')\n",
    "dropout3 = Dropout(0.2)(description_output)\n",
    "description_vector = Dense(50, activation='relu',name = \"3.2_Dense\",\n",
    "                          kernel_regularizer=regularizers.l1_l2(l1=0.001, l2=0.001))(dropout3)\n",
    "preds = Dense(10, activation='softmax',name = \"3.3_Dense\")(description_vector)\n",
    "\n",
    "#Final model and compiling.................\n",
    "model_final = Model([short_desc_input, long_input,features_input], [preds])\n",
    "model_final.compile(loss='categorical_crossentropy', optimizer=Adam(lr=0.001, beta_1=0.9, beta_2=0.999, decay=0.001), \n",
    "                    metrics=['accuracy', 'mse'],experimental_run_tf_function=False)\n",
    "#model.compile(loss='categorical_crossentropy',optimizer='rmsprop',metrics=['acc'])\n",
    "model_final.summary()  "
   ]
  },
  {
   "cell_type": "code",
   "execution_count": 66,
   "metadata": {
    "colab": {
     "base_uri": "https://localhost:8080/",
     "height": 669
    },
    "colab_type": "code",
    "id": "8vU0xjuIhmzE",
    "outputId": "6ca04561-831e-4ffb-b053-7a3a05012b5b"
   },
   "outputs": [
    {
     "name": "stdout",
     "output_type": "stream",
     "text": [
      "Train on 6698 samples, validate on 1675 samples\n",
      "Epoch 1/100\n",
      "6698/6698 [==============================] - 46s 7ms/sample - loss: 2.1821 - accuracy: 0.5687 - mse: 0.0574 - val_loss: 1.5167 - val_accuracy: 0.6101 - val_mse: 0.0518\n",
      "Epoch 2/100\n",
      "6698/6698 [==============================] - 39s 6ms/sample - loss: 1.3610 - accuracy: 0.6350 - mse: 0.0494 - val_loss: 1.2817 - val_accuracy: 0.6442 - val_mse: 0.0487\n",
      "Epoch 3/100\n",
      "6698/6698 [==============================] - 38s 6ms/sample - loss: 1.1930 - accuracy: 0.6554 - mse: 0.0464 - val_loss: 1.1763 - val_accuracy: 0.6490 - val_mse: 0.0466\n",
      "Epoch 4/100\n",
      "6698/6698 [==============================] - 39s 6ms/sample - loss: 1.1103 - accuracy: 0.6745 - mse: 0.0447 - val_loss: 1.1247 - val_accuracy: 0.6687 - val_mse: 0.0450\n",
      "Epoch 5/100\n",
      "6698/6698 [==============================] - 39s 6ms/sample - loss: 1.0432 - accuracy: 0.6857 - mse: 0.0426 - val_loss: 1.0871 - val_accuracy: 0.6734 - val_mse: 0.0440\n",
      "Epoch 6/100\n",
      "6698/6698 [==============================] - 39s 6ms/sample - loss: 0.9981 - accuracy: 0.6914 - mse: 0.0416 - val_loss: 1.0857 - val_accuracy: 0.6818 - val_mse: 0.0446\n",
      "Epoch 7/100\n",
      "6698/6698 [==============================] - 40s 6ms/sample - loss: 0.9754 - accuracy: 0.7004 - mse: 0.0408 - val_loss: 1.0299 - val_accuracy: 0.6890 - val_mse: 0.0428\n",
      "Epoch 8/100\n",
      "6698/6698 [==============================] - 38s 6ms/sample - loss: 0.9360 - accuracy: 0.7086 - mse: 0.0393 - val_loss: 1.0416 - val_accuracy: 0.6860 - val_mse: 0.0431\n",
      "Epoch 9/100\n",
      "6698/6698 [==============================] - 42s 6ms/sample - loss: 0.9211 - accuracy: 0.7148 - mse: 0.0389 - val_loss: 1.0304 - val_accuracy: 0.6878 - val_mse: 0.0431\n",
      "Epoch 10/100\n",
      "6698/6698 [==============================] - 39s 6ms/sample - loss: 0.8665 - accuracy: 0.7269 - mse: 0.0369 - val_loss: 1.0045 - val_accuracy: 0.6931 - val_mse: 0.0422\n",
      "Epoch 11/100\n",
      "6698/6698 [==============================] - 38s 6ms/sample - loss: 0.8516 - accuracy: 0.7310 - mse: 0.0365 - val_loss: 0.9966 - val_accuracy: 0.6961 - val_mse: 0.0419\n",
      "Epoch 12/100\n",
      "6698/6698 [==============================] - 39s 6ms/sample - loss: 0.8431 - accuracy: 0.7329 - mse: 0.0363 - val_loss: 0.9985 - val_accuracy: 0.6943 - val_mse: 0.0420\n",
      "Epoch 13/100\n",
      "6698/6698 [==============================] - 39s 6ms/sample - loss: 0.8397 - accuracy: 0.7329 - mse: 0.0362 - val_loss: 0.9943 - val_accuracy: 0.6973 - val_mse: 0.0419\n",
      "Epoch 14/100\n",
      "6698/6698 [==============================] - 39s 6ms/sample - loss: 0.8402 - accuracy: 0.7365 - mse: 0.0363 - val_loss: 0.9972 - val_accuracy: 0.6949 - val_mse: 0.0419\n",
      "Epoch 15/100\n",
      "6698/6698 [==============================] - 40s 6ms/sample - loss: 0.8342 - accuracy: 0.7345 - mse: 0.0359 - val_loss: 1.0004 - val_accuracy: 0.6949 - val_mse: 0.0422\n",
      "Epoch 16/100\n",
      "6698/6698 [==============================] - 38s 6ms/sample - loss: 0.8240 - accuracy: 0.7429 - mse: 0.0356 - val_loss: 0.9952 - val_accuracy: 0.6949 - val_mse: 0.0420\n",
      "Epoch 17/100\n",
      "6698/6698 [==============================] - 39s 6ms/sample - loss: 0.8231 - accuracy: 0.7411 - mse: 0.0356 - val_loss: 0.9940 - val_accuracy: 0.6949 - val_mse: 0.0420\n",
      "Epoch 18/100\n",
      "6698/6698 [==============================] - 39s 6ms/sample - loss: 0.8169 - accuracy: 0.7416 - mse: 0.0354 - val_loss: 0.9936 - val_accuracy: 0.6961 - val_mse: 0.0420\n"
     ]
    }
   ],
   "source": [
    "# Run the model....\n",
    "reduce_lr = (ReduceLROnPlateau(monitor='val_accuracy', factor=0.2,\n",
    "                              patience=2, min_lr=0.00000001))\n",
    "early_stop = (EarlyStopping(monitor='val_accuracy', patience= 5))\n",
    "\n",
    "history = model_final.fit([X_train_s,X_train_l,X_train_features], [y_train_75], \n",
    "                    validation_data=[[X_val_s,X_val_l,X_val_features],[y_val_75]], \n",
    "                    epochs=100, batch_size=32,callbacks= ([reduce_lr,early_stop]), verbose = 1)"
   ]
  },
  {
   "cell_type": "code",
   "execution_count": 67,
   "metadata": {
    "colab": {
     "base_uri": "https://localhost:8080/",
     "height": 390
    },
    "colab_type": "code",
    "id": "fwbvNUwRls0M",
    "outputId": "3f1ed9ea-50de-49bc-a84c-5365b2f8f24e"
   },
   "outputs": [
    {
     "data": {
      "image/png": "[encoded data removed]",
      "text/plain": [
       "<Figure size 1080x432 with 3 Axes>"
      ]
     },
     "metadata": {
      "needs_background": "light",
      "tags": []
     },
     "output_type": "display_data"
    }
   ],
   "source": [
    "fig = plt.figure(figsize = (15, 6))\n",
    "plt.subplot(1, 3, 1)\n",
    "plt.plot(history.history['accuracy'], label='Train Acc')\n",
    "plt.plot(history.history['val_accuracy'], label='Validation Acc')\n",
    "#print(\"\\n Data set : \"+D+\" & \"+T+\";  No of Output Groups: \"+str(Groups)+\" ; GloVe vector used : \"+glv+\"; Attention :\"+attention1)\n",
    "plt.title(\"Accuracy\")\n",
    "plt.legend()\n",
    "plt.grid()\n",
    "\n",
    "plt.subplot(1, 3, 2)\n",
    "plt.plot(history.history['loss'], label='Train loss')\n",
    "plt.plot(history.history['val_loss'], label='Validation loss')\n",
    "plt.title(\"Loss\")\n",
    "plt.legend()\n",
    "plt.grid()\n",
    "\n",
    "plt.subplot(1, 3, 3)\n",
    "plt.plot(history.history['lr'], label='Learninig Rate')\n",
    "plt.title(\"Learning Rate\")\n",
    "plt.legend()\n",
    "plt.grid()\n",
    "\n",
    "\n",
    "plt.show()"
   ]
  },
  {
   "cell_type": "code",
   "execution_count": null,
   "metadata": {
    "colab": {},
    "colab_type": "code",
    "id": "uBuFMndJmSRo"
   },
   "outputs": [],
   "source": []
  }
 ],
 "metadata": {
  "accelerator": "TPU",
  "colab": {
   "collapsed_sections": [],
   "machine_shape": "hm",
   "name": "Capstone_Project_Model_Build_simple_V8.5.ipynb",
   "provenance": []
  },
  "kernelspec": {
   "display_name": "Python 3",
   "language": "python",
   "name": "python3"
  },
  "language_info": {
   "codemirror_mode": {
    "name": "ipython",
    "version": 3
   },
   "file_extension": ".py",
   "mimetype": "text/x-python",
   "name": "python",
   "nbconvert_exporter": "python",
   "pygments_lexer": "ipython3",
   "version": "3.7.6"
  }
 },
 "nbformat": 4,
 "nbformat_minor": 0
}
